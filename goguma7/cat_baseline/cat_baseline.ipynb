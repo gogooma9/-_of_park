{
  "nbformat": 4,
  "nbformat_minor": 0,
  "metadata": {
    "colab": {
      "name": "cat_baseline.ipynb",
      "provenance": [],
      "collapsed_sections": [],
      "toc_visible": true
    },
    "kernelspec": {
      "display_name": "Python 3",
      "name": "python3"
    },
    "language_info": {
      "name": "python"
    },
    "widgets": {
      "application/vnd.jupyter.widget-state+json": {
        "015ef4392754435294f9cea3aa8c97a0": {
          "model_module": "catboost-widget",
          "model_name": "CatboostWidgetModel",
          "state": {
            "_view_name": "CatboostWidgetView",
            "_dom_classes": [],
            "_model_name": "CatboostWidgetModel",
            "data": {
              "catboost_info": {
                "content": {
                  "data": {
                    "meta": {
                      "name": "experiment",
                      "parameters": "",
                      "test_metrics": [
                        {
                          "best_value": "Min",
                          "name": "MAE"
                        }
                      ],
                      "learn_sets": [
                        "fold_0_learn",
                        "fold_1_learn",
                        "fold_2_learn",
                        "fold_3_learn",
                        "fold_4_learn"
                      ],
                      "launch_mode": "CV",
                      "learn_metrics": [
                        {
                          "best_value": "Min",
                          "name": "MAE"
                        }
                      ],
                      "iteration_count": 500,
                      "test_sets": [
                        "fold_0_test",
                        "fold_1_test",
                        "fold_2_test",
                        "fold_3_test",
                        "fold_4_test"
                      ]
                    },
                    "iterations": [
                      {
                        "fold_4_test": [
                          564.0290109
                        ],
                        "fold_0_learn": [
                          540.6324145
                        ],
                        "iteration": 0,
                        "fold_4_learn": [
                          531.3695108
                        ],
                        "fold_3_learn": [
                          545.3730873
                        ],
                        "fold_2_learn": [
                          542.0677356
                        ],
                        "fold_1_learn": [
                          531.7958702
                        ],
                        "fold_0_test": [
                          529.5213401
                        ],
                        "fold_1_test": [
                          567.8987791
                        ],
                        "fold_3_test": [
                          512.4079255
                        ],
                        "fold_2_test": [
                          520.6634132
                        ]
                      },
                      {
                        "fold_4_test": [
                          538.96827
                        ],
                        "fold_0_learn": [
                          514.8619325
                        ],
                        "iteration": 1,
                        "fold_4_learn": [
                          505.6897164
                        ],
                        "fold_3_learn": [
                          519.5256861
                        ],
                        "fold_2_learn": [
                          516.4712517
                        ],
                        "fold_1_learn": [
                          506.3715197
                        ],
                        "fold_0_test": [
                          503.5461263
                        ],
                        "fold_1_test": [
                          542.0610351
                        ],
                        "fold_3_test": [
                          488.7993578
                        ],
                        "fold_2_test": [
                          496.1889613
                        ]
                      },
                      {
                        "fold_4_test": [
                          514.1036619
                        ],
                        "fold_0_learn": [
                          490.5013357
                        ],
                        "iteration": 2,
                        "fold_4_learn": [
                          481.5097079
                        ],
                        "fold_3_learn": [
                          494.7999811
                        ],
                        "fold_2_learn": [
                          492.2094562
                        ],
                        "fold_1_learn": [
                          483.2718738
                        ],
                        "fold_0_test": [
                          480.7212788
                        ],
                        "fold_1_test": [
                          518.9800331
                        ],
                        "fold_3_test": [
                          466.4834201
                        ],
                        "fold_2_test": [
                          470.9768983
                        ]
                      },
                      {
                        "fold_4_test": [
                          491.0987292
                        ],
                        "fold_0_learn": [
                          468.003119
                        ],
                        "iteration": 3,
                        "fold_4_learn": [
                          458.8948767
                        ],
                        "fold_3_learn": [
                          471.4081123
                        ],
                        "fold_2_learn": [
                          469.4569814
                        ],
                        "fold_1_learn": [
                          460.7615776
                        ],
                        "fold_0_test": [
                          458.0098561
                        ],
                        "fold_1_test": [
                          496.448596
                        ],
                        "fold_3_test": [
                          444.2963049
                        ],
                        "fold_2_test": [
                          449.6338534
                        ]
                      },
                      {
                        "fold_4_test": [
                          468.408316
                        ],
                        "fold_0_learn": [
                          445.9876503
                        ],
                        "iteration": 4,
                        "fold_4_learn": [
                          437.5424702
                        ],
                        "fold_3_learn": [
                          449.7584298
                        ],
                        "fold_2_learn": [
                          448.1586727
                        ],
                        "fold_1_learn": [
                          439.5297186
                        ],
                        "fold_0_test": [
                          436.4725951
                        ],
                        "fold_1_test": [
                          474.7709206
                        ],
                        "fold_3_test": [
                          424.9814427
                        ],
                        "fold_2_test": [
                          428.2200969
                        ]
                      },
                      {
                        "fold_4_test": [
                          447.986994
                        ],
                        "fold_0_learn": [
                          426.7460149
                        ],
                        "iteration": 5,
                        "fold_4_learn": [
                          418.7680506
                        ],
                        "fold_3_learn": [
                          430.0500769
                        ],
                        "fold_2_learn": [
                          429.9127977
                        ],
                        "fold_1_learn": [
                          419.5576914
                        ],
                        "fold_0_test": [
                          418.4956388
                        ],
                        "fold_1_test": [
                          454.3005108
                        ],
                        "fold_3_test": [
                          406.8879594
                        ],
                        "fold_2_test": [
                          410.8275011
                        ]
                      },
                      {
                        "fold_4_test": [
                          429.0551753
                        ],
                        "fold_0_learn": [
                          407.9785194
                        ],
                        "iteration": 6,
                        "fold_4_learn": [
                          401.2925759
                        ],
                        "fold_3_learn": [
                          410.988663
                        ],
                        "fold_2_learn": [
                          411.0535293
                        ],
                        "fold_1_learn": [
                          402.7056901
                        ],
                        "fold_0_test": [
                          400.3669857
                        ],
                        "fold_1_test": [
                          437.3319912
                        ],
                        "fold_3_test": [
                          390.9430049
                        ],
                        "fold_2_test": [
                          393.2314581
                        ]
                      },
                      {
                        "fold_4_test": [
                          411.8252125
                        ],
                        "fold_0_learn": [
                          390.7154721
                        ],
                        "iteration": 7,
                        "fold_4_learn": [
                          384.7288629
                        ],
                        "fold_3_learn": [
                          393.4084912
                        ],
                        "fold_2_learn": [
                          394.0245549
                        ],
                        "fold_1_learn": [
                          385.566586
                        ],
                        "fold_0_test": [
                          383.2688387
                        ],
                        "fold_1_test": [
                          419.8047672
                        ],
                        "fold_3_test": [
                          374.2547382
                        ],
                        "fold_2_test": [
                          376.2427784
                        ]
                      },
                      {
                        "fold_4_test": [
                          396.6794062
                        ],
                        "fold_0_learn": [
                          374.7404559
                        ],
                        "iteration": 8,
                        "fold_4_learn": [
                          369.4037499
                        ],
                        "fold_3_learn": [
                          375.7963086
                        ],
                        "fold_2_learn": [
                          376.4974425
                        ],
                        "fold_1_learn": [
                          369.571623
                        ],
                        "fold_0_test": [
                          367.943531
                        ],
                        "fold_1_test": [
                          403.4448559
                        ],
                        "fold_3_test": [
                          359.920259
                        ],
                        "fold_2_test": [
                          358.4559837
                        ]
                      },
                      {
                        "fold_4_test": [
                          381.8074055
                        ],
                        "fold_0_learn": [
                          359.162089
                        ],
                        "iteration": 9,
                        "fold_4_learn": [
                          354.3495763
                        ],
                        "fold_3_learn": [
                          359.5849754
                        ],
                        "fold_2_learn": [
                          360.2471533
                        ],
                        "fold_1_learn": [
                          353.4541961
                        ],
                        "fold_0_test": [
                          354.804204
                        ],
                        "fold_1_test": [
                          386.0549618
                        ],
                        "fold_3_test": [
                          346.8922382
                        ],
                        "fold_2_test": [
                          342.0781243
                        ]
                      },
                      {
                        "fold_4_test": [
                          367.0103634
                        ],
                        "fold_0_learn": [
                          344.3299776
                        ],
                        "iteration": 10,
                        "fold_4_learn": [
                          340.2165117
                        ],
                        "fold_3_learn": [
                          345.0156528
                        ],
                        "fold_2_learn": [
                          345.7958984
                        ],
                        "fold_1_learn": [
                          338.7311166
                        ],
                        "fold_0_test": [
                          341.9650947
                        ],
                        "fold_1_test": [
                          370.5967892
                        ],
                        "fold_3_test": [
                          332.9391055
                        ],
                        "fold_2_test": [
                          328.0050437
                        ]
                      },
                      {
                        "fold_4_test": [
                          352.260306
                        ],
                        "fold_0_learn": [
                          330.2744965
                        ],
                        "iteration": 11,
                        "fold_4_learn": [
                          327.0787269
                        ],
                        "fold_3_learn": [
                          330.9695416
                        ],
                        "fold_2_learn": [
                          332.0814392
                        ],
                        "fold_1_learn": [
                          325.2031802
                        ],
                        "fold_0_test": [
                          329.7167881
                        ],
                        "fold_1_test": [
                          356.1301023
                        ],
                        "fold_3_test": [
                          320.6098611
                        ],
                        "fold_2_test": [
                          315.2623591
                        ]
                      },
                      {
                        "fold_4_test": [
                          337.7940433
                        ],
                        "fold_0_learn": [
                          317.8001205
                        ],
                        "iteration": 12,
                        "fold_4_learn": [
                          313.6140187
                        ],
                        "fold_3_learn": [
                          317.224069
                        ],
                        "fold_2_learn": [
                          317.7823745
                        ],
                        "fold_1_learn": [
                          314.5701969
                        ],
                        "fold_0_test": [
                          318.2921946
                        ],
                        "fold_1_test": [
                          344.9356593
                        ],
                        "fold_3_test": [
                          309.0394185
                        ],
                        "fold_2_test": [
                          300.4972747
                        ]
                      },
                      {
                        "fold_4_test": [
                          325.7686212
                        ],
                        "fold_0_learn": [
                          306.7625735
                        ],
                        "iteration": 13,
                        "fold_4_learn": [
                          302.0295264
                        ],
                        "fold_3_learn": [
                          305.2089793
                        ],
                        "fold_2_learn": [
                          305.5248358
                        ],
                        "fold_1_learn": [
                          304.7921717
                        ],
                        "fold_0_test": [
                          307.7725277
                        ],
                        "fold_1_test": [
                          334.2794218
                        ],
                        "fold_3_test": [
                          296.5440069
                        ],
                        "fold_2_test": [
                          288.5260237
                        ]
                      },
                      {
                        "fold_4_test": [
                          314.4745822
                        ],
                        "fold_0_learn": [
                          294.2121082
                        ],
                        "iteration": 14,
                        "fold_4_learn": [
                          291.6082283
                        ],
                        "fold_3_learn": [
                          293.6343187
                        ],
                        "fold_2_learn": [
                          294.1784013
                        ],
                        "fold_1_learn": [
                          292.6724695
                        ],
                        "fold_0_test": [
                          295.8859381
                        ],
                        "fold_1_test": [
                          321.714022
                        ],
                        "fold_3_test": [
                          285.3807415
                        ],
                        "fold_2_test": [
                          277.9027879
                        ]
                      },
                      {
                        "fold_4_test": [
                          302.5934493
                        ],
                        "fold_0_learn": [
                          284.6199352
                        ],
                        "iteration": 15,
                        "fold_4_learn": [
                          280.3068761
                        ],
                        "fold_3_learn": [
                          281.4459762
                        ],
                        "fold_2_learn": [
                          283.0390377
                        ],
                        "fold_1_learn": [
                          282.4881748
                        ],
                        "fold_0_test": [
                          286.681276
                        ],
                        "fold_1_test": [
                          310.1311856
                        ],
                        "fold_3_test": [
                          273.8899447
                        ],
                        "fold_2_test": [
                          266.6678636
                        ]
                      },
                      {
                        "fold_4_test": [
                          291.201978
                        ],
                        "fold_0_learn": [
                          274.8638436
                        ],
                        "iteration": 16,
                        "fold_4_learn": [
                          269.1593772
                        ],
                        "fold_3_learn": [
                          269.76767
                        ],
                        "fold_2_learn": [
                          272.2537634
                        ],
                        "fold_1_learn": [
                          271.7234238
                        ],
                        "fold_0_test": [
                          278.1762408
                        ],
                        "fold_1_test": [
                          297.2314166
                        ],
                        "fold_3_test": [
                          263.3591622
                        ],
                        "fold_2_test": [
                          255.8642747
                        ]
                      },
                      {
                        "fold_4_test": [
                          281.2841061
                        ],
                        "fold_0_learn": [
                          264.1888899
                        ],
                        "iteration": 17,
                        "fold_4_learn": [
                          259.8675635
                        ],
                        "fold_3_learn": [
                          259.7137308
                        ],
                        "fold_2_learn": [
                          262.8036091
                        ],
                        "fold_1_learn": [
                          262.7691462
                        ],
                        "fold_0_test": [
                          268.5079909
                        ],
                        "fold_1_test": [
                          286.9762796
                        ],
                        "fold_3_test": [
                          255.1073395
                        ],
                        "fold_2_test": [
                          246.948809
                        ]
                      },
                      {
                        "fold_4_test": [
                          271.4354057
                        ],
                        "fold_0_learn": [
                          254.8411036
                        ],
                        "iteration": 18,
                        "fold_4_learn": [
                          249.3519196
                        ],
                        "fold_3_learn": [
                          249.6495236
                        ],
                        "fold_2_learn": [
                          252.6381005
                        ],
                        "fold_1_learn": [
                          252.7411686
                        ],
                        "fold_0_test": [
                          259.1862951
                        ],
                        "fold_1_test": [
                          276.2630535
                        ],
                        "fold_3_test": [
                          248.0324436
                        ],
                        "fold_2_test": [
                          236.7253995
                        ]
                      },
                      {
                        "fold_4_test": [
                          262.5540924
                        ],
                        "fold_0_learn": [
                          245.7107472
                        ],
                        "iteration": 19,
                        "fold_4_learn": [
                          240.376606
                        ],
                        "fold_3_learn": [
                          240.8617183
                        ],
                        "fold_2_learn": [
                          243.2359578
                        ],
                        "fold_1_learn": [
                          243.4284826
                        ],
                        "fold_0_test": [
                          250.516905
                        ],
                        "fold_1_test": [
                          266.799922
                        ],
                        "fold_3_test": [
                          240.4011411
                        ],
                        "fold_2_test": [
                          226.6613705
                        ]
                      },
                      {
                        "fold_4_test": [
                          255.1960525
                        ],
                        "fold_0_learn": [
                          236.8590118
                        ],
                        "iteration": 20,
                        "fold_4_learn": [
                          232.8371507
                        ],
                        "fold_3_learn": [
                          231.6500738
                        ],
                        "fold_2_learn": [
                          236.0077865
                        ],
                        "fold_1_learn": [
                          236.7921566
                        ],
                        "fold_0_test": [
                          242.4939255
                        ],
                        "fold_1_test": [
                          259.1495761
                        ],
                        "fold_3_test": [
                          232.1848687
                        ],
                        "fold_2_test": [
                          219.9737231
                        ]
                      },
                      {
                        "fold_4_test": [
                          247.5544706
                        ],
                        "fold_0_learn": [
                          227.7926782
                        ],
                        "iteration": 21,
                        "fold_4_learn": [
                          225.174331
                        ],
                        "fold_3_learn": [
                          223.9892358
                        ],
                        "fold_2_learn": [
                          229.627118
                        ],
                        "fold_1_learn": [
                          228.8379881
                        ],
                        "fold_0_test": [
                          233.917928
                        ],
                        "fold_1_test": [
                          250.7695878
                        ],
                        "fold_3_test": [
                          225.8275529
                        ],
                        "fold_2_test": [
                          213.6455827
                        ]
                      },
                      {
                        "fold_4_test": [
                          239.888413
                        ],
                        "fold_0_learn": [
                          220.6861108
                        ],
                        "iteration": 22,
                        "fold_4_learn": [
                          216.9577047
                        ],
                        "fold_3_learn": [
                          215.829756
                        ],
                        "fold_2_learn": [
                          223.1078962
                        ],
                        "fold_1_learn": [
                          221.2068526
                        ],
                        "fold_0_test": [
                          226.6541153
                        ],
                        "fold_1_test": [
                          242.535784
                        ],
                        "fold_3_test": [
                          219.4641776
                        ],
                        "fold_2_test": [
                          207.8117302
                        ]
                      },
                      {
                        "fold_4_test": [
                          232.9334022
                        ],
                        "fold_0_learn": [
                          213.5268744
                        ],
                        "iteration": 23,
                        "fold_4_learn": [
                          209.7361371
                        ],
                        "fold_3_learn": [
                          209.031133
                        ],
                        "fold_2_learn": [
                          215.7224041
                        ],
                        "fold_1_learn": [
                          214.2955279
                        ],
                        "fold_0_test": [
                          219.162049
                        ],
                        "fold_1_test": [
                          235.0844389
                        ],
                        "fold_3_test": [
                          213.9639387
                        ],
                        "fold_2_test": [
                          200.6887852
                        ]
                      },
                      {
                        "fold_4_test": [
                          226.9516257
                        ],
                        "fold_0_learn": [
                          208.011854
                        ],
                        "iteration": 24,
                        "fold_4_learn": [
                          202.0332494
                        ],
                        "fold_3_learn": [
                          203.3747964
                        ],
                        "fold_2_learn": [
                          209.9948458
                        ],
                        "fold_1_learn": [
                          208.7998876
                        ],
                        "fold_0_test": [
                          214.1844485
                        ],
                        "fold_1_test": [
                          229.6181743
                        ],
                        "fold_3_test": [
                          208.4701971
                        ],
                        "fold_2_test": [
                          195.3033751
                        ]
                      },
                      {
                        "fold_4_test": [
                          219.7051311
                        ],
                        "fold_0_learn": [
                          202.0814674
                        ],
                        "iteration": 25,
                        "fold_4_learn": [
                          194.7420305
                        ],
                        "fold_3_learn": [
                          196.4366817
                        ],
                        "fold_2_learn": [
                          205.0928386
                        ],
                        "fold_1_learn": [
                          203.6666305
                        ],
                        "fold_0_test": [
                          209.2656678
                        ],
                        "fold_1_test": [
                          223.1165582
                        ],
                        "fold_3_test": [
                          203.2789275
                        ],
                        "fold_2_test": [
                          190.4920423
                        ]
                      },
                      {
                        "fold_4_test": [
                          213.359558
                        ],
                        "fold_0_learn": [
                          197.1456044
                        ],
                        "iteration": 26,
                        "fold_4_learn": [
                          188.4389481
                        ],
                        "fold_3_learn": [
                          190.2722603
                        ],
                        "fold_2_learn": [
                          200.0724782
                        ],
                        "fold_1_learn": [
                          198.8535243
                        ],
                        "fold_0_test": [
                          205.1272518
                        ],
                        "fold_1_test": [
                          217.7112662
                        ],
                        "fold_3_test": [
                          198.4815266
                        ],
                        "fold_2_test": [
                          186.5534719
                        ]
                      },
                      {
                        "fold_4_test": [
                          208.02413
                        ],
                        "fold_0_learn": [
                          191.7212602
                        ],
                        "iteration": 27,
                        "fold_4_learn": [
                          183.305179
                        ],
                        "fold_3_learn": [
                          185.4899812
                        ],
                        "fold_2_learn": [
                          194.0653362
                        ],
                        "fold_1_learn": [
                          193.2324758
                        ],
                        "fold_0_test": [
                          201.150208
                        ],
                        "fold_1_test": [
                          210.701636
                        ],
                        "fold_3_test": [
                          193.90088
                        ],
                        "fold_2_test": [
                          181.3215187
                        ]
                      },
                      {
                        "fold_4_test": [
                          202.5593378
                        ],
                        "fold_0_learn": [
                          186.0852469
                        ],
                        "iteration": 28,
                        "fold_4_learn": [
                          178.0778374
                        ],
                        "fold_3_learn": [
                          180.508828
                        ],
                        "fold_2_learn": [
                          188.9751189
                        ],
                        "fold_1_learn": [
                          188.2961597
                        ],
                        "fold_0_test": [
                          196.3790434
                        ],
                        "fold_1_test": [
                          204.7319225
                        ],
                        "fold_3_test": [
                          188.9707471
                        ],
                        "fold_2_test": [
                          175.8662081
                        ]
                      },
                      {
                        "fold_4_test": [
                          197.8437316
                        ],
                        "fold_0_learn": [
                          181.1939833
                        ],
                        "iteration": 29,
                        "fold_4_learn": [
                          173.3525408
                        ],
                        "fold_3_learn": [
                          176.5241068
                        ],
                        "fold_2_learn": [
                          184.7685975
                        ],
                        "fold_1_learn": [
                          183.233736
                        ],
                        "fold_0_test": [
                          193.0879863
                        ],
                        "fold_1_test": [
                          199.6476687
                        ],
                        "fold_3_test": [
                          185.1731
                        ],
                        "fold_2_test": [
                          172.3520972
                        ]
                      },
                      {
                        "fold_4_test": [
                          194.5385177
                        ],
                        "fold_0_learn": [
                          176.2238665
                        ],
                        "iteration": 30,
                        "fold_4_learn": [
                          169.4495334
                        ],
                        "fold_3_learn": [
                          171.4844513
                        ],
                        "fold_2_learn": [
                          180.9837844
                        ],
                        "fold_1_learn": [
                          178.8012525
                        ],
                        "fold_0_test": [
                          189.0886266
                        ],
                        "fold_1_test": [
                          194.8717414
                        ],
                        "fold_3_test": [
                          181.2123608
                        ],
                        "fold_2_test": [
                          169.2204302
                        ]
                      },
                      {
                        "fold_4_test": [
                          191.2333795
                        ],
                        "fold_0_learn": [
                          171.6769943
                        ],
                        "iteration": 31,
                        "fold_4_learn": [
                          165.4985227
                        ],
                        "fold_3_learn": [
                          167.2959495
                        ],
                        "fold_2_learn": [
                          176.4064411
                        ],
                        "fold_1_learn": [
                          174.1775385
                        ],
                        "fold_0_test": [
                          186.0554144
                        ],
                        "fold_1_test": [
                          189.6130561
                        ],
                        "fold_3_test": [
                          177.9464685
                        ],
                        "fold_2_test": [
                          165.2715479
                        ]
                      },
                      {
                        "fold_4_test": [
                          187.1227862
                        ],
                        "fold_0_learn": [
                          166.8525142
                        ],
                        "iteration": 32,
                        "fold_4_learn": [
                          160.8878586
                        ],
                        "fold_3_learn": [
                          163.0551612
                        ],
                        "fold_2_learn": [
                          171.5905559
                        ],
                        "fold_1_learn": [
                          169.9147189
                        ],
                        "fold_0_test": [
                          182.0359806
                        ],
                        "fold_1_test": [
                          184.8169313
                        ],
                        "fold_3_test": [
                          174.8185643
                        ],
                        "fold_2_test": [
                          160.6239966
                        ]
                      },
                      {
                        "fold_4_test": [
                          183.7411111
                        ],
                        "fold_0_learn": [
                          163.6084991
                        ],
                        "iteration": 33,
                        "fold_4_learn": [
                          157.2761762
                        ],
                        "fold_3_learn": [
                          159.241967
                        ],
                        "fold_2_learn": [
                          167.4657203
                        ],
                        "fold_1_learn": [
                          165.9215328
                        ],
                        "fold_0_test": [
                          179.4380377
                        ],
                        "fold_1_test": [
                          181.181362
                        ],
                        "fold_3_test": [
                          172.0578838
                        ],
                        "fold_2_test": [
                          157.7021105
                        ]
                      },
                      {
                        "fold_4_test": [
                          179.8700152
                        ],
                        "fold_0_learn": [
                          159.4735188
                        ],
                        "iteration": 34,
                        "fold_4_learn": [
                          152.9574481
                        ],
                        "fold_3_learn": [
                          155.5964691
                        ],
                        "fold_2_learn": [
                          164.3252356
                        ],
                        "fold_1_learn": [
                          163.0013814
                        ],
                        "fold_0_test": [
                          175.5706556
                        ],
                        "fold_1_test": [
                          177.4779256
                        ],
                        "fold_3_test": [
                          169.2460395
                        ],
                        "fold_2_test": [
                          155.1180754
                        ]
                      },
                      {
                        "fold_4_test": [
                          175.4326376
                        ],
                        "fold_0_learn": [
                          156.2061671
                        ],
                        "iteration": 35,
                        "fold_4_learn": [
                          149.7839985
                        ],
                        "fold_3_learn": [
                          152.5423987
                        ],
                        "fold_2_learn": [
                          161.4111987
                        ],
                        "fold_1_learn": [
                          160.0951872
                        ],
                        "fold_0_test": [
                          173.1876699
                        ],
                        "fold_1_test": [
                          173.9285439
                        ],
                        "fold_3_test": [
                          166.8191192
                        ],
                        "fold_2_test": [
                          152.5684813
                        ]
                      },
                      {
                        "fold_4_test": [
                          172.6365138
                        ],
                        "fold_0_learn": [
                          152.5157287
                        ],
                        "iteration": 36,
                        "fold_4_learn": [
                          146.0852014
                        ],
                        "fold_3_learn": [
                          148.9858374
                        ],
                        "fold_2_learn": [
                          157.6293854
                        ],
                        "fold_1_learn": [
                          156.7366188
                        ],
                        "fold_0_test": [
                          170.1407053
                        ],
                        "fold_1_test": [
                          170.7262519
                        ],
                        "fold_3_test": [
                          164.4512614
                        ],
                        "fold_2_test": [
                          149.8876697
                        ]
                      },
                      {
                        "fold_4_test": [
                          170.1935338
                        ],
                        "fold_0_learn": [
                          148.8589517
                        ],
                        "iteration": 37,
                        "fold_4_learn": [
                          142.7402477
                        ],
                        "fold_3_learn": [
                          145.6621716
                        ],
                        "fold_2_learn": [
                          154.0679638
                        ],
                        "fold_1_learn": [
                          153.3928955
                        ],
                        "fold_0_test": [
                          167.1566595
                        ],
                        "fold_1_test": [
                          167.3595292
                        ],
                        "fold_3_test": [
                          162.9698518
                        ],
                        "fold_2_test": [
                          146.2411152
                        ]
                      },
                      {
                        "fold_4_test": [
                          167.6422048
                        ],
                        "fold_0_learn": [
                          145.3852943
                        ],
                        "iteration": 38,
                        "fold_4_learn": [
                          139.4391817
                        ],
                        "fold_3_learn": [
                          142.4565487
                        ],
                        "fold_2_learn": [
                          151.70589
                        ],
                        "fold_1_learn": [
                          151.5550965
                        ],
                        "fold_0_test": [
                          164.5266623
                        ],
                        "fold_1_test": [
                          165.2457728
                        ],
                        "fold_3_test": [
                          160.7318058
                        ],
                        "fold_2_test": [
                          144.7843405
                        ]
                      },
                      {
                        "fold_4_test": [
                          165.8793227
                        ],
                        "fold_0_learn": [
                          142.9538509
                        ],
                        "iteration": 39,
                        "fold_4_learn": [
                          136.6537192
                        ],
                        "fold_3_learn": [
                          139.7751673
                        ],
                        "fold_2_learn": [
                          148.3033171
                        ],
                        "fold_1_learn": [
                          148.7425003
                        ],
                        "fold_0_test": [
                          162.8648692
                        ],
                        "fold_1_test": [
                          162.1278067
                        ],
                        "fold_3_test": [
                          158.6180792
                        ],
                        "fold_2_test": [
                          141.215782
                        ]
                      },
                      {
                        "fold_4_test": [
                          163.2825401
                        ],
                        "fold_0_learn": [
                          140.8905029
                        ],
                        "iteration": 40,
                        "fold_4_learn": [
                          134.4177595
                        ],
                        "fold_3_learn": [
                          137.7846485
                        ],
                        "fold_2_learn": [
                          146.1774699
                        ],
                        "fold_1_learn": [
                          146.3900236
                        ],
                        "fold_0_test": [
                          161.6031498
                        ],
                        "fold_1_test": [
                          159.419743
                        ],
                        "fold_3_test": [
                          156.8367627
                        ],
                        "fold_2_test": [
                          139.8562772
                        ]
                      },
                      {
                        "fold_4_test": [
                          161.2217085
                        ],
                        "fold_0_learn": [
                          137.6086597
                        ],
                        "iteration": 41,
                        "fold_4_learn": [
                          132.5533162
                        ],
                        "fold_3_learn": [
                          135.218591
                        ],
                        "fold_2_learn": [
                          143.4096239
                        ],
                        "fold_1_learn": [
                          144.236185
                        ],
                        "fold_0_test": [
                          158.2930861
                        ],
                        "fold_1_test": [
                          156.7054621
                        ],
                        "fold_3_test": [
                          154.5851353
                        ],
                        "fold_2_test": [
                          137.3464592
                        ]
                      },
                      {
                        "fold_4_test": [
                          159.6230567
                        ],
                        "fold_0_learn": [
                          134.9913343
                        ],
                        "iteration": 42,
                        "fold_4_learn": [
                          130.190891
                        ],
                        "fold_3_learn": [
                          133.1680366
                        ],
                        "fold_2_learn": [
                          141.2840132
                        ],
                        "fold_1_learn": [
                          141.7994139
                        ],
                        "fold_0_test": [
                          157.6277241
                        ],
                        "fold_1_test": [
                          153.8139137
                        ],
                        "fold_3_test": [
                          153.2918654
                        ],
                        "fold_2_test": [
                          135.7587363
                        ]
                      },
                      {
                        "fold_4_test": [
                          158.6105088
                        ],
                        "fold_0_learn": [
                          132.7157065
                        ],
                        "iteration": 43,
                        "fold_4_learn": [
                          128.3227079
                        ],
                        "fold_3_learn": [
                          131.1578886
                        ],
                        "fold_2_learn": [
                          138.9412897
                        ],
                        "fold_1_learn": [
                          139.7499953
                        ],
                        "fold_0_test": [
                          155.8411032
                        ],
                        "fold_1_test": [
                          151.9216605
                        ],
                        "fold_3_test": [
                          151.421782
                        ],
                        "fold_2_test": [
                          134.0356245
                        ]
                      },
                      {
                        "fold_4_test": [
                          156.8655975
                        ],
                        "fold_0_learn": [
                          131.2657625
                        ],
                        "iteration": 44,
                        "fold_4_learn": [
                          126.7410215
                        ],
                        "fold_3_learn": [
                          129.3990815
                        ],
                        "fold_2_learn": [
                          137.1583082
                        ],
                        "fold_1_learn": [
                          138.1697294
                        ],
                        "fold_0_test": [
                          154.9522654
                        ],
                        "fold_1_test": [
                          150.0388966
                        ],
                        "fold_3_test": [
                          150.6549795
                        ],
                        "fold_2_test": [
                          132.8897244
                        ]
                      },
                      {
                        "fold_4_test": [
                          155.8451489
                        ],
                        "fold_0_learn": [
                          128.8900623
                        ],
                        "iteration": 45,
                        "fold_4_learn": [
                          125.0037497
                        ],
                        "fold_3_learn": [
                          128.2039217
                        ],
                        "fold_2_learn": [
                          135.4113161
                        ],
                        "fold_1_learn": [
                          136.4428736
                        ],
                        "fold_0_test": [
                          152.9738509
                        ],
                        "fold_1_test": [
                          147.7878894
                        ],
                        "fold_3_test": [
                          150.2919657
                        ],
                        "fold_2_test": [
                          131.9269217
                        ]
                      },
                      {
                        "fold_4_test": [
                          153.8836889
                        ],
                        "fold_0_learn": [
                          127.0715446
                        ],
                        "iteration": 46,
                        "fold_4_learn": [
                          123.0578758
                        ],
                        "fold_3_learn": [
                          126.5966781
                        ],
                        "fold_2_learn": [
                          133.7509748
                        ],
                        "fold_1_learn": [
                          134.4530839
                        ],
                        "fold_0_test": [
                          151.8555411
                        ],
                        "fold_1_test": [
                          145.5712239
                        ],
                        "fold_3_test": [
                          149.3841619
                        ],
                        "fold_2_test": [
                          131.2971793
                        ]
                      },
                      {
                        "fold_4_test": [
                          152.6079844
                        ],
                        "fold_0_learn": [
                          125.5251763
                        ],
                        "iteration": 47,
                        "fold_4_learn": [
                          121.3441971
                        ],
                        "fold_3_learn": [
                          124.9539245
                        ],
                        "fold_2_learn": [
                          131.8507623
                        ],
                        "fold_1_learn": [
                          132.8295517
                        ],
                        "fold_0_test": [
                          150.3477865
                        ],
                        "fold_1_test": [
                          143.7231956
                        ],
                        "fold_3_test": [
                          148.522728
                        ],
                        "fold_2_test": [
                          130.9170966
                        ]
                      },
                      {
                        "fold_4_test": [
                          151.7156829
                        ],
                        "fold_0_learn": [
                          123.356839
                        ],
                        "iteration": 48,
                        "fold_4_learn": [
                          119.9867106
                        ],
                        "fold_3_learn": [
                          123.4192787
                        ],
                        "fold_2_learn": [
                          129.5819679
                        ],
                        "fold_1_learn": [
                          131.4555399
                        ],
                        "fold_0_test": [
                          148.8008741
                        ],
                        "fold_1_test": [
                          141.7045008
                        ],
                        "fold_3_test": [
                          147.3110515
                        ],
                        "fold_2_test": [
                          128.9302085
                        ]
                      },
                      {
                        "fold_4_test": [
                          149.9439271
                        ],
                        "fold_0_learn": [
                          122.0641721
                        ],
                        "iteration": 49,
                        "fold_4_learn": [
                          118.3014662
                        ],
                        "fold_3_learn": [
                          122.108081
                        ],
                        "fold_2_learn": [
                          127.4214774
                        ],
                        "fold_1_learn": [
                          130.2478667
                        ],
                        "fold_0_test": [
                          147.9785503
                        ],
                        "fold_1_test": [
                          140.6872809
                        ],
                        "fold_3_test": [
                          146.205346
                        ],
                        "fold_2_test": [
                          128.1750788
                        ]
                      },
                      {
                        "fold_4_test": [
                          148.9160622
                        ],
                        "fold_0_learn": [
                          120.5706142
                        ],
                        "iteration": 50,
                        "fold_4_learn": [
                          116.6377301
                        ],
                        "fold_3_learn": [
                          120.6182956
                        ],
                        "fold_2_learn": [
                          125.4555965
                        ],
                        "fold_1_learn": [
                          129.301122
                        ],
                        "fold_0_test": [
                          146.5423398
                        ],
                        "fold_1_test": [
                          139.3310332
                        ],
                        "fold_3_test": [
                          145.4650152
                        ],
                        "fold_2_test": [
                          127.8419111
                        ]
                      },
                      {
                        "fold_4_test": [
                          147.5690423
                        ],
                        "fold_0_learn": [
                          119.5708702
                        ],
                        "iteration": 51,
                        "fold_4_learn": [
                          115.3125377
                        ],
                        "fold_3_learn": [
                          119.2038207
                        ],
                        "fold_2_learn": [
                          123.5915431
                        ],
                        "fold_1_learn": [
                          127.6824287
                        ],
                        "fold_0_test": [
                          145.7815584
                        ],
                        "fold_1_test": [
                          137.4013277
                        ],
                        "fold_3_test": [
                          144.0972505
                        ],
                        "fold_2_test": [
                          128.1190883
                        ]
                      },
                      {
                        "fold_4_test": [
                          146.7373311
                        ],
                        "fold_0_learn": [
                          118.2498826
                        ],
                        "iteration": 52,
                        "fold_4_learn": [
                          114.1181132
                        ],
                        "fold_3_learn": [
                          118.2672101
                        ],
                        "fold_2_learn": [
                          122.0270309
                        ],
                        "fold_1_learn": [
                          125.775245
                        ],
                        "fold_0_test": [
                          144.7564253
                        ],
                        "fold_1_test": [
                          135.7389165
                        ],
                        "fold_3_test": [
                          143.3803434
                        ],
                        "fold_2_test": [
                          126.8152713
                        ]
                      },
                      {
                        "fold_4_test": [
                          145.0498734
                        ],
                        "fold_0_learn": [
                          116.9657366
                        ],
                        "iteration": 53,
                        "fold_4_learn": [
                          112.4843477
                        ],
                        "fold_3_learn": [
                          116.9755968
                        ],
                        "fold_2_learn": [
                          120.4812712
                        ],
                        "fold_1_learn": [
                          124.8559286
                        ],
                        "fold_0_test": [
                          143.5626043
                        ],
                        "fold_1_test": [
                          134.3342155
                        ],
                        "fold_3_test": [
                          142.9597631
                        ],
                        "fold_2_test": [
                          126.1445698
                        ]
                      },
                      {
                        "fold_4_test": [
                          144.4006041
                        ],
                        "fold_0_learn": [
                          115.4573564
                        ],
                        "iteration": 54,
                        "fold_4_learn": [
                          111.1874096
                        ],
                        "fold_3_learn": [
                          115.731024
                        ],
                        "fold_2_learn": [
                          119.1356125
                        ],
                        "fold_1_learn": [
                          123.8947919
                        ],
                        "fold_0_test": [
                          142.510756
                        ],
                        "fold_1_test": [
                          133.5506703
                        ],
                        "fold_3_test": [
                          142.4738334
                        ],
                        "fold_2_test": [
                          125.1458452
                        ]
                      },
                      {
                        "fold_4_test": [
                          143.9202004
                        ],
                        "fold_0_learn": [
                          114.2281758
                        ],
                        "iteration": 55,
                        "fold_4_learn": [
                          109.8217861
                        ],
                        "fold_3_learn": [
                          114.4897483
                        ],
                        "fold_2_learn": [
                          117.7487743
                        ],
                        "fold_1_learn": [
                          122.817372
                        ],
                        "fold_0_test": [
                          141.4647745
                        ],
                        "fold_1_test": [
                          132.1424837
                        ],
                        "fold_3_test": [
                          141.8611818
                        ],
                        "fold_2_test": [
                          124.3324101
                        ]
                      },
                      {
                        "fold_4_test": [
                          143.1198611
                        ],
                        "fold_0_learn": [
                          113.0777811
                        ],
                        "iteration": 56,
                        "fold_4_learn": [
                          108.6619519
                        ],
                        "fold_3_learn": [
                          113.211448
                        ],
                        "fold_2_learn": [
                          116.4125222
                        ],
                        "fold_1_learn": [
                          121.4510481
                        ],
                        "fold_0_test": [
                          140.1197933
                        ],
                        "fold_1_test": [
                          131.2794479
                        ],
                        "fold_3_test": [
                          141.4981116
                        ],
                        "fold_2_test": [
                          123.2852388
                        ]
                      },
                      {
                        "fold_4_test": [
                          142.4276995
                        ],
                        "fold_0_learn": [
                          111.8066858
                        ],
                        "iteration": 57,
                        "fold_4_learn": [
                          107.8213291
                        ],
                        "fold_3_learn": [
                          112.4917645
                        ],
                        "fold_2_learn": [
                          114.8531876
                        ],
                        "fold_1_learn": [
                          120.5943118
                        ],
                        "fold_0_test": [
                          138.9362921
                        ],
                        "fold_1_test": [
                          130.6938392
                        ],
                        "fold_3_test": [
                          141.130531
                        ],
                        "fold_2_test": [
                          122.6297914
                        ]
                      },
                      {
                        "fold_4_test": [
                          141.8152673
                        ],
                        "fold_0_learn": [
                          110.7612582
                        ],
                        "iteration": 58,
                        "fold_4_learn": [
                          107.0217464
                        ],
                        "fold_3_learn": [
                          111.728017
                        ],
                        "fold_2_learn": [
                          114.2347091
                        ],
                        "fold_1_learn": [
                          119.6438851
                        ],
                        "fold_0_test": [
                          138.1173221
                        ],
                        "fold_1_test": [
                          129.5998796
                        ],
                        "fold_3_test": [
                          140.5174976
                        ],
                        "fold_2_test": [
                          122.3229913
                        ]
                      },
                      {
                        "fold_4_test": [
                          141.2423971
                        ],
                        "fold_0_learn": [
                          109.6554705
                        ],
                        "iteration": 59,
                        "fold_4_learn": [
                          106.0004359
                        ],
                        "fold_3_learn": [
                          110.7101173
                        ],
                        "fold_2_learn": [
                          113.3806586
                        ],
                        "fold_1_learn": [
                          119.4859839
                        ],
                        "fold_0_test": [
                          138.0749665
                        ],
                        "fold_1_test": [
                          129.3553808
                        ],
                        "fold_3_test": [
                          139.3864889
                        ],
                        "fold_2_test": [
                          122.0831243
                        ]
                      },
                      {
                        "fold_4_test": [
                          140.722012
                        ],
                        "fold_0_learn": [
                          108.6988715
                        ],
                        "iteration": 60,
                        "fold_4_learn": [
                          105.2673121
                        ],
                        "fold_3_learn": [
                          110.1261455
                        ],
                        "fold_2_learn": [
                          112.6955066
                        ],
                        "fold_1_learn": [
                          118.1329508
                        ],
                        "fold_0_test": [
                          137.2775551
                        ],
                        "fold_1_test": [
                          127.8943705
                        ],
                        "fold_3_test": [
                          139.1520197
                        ],
                        "fold_2_test": [
                          121.8837896
                        ]
                      },
                      {
                        "fold_4_test": [
                          140.2755861
                        ],
                        "fold_0_learn": [
                          107.817229
                        ],
                        "iteration": 61,
                        "fold_4_learn": [
                          104.528348
                        ],
                        "fold_3_learn": [
                          109.2649505
                        ],
                        "fold_2_learn": [
                          111.2882197
                        ],
                        "fold_1_learn": [
                          117.6943614
                        ],
                        "fold_0_test": [
                          136.6957717
                        ],
                        "fold_1_test": [
                          127.3515824
                        ],
                        "fold_3_test": [
                          138.4165436
                        ],
                        "fold_2_test": [
                          120.787739
                        ]
                      },
                      {
                        "fold_4_test": [
                          140.0689753
                        ],
                        "fold_0_learn": [
                          106.9646799
                        ],
                        "iteration": 62,
                        "fold_4_learn": [
                          103.974379
                        ],
                        "fold_3_learn": [
                          108.1667783
                        ],
                        "fold_2_learn": [
                          109.7460611
                        ],
                        "fold_1_learn": [
                          116.5755945
                        ],
                        "fold_0_test": [
                          135.9693129
                        ],
                        "fold_1_test": [
                          126.9326161
                        ],
                        "fold_3_test": [
                          137.491169
                        ],
                        "fold_2_test": [
                          120.0801704
                        ]
                      },
                      {
                        "fold_4_test": [
                          140.2880717
                        ],
                        "fold_0_learn": [
                          106.3852771
                        ],
                        "iteration": 63,
                        "fold_4_learn": [
                          103.080816
                        ],
                        "fold_3_learn": [
                          107.3695293
                        ],
                        "fold_2_learn": [
                          108.9153787
                        ],
                        "fold_1_learn": [
                          115.6091292
                        ],
                        "fold_0_test": [
                          135.1993129
                        ],
                        "fold_1_test": [
                          125.8529015
                        ],
                        "fold_3_test": [
                          137.2969115
                        ],
                        "fold_2_test": [
                          119.7859741
                        ]
                      },
                      {
                        "fold_4_test": [
                          139.9197622
                        ],
                        "fold_0_learn": [
                          105.7565635
                        ],
                        "iteration": 64,
                        "fold_4_learn": [
                          102.3330382
                        ],
                        "fold_3_learn": [
                          106.5221288
                        ],
                        "fold_2_learn": [
                          108.0769418
                        ],
                        "fold_1_learn": [
                          113.7503482
                        ],
                        "fold_0_test": [
                          134.2831399
                        ],
                        "fold_1_test": [
                          124.7889651
                        ],
                        "fold_3_test": [
                          136.5886034
                        ],
                        "fold_2_test": [
                          118.6533474
                        ]
                      },
                      {
                        "fold_4_test": [
                          139.1203038
                        ],
                        "fold_0_learn": [
                          105.4023847
                        ],
                        "iteration": 65,
                        "fold_4_learn": [
                          101.2282686
                        ],
                        "fold_3_learn": [
                          105.6349691
                        ],
                        "fold_2_learn": [
                          107.7419937
                        ],
                        "fold_1_learn": [
                          112.8767228
                        ],
                        "fold_0_test": [
                          133.9403399
                        ],
                        "fold_1_test": [
                          123.9426873
                        ],
                        "fold_3_test": [
                          136.0597838
                        ],
                        "fold_2_test": [
                          118.6769338
                        ]
                      },
                      {
                        "fold_4_test": [
                          138.5953851
                        ],
                        "fold_0_learn": [
                          104.3148826
                        ],
                        "iteration": 66,
                        "fold_4_learn": [
                          100.1244539
                        ],
                        "fold_3_learn": [
                          105.0376934
                        ],
                        "fold_2_learn": [
                          106.6502945
                        ],
                        "fold_1_learn": [
                          111.941288
                        ],
                        "fold_0_test": [
                          133.4466066
                        ],
                        "fold_1_test": [
                          123.3819854
                        ],
                        "fold_3_test": [
                          135.884565
                        ],
                        "fold_2_test": [
                          117.9101424
                        ]
                      },
                      {
                        "fold_4_test": [
                          138.4553865
                        ],
                        "fold_0_learn": [
                          103.5582843
                        ],
                        "iteration": 67,
                        "fold_4_learn": [
                          99.28600398
                        ],
                        "fold_3_learn": [
                          104.4686947
                        ],
                        "fold_2_learn": [
                          105.7008803
                        ],
                        "fold_1_learn": [
                          111.3233602
                        ],
                        "fold_0_test": [
                          132.8700974
                        ],
                        "fold_1_test": [
                          122.6971287
                        ],
                        "fold_3_test": [
                          135.2900956
                        ],
                        "fold_2_test": [
                          117.7775373
                        ]
                      },
                      {
                        "fold_4_test": [
                          138.3249192
                        ],
                        "fold_0_learn": [
                          102.3662707
                        ],
                        "iteration": 68,
                        "fold_4_learn": [
                          98.78908821
                        ],
                        "fold_3_learn": [
                          103.6998806
                        ],
                        "fold_2_learn": [
                          105.1019155
                        ],
                        "fold_1_learn": [
                          111.0162513
                        ],
                        "fold_0_test": [
                          132.5932033
                        ],
                        "fold_1_test": [
                          122.6149143
                        ],
                        "fold_3_test": [
                          135.0658722
                        ],
                        "fold_2_test": [
                          117.6639578
                        ]
                      },
                      {
                        "fold_4_test": [
                          138.2908959
                        ],
                        "fold_0_learn": [
                          101.8857647
                        ],
                        "iteration": 69,
                        "fold_4_learn": [
                          98.26121073
                        ],
                        "fold_3_learn": [
                          103.1860888
                        ],
                        "fold_2_learn": [
                          104.006812
                        ],
                        "fold_1_learn": [
                          110.1023233
                        ],
                        "fold_0_test": [
                          132.1329998
                        ],
                        "fold_1_test": [
                          122.0776604
                        ],
                        "fold_3_test": [
                          135.2788394
                        ],
                        "fold_2_test": [
                          117.2210981
                        ]
                      },
                      {
                        "fold_4_test": [
                          138.0037621
                        ],
                        "fold_0_learn": [
                          101.7208706
                        ],
                        "iteration": 70,
                        "fold_4_learn": [
                          97.76251709
                        ],
                        "fold_3_learn": [
                          102.3597244
                        ],
                        "fold_2_learn": [
                          103.1599013
                        ],
                        "fold_1_learn": [
                          109.1366734
                        ],
                        "fold_0_test": [
                          131.8225361
                        ],
                        "fold_1_test": [
                          121.2606657
                        ],
                        "fold_3_test": [
                          134.7907819
                        ],
                        "fold_2_test": [
                          117.6818864
                        ]
                      },
                      {
                        "fold_4_test": [
                          137.9465956
                        ],
                        "fold_0_learn": [
                          101.3253606
                        ],
                        "iteration": 71,
                        "fold_4_learn": [
                          97.67531309
                        ],
                        "fold_3_learn": [
                          101.5899351
                        ],
                        "fold_2_learn": [
                          102.3758128
                        ],
                        "fold_1_learn": [
                          108.3147116
                        ],
                        "fold_0_test": [
                          131.5236756
                        ],
                        "fold_1_test": [
                          120.5300716
                        ],
                        "fold_3_test": [
                          134.2941915
                        ],
                        "fold_2_test": [
                          117.6096274
                        ]
                      },
                      {
                        "fold_4_test": [
                          137.3430586
                        ],
                        "fold_0_learn": [
                          100.9857074
                        ],
                        "iteration": 72,
                        "fold_4_learn": [
                          97.08838539
                        ],
                        "fold_3_learn": [
                          100.9083906
                        ],
                        "fold_2_learn": [
                          101.8045128
                        ],
                        "fold_1_learn": [
                          107.8017931
                        ],
                        "fold_0_test": [
                          131.4242834
                        ],
                        "fold_1_test": [
                          120.0566067
                        ],
                        "fold_3_test": [
                          134.0871174
                        ],
                        "fold_2_test": [
                          117.2915504
                        ]
                      },
                      {
                        "fold_4_test": [
                          137.4769492
                        ],
                        "fold_0_learn": [
                          100.4717854
                        ],
                        "iteration": 73,
                        "fold_4_learn": [
                          96.22922666
                        ],
                        "fold_3_learn": [
                          100.6359691
                        ],
                        "fold_2_learn": [
                          100.9958584
                        ],
                        "fold_1_learn": [
                          107.2747438
                        ],
                        "fold_0_test": [
                          130.7618106
                        ],
                        "fold_1_test": [
                          119.5476218
                        ],
                        "fold_3_test": [
                          133.8958253
                        ],
                        "fold_2_test": [
                          116.2927388
                        ]
                      },
                      {
                        "fold_4_test": [
                          137.0502882
                        ],
                        "fold_0_learn": [
                          99.95750073
                        ],
                        "iteration": 74,
                        "fold_4_learn": [
                          95.603285
                        ],
                        "fold_3_learn": [
                          99.75525945
                        ],
                        "fold_2_learn": [
                          100.5014101
                        ],
                        "fold_1_learn": [
                          106.2851983
                        ],
                        "fold_0_test": [
                          130.5669479
                        ],
                        "fold_1_test": [
                          119.1825289
                        ],
                        "fold_3_test": [
                          132.9834585
                        ],
                        "fold_2_test": [
                          115.7304425
                        ]
                      },
                      {
                        "fold_4_test": [
                          136.985505
                        ],
                        "fold_0_learn": [
                          99.35424934
                        ],
                        "iteration": 75,
                        "fold_4_learn": [
                          95.09956897
                        ],
                        "fold_3_learn": [
                          99.30418254
                        ],
                        "fold_2_learn": [
                          99.5338776
                        ],
                        "fold_1_learn": [
                          105.6805497
                        ],
                        "fold_0_test": [
                          129.914861
                        ],
                        "fold_1_test": [
                          118.9017399
                        ],
                        "fold_3_test": [
                          132.7202001
                        ],
                        "fold_2_test": [
                          115.2756148
                        ]
                      },
                      {
                        "fold_4_test": [
                          136.2076019
                        ],
                        "fold_0_learn": [
                          98.76072432
                        ],
                        "iteration": 76,
                        "fold_4_learn": [
                          94.38628494
                        ],
                        "fold_3_learn": [
                          98.72479661
                        ],
                        "fold_2_learn": [
                          99.07096541
                        ],
                        "fold_1_learn": [
                          104.9147457
                        ],
                        "fold_0_test": [
                          129.7701191
                        ],
                        "fold_1_test": [
                          118.7392904
                        ],
                        "fold_3_test": [
                          132.6025075
                        ],
                        "fold_2_test": [
                          114.8162829
                        ]
                      },
                      {
                        "fold_4_test": [
                          135.9553128
                        ],
                        "fold_0_learn": [
                          98.03618182
                        ],
                        "iteration": 77,
                        "fold_4_learn": [
                          94.03657763
                        ],
                        "fold_3_learn": [
                          97.98084049
                        ],
                        "fold_2_learn": [
                          98.05324285
                        ],
                        "fold_1_learn": [
                          104.0720898
                        ],
                        "fold_0_test": [
                          129.2184364
                        ],
                        "fold_1_test": [
                          118.3429485
                        ],
                        "fold_3_test": [
                          131.8184255
                        ],
                        "fold_2_test": [
                          114.6085519
                        ]
                      },
                      {
                        "fold_4_test": [
                          135.7513425
                        ],
                        "fold_0_learn": [
                          97.76681193
                        ],
                        "iteration": 78,
                        "fold_4_learn": [
                          93.44498273
                        ],
                        "fold_3_learn": [
                          97.69871093
                        ],
                        "fold_2_learn": [
                          97.77649505
                        ],
                        "fold_1_learn": [
                          103.3579926
                        ],
                        "fold_0_test": [
                          129.0074849
                        ],
                        "fold_1_test": [
                          117.6179645
                        ],
                        "fold_3_test": [
                          131.5076854
                        ],
                        "fold_2_test": [
                          114.4957712
                        ]
                      },
                      {
                        "fold_4_test": [
                          135.608733
                        ],
                        "fold_0_learn": [
                          97.39614868
                        ],
                        "iteration": 79,
                        "fold_4_learn": [
                          93.04732971
                        ],
                        "fold_3_learn": [
                          97.01568644
                        ],
                        "fold_2_learn": [
                          97.30402681
                        ],
                        "fold_1_learn": [
                          103.0562715
                        ],
                        "fold_0_test": [
                          128.4868576
                        ],
                        "fold_1_test": [
                          117.1100936
                        ],
                        "fold_3_test": [
                          131.4483483
                        ],
                        "fold_2_test": [
                          114.3034397
                        ]
                      },
                      {
                        "fold_4_test": [
                          135.5325846
                        ],
                        "fold_0_learn": [
                          96.63313083
                        ],
                        "iteration": 80,
                        "fold_4_learn": [
                          92.58612472
                        ],
                        "fold_3_learn": [
                          96.50206401
                        ],
                        "fold_2_learn": [
                          96.7461555
                        ],
                        "fold_1_learn": [
                          102.6167376
                        ],
                        "fold_0_test": [
                          128.2096587
                        ],
                        "fold_1_test": [
                          116.8446932
                        ],
                        "fold_3_test": [
                          131.0872262
                        ],
                        "fold_2_test": [
                          114.3605015
                        ]
                      },
                      {
                        "fold_4_test": [
                          136.0408908
                        ],
                        "fold_0_learn": [
                          96.19311842
                        ],
                        "iteration": 81,
                        "fold_4_learn": [
                          91.60337507
                        ],
                        "fold_3_learn": [
                          95.54447626
                        ],
                        "fold_2_learn": [
                          96.05853213
                        ],
                        "fold_1_learn": [
                          102.4747181
                        ],
                        "fold_0_test": [
                          127.8789452
                        ],
                        "fold_1_test": [
                          116.8212761
                        ],
                        "fold_3_test": [
                          130.9325463
                        ],
                        "fold_2_test": [
                          113.9749641
                        ]
                      },
                      {
                        "fold_4_test": [
                          135.8056692
                        ],
                        "fold_0_learn": [
                          95.91821325
                        ],
                        "iteration": 82,
                        "fold_4_learn": [
                          91.28623808
                        ],
                        "fold_3_learn": [
                          94.59420689
                        ],
                        "fold_2_learn": [
                          95.34378456
                        ],
                        "fold_1_learn": [
                          101.6854266
                        ],
                        "fold_0_test": [
                          127.8197071
                        ],
                        "fold_1_test": [
                          116.3507916
                        ],
                        "fold_3_test": [
                          130.6693742
                        ],
                        "fold_2_test": [
                          113.452101
                        ]
                      },
                      {
                        "fold_4_test": [
                          135.4921388
                        ],
                        "fold_0_learn": [
                          95.14191708
                        ],
                        "iteration": 83,
                        "fold_4_learn": [
                          90.94078905
                        ],
                        "fold_3_learn": [
                          94.03015347
                        ],
                        "fold_2_learn": [
                          94.81807381
                        ],
                        "fold_1_learn": [
                          101.4305158
                        ],
                        "fold_0_test": [
                          127.5062044
                        ],
                        "fold_1_test": [
                          115.9248344
                        ],
                        "fold_3_test": [
                          130.54845
                        ],
                        "fold_2_test": [
                          113.2856957
                        ]
                      },
                      {
                        "fold_4_test": [
                          135.103524
                        ],
                        "fold_0_learn": [
                          94.3257802
                        ],
                        "iteration": 84,
                        "fold_4_learn": [
                          90.27468399
                        ],
                        "fold_3_learn": [
                          93.1250026
                        ],
                        "fold_2_learn": [
                          94.21570013
                        ],
                        "fold_1_learn": [
                          100.8141877
                        ],
                        "fold_0_test": [
                          127.1251576
                        ],
                        "fold_1_test": [
                          115.2257119
                        ],
                        "fold_3_test": [
                          130.3254676
                        ],
                        "fold_2_test": [
                          113.5543912
                        ]
                      },
                      {
                        "fold_4_test": [
                          134.8942418
                        ],
                        "fold_0_learn": [
                          94.05931297
                        ],
                        "iteration": 85,
                        "fold_4_learn": [
                          89.80647299
                        ],
                        "fold_3_learn": [
                          92.54213733
                        ],
                        "fold_2_learn": [
                          93.56292614
                        ],
                        "fold_1_learn": [
                          100.093616
                        ],
                        "fold_0_test": [
                          126.895659
                        ],
                        "fold_1_test": [
                          115.1466177
                        ],
                        "fold_3_test": [
                          130.1411366
                        ],
                        "fold_2_test": [
                          113.4453502
                        ]
                      },
                      {
                        "fold_4_test": [
                          135.0522047
                        ],
                        "fold_0_learn": [
                          93.44495263
                        ],
                        "iteration": 86,
                        "fold_4_learn": [
                          89.26401219
                        ],
                        "fold_3_learn": [
                          91.43541256
                        ],
                        "fold_2_learn": [
                          92.77344022
                        ],
                        "fold_1_learn": [
                          99.29605874
                        ],
                        "fold_0_test": [
                          126.7752698
                        ],
                        "fold_1_test": [
                          114.6571277
                        ],
                        "fold_3_test": [
                          129.9595097
                        ],
                        "fold_2_test": [
                          113.5553894
                        ]
                      },
                      {
                        "fold_4_test": [
                          134.8945497
                        ],
                        "fold_0_learn": [
                          93.37784269
                        ],
                        "iteration": 87,
                        "fold_4_learn": [
                          88.76547196
                        ],
                        "fold_3_learn": [
                          91.22162887
                        ],
                        "fold_2_learn": [
                          92.29486645
                        ],
                        "fold_1_learn": [
                          99.10601202
                        ],
                        "fold_0_test": [
                          126.733212
                        ],
                        "fold_1_test": [
                          114.5898603
                        ],
                        "fold_3_test": [
                          129.8325447
                        ],
                        "fold_2_test": [
                          112.9586304
                        ]
                      },
                      {
                        "fold_4_test": [
                          134.6276015
                        ],
                        "fold_0_learn": [
                          92.67661845
                        ],
                        "iteration": 88,
                        "fold_4_learn": [
                          88.06192191
                        ],
                        "fold_3_learn": [
                          90.90189937
                        ],
                        "fold_2_learn": [
                          91.74547268
                        ],
                        "fold_1_learn": [
                          98.74859896
                        ],
                        "fold_0_test": [
                          126.5969183
                        ],
                        "fold_1_test": [
                          114.5723041
                        ],
                        "fold_3_test": [
                          129.6319312
                        ],
                        "fold_2_test": [
                          113.1392475
                        ]
                      },
                      {
                        "fold_4_test": [
                          134.2131061
                        ],
                        "fold_0_learn": [
                          92.19718232
                        ],
                        "iteration": 89,
                        "fold_4_learn": [
                          87.4817511
                        ],
                        "fold_3_learn": [
                          90.70431099
                        ],
                        "fold_2_learn": [
                          91.37951673
                        ],
                        "fold_1_learn": [
                          98.03115662
                        ],
                        "fold_0_test": [
                          126.1871404
                        ],
                        "fold_1_test": [
                          114.3605214
                        ],
                        "fold_3_test": [
                          129.5442852
                        ],
                        "fold_2_test": [
                          113.028963
                        ]
                      },
                      {
                        "fold_4_test": [
                          134.0578414
                        ],
                        "fold_0_learn": [
                          91.21845382
                        ],
                        "iteration": 90,
                        "fold_4_learn": [
                          87.27593834
                        ],
                        "fold_3_learn": [
                          90.11590002
                        ],
                        "fold_2_learn": [
                          90.904285
                        ],
                        "fold_1_learn": [
                          97.36013626
                        ],
                        "fold_0_test": [
                          125.1575324
                        ],
                        "fold_1_test": [
                          113.7272425
                        ],
                        "fold_3_test": [
                          129.3648347
                        ],
                        "fold_2_test": [
                          113.2247075
                        ]
                      },
                      {
                        "fold_4_test": [
                          133.685004
                        ],
                        "fold_0_learn": [
                          90.74917808
                        ],
                        "iteration": 91,
                        "fold_4_learn": [
                          86.67529534
                        ],
                        "fold_3_learn": [
                          89.56625286
                        ],
                        "fold_2_learn": [
                          90.65253784
                        ],
                        "fold_1_learn": [
                          96.99523513
                        ],
                        "fold_0_test": [
                          124.9734357
                        ],
                        "fold_1_test": [
                          113.393492
                        ],
                        "fold_3_test": [
                          129.4151685
                        ],
                        "fold_2_test": [
                          113.1248799
                        ]
                      },
                      {
                        "fold_4_test": [
                          133.813598
                        ],
                        "fold_0_learn": [
                          90.27016956
                        ],
                        "iteration": 92,
                        "fold_4_learn": [
                          86.24179398
                        ],
                        "fold_3_learn": [
                          89.33776312
                        ],
                        "fold_2_learn": [
                          90.21611008
                        ],
                        "fold_1_learn": [
                          96.70853024
                        ],
                        "fold_0_test": [
                          124.8961132
                        ],
                        "fold_1_test": [
                          113.1706957
                        ],
                        "fold_3_test": [
                          129.3808027
                        ],
                        "fold_2_test": [
                          113.2192338
                        ]
                      },
                      {
                        "fold_4_test": [
                          133.6063331
                        ],
                        "fold_0_learn": [
                          90.02567348
                        ],
                        "iteration": 93,
                        "fold_4_learn": [
                          85.64496319
                        ],
                        "fold_3_learn": [
                          88.8968943
                        ],
                        "fold_2_learn": [
                          89.68308853
                        ],
                        "fold_1_learn": [
                          96.59498794
                        ],
                        "fold_0_test": [
                          124.8683629
                        ],
                        "fold_1_test": [
                          113.1152804
                        ],
                        "fold_3_test": [
                          129.1716626
                        ],
                        "fold_2_test": [
                          113.203359
                        ]
                      },
                      {
                        "fold_4_test": [
                          133.1956973
                        ],
                        "fold_0_learn": [
                          89.85348522
                        ],
                        "iteration": 94,
                        "fold_4_learn": [
                          85.14956306
                        ],
                        "fold_3_learn": [
                          88.46652419
                        ],
                        "fold_2_learn": [
                          89.27272064
                        ],
                        "fold_1_learn": [
                          95.95356238
                        ],
                        "fold_0_test": [
                          124.8408484
                        ],
                        "fold_1_test": [
                          113.3994494
                        ],
                        "fold_3_test": [
                          129.1140777
                        ],
                        "fold_2_test": [
                          112.9822875
                        ]
                      },
                      {
                        "fold_4_test": [
                          132.9428422
                        ],
                        "fold_0_learn": [
                          89.32592116
                        ],
                        "iteration": 95,
                        "fold_4_learn": [
                          84.72969867
                        ],
                        "fold_3_learn": [
                          88.22937751
                        ],
                        "fold_2_learn": [
                          88.71239078
                        ],
                        "fold_1_learn": [
                          95.24689798
                        ],
                        "fold_0_test": [
                          124.4066717
                        ],
                        "fold_1_test": [
                          112.5192435
                        ],
                        "fold_3_test": [
                          129.221989
                        ],
                        "fold_2_test": [
                          113.2073803
                        ]
                      },
                      {
                        "fold_4_test": [
                          132.6798057
                        ],
                        "fold_0_learn": [
                          88.84291561
                        ],
                        "iteration": 96,
                        "fold_4_learn": [
                          84.2985923
                        ],
                        "fold_3_learn": [
                          87.8716225
                        ],
                        "fold_2_learn": [
                          88.18445284
                        ],
                        "fold_1_learn": [
                          94.42464165
                        ],
                        "fold_0_test": [
                          124.4305406
                        ],
                        "fold_1_test": [
                          112.4841073
                        ],
                        "fold_3_test": [
                          128.9352916
                        ],
                        "fold_2_test": [
                          113.2452536
                        ]
                      },
                      {
                        "fold_4_test": [
                          132.8833668
                        ],
                        "fold_0_learn": [
                          88.49976367
                        ],
                        "iteration": 97,
                        "fold_4_learn": [
                          83.94078487
                        ],
                        "fold_3_learn": [
                          87.46741857
                        ],
                        "fold_2_learn": [
                          88.11567063
                        ],
                        "fold_1_learn": [
                          93.94789694
                        ],
                        "fold_0_test": [
                          123.9693468
                        ],
                        "fold_1_test": [
                          111.6585011
                        ],
                        "fold_3_test": [
                          128.6175798
                        ],
                        "fold_2_test": [
                          113.2910926
                        ]
                      },
                      {
                        "fold_4_test": [
                          132.5960103
                        ],
                        "fold_0_learn": [
                          88.15438668
                        ],
                        "iteration": 98,
                        "fold_4_learn": [
                          83.48778756
                        ],
                        "fold_3_learn": [
                          87.09791293
                        ],
                        "fold_2_learn": [
                          87.38343521
                        ],
                        "fold_1_learn": [
                          93.60326952
                        ],
                        "fold_0_test": [
                          123.7577801
                        ],
                        "fold_1_test": [
                          111.5534152
                        ],
                        "fold_3_test": [
                          128.4772532
                        ],
                        "fold_2_test": [
                          113.0338082
                        ]
                      },
                      {
                        "fold_4_test": [
                          132.5174563
                        ],
                        "fold_0_learn": [
                          87.80504997
                        ],
                        "iteration": 99,
                        "fold_4_learn": [
                          83.01097575
                        ],
                        "fold_3_learn": [
                          86.64822919
                        ],
                        "fold_2_learn": [
                          86.89205772
                        ],
                        "fold_1_learn": [
                          93.27422019
                        ],
                        "fold_0_test": [
                          123.8534521
                        ],
                        "fold_1_test": [
                          111.4159237
                        ],
                        "fold_3_test": [
                          128.4083744
                        ],
                        "fold_2_test": [
                          112.8986728
                        ]
                      },
                      {
                        "fold_4_test": [
                          131.7138753
                        ],
                        "fold_0_learn": [
                          87.58430806
                        ],
                        "iteration": 100,
                        "fold_4_learn": [
                          82.47182507
                        ],
                        "fold_3_learn": [
                          86.37785718
                        ],
                        "fold_2_learn": [
                          86.44048547
                        ],
                        "fold_1_learn": [
                          92.69547627
                        ],
                        "fold_0_test": [
                          123.6711717
                        ],
                        "fold_1_test": [
                          110.4256598
                        ],
                        "fold_3_test": [
                          128.4215744
                        ],
                        "fold_2_test": [
                          112.760501
                        ]
                      },
                      {
                        "fold_4_test": [
                          131.553547
                        ],
                        "fold_0_learn": [
                          87.12868439
                        ],
                        "iteration": 101,
                        "fold_4_learn": [
                          82.13473245
                        ],
                        "fold_3_learn": [
                          86.21808992
                        ],
                        "fold_2_learn": [
                          85.99219655
                        ],
                        "fold_1_learn": [
                          92.15336598
                        ],
                        "fold_0_test": [
                          123.6030991
                        ],
                        "fold_1_test": [
                          110.2675837
                        ],
                        "fold_3_test": [
                          128.4117
                        ],
                        "fold_2_test": [
                          112.6947787
                        ]
                      },
                      {
                        "fold_4_test": [
                          131.4433737
                        ],
                        "fold_0_learn": [
                          86.78657447
                        ],
                        "iteration": 102,
                        "fold_4_learn": [
                          81.86270048
                        ],
                        "fold_3_learn": [
                          85.74604671
                        ],
                        "fold_2_learn": [
                          85.80660268
                        ],
                        "fold_1_learn": [
                          91.92467219
                        ],
                        "fold_0_test": [
                          123.4937796
                        ],
                        "fold_1_test": [
                          110.1153537
                        ],
                        "fold_3_test": [
                          128.3174897
                        ],
                        "fold_2_test": [
                          112.4463828
                        ]
                      },
                      {
                        "fold_4_test": [
                          131.2755515
                        ],
                        "fold_0_learn": [
                          86.17177327
                        ],
                        "iteration": 103,
                        "fold_4_learn": [
                          81.51903454
                        ],
                        "fold_3_learn": [
                          85.16714437
                        ],
                        "fold_2_learn": [
                          85.12592847
                        ],
                        "fold_1_learn": [
                          91.80730603
                        ],
                        "fold_0_test": [
                          123.1580284
                        ],
                        "fold_1_test": [
                          110.1105936
                        ],
                        "fold_3_test": [
                          127.2880277
                        ],
                        "fold_2_test": [
                          112.8229371
                        ]
                      },
                      {
                        "fold_4_test": [
                          130.8734422
                        ],
                        "fold_0_learn": [
                          85.908188
                        ],
                        "iteration": 104,
                        "fold_4_learn": [
                          80.81498431
                        ],
                        "fold_3_learn": [
                          84.67779618
                        ],
                        "fold_2_learn": [
                          84.76834374
                        ],
                        "fold_1_learn": [
                          91.56830747
                        ],
                        "fold_0_test": [
                          123.0416381
                        ],
                        "fold_1_test": [
                          109.7619354
                        ],
                        "fold_3_test": [
                          127.1112255
                        ],
                        "fold_2_test": [
                          112.6466947
                        ]
                      },
                      {
                        "fold_4_test": [
                          130.9248181
                        ],
                        "fold_0_learn": [
                          85.34687554
                        ],
                        "iteration": 105,
                        "fold_4_learn": [
                          80.52117106
                        ],
                        "fold_3_learn": [
                          84.16073542
                        ],
                        "fold_2_learn": [
                          84.15298876
                        ],
                        "fold_1_learn": [
                          91.13206468
                        ],
                        "fold_0_test": [
                          122.831011
                        ],
                        "fold_1_test": [
                          109.7944222
                        ],
                        "fold_3_test": [
                          126.9270334
                        ],
                        "fold_2_test": [
                          112.6611089
                        ]
                      },
                      {
                        "fold_4_test": [
                          130.7704105
                        ],
                        "fold_0_learn": [
                          85.09024694
                        ],
                        "iteration": 106,
                        "fold_4_learn": [
                          80.10073172
                        ],
                        "fold_3_learn": [
                          84.01432203
                        ],
                        "fold_2_learn": [
                          83.72335761
                        ],
                        "fold_1_learn": [
                          91.11695286
                        ],
                        "fold_0_test": [
                          122.8138166
                        ],
                        "fold_1_test": [
                          109.7619154
                        ],
                        "fold_3_test": [
                          126.8774203
                        ],
                        "fold_2_test": [
                          112.8014724
                        ]
                      },
                      {
                        "fold_4_test": [
                          130.8207337
                        ],
                        "fold_0_learn": [
                          84.85161259
                        ],
                        "iteration": 107,
                        "fold_4_learn": [
                          79.88770467
                        ],
                        "fold_3_learn": [
                          83.87695464
                        ],
                        "fold_2_learn": [
                          83.4795182
                        ],
                        "fold_1_learn": [
                          90.50149709
                        ],
                        "fold_0_test": [
                          122.8478772
                        ],
                        "fold_1_test": [
                          109.7015765
                        ],
                        "fold_3_test": [
                          126.8435142
                        ],
                        "fold_2_test": [
                          112.9427787
                        ]
                      },
                      {
                        "fold_4_test": [
                          130.793478
                        ],
                        "fold_0_learn": [
                          84.23656356
                        ],
                        "iteration": 108,
                        "fold_4_learn": [
                          79.73538281
                        ],
                        "fold_3_learn": [
                          83.49353354
                        ],
                        "fold_2_learn": [
                          83.05873979
                        ],
                        "fold_1_learn": [
                          90.0560597
                        ],
                        "fold_0_test": [
                          123.4073953
                        ],
                        "fold_1_test": [
                          109.6422456
                        ],
                        "fold_3_test": [
                          126.9857272
                        ],
                        "fold_2_test": [
                          113.3896735
                        ]
                      },
                      {
                        "fold_4_test": [
                          130.8234272
                        ],
                        "fold_0_learn": [
                          84.05589746
                        ],
                        "iteration": 109,
                        "fold_4_learn": [
                          79.60360271
                        ],
                        "fold_3_learn": [
                          83.0406071
                        ],
                        "fold_2_learn": [
                          82.33099433
                        ],
                        "fold_1_learn": [
                          89.65068299
                        ],
                        "fold_0_test": [
                          123.5330519
                        ],
                        "fold_1_test": [
                          110.2108693
                        ],
                        "fold_3_test": [
                          126.8534571
                        ],
                        "fold_2_test": [
                          113.2809869
                        ]
                      },
                      {
                        "fold_4_test": [
                          130.6832444
                        ],
                        "fold_0_learn": [
                          83.8632376
                        ],
                        "iteration": 110,
                        "fold_4_learn": [
                          79.09387942
                        ],
                        "fold_3_learn": [
                          82.86643154
                        ],
                        "fold_2_learn": [
                          81.5866152
                        ],
                        "fold_1_learn": [
                          89.16390231
                        ],
                        "fold_0_test": [
                          123.533699
                        ],
                        "fold_1_test": [
                          109.5319179
                        ],
                        "fold_3_test": [
                          126.7844892
                        ],
                        "fold_2_test": [
                          113.6784171
                        ]
                      },
                      {
                        "fold_4_test": [
                          130.379728
                        ],
                        "fold_0_learn": [
                          83.58189787
                        ],
                        "iteration": 111,
                        "fold_4_learn": [
                          78.82400648
                        ],
                        "fold_3_learn": [
                          82.52188701
                        ],
                        "fold_2_learn": [
                          81.38067814
                        ],
                        "fold_1_learn": [
                          88.81052308
                        ],
                        "fold_0_test": [
                          123.4456024
                        ],
                        "fold_1_test": [
                          109.3986928
                        ],
                        "fold_3_test": [
                          126.6689175
                        ],
                        "fold_2_test": [
                          113.7403602
                        ]
                      },
                      {
                        "fold_4_test": [
                          130.4458966
                        ],
                        "fold_0_learn": [
                          83.48465758
                        ],
                        "iteration": 112,
                        "fold_4_learn": [
                          78.49378548
                        ],
                        "fold_3_learn": [
                          82.31823273
                        ],
                        "fold_2_learn": [
                          80.81729086
                        ],
                        "fold_1_learn": [
                          88.62641406
                        ],
                        "fold_0_test": [
                          123.2975742
                        ],
                        "fold_1_test": [
                          109.5080594
                        ],
                        "fold_3_test": [
                          126.7047175
                        ],
                        "fold_2_test": [
                          113.6439417
                        ]
                      },
                      {
                        "fold_4_test": [
                          130.4984584
                        ],
                        "fold_0_learn": [
                          82.86695418
                        ],
                        "iteration": 113,
                        "fold_4_learn": [
                          78.10694819
                        ],
                        "fold_3_learn": [
                          82.0183189
                        ],
                        "fold_2_learn": [
                          80.4622496
                        ],
                        "fold_1_learn": [
                          88.1637548
                        ],
                        "fold_0_test": [
                          123.2783523
                        ],
                        "fold_1_test": [
                          109.0784581
                        ],
                        "fold_3_test": [
                          126.6642266
                        ],
                        "fold_2_test": [
                          113.5699989
                        ]
                      },
                      {
                        "fold_4_test": [
                          130.2967286
                        ],
                        "fold_0_learn": [
                          82.51500532
                        ],
                        "iteration": 114,
                        "fold_4_learn": [
                          77.48627333
                        ],
                        "fold_3_learn": [
                          81.85764563
                        ],
                        "fold_2_learn": [
                          80.16462237
                        ],
                        "fold_1_learn": [
                          88.01526713
                        ],
                        "fold_0_test": [
                          123.3252848
                        ],
                        "fold_1_test": [
                          108.8526745
                        ],
                        "fold_3_test": [
                          126.4984304
                        ],
                        "fold_2_test": [
                          113.4222774
                        ]
                      },
                      {
                        "fold_4_test": [
                          130.1895067
                        ],
                        "fold_0_learn": [
                          81.97830485
                        ],
                        "iteration": 115,
                        "fold_4_learn": [
                          77.02823078
                        ],
                        "fold_3_learn": [
                          81.54877573
                        ],
                        "fold_2_learn": [
                          79.90436526
                        ],
                        "fold_1_learn": [
                          87.53468003
                        ],
                        "fold_0_test": [
                          122.9896054
                        ],
                        "fold_1_test": [
                          108.5891889
                        ],
                        "fold_3_test": [
                          126.6882707
                        ],
                        "fold_2_test": [
                          113.4433112
                        ]
                      },
                      {
                        "fold_4_test": [
                          130.1236032
                        ],
                        "fold_0_learn": [
                          81.53361753
                        ],
                        "iteration": 116,
                        "fold_4_learn": [
                          76.70782099
                        ],
                        "fold_3_learn": [
                          81.1343326
                        ],
                        "fold_2_learn": [
                          79.16316036
                        ],
                        "fold_1_learn": [
                          87.36303831
                        ],
                        "fold_0_test": [
                          123.4193344
                        ],
                        "fold_1_test": [
                          108.3924361
                        ],
                        "fold_3_test": [
                          126.3519507
                        ],
                        "fold_2_test": [
                          113.4784286
                        ]
                      },
                      {
                        "fold_4_test": [
                          129.9766925
                        ],
                        "fold_0_learn": [
                          81.03892656
                        ],
                        "iteration": 117,
                        "fold_4_learn": [
                          76.37893697
                        ],
                        "fold_3_learn": [
                          80.79366302
                        ],
                        "fold_2_learn": [
                          79.04061487
                        ],
                        "fold_1_learn": [
                          87.30774742
                        ],
                        "fold_0_test": [
                          123.177035
                        ],
                        "fold_1_test": [
                          108.3898176
                        ],
                        "fold_3_test": [
                          126.4811813
                        ],
                        "fold_2_test": [
                          113.4907598
                        ]
                      },
                      {
                        "fold_4_test": [
                          130.1162168
                        ],
                        "fold_0_learn": [
                          80.8144506
                        ],
                        "iteration": 118,
                        "fold_4_learn": [
                          76.04076836
                        ],
                        "fold_3_learn": [
                          80.45819944
                        ],
                        "fold_2_learn": [
                          78.8375543
                        ],
                        "fold_1_learn": [
                          86.92860034
                        ],
                        "fold_0_test": [
                          122.952717
                        ],
                        "fold_1_test": [
                          108.4319499
                        ],
                        "fold_3_test": [
                          126.3217654
                        ],
                        "fold_2_test": [
                          113.3470784
                        ]
                      },
                      {
                        "fold_4_test": [
                          130.0746342
                        ],
                        "fold_0_learn": [
                          80.55713693
                        ],
                        "iteration": 119,
                        "fold_4_learn": [
                          75.76698577
                        ],
                        "fold_3_learn": [
                          80.26186983
                        ],
                        "fold_2_learn": [
                          78.72308638
                        ],
                        "fold_1_learn": [
                          86.62951271
                        ],
                        "fold_0_test": [
                          122.9993186
                        ],
                        "fold_1_test": [
                          108.1035259
                        ],
                        "fold_3_test": [
                          126.1635173
                        ],
                        "fold_2_test": [
                          113.287305
                        ]
                      },
                      {
                        "fold_4_test": [
                          130.0769743
                        ],
                        "fold_0_learn": [
                          80.05299614
                        ],
                        "iteration": 120,
                        "fold_4_learn": [
                          75.58955756
                        ],
                        "fold_3_learn": [
                          80.07467121
                        ],
                        "fold_2_learn": [
                          78.21200685
                        ],
                        "fold_1_learn": [
                          86.39369307
                        ],
                        "fold_0_test": [
                          122.1824601
                        ],
                        "fold_1_test": [
                          108.2314297
                        ],
                        "fold_3_test": [
                          125.9120399
                        ],
                        "fold_2_test": [
                          112.7988419
                        ]
                      },
                      {
                        "fold_4_test": [
                          129.9950054
                        ],
                        "fold_0_learn": [
                          80.04421505
                        ],
                        "iteration": 121,
                        "fold_4_learn": [
                          75.33876582
                        ],
                        "fold_3_learn": [
                          79.76131709
                        ],
                        "fold_2_learn": [
                          78.03731429
                        ],
                        "fold_1_learn": [
                          85.8910188
                        ],
                        "fold_0_test": [
                          122.175882
                        ],
                        "fold_1_test": [
                          107.9130895
                        ],
                        "fold_3_test": [
                          125.7167689
                        ],
                        "fold_2_test": [
                          112.8392911
                        ]
                      },
                      {
                        "fold_4_test": [
                          129.9165148
                        ],
                        "fold_0_learn": [
                          79.7016614
                        ],
                        "iteration": 122,
                        "fold_4_learn": [
                          75.17309536
                        ],
                        "fold_3_learn": [
                          79.06365006
                        ],
                        "fold_2_learn": [
                          77.66360214
                        ],
                        "fold_1_learn": [
                          85.16650901
                        ],
                        "fold_0_test": [
                          121.9143189
                        ],
                        "fold_1_test": [
                          107.2352134
                        ],
                        "fold_3_test": [
                          125.6806693
                        ],
                        "fold_2_test": [
                          112.9350943
                        ]
                      },
                      {
                        "fold_4_test": [
                          129.7642937
                        ],
                        "fold_0_learn": [
                          78.95987552
                        ],
                        "iteration": 123,
                        "fold_4_learn": [
                          75.03378904
                        ],
                        "fold_3_learn": [
                          78.77239603
                        ],
                        "fold_2_learn": [
                          77.35828849
                        ],
                        "fold_1_learn": [
                          84.90340206
                        ],
                        "fold_0_test": [
                          121.930963
                        ],
                        "fold_1_test": [
                          106.7870073
                        ],
                        "fold_3_test": [
                          125.8381454
                        ],
                        "fold_2_test": [
                          112.6153737
                        ]
                      },
                      {
                        "fold_4_test": [
                          129.8511279
                        ],
                        "fold_0_learn": [
                          78.70966431
                        ],
                        "iteration": 124,
                        "fold_4_learn": [
                          74.77261897
                        ],
                        "fold_3_learn": [
                          78.45166155
                        ],
                        "fold_2_learn": [
                          77.18760065
                        ],
                        "fold_1_learn": [
                          84.60827234
                        ],
                        "fold_0_test": [
                          121.8870367
                        ],
                        "fold_1_test": [
                          106.602191
                        ],
                        "fold_3_test": [
                          125.8814086
                        ],
                        "fold_2_test": [
                          112.5671617
                        ]
                      },
                      {
                        "fold_4_test": [
                          129.2930722
                        ],
                        "fold_0_learn": [
                          78.31823
                        ],
                        "iteration": 125,
                        "fold_4_learn": [
                          74.32914778
                        ],
                        "fold_3_learn": [
                          78.16782347
                        ],
                        "fold_2_learn": [
                          77.0640677
                        ],
                        "fold_1_learn": [
                          84.23834467
                        ],
                        "fold_0_test": [
                          121.2654438
                        ],
                        "fold_1_test": [
                          106.7161879
                        ],
                        "fold_3_test": [
                          126.143787
                        ],
                        "fold_2_test": [
                          112.61
                        ]
                      },
                      {
                        "fold_4_test": [
                          129.1665855
                        ],
                        "fold_0_learn": [
                          77.93729908
                        ],
                        "iteration": 126,
                        "fold_4_learn": [
                          74.1826093
                        ],
                        "fold_3_learn": [
                          78.01056156
                        ],
                        "fold_2_learn": [
                          76.71300219
                        ],
                        "fold_1_learn": [
                          84.00796083
                        ],
                        "fold_0_test": [
                          121.4656285
                        ],
                        "fold_1_test": [
                          106.8887983
                        ],
                        "fold_3_test": [
                          126.1361408
                        ],
                        "fold_2_test": [
                          112.4641504
                        ]
                      },
                      {
                        "fold_4_test": [
                          129.2926939
                        ],
                        "fold_0_learn": [
                          77.77916629
                        ],
                        "iteration": 127,
                        "fold_4_learn": [
                          73.83339619
                        ],
                        "fold_3_learn": [
                          77.77010434
                        ],
                        "fold_2_learn": [
                          76.65557247
                        ],
                        "fold_1_learn": [
                          83.32304566
                        ],
                        "fold_0_test": [
                          121.453437
                        ],
                        "fold_1_test": [
                          107.0064025
                        ],
                        "fold_3_test": [
                          126.0427169
                        ],
                        "fold_2_test": [
                          112.466277
                        ]
                      },
                      {
                        "fold_4_test": [
                          129.4922954
                        ],
                        "fold_0_learn": [
                          77.6984537
                        ],
                        "iteration": 128,
                        "fold_4_learn": [
                          73.42298947
                        ],
                        "fold_3_learn": [
                          77.48209415
                        ],
                        "fold_2_learn": [
                          76.34593249
                        ],
                        "fold_1_learn": [
                          82.85329101
                        ],
                        "fold_0_test": [
                          121.4615364
                        ],
                        "fold_1_test": [
                          106.6593569
                        ],
                        "fold_3_test": [
                          125.1567268
                        ],
                        "fold_2_test": [
                          112.4084082
                        ]
                      },
                      {
                        "fold_4_test": [
                          129.4928129
                        ],
                        "fold_0_learn": [
                          77.14771334
                        ],
                        "iteration": 129,
                        "fold_4_learn": [
                          73.26631306
                        ],
                        "fold_3_learn": [
                          77.38202182
                        ],
                        "fold_2_learn": [
                          76.1157859
                        ],
                        "fold_1_learn": [
                          82.76839334
                        ],
                        "fold_0_test": [
                          121.0597953
                        ],
                        "fold_1_test": [
                          106.6865585
                        ],
                        "fold_3_test": [
                          125.0311905
                        ],
                        "fold_2_test": [
                          112.5723782
                        ]
                      },
                      {
                        "fold_4_test": [
                          129.4567697
                        ],
                        "fold_0_learn": [
                          76.72693739
                        ],
                        "iteration": 130,
                        "fold_4_learn": [
                          73.08603188
                        ],
                        "fold_3_learn": [
                          77.01798437
                        ],
                        "fold_2_learn": [
                          75.82061683
                        ],
                        "fold_1_learn": [
                          82.57939519
                        ],
                        "fold_0_test": [
                          120.8134645
                        ],
                        "fold_1_test": [
                          106.4892944
                        ],
                        "fold_3_test": [
                          124.8489655
                        ],
                        "fold_2_test": [
                          112.8177506
                        ]
                      },
                      {
                        "fold_4_test": [
                          129.2863685
                        ],
                        "fold_0_learn": [
                          76.58060154
                        ],
                        "iteration": 131,
                        "fold_4_learn": [
                          72.70295673
                        ],
                        "fold_3_learn": [
                          76.62096788
                        ],
                        "fold_2_learn": [
                          75.65938212
                        ],
                        "fold_1_learn": [
                          82.29553903
                        ],
                        "fold_0_test": [
                          120.8358625
                        ],
                        "fold_1_test": [
                          107.1082963
                        ],
                        "fold_3_test": [
                          124.0198189
                        ],
                        "fold_2_test": [
                          112.8007872
                        ]
                      },
                      {
                        "fold_4_test": [
                          129.2562373
                        ],
                        "fold_0_learn": [
                          76.1649417
                        ],
                        "iteration": 132,
                        "fold_4_learn": [
                          72.53479651
                        ],
                        "fold_3_learn": [
                          76.49326945
                        ],
                        "fold_2_learn": [
                          75.57783279
                        ],
                        "fold_1_learn": [
                          82.1642873
                        ],
                        "fold_0_test": [
                          120.9796502
                        ],
                        "fold_1_test": [
                          107.0255073
                        ],
                        "fold_3_test": [
                          123.8799261
                        ],
                        "fold_2_test": [
                          112.8699149
                        ]
                      },
                      {
                        "fold_4_test": [
                          129.3196773
                        ],
                        "fold_0_learn": [
                          75.96419656
                        ],
                        "iteration": 133,
                        "fold_4_learn": [
                          72.13246215
                        ],
                        "fold_3_learn": [
                          76.25093958
                        ],
                        "fold_2_learn": [
                          75.32257372
                        ],
                        "fold_1_learn": [
                          81.45960455
                        ],
                        "fold_0_test": [
                          120.8573983
                        ],
                        "fold_1_test": [
                          107.7105411
                        ],
                        "fold_3_test": [
                          124.7132732
                        ],
                        "fold_2_test": [
                          113.051673
                        ]
                      },
                      {
                        "fold_4_test": [
                          129.1851192
                        ],
                        "fold_0_learn": [
                          75.74667907
                        ],
                        "iteration": 134,
                        "fold_4_learn": [
                          71.51652598
                        ],
                        "fold_3_learn": [
                          75.72888797
                        ],
                        "fold_2_learn": [
                          75.20540954
                        ],
                        "fold_1_learn": [
                          81.14892552
                        ],
                        "fold_0_test": [
                          121.1797821
                        ],
                        "fold_1_test": [
                          107.8756415
                        ],
                        "fold_3_test": [
                          124.4996297
                        ],
                        "fold_2_test": [
                          112.9684228
                        ]
                      },
                      {
                        "fold_4_test": [
                          129.0593204
                        ],
                        "fold_0_learn": [
                          75.25691742
                        ],
                        "iteration": 135,
                        "fold_4_learn": [
                          71.22728588
                        ],
                        "fold_3_learn": [
                          75.57398745
                        ],
                        "fold_2_learn": [
                          74.69706482
                        ],
                        "fold_1_learn": [
                          80.65181148
                        ],
                        "fold_0_test": [
                          120.7031057
                        ],
                        "fold_1_test": [
                          107.724682
                        ],
                        "fold_3_test": [
                          124.7994758
                        ],
                        "fold_2_test": [
                          113.6139526
                        ]
                      },
                      {
                        "fold_4_test": [
                          129.1292522
                        ],
                        "fold_0_learn": [
                          75.14957286
                        ],
                        "iteration": 136,
                        "fold_4_learn": [
                          71.00511328
                        ],
                        "fold_3_learn": [
                          75.21584573
                        ],
                        "fold_2_learn": [
                          74.32433757
                        ],
                        "fold_1_learn": [
                          80.61157222
                        ],
                        "fold_0_test": [
                          120.6728547
                        ],
                        "fold_1_test": [
                          107.7289033
                        ],
                        "fold_3_test": [
                          124.6024309
                        ],
                        "fold_2_test": [
                          113.5473541
                        ]
                      },
                      {
                        "fold_4_test": [
                          129.2403087
                        ],
                        "fold_0_learn": [
                          74.7252308
                        ],
                        "iteration": 137,
                        "fold_4_learn": [
                          70.28323688
                        ],
                        "fold_3_learn": [
                          75.04291181
                        ],
                        "fold_2_learn": [
                          73.89925777
                        ],
                        "fold_1_learn": [
                          80.32567953
                        ],
                        "fold_0_test": [
                          120.3939505
                        ],
                        "fold_1_test": [
                          107.4673661
                        ],
                        "fold_3_test": [
                          124.6135004
                        ],
                        "fold_2_test": [
                          113.46178
                        ]
                      },
                      {
                        "fold_4_test": [
                          129.2876304
                        ],
                        "fold_0_learn": [
                          74.66685405
                        ],
                        "iteration": 138,
                        "fold_4_learn": [
                          69.99225489
                        ],
                        "fold_3_learn": [
                          74.76205588
                        ],
                        "fold_2_learn": [
                          73.68377596
                        ],
                        "fold_1_learn": [
                          80.00803354
                        ],
                        "fold_0_test": [
                          120.3352592
                        ],
                        "fold_1_test": [
                          107.7865237
                        ],
                        "fold_3_test": [
                          124.6288578
                        ],
                        "fold_2_test": [
                          113.4810172
                        ]
                      },
                      {
                        "fold_4_test": [
                          129.3148346
                        ],
                        "fold_0_learn": [
                          74.50222102
                        ],
                        "iteration": 139,
                        "fold_4_learn": [
                          69.75953026
                        ],
                        "fold_3_learn": [
                          74.50699135
                        ],
                        "fold_2_learn": [
                          73.59614268
                        ],
                        "fold_1_learn": [
                          79.57347579
                        ],
                        "fold_0_test": [
                          120.2167984
                        ],
                        "fold_1_test": [
                          107.2948053
                        ],
                        "fold_3_test": [
                          124.8029422
                        ],
                        "fold_2_test": [
                          113.7063811
                        ]
                      },
                      {
                        "fold_4_test": [
                          129.4284317
                        ],
                        "fold_0_learn": [
                          74.0234595
                        ],
                        "iteration": 140,
                        "fold_4_learn": [
                          69.40061993
                        ],
                        "fold_3_learn": [
                          73.96733386
                        ],
                        "fold_2_learn": [
                          73.47217667
                        ],
                        "fold_1_learn": [
                          79.50092888
                        ],
                        "fold_0_test": [
                          120.0236205
                        ],
                        "fold_1_test": [
                          107.3279074
                        ],
                        "fold_3_test": [
                          124.7910323
                        ],
                        "fold_2_test": [
                          113.7318123
                        ]
                      },
                      {
                        "fold_4_test": [
                          129.4617766
                        ],
                        "fold_0_learn": [
                          73.72901925
                        ],
                        "iteration": 141,
                        "fold_4_learn": [
                          69.18590547
                        ],
                        "fold_3_learn": [
                          73.73967369
                        ],
                        "fold_2_learn": [
                          73.20246363
                        ],
                        "fold_1_learn": [
                          79.28584959
                        ],
                        "fold_0_test": [
                          119.8380026
                        ],
                        "fold_1_test": [
                          107.2971786
                        ],
                        "fold_3_test": [
                          124.4853971
                        ],
                        "fold_2_test": [
                          113.7470074
                        ]
                      },
                      {
                        "fold_4_test": [
                          129.1683446
                        ],
                        "fold_0_learn": [
                          73.50001406
                        ],
                        "iteration": 142,
                        "fold_4_learn": [
                          68.99476792
                        ],
                        "fold_3_learn": [
                          73.54727027
                        ],
                        "fold_2_learn": [
                          72.8947858
                        ],
                        "fold_1_learn": [
                          79.03053797
                        ],
                        "fold_0_test": [
                          119.7270037
                        ],
                        "fold_1_test": [
                          107.2523297
                        ],
                        "fold_3_test": [
                          124.4844904
                        ],
                        "fold_2_test": [
                          113.6559562
                        ]
                      },
                      {
                        "fold_4_test": [
                          129.1701198
                        ],
                        "fold_0_learn": [
                          73.22035269
                        ],
                        "iteration": 143,
                        "fold_4_learn": [
                          68.97420207
                        ],
                        "fold_3_learn": [
                          72.97214863
                        ],
                        "fold_2_learn": [
                          72.72515653
                        ],
                        "fold_1_learn": [
                          78.82131947
                        ],
                        "fold_0_test": [
                          119.516901
                        ],
                        "fold_1_test": [
                          107.5587534
                        ],
                        "fold_3_test": [
                          124.5339261
                        ],
                        "fold_2_test": [
                          113.682791
                        ]
                      },
                      {
                        "fold_4_test": [
                          129.4386161
                        ],
                        "fold_0_learn": [
                          73.11828102
                        ],
                        "iteration": 144,
                        "fold_4_learn": [
                          68.68403141
                        ],
                        "fold_3_learn": [
                          72.71610996
                        ],
                        "fold_2_learn": [
                          72.46552144
                        ],
                        "fold_1_learn": [
                          78.49808873
                        ],
                        "fold_0_test": [
                          119.4634272
                        ],
                        "fold_1_test": [
                          107.3546489
                        ],
                        "fold_3_test": [
                          124.7769695
                        ],
                        "fold_2_test": [
                          113.6412892
                        ]
                      },
                      {
                        "fold_4_test": [
                          129.606839
                        ],
                        "fold_0_learn": [
                          72.86673138
                        ],
                        "iteration": 145,
                        "fold_4_learn": [
                          68.40189306
                        ],
                        "fold_3_learn": [
                          72.52710713
                        ],
                        "fold_2_learn": [
                          72.21840047
                        ],
                        "fold_1_learn": [
                          78.40055293
                        ],
                        "fold_0_test": [
                          119.3998206
                        ],
                        "fold_1_test": [
                          107.2966377
                        ],
                        "fold_3_test": [
                          124.5205842
                        ],
                        "fold_2_test": [
                          113.4988221
                        ]
                      },
                      {
                        "fold_4_test": [
                          129.4167072
                        ],
                        "fold_0_learn": [
                          72.70197429
                        ],
                        "iteration": 146,
                        "fold_4_learn": [
                          68.05775261
                        ],
                        "fold_3_learn": [
                          72.36936273
                        ],
                        "fold_2_learn": [
                          72.00058855
                        ],
                        "fold_1_learn": [
                          78.32071676
                        ],
                        "fold_0_test": [
                          119.2101646
                        ],
                        "fold_1_test": [
                          107.3108585
                        ],
                        "fold_3_test": [
                          124.3519479
                        ],
                        "fold_2_test": [
                          113.6447125
                        ]
                      },
                      {
                        "fold_4_test": [
                          129.4202776
                        ],
                        "fold_0_learn": [
                          72.44531617
                        ],
                        "iteration": 147,
                        "fold_4_learn": [
                          68.01780514
                        ],
                        "fold_3_learn": [
                          72.23407672
                        ],
                        "fold_2_learn": [
                          71.74894624
                        ],
                        "fold_1_learn": [
                          78.24509085
                        ],
                        "fold_0_test": [
                          119.0963644
                        ],
                        "fold_1_test": [
                          107.3029193
                        ],
                        "fold_3_test": [
                          124.5982251
                        ],
                        "fold_2_test": [
                          113.7086451
                        ]
                      },
                      {
                        "fold_4_test": [
                          129.5165513
                        ],
                        "fold_0_learn": [
                          72.22375961
                        ],
                        "iteration": 148,
                        "fold_4_learn": [
                          67.71870883
                        ],
                        "fold_3_learn": [
                          72.00260699
                        ],
                        "fold_2_learn": [
                          71.59748801
                        ],
                        "fold_1_learn": [
                          77.98419416
                        ],
                        "fold_0_test": [
                          118.9126832
                        ],
                        "fold_1_test": [
                          107.5257678
                        ],
                        "fold_3_test": [
                          124.4570525
                        ],
                        "fold_2_test": [
                          113.5972846
                        ]
                      },
                      {
                        "fold_4_test": [
                          129.0629469
                        ],
                        "fold_0_learn": [
                          71.82304686
                        ],
                        "iteration": 149,
                        "fold_4_learn": [
                          67.41991006
                        ],
                        "fold_3_learn": [
                          71.92332207
                        ],
                        "fold_2_learn": [
                          71.42177885
                        ],
                        "fold_1_learn": [
                          77.90977155
                        ],
                        "fold_0_test": [
                          118.6327846
                        ],
                        "fold_1_test": [
                          107.5123827
                        ],
                        "fold_3_test": [
                          124.4563479
                        ],
                        "fold_2_test": [
                          113.3802279
                        ]
                      },
                      {
                        "fold_4_test": [
                          128.8330732
                        ],
                        "fold_0_learn": [
                          71.40959867
                        ],
                        "iteration": 150,
                        "fold_4_learn": [
                          67.14734022
                        ],
                        "fold_3_learn": [
                          71.52428519
                        ],
                        "fold_2_learn": [
                          71.04769355
                        ],
                        "fold_1_learn": [
                          77.47373297
                        ],
                        "fold_0_test": [
                          118.4797438
                        ],
                        "fold_1_test": [
                          107.1336728
                        ],
                        "fold_3_test": [
                          124.4204489
                        ],
                        "fold_2_test": [
                          113.5387794
                        ]
                      },
                      {
                        "fold_4_test": [
                          128.7085738
                        ],
                        "fold_0_learn": [
                          71.27011226
                        ],
                        "iteration": 151,
                        "fold_4_learn": [
                          66.63027057
                        ],
                        "fold_3_learn": [
                          71.20167734
                        ],
                        "fold_2_learn": [
                          70.81759166
                        ],
                        "fold_1_learn": [
                          77.20316547
                        ],
                        "fold_0_test": [
                          118.4798279
                        ],
                        "fold_1_test": [
                          107.0130613
                        ],
                        "fold_3_test": [
                          124.3682868
                        ],
                        "fold_2_test": [
                          113.4097088
                        ]
                      },
                      {
                        "fold_4_test": [
                          128.9804453
                        ],
                        "fold_0_learn": [
                          71.12934354
                        ],
                        "iteration": 152,
                        "fold_4_learn": [
                          66.41603801
                        ],
                        "fold_3_learn": [
                          70.88758327
                        ],
                        "fold_2_learn": [
                          70.74623603
                        ],
                        "fold_1_learn": [
                          76.68920755
                        ],
                        "fold_0_test": [
                          118.4272101
                        ],
                        "fold_1_test": [
                          107.3856063
                        ],
                        "fold_3_test": [
                          124.1565759
                        ],
                        "fold_2_test": [
                          113.459989
                        ]
                      },
                      {
                        "fold_4_test": [
                          129.0770592
                        ],
                        "fold_0_learn": [
                          70.72259104
                        ],
                        "iteration": 153,
                        "fold_4_learn": [
                          66.09428677
                        ],
                        "fold_3_learn": [
                          70.60109592
                        ],
                        "fold_2_learn": [
                          70.2378662
                        ],
                        "fold_1_learn": [
                          76.39202999
                        ],
                        "fold_0_test": [
                          118.5014849
                        ],
                        "fold_1_test": [
                          107.0090731
                        ],
                        "fold_3_test": [
                          123.8791137
                        ],
                        "fold_2_test": [
                          113.5061239
                        ]
                      },
                      {
                        "fold_4_test": [
                          129.1382146
                        ],
                        "fold_0_learn": [
                          70.5230181
                        ],
                        "iteration": 154,
                        "fold_4_learn": [
                          65.95674408
                        ],
                        "fold_3_learn": [
                          70.40649994
                        ],
                        "fold_2_learn": [
                          70.19378274
                        ],
                        "fold_1_learn": [
                          76.34084648
                        ],
                        "fold_0_test": [
                          118.4787993
                        ],
                        "fold_1_test": [
                          106.896707
                        ],
                        "fold_3_test": [
                          124.0055669
                        ],
                        "fold_2_test": [
                          113.6080321
                        ]
                      },
                      {
                        "fold_4_test": [
                          129.2227874
                        ],
                        "fold_0_learn": [
                          70.43595414
                        ],
                        "iteration": 155,
                        "fold_4_learn": [
                          65.77450255
                        ],
                        "fold_3_learn": [
                          70.06091846
                        ],
                        "fold_2_learn": [
                          70.06657161
                        ],
                        "fold_1_learn": [
                          76.06174849
                        ],
                        "fold_0_test": [
                          118.4690705
                        ],
                        "fold_1_test": [
                          106.7215501
                        ],
                        "fold_3_test": [
                          124.0356427
                        ],
                        "fold_2_test": [
                          113.6724037
                        ]
                      },
                      {
                        "fold_4_test": [
                          129.2228917
                        ],
                        "fold_0_learn": [
                          70.23276648
                        ],
                        "iteration": 156,
                        "fold_4_learn": [
                          65.42053512
                        ],
                        "fold_3_learn": [
                          69.93331812
                        ],
                        "fold_2_learn": [
                          69.88662797
                        ],
                        "fold_1_learn": [
                          75.96289828
                        ],
                        "fold_0_test": [
                          118.415179
                        ],
                        "fold_1_test": [
                          106.7963134
                        ],
                        "fold_3_test": [
                          124.0118121
                        ],
                        "fold_2_test": [
                          113.5349384
                        ]
                      },
                      {
                        "fold_4_test": [
                          129.056071
                        ],
                        "fold_0_learn": [
                          70.05032459
                        ],
                        "iteration": 157,
                        "fold_4_learn": [
                          65.14082366
                        ],
                        "fold_3_learn": [
                          69.77322829
                        ],
                        "fold_2_learn": [
                          69.56169955
                        ],
                        "fold_1_learn": [
                          75.5495991
                        ],
                        "fold_0_test": [
                          118.1960897
                        ],
                        "fold_1_test": [
                          106.7555457
                        ],
                        "fold_3_test": [
                          124.068515
                        ],
                        "fold_2_test": [
                          113.3761396
                        ]
                      },
                      {
                        "fold_4_test": [
                          129.0290457
                        ],
                        "fold_0_learn": [
                          69.75385629
                        ],
                        "iteration": 158,
                        "fold_4_learn": [
                          64.82770967
                        ],
                        "fold_3_learn": [
                          69.45132134
                        ],
                        "fold_2_learn": [
                          69.48611593
                        ],
                        "fold_1_learn": [
                          75.34177524
                        ],
                        "fold_0_test": [
                          118.0692254
                        ],
                        "fold_1_test": [
                          106.7659617
                        ],
                        "fold_3_test": [
                          123.7608837
                        ],
                        "fold_2_test": [
                          113.3618297
                        ]
                      },
                      {
                        "fold_4_test": [
                          128.9944816
                        ],
                        "fold_0_learn": [
                          69.41893096
                        ],
                        "iteration": 159,
                        "fold_4_learn": [
                          64.78525983
                        ],
                        "fold_3_learn": [
                          69.12932892
                        ],
                        "fold_2_learn": [
                          69.34568338
                        ],
                        "fold_1_learn": [
                          75.16905575
                        ],
                        "fold_0_test": [
                          118.0469071
                        ],
                        "fold_1_test": [
                          107.6488081
                        ],
                        "fold_3_test": [
                          123.7595458
                        ],
                        "fold_2_test": [
                          113.462048
                        ]
                      },
                      {
                        "fold_4_test": [
                          128.7584778
                        ],
                        "fold_0_learn": [
                          69.10881853
                        ],
                        "iteration": 160,
                        "fold_4_learn": [
                          64.32861862
                        ],
                        "fold_3_learn": [
                          68.84876919
                        ],
                        "fold_2_learn": [
                          69.22134015
                        ],
                        "fold_1_learn": [
                          75.04366667
                        ],
                        "fold_0_test": [
                          117.8885612
                        ],
                        "fold_1_test": [
                          107.5157208
                        ],
                        "fold_3_test": [
                          123.874254
                        ],
                        "fold_2_test": [
                          113.4464887
                        ]
                      },
                      {
                        "fold_4_test": [
                          128.7711111
                        ],
                        "fold_0_learn": [
                          68.95900574
                        ],
                        "iteration": 161,
                        "fold_4_learn": [
                          64.17874684
                        ],
                        "fold_3_learn": [
                          68.64484332
                        ],
                        "fold_2_learn": [
                          68.92724126
                        ],
                        "fold_1_learn": [
                          74.76766138
                        ],
                        "fold_0_test": [
                          117.7586709
                        ],
                        "fold_1_test": [
                          107.646626
                        ],
                        "fold_3_test": [
                          123.9229626
                        ],
                        "fold_2_test": [
                          113.5984387
                        ]
                      },
                      {
                        "fold_4_test": [
                          129.1414471
                        ],
                        "fold_0_learn": [
                          68.76258789
                        ],
                        "iteration": 162,
                        "fold_4_learn": [
                          63.70471625
                        ],
                        "fold_3_learn": [
                          68.36059691
                        ],
                        "fold_2_learn": [
                          68.75886724
                        ],
                        "fold_1_learn": [
                          74.29883888
                        ],
                        "fold_0_test": [
                          117.619087
                        ],
                        "fold_1_test": [
                          107.2479835
                        ],
                        "fold_3_test": [
                          123.5911873
                        ],
                        "fold_2_test": [
                          113.5900073
                        ]
                      },
                      {
                        "fold_4_test": [
                          129.3802682
                        ],
                        "fold_0_learn": [
                          68.39114136
                        ],
                        "iteration": 163,
                        "fold_4_learn": [
                          63.38612088
                        ],
                        "fold_3_learn": [
                          68.11524003
                        ],
                        "fold_2_learn": [
                          68.39547156
                        ],
                        "fold_1_learn": [
                          74.1562225
                        ],
                        "fold_0_test": [
                          117.3155288
                        ],
                        "fold_1_test": [
                          107.1294806
                        ],
                        "fold_3_test": [
                          123.6001568
                        ],
                        "fold_2_test": [
                          113.1105496
                        ]
                      },
                      {
                        "fold_4_test": [
                          129.4550543
                        ],
                        "fold_0_learn": [
                          68.22118951
                        ],
                        "iteration": 164,
                        "fold_4_learn": [
                          63.21716939
                        ],
                        "fold_3_learn": [
                          67.85163247
                        ],
                        "fold_2_learn": [
                          68.09067113
                        ],
                        "fold_1_learn": [
                          73.87400191
                        ],
                        "fold_0_test": [
                          117.4798563
                        ],
                        "fold_1_test": [
                          107.1439101
                        ],
                        "fold_3_test": [
                          123.7256901
                        ],
                        "fold_2_test": [
                          113.2243111
                        ]
                      },
                      {
                        "fold_4_test": [
                          129.4697035
                        ],
                        "fold_0_learn": [
                          67.7825346
                        ],
                        "iteration": 165,
                        "fold_4_learn": [
                          62.87976383
                        ],
                        "fold_3_learn": [
                          67.57003909
                        ],
                        "fold_2_learn": [
                          67.94052925
                        ],
                        "fold_1_learn": [
                          73.63830616
                        ],
                        "fold_0_test": [
                          117.4476753
                        ],
                        "fold_1_test": [
                          107.0308696
                        ],
                        "fold_3_test": [
                          123.785244
                        ],
                        "fold_2_test": [
                          113.2164003
                        ]
                      },
                      {
                        "fold_4_test": [
                          129.6210962
                        ],
                        "fold_0_learn": [
                          67.63341024
                        ],
                        "iteration": 166,
                        "fold_4_learn": [
                          62.6640217
                        ],
                        "fold_3_learn": [
                          67.39872943
                        ],
                        "fold_2_learn": [
                          67.8145801
                        ],
                        "fold_1_learn": [
                          73.29670314
                        ],
                        "fold_0_test": [
                          117.3858195
                        ],
                        "fold_1_test": [
                          106.5846608
                        ],
                        "fold_3_test": [
                          123.8529085
                        ],
                        "fold_2_test": [
                          113.156877
                        ]
                      },
                      {
                        "fold_4_test": [
                          129.5877344
                        ],
                        "fold_0_learn": [
                          67.22378914
                        ],
                        "passed_time": 1.78159766,
                        "iteration": 167,
                        "remaining_time": 3.520776328,
                        "fold_4_learn": [
                          62.48404432
                        ],
                        "fold_3_learn": [
                          66.97889687
                        ],
                        "fold_2_learn": [
                          67.45207213
                        ],
                        "fold_1_learn": [
                          73.07115893
                        ],
                        "fold_0_test": [
                          117.00764
                        ],
                        "fold_1_test": [
                          106.5116931
                        ],
                        "fold_3_test": [
                          123.6547048
                        ],
                        "fold_2_test": [
                          113.0333856
                        ]
                      },
                      {
                        "fold_4_test": [
                          129.4528122
                        ],
                        "fold_0_learn": [
                          66.91891338
                        ],
                        "iteration": 168,
                        "fold_4_learn": [
                          62.07283543
                        ],
                        "fold_3_learn": [
                          66.83314806
                        ],
                        "fold_2_learn": [
                          67.26251319
                        ],
                        "fold_1_learn": [
                          72.80485577
                        ],
                        "fold_0_test": [
                          117.0275236
                        ],
                        "fold_1_test": [
                          106.3897046
                        ],
                        "fold_3_test": [
                          123.7744354
                        ],
                        "fold_2_test": [
                          113.2361817
                        ]
                      },
                      {
                        "fold_4_test": [
                          129.4304825
                        ],
                        "fold_0_learn": [
                          66.55036636
                        ],
                        "iteration": 169,
                        "fold_4_learn": [
                          61.97031344
                        ],
                        "fold_3_learn": [
                          66.66678976
                        ],
                        "fold_2_learn": [
                          67.04666165
                        ],
                        "fold_1_learn": [
                          72.74166071
                        ],
                        "fold_0_test": [
                          116.711824
                        ],
                        "fold_1_test": [
                          106.377093
                        ],
                        "fold_3_test": [
                          123.7310255
                        ],
                        "fold_2_test": [
                          113.3274297
                        ]
                      },
                      {
                        "fold_4_test": [
                          129.4358215
                        ],
                        "fold_0_learn": [
                          66.3309851
                        ],
                        "iteration": 170,
                        "fold_4_learn": [
                          61.89623198
                        ],
                        "fold_3_learn": [
                          66.37147365
                        ],
                        "fold_2_learn": [
                          66.6216644
                        ],
                        "fold_1_learn": [
                          72.42164602
                        ],
                        "fold_0_test": [
                          116.7844692
                        ],
                        "fold_1_test": [
                          106.3033656
                        ],
                        "fold_3_test": [
                          123.6657814
                        ],
                        "fold_2_test": [
                          113.6984033
                        ]
                      },
                      {
                        "fold_4_test": [
                          129.3208005
                        ],
                        "fold_0_learn": [
                          66.21869869
                        ],
                        "iteration": 171,
                        "fold_4_learn": [
                          61.69172108
                        ],
                        "fold_3_learn": [
                          66.1651707
                        ],
                        "fold_2_learn": [
                          66.38854756
                        ],
                        "fold_1_learn": [
                          72.00396973
                        ],
                        "fold_0_test": [
                          116.7128589
                        ],
                        "fold_1_test": [
                          106.2816121
                        ],
                        "fold_3_test": [
                          123.752093
                        ],
                        "fold_2_test": [
                          113.6553108
                        ]
                      },
                      {
                        "fold_4_test": [
                          129.6641726
                        ],
                        "fold_0_learn": [
                          66.03528136
                        ],
                        "iteration": 172,
                        "fold_4_learn": [
                          61.44858571
                        ],
                        "fold_3_learn": [
                          65.9643868
                        ],
                        "fold_2_learn": [
                          66.21693663
                        ],
                        "fold_1_learn": [
                          71.7145352
                        ],
                        "fold_0_test": [
                          116.6844607
                        ],
                        "fold_1_test": [
                          106.4686513
                        ],
                        "fold_3_test": [
                          123.6521926
                        ],
                        "fold_2_test": [
                          113.6106973
                        ]
                      },
                      {
                        "fold_4_test": [
                          129.4964906
                        ],
                        "fold_0_learn": [
                          65.86259346
                        ],
                        "iteration": 173,
                        "fold_4_learn": [
                          61.36041859
                        ],
                        "fold_3_learn": [
                          65.80347961
                        ],
                        "fold_2_learn": [
                          65.89589092
                        ],
                        "fold_1_learn": [
                          71.39168661
                        ],
                        "fold_0_test": [
                          116.6119776
                        ],
                        "fold_1_test": [
                          106.400246
                        ],
                        "fold_3_test": [
                          123.621202
                        ],
                        "fold_2_test": [
                          113.5712184
                        ]
                      },
                      {
                        "fold_4_test": [
                          129.4568833
                        ],
                        "fold_0_learn": [
                          65.57647056
                        ],
                        "iteration": 174,
                        "fold_4_learn": [
                          61.26687909
                        ],
                        "fold_3_learn": [
                          65.59485612
                        ],
                        "fold_2_learn": [
                          65.58743912
                        ],
                        "fold_1_learn": [
                          71.26524901
                        ],
                        "fold_0_test": [
                          116.4432074
                        ],
                        "fold_1_test": [
                          106.4153257
                        ],
                        "fold_3_test": [
                          123.8294036
                        ],
                        "fold_2_test": [
                          113.6494233
                        ]
                      },
                      {
                        "fold_4_test": [
                          129.1818301
                        ],
                        "fold_0_learn": [
                          65.47861455
                        ],
                        "iteration": 175,
                        "fold_4_learn": [
                          61.09524852
                        ],
                        "fold_3_learn": [
                          65.39556366
                        ],
                        "fold_2_learn": [
                          65.36019401
                        ],
                        "fold_1_learn": [
                          70.8994263
                        ],
                        "fold_0_test": [
                          116.4908181
                        ],
                        "fold_1_test": [
                          105.8126014
                        ],
                        "fold_3_test": [
                          123.7701943
                        ],
                        "fold_2_test": [
                          113.7253043
                        ]
                      },
                      {
                        "fold_4_test": [
                          129.0046741
                        ],
                        "fold_0_learn": [
                          65.106215
                        ],
                        "iteration": 176,
                        "fold_4_learn": [
                          61.00220338
                        ],
                        "fold_3_learn": [
                          65.0578455
                        ],
                        "fold_2_learn": [
                          65.21138443
                        ],
                        "fold_1_learn": [
                          70.76641794
                        ],
                        "fold_0_test": [
                          116.0271312
                        ],
                        "fold_1_test": [
                          105.7412635
                        ],
                        "fold_3_test": [
                          123.7007834
                        ],
                        "fold_2_test": [
                          113.6828267
                        ]
                      },
                      {
                        "fold_4_test": [
                          128.9938925
                        ],
                        "fold_0_learn": [
                          64.90840972
                        ],
                        "iteration": 177,
                        "fold_4_learn": [
                          60.97386495
                        ],
                        "fold_3_learn": [
                          64.66300316
                        ],
                        "fold_2_learn": [
                          64.97552454
                        ],
                        "fold_1_learn": [
                          70.50967992
                        ],
                        "fold_0_test": [
                          115.9653164
                        ],
                        "fold_1_test": [
                          105.9664137
                        ],
                        "fold_3_test": [
                          123.7125596
                        ],
                        "fold_2_test": [
                          113.7452676
                        ]
                      },
                      {
                        "fold_4_test": [
                          129.0310109
                        ],
                        "fold_0_learn": [
                          64.78327612
                        ],
                        "iteration": 178,
                        "fold_4_learn": [
                          60.92287617
                        ],
                        "fold_3_learn": [
                          64.36475215
                        ],
                        "fold_2_learn": [
                          64.84964361
                        ],
                        "fold_1_learn": [
                          70.41845251
                        ],
                        "fold_0_test": [
                          115.9487727
                        ],
                        "fold_1_test": [
                          105.9896054
                        ],
                        "fold_3_test": [
                          123.8359289
                        ],
                        "fold_2_test": [
                          113.6760763
                        ]
                      },
                      {
                        "fold_4_test": [
                          128.9360404
                        ],
                        "fold_0_learn": [
                          64.57874684
                        ],
                        "iteration": 179,
                        "fold_4_learn": [
                          60.60691848
                        ],
                        "fold_3_learn": [
                          64.17814601
                        ],
                        "fold_2_learn": [
                          64.7686689
                        ],
                        "fold_1_learn": [
                          70.32602041
                        ],
                        "fold_0_test": [
                          116.0928532
                        ],
                        "fold_1_test": [
                          105.9869579
                        ],
                        "fold_3_test": [
                          123.8577304
                        ],
                        "fold_2_test": [
                          113.6959822
                        ]
                      },
                      {
                        "fold_4_test": [
                          129.1787042
                        ],
                        "fold_0_learn": [
                          64.50291388
                        ],
                        "iteration": 180,
                        "fold_4_learn": [
                          60.48071186
                        ],
                        "fold_3_learn": [
                          63.68595303
                        ],
                        "fold_2_learn": [
                          64.68346157
                        ],
                        "fold_1_learn": [
                          70.10288208
                        ],
                        "fold_0_test": [
                          116.136042
                        ],
                        "fold_1_test": [
                          106.0829396
                        ],
                        "fold_3_test": [
                          123.8570208
                        ],
                        "fold_2_test": [
                          113.7547027
                        ]
                      },
                      {
                        "fold_4_test": [
                          129.2888899
                        ],
                        "fold_0_learn": [
                          64.33040489
                        ],
                        "iteration": 181,
                        "fold_4_learn": [
                          60.3003554
                        ],
                        "fold_3_learn": [
                          63.45535481
                        ],
                        "fold_2_learn": [
                          64.33216808
                        ],
                        "fold_1_learn": [
                          69.96795668
                        ],
                        "fold_0_test": [
                          116.0589603
                        ],
                        "fold_1_test": [
                          106.0325358
                        ],
                        "fold_3_test": [
                          123.863968
                        ],
                        "fold_2_test": [
                          113.3791293
                        ]
                      },
                      {
                        "fold_4_test": [
                          129.1798477
                        ],
                        "fold_0_learn": [
                          63.97173567
                        ],
                        "iteration": 182,
                        "fold_4_learn": [
                          60.06601833
                        ],
                        "fold_3_learn": [
                          62.92714225
                        ],
                        "fold_2_learn": [
                          64.18326265
                        ],
                        "fold_1_learn": [
                          69.80733844
                        ],
                        "fold_0_test": [
                          115.9514163
                        ],
                        "fold_1_test": [
                          106.0021847
                        ],
                        "fold_3_test": [
                          123.8240825
                        ],
                        "fold_2_test": [
                          113.4138425
                        ]
                      },
                      {
                        "fold_4_test": [
                          129.259044
                        ],
                        "fold_0_learn": [
                          63.7306054
                        ],
                        "iteration": 183,
                        "fold_4_learn": [
                          59.87723701
                        ],
                        "fold_3_learn": [
                          62.72441375
                        ],
                        "fold_2_learn": [
                          63.94519984
                        ],
                        "fold_1_learn": [
                          69.71955754
                        ],
                        "fold_0_test": [
                          116.0038595
                        ],
                        "fold_1_test": [
                          106.0147052
                        ],
                        "fold_3_test": [
                          123.8155928
                        ],
                        "fold_2_test": [
                          113.2282477
                        ]
                      },
                      {
                        "fold_4_test": [
                          129.6868282
                        ],
                        "fold_0_learn": [
                          63.63115992
                        ],
                        "iteration": 184,
                        "fold_4_learn": [
                          59.45486033
                        ],
                        "fold_3_learn": [
                          62.44204487
                        ],
                        "fold_2_learn": [
                          63.75010528
                        ],
                        "fold_1_learn": [
                          69.55788176
                        ],
                        "fold_0_test": [
                          115.9307905
                        ],
                        "fold_1_test": [
                          105.8096006
                        ],
                        "fold_3_test": [
                          123.8044922
                        ],
                        "fold_2_test": [
                          113.274878
                        ]
                      },
                      {
                        "fold_4_test": [
                          129.6993467
                        ],
                        "fold_0_learn": [
                          63.47550657
                        ],
                        "iteration": 185,
                        "fold_4_learn": [
                          59.37065964
                        ],
                        "fold_3_learn": [
                          62.34472213
                        ],
                        "fold_2_learn": [
                          63.56298019
                        ],
                        "fold_1_learn": [
                          69.29819148
                        ],
                        "fold_0_test": [
                          115.8729927
                        ],
                        "fold_1_test": [
                          105.6041839
                        ],
                        "fold_3_test": [
                          123.8348905
                        ],
                        "fold_2_test": [
                          113.164222
                        ]
                      },
                      {
                        "fold_4_test": [
                          129.4287564
                        ],
                        "fold_0_learn": [
                          63.25080642
                        ],
                        "iteration": 186,
                        "fold_4_learn": [
                          59.04618608
                        ],
                        "fold_3_learn": [
                          62.12473321
                        ],
                        "fold_2_learn": [
                          63.35447884
                        ],
                        "fold_1_learn": [
                          69.05406578
                        ],
                        "fold_0_test": [
                          115.8557219
                        ],
                        "fold_1_test": [
                          105.4821661
                        ],
                        "fold_3_test": [
                          123.877338
                        ],
                        "fold_2_test": [
                          113.2803473
                        ]
                      },
                      {
                        "fold_4_test": [
                          129.3304414
                        ],
                        "fold_0_learn": [
                          63.14681062
                        ],
                        "iteration": 187,
                        "fold_4_learn": [
                          58.80335871
                        ],
                        "fold_3_learn": [
                          62.01079482
                        ],
                        "fold_2_learn": [
                          63.19193084
                        ],
                        "fold_1_learn": [
                          68.78510305
                        ],
                        "fold_0_test": [
                          115.6909769
                        ],
                        "fold_1_test": [
                          105.2357457
                        ],
                        "fold_3_test": [
                          123.7647186
                        ],
                        "fold_2_test": [
                          113.2596421
                        ]
                      },
                      {
                        "fold_4_test": [
                          129.3016965
                        ],
                        "fold_0_learn": [
                          62.87834051
                        ],
                        "iteration": 188,
                        "fold_4_learn": [
                          58.6961293
                        ],
                        "fold_3_learn": [
                          61.6405159
                        ],
                        "fold_2_learn": [
                          63.03725455
                        ],
                        "fold_1_learn": [
                          68.76087403
                        ],
                        "fold_0_test": [
                          115.6478992
                        ],
                        "fold_1_test": [
                          105.2364768
                        ],
                        "fold_3_test": [
                          123.6293469
                        ],
                        "fold_2_test": [
                          113.2388669
                        ]
                      },
                      {
                        "fold_4_test": [
                          129.2134833
                        ],
                        "fold_0_learn": [
                          62.59356926
                        ],
                        "iteration": 189,
                        "fold_4_learn": [
                          58.5481934
                        ],
                        "fold_3_learn": [
                          61.54401487
                        ],
                        "fold_2_learn": [
                          62.79092304
                        ],
                        "fold_1_learn": [
                          68.70452645
                        ],
                        "fold_0_test": [
                          115.7684483
                        ],
                        "fold_1_test": [
                          105.2786845
                        ],
                        "fold_3_test": [
                          123.6508982
                        ],
                        "fold_2_test": [
                          113.1586529
                        ]
                      },
                      {
                        "fold_4_test": [
                          129.2658218
                        ],
                        "fold_0_learn": [
                          62.55351034
                        ],
                        "iteration": 190,
                        "fold_4_learn": [
                          58.2798571
                        ],
                        "fold_3_learn": [
                          61.3900763
                        ],
                        "fold_2_learn": [
                          62.72394256
                        ],
                        "fold_1_learn": [
                          68.39717803
                        ],
                        "fold_0_test": [
                          115.5521283
                        ],
                        "fold_1_test": [
                          105.2831542
                        ],
                        "fold_3_test": [
                          123.6030206
                        ],
                        "fold_2_test": [
                          113.1318797
                        ]
                      },
                      {
                        "fold_4_test": [
                          129.2461147
                        ],
                        "fold_0_learn": [
                          62.38651374
                        ],
                        "iteration": 191,
                        "fold_4_learn": [
                          58.02493324
                        ],
                        "fold_3_learn": [
                          61.15969341
                        ],
                        "fold_2_learn": [
                          62.63849453
                        ],
                        "fold_1_learn": [
                          68.11564767
                        ],
                        "fold_0_test": [
                          115.4460579
                        ],
                        "fold_1_test": [
                          105.3812138
                        ],
                        "fold_3_test": [
                          123.4559606
                        ],
                        "fold_2_test": [
                          112.9889915
                        ]
                      },
                      {
                        "fold_4_test": [
                          129.4330805
                        ],
                        "fold_0_learn": [
                          62.29946796
                        ],
                        "iteration": 192,
                        "fold_4_learn": [
                          57.8912696
                        ],
                        "fold_3_learn": [
                          61.04873331
                        ],
                        "fold_2_learn": [
                          62.49709448
                        ],
                        "fold_1_learn": [
                          67.79947926
                        ],
                        "fold_0_test": [
                          115.399167
                        ],
                        "fold_1_test": [
                          105.4030244
                        ],
                        "fold_3_test": [
                          123.4523747
                        ],
                        "fold_2_test": [
                          113.0154092
                        ]
                      },
                      {
                        "fold_4_test": [
                          129.4664539
                        ],
                        "fold_0_learn": [
                          62.27016295
                        ],
                        "iteration": 193,
                        "fold_4_learn": [
                          57.78041673
                        ],
                        "fold_3_learn": [
                          60.89587839
                        ],
                        "fold_2_learn": [
                          62.34361508
                        ],
                        "fold_1_learn": [
                          67.73666042
                        ],
                        "fold_0_test": [
                          115.3585459
                        ],
                        "fold_1_test": [
                          105.4696774
                        ],
                        "fold_3_test": [
                          123.3850752
                        ],
                        "fold_2_test": [
                          113.0247342
                        ]
                      },
                      {
                        "fold_4_test": [
                          129.555832
                        ],
                        "fold_0_learn": [
                          62.22604652
                        ],
                        "iteration": 194,
                        "fold_4_learn": [
                          57.61795091
                        ],
                        "fold_3_learn": [
                          60.68042234
                        ],
                        "fold_2_learn": [
                          62.18189484
                        ],
                        "fold_1_learn": [
                          67.34845685
                        ],
                        "fold_0_test": [
                          115.3906462
                        ],
                        "fold_1_test": [
                          105.5612642
                        ],
                        "fold_3_test": [
                          123.4391226
                        ],
                        "fold_2_test": [
                          113.0879796
                        ]
                      },
                      {
                        "fold_4_test": [
                          129.4560493
                        ],
                        "fold_0_learn": [
                          62.16337239
                        ],
                        "iteration": 195,
                        "fold_4_learn": [
                          57.37587231
                        ],
                        "fold_3_learn": [
                          60.49918062
                        ],
                        "fold_2_learn": [
                          61.65419352
                        ],
                        "fold_1_learn": [
                          67.24929669
                        ],
                        "fold_0_test": [
                          115.3736246
                        ],
                        "fold_1_test": [
                          105.5047075
                        ],
                        "fold_3_test": [
                          123.3465716
                        ],
                        "fold_2_test": [
                          113.1635974
                        ]
                      },
                      {
                        "fold_4_test": [
                          129.6642669
                        ],
                        "fold_0_learn": [
                          61.88874981
                        ],
                        "iteration": 196,
                        "fold_4_learn": [
                          57.14455433
                        ],
                        "fold_3_learn": [
                          60.30158654
                        ],
                        "fold_2_learn": [
                          61.31607711
                        ],
                        "fold_1_learn": [
                          67.19476166
                        ],
                        "fold_0_test": [
                          114.9166673
                        ],
                        "fold_1_test": [
                          105.5028563
                        ],
                        "fold_3_test": [
                          123.1516643
                        ],
                        "fold_2_test": [
                          113.2299067
                        ]
                      },
                      {
                        "fold_4_test": [
                          129.611441
                        ],
                        "fold_0_learn": [
                          61.67250899
                        ],
                        "iteration": 197,
                        "fold_4_learn": [
                          57.01650254
                        ],
                        "fold_3_learn": [
                          60.19693576
                        ],
                        "fold_2_learn": [
                          61.06218275
                        ],
                        "fold_1_learn": [
                          66.97913541
                        ],
                        "fold_0_test": [
                          114.5993666
                        ],
                        "fold_1_test": [
                          105.4927062
                        ],
                        "fold_3_test": [
                          123.3518539
                        ],
                        "fold_2_test": [
                          113.2874089
                        ]
                      },
                      {
                        "fold_4_test": [
                          129.5665285
                        ],
                        "fold_0_learn": [
                          61.33510723
                        ],
                        "iteration": 198,
                        "fold_4_learn": [
                          56.88627623
                        ],
                        "fold_3_learn": [
                          60.17576392
                        ],
                        "fold_2_learn": [
                          60.89980529
                        ],
                        "fold_1_learn": [
                          66.86411956
                        ],
                        "fold_0_test": [
                          114.6760833
                        ],
                        "fold_1_test": [
                          105.4149121
                        ],
                        "fold_3_test": [
                          123.3468253
                        ],
                        "fold_2_test": [
                          113.1804229
                        ]
                      },
                      {
                        "fold_4_test": [
                          129.4447975
                        ],
                        "fold_0_learn": [
                          61.16696057
                        ],
                        "iteration": 199,
                        "fold_4_learn": [
                          56.76972882
                        ],
                        "fold_3_learn": [
                          60.11957562
                        ],
                        "fold_2_learn": [
                          60.68133769
                        ],
                        "fold_1_learn": [
                          66.60817435
                        ],
                        "fold_0_test": [
                          114.568543
                        ],
                        "fold_1_test": [
                          105.3865876
                        ],
                        "fold_3_test": [
                          123.4463314
                        ],
                        "fold_2_test": [
                          113.0855273
                        ]
                      },
                      {
                        "fold_4_test": [
                          129.7661068
                        ],
                        "fold_0_learn": [
                          61.09694267
                        ],
                        "iteration": 200,
                        "fold_4_learn": [
                          56.46487213
                        ],
                        "fold_3_learn": [
                          59.97906916
                        ],
                        "fold_2_learn": [
                          60.46696139
                        ],
                        "fold_1_learn": [
                          66.56076367
                        ],
                        "fold_0_test": [
                          114.5388384
                        ],
                        "fold_1_test": [
                          105.3957351
                        ],
                        "fold_3_test": [
                          123.3767791
                        ],
                        "fold_2_test": [
                          113.0501222
                        ]
                      },
                      {
                        "fold_4_test": [
                          129.4894296
                        ],
                        "fold_0_learn": [
                          60.88344512
                        ],
                        "iteration": 201,
                        "fold_4_learn": [
                          56.25620879
                        ],
                        "fold_3_learn": [
                          59.61102059
                        ],
                        "fold_2_learn": [
                          60.28665503
                        ],
                        "fold_1_learn": [
                          66.5234156
                        ],
                        "fold_0_test": [
                          114.516906
                        ],
                        "fold_1_test": [
                          105.3339788
                        ],
                        "fold_3_test": [
                          123.0656019
                        ],
                        "fold_2_test": [
                          112.8869558
                        ]
                      },
                      {
                        "fold_4_test": [
                          129.4116916
                        ],
                        "fold_0_learn": [
                          60.74358974
                        ],
                        "iteration": 202,
                        "fold_4_learn": [
                          56.14241495
                        ],
                        "fold_3_learn": [
                          59.44011991
                        ],
                        "fold_2_learn": [
                          60.18345258
                        ],
                        "fold_1_learn": [
                          66.36885792
                        ],
                        "fold_0_test": [
                          114.5615075
                        ],
                        "fold_1_test": [
                          105.2127519
                        ],
                        "fold_3_test": [
                          122.9002856
                        ],
                        "fold_2_test": [
                          112.9188093
                        ]
                      },
                      {
                        "fold_4_test": [
                          129.402738
                        ],
                        "fold_0_learn": [
                          60.59660809
                        ],
                        "iteration": 203,
                        "fold_4_learn": [
                          56.13395791
                        ],
                        "fold_3_learn": [
                          59.24276994
                        ],
                        "fold_2_learn": [
                          59.74767373
                        ],
                        "fold_1_learn": [
                          66.2274347
                        ],
                        "fold_0_test": [
                          114.6688595
                        ],
                        "fold_1_test": [
                          105.3297261
                        ],
                        "fold_3_test": [
                          122.8400511
                        ],
                        "fold_2_test": [
                          113.0943018
                        ]
                      },
                      {
                        "fold_4_test": [
                          129.395372
                        ],
                        "fold_0_learn": [
                          60.41626933
                        ],
                        "iteration": 204,
                        "fold_4_learn": [
                          56.10855006
                        ],
                        "fold_3_learn": [
                          59.06181698
                        ],
                        "fold_2_learn": [
                          59.67121002
                        ],
                        "fold_1_learn": [
                          66.17052731
                        ],
                        "fold_0_test": [
                          114.3620003
                        ],
                        "fold_1_test": [
                          105.3117217
                        ],
                        "fold_3_test": [
                          122.8425246
                        ],
                        "fold_2_test": [
                          113.067441
                        ]
                      },
                      {
                        "fold_4_test": [
                          129.5277545
                        ],
                        "fold_0_learn": [
                          60.32599931
                        ],
                        "iteration": 205,
                        "fold_4_learn": [
                          55.9462311
                        ],
                        "fold_3_learn": [
                          58.80660495
                        ],
                        "fold_2_learn": [
                          59.45402107
                        ],
                        "fold_1_learn": [
                          66.10769948
                        ],
                        "fold_0_test": [
                          114.3683863
                        ],
                        "fold_1_test": [
                          105.3520913
                        ],
                        "fold_3_test": [
                          122.7484604
                        ],
                        "fold_2_test": [
                          113.0540461
                        ]
                      },
                      {
                        "fold_4_test": [
                          129.4852101
                        ],
                        "fold_0_learn": [
                          60.11902106
                        ],
                        "iteration": 206,
                        "fold_4_learn": [
                          55.76779973
                        ],
                        "fold_3_learn": [
                          58.50284089
                        ],
                        "fold_2_learn": [
                          59.4097702
                        ],
                        "fold_1_learn": [
                          65.8171613
                        ],
                        "fold_0_test": [
                          114.457405
                        ],
                        "fold_1_test": [
                          105.2893131
                        ],
                        "fold_3_test": [
                          122.9841224
                        ],
                        "fold_2_test": [
                          113.0790206
                        ]
                      },
                      {
                        "fold_4_test": [
                          129.4777806
                        ],
                        "fold_0_learn": [
                          59.81004863
                        ],
                        "iteration": 207,
                        "fold_4_learn": [
                          55.73754855
                        ],
                        "fold_3_learn": [
                          58.31568618
                        ],
                        "fold_2_learn": [
                          59.33157931
                        ],
                        "fold_1_learn": [
                          65.77993599
                        ],
                        "fold_0_test": [
                          114.4165331
                        ],
                        "fold_1_test": [
                          105.3093142
                        ],
                        "fold_3_test": [
                          122.9754688
                        ],
                        "fold_2_test": [
                          113.0499466
                        ]
                      },
                      {
                        "fold_4_test": [
                          129.5062567
                        ],
                        "fold_0_learn": [
                          59.67601128
                        ],
                        "iteration": 208,
                        "fold_4_learn": [
                          55.64955741
                        ],
                        "fold_3_learn": [
                          58.13338412
                        ],
                        "fold_2_learn": [
                          59.11501608
                        ],
                        "fold_1_learn": [
                          65.49201835
                        ],
                        "fold_0_test": [
                          114.3944666
                        ],
                        "fold_1_test": [
                          104.9266175
                        ],
                        "fold_3_test": [
                          122.9019456
                        ],
                        "fold_2_test": [
                          112.9566421
                        ]
                      },
                      {
                        "fold_4_test": [
                          129.4571179
                        ],
                        "fold_0_learn": [
                          59.61494663
                        ],
                        "iteration": 209,
                        "fold_4_learn": [
                          55.41251508
                        ],
                        "fold_3_learn": [
                          58.01624809
                        ],
                        "fold_2_learn": [
                          59.02747063
                        ],
                        "fold_1_learn": [
                          65.33381574
                        ],
                        "fold_0_test": [
                          114.3966594
                        ],
                        "fold_1_test": [
                          104.8588715
                        ],
                        "fold_3_test": [
                          122.8793403
                        ],
                        "fold_2_test": [
                          112.9483143
                        ]
                      },
                      {
                        "fold_4_test": [
                          129.6592334
                        ],
                        "fold_0_learn": [
                          59.54425484
                        ],
                        "iteration": 210,
                        "fold_4_learn": [
                          55.27261067
                        ],
                        "fold_3_learn": [
                          57.95508438
                        ],
                        "fold_2_learn": [
                          58.94881856
                        ],
                        "fold_1_learn": [
                          65.0119409
                        ],
                        "fold_0_test": [
                          114.2986005
                        ],
                        "fold_1_test": [
                          104.7373945
                        ],
                        "fold_3_test": [
                          122.8494914
                        ],
                        "fold_2_test": [
                          113.0564726
                        ]
                      },
                      {
                        "fold_4_test": [
                          129.5054041
                        ],
                        "fold_0_learn": [
                          59.42223735
                        ],
                        "iteration": 211,
                        "fold_4_learn": [
                          55.01871523
                        ],
                        "fold_3_learn": [
                          57.86614374
                        ],
                        "fold_2_learn": [
                          58.64486397
                        ],
                        "fold_1_learn": [
                          64.77749663
                        ],
                        "fold_0_test": [
                          114.2291406
                        ],
                        "fold_1_test": [
                          104.7047492
                        ],
                        "fold_3_test": [
                          122.917141
                        ],
                        "fold_2_test": [
                          113.061725
                        ]
                      },
                      {
                        "fold_4_test": [
                          130.0883267
                        ],
                        "fold_0_learn": [
                          59.26932228
                        ],
                        "iteration": 212,
                        "fold_4_learn": [
                          54.89341379
                        ],
                        "fold_3_learn": [
                          57.73354167
                        ],
                        "fold_2_learn": [
                          58.49546335
                        ],
                        "fold_1_learn": [
                          64.63852582
                        ],
                        "fold_0_test": [
                          114.3144777
                        ],
                        "fold_1_test": [
                          104.5344365
                        ],
                        "fold_3_test": [
                          122.9740215
                        ],
                        "fold_2_test": [
                          112.9730085
                        ]
                      },
                      {
                        "fold_4_test": [
                          130.0760364
                        ],
                        "fold_0_learn": [
                          59.1873141
                        ],
                        "iteration": 213,
                        "fold_4_learn": [
                          54.83101174
                        ],
                        "fold_3_learn": [
                          57.69695009
                        ],
                        "fold_2_learn": [
                          58.38370337
                        ],
                        "fold_1_learn": [
                          64.34441648
                        ],
                        "fold_0_test": [
                          114.2584362
                        ],
                        "fold_1_test": [
                          104.1468871
                        ],
                        "fold_3_test": [
                          123.0193343
                        ],
                        "fold_2_test": [
                          113.2627946
                        ]
                      },
                      {
                        "fold_4_test": [
                          130.3688265
                        ],
                        "fold_0_learn": [
                          59.10287534
                        ],
                        "iteration": 214,
                        "fold_4_learn": [
                          54.69444118
                        ],
                        "fold_3_learn": [
                          57.67328248
                        ],
                        "fold_2_learn": [
                          58.35574455
                        ],
                        "fold_1_learn": [
                          64.27795159
                        ],
                        "fold_0_test": [
                          114.2675375
                        ],
                        "fold_1_test": [
                          104.1327628
                        ],
                        "fold_3_test": [
                          122.9978365
                        ],
                        "fold_2_test": [
                          113.2780273
                        ]
                      },
                      {
                        "fold_4_test": [
                          130.3156315
                        ],
                        "fold_0_learn": [
                          59.01283528
                        ],
                        "iteration": 215,
                        "fold_4_learn": [
                          54.52672288
                        ],
                        "fold_3_learn": [
                          57.54552532
                        ],
                        "fold_2_learn": [
                          58.29288519
                        ],
                        "fold_1_learn": [
                          64.10694727
                        ],
                        "fold_0_test": [
                          114.2232613
                        ],
                        "fold_1_test": [
                          104.0787762
                        ],
                        "fold_3_test": [
                          122.8629637
                        ],
                        "fold_2_test": [
                          113.2861629
                        ]
                      },
                      {
                        "fold_4_test": [
                          130.5114615
                        ],
                        "fold_0_learn": [
                          58.68718488
                        ],
                        "iteration": 216,
                        "fold_4_learn": [
                          54.38466277
                        ],
                        "fold_3_learn": [
                          57.43948805
                        ],
                        "fold_2_learn": [
                          57.98926158
                        ],
                        "fold_1_learn": [
                          63.8436877
                        ],
                        "fold_0_test": [
                          114.2909077
                        ],
                        "fold_1_test": [
                          104.2680076
                        ],
                        "fold_3_test": [
                          122.8651754
                        ],
                        "fold_2_test": [
                          113.3150271
                        ]
                      },
                      {
                        "fold_4_test": [
                          130.4491837
                        ],
                        "fold_0_learn": [
                          58.51627837
                        ],
                        "iteration": 217,
                        "fold_4_learn": [
                          54.2203108
                        ],
                        "fold_3_learn": [
                          57.29517612
                        ],
                        "fold_2_learn": [
                          57.93749829
                        ],
                        "fold_1_learn": [
                          63.57780464
                        ],
                        "fold_0_test": [
                          114.4371033
                        ],
                        "fold_1_test": [
                          104.0171082
                        ],
                        "fold_3_test": [
                          122.9236706
                        ],
                        "fold_2_test": [
                          113.2856968
                        ]
                      },
                      {
                        "fold_4_test": [
                          130.4100793
                        ],
                        "fold_0_learn": [
                          58.31276337
                        ],
                        "iteration": 218,
                        "fold_4_learn": [
                          53.94885165
                        ],
                        "fold_3_learn": [
                          57.0938205
                        ],
                        "fold_2_learn": [
                          57.74827624
                        ],
                        "fold_1_learn": [
                          63.48488332
                        ],
                        "fold_0_test": [
                          114.4740427
                        ],
                        "fold_1_test": [
                          103.9812415
                        ],
                        "fold_3_test": [
                          122.7759601
                        ],
                        "fold_2_test": [
                          113.2879057
                        ]
                      },
                      {
                        "fold_4_test": [
                          130.3955381
                        ],
                        "fold_0_learn": [
                          58.2700701
                        ],
                        "iteration": 219,
                        "fold_4_learn": [
                          53.87632098
                        ],
                        "fold_3_learn": [
                          57.05120716
                        ],
                        "fold_2_learn": [
                          57.62110002
                        ],
                        "fold_1_learn": [
                          63.46437166
                        ],
                        "fold_0_test": [
                          114.4713709
                        ],
                        "fold_1_test": [
                          103.9800588
                        ],
                        "fold_3_test": [
                          122.8183793
                        ],
                        "fold_2_test": [
                          113.2801896
                        ]
                      },
                      {
                        "fold_4_test": [
                          130.4248436
                        ],
                        "fold_0_learn": [
                          57.84051105
                        ],
                        "iteration": 220,
                        "fold_4_learn": [
                          53.62939194
                        ],
                        "fold_3_learn": [
                          56.89021032
                        ],
                        "fold_2_learn": [
                          57.42186182
                        ],
                        "fold_1_learn": [
                          63.34286686
                        ],
                        "fold_0_test": [
                          114.9177434
                        ],
                        "fold_1_test": [
                          103.9222928
                        ],
                        "fold_3_test": [
                          122.8848724
                        ],
                        "fold_2_test": [
                          113.1932613
                        ]
                      },
                      {
                        "fold_4_test": [
                          130.3921973
                        ],
                        "fold_0_learn": [
                          57.72848831
                        ],
                        "iteration": 221,
                        "fold_4_learn": [
                          53.45037025
                        ],
                        "fold_3_learn": [
                          56.71380034
                        ],
                        "fold_2_learn": [
                          57.34219623
                        ],
                        "fold_1_learn": [
                          63.1794903
                        ],
                        "fold_0_test": [
                          114.807244
                        ],
                        "fold_1_test": [
                          104.0161662
                        ],
                        "fold_3_test": [
                          122.8885491
                        ],
                        "fold_2_test": [
                          113.1780361
                        ]
                      },
                      {
                        "fold_4_test": [
                          130.372057
                        ],
                        "fold_0_learn": [
                          57.52519839
                        ],
                        "iteration": 222,
                        "fold_4_learn": [
                          53.33188889
                        ],
                        "fold_3_learn": [
                          56.54951489
                        ],
                        "fold_2_learn": [
                          57.08331875
                        ],
                        "fold_1_learn": [
                          63.06058579
                        ],
                        "fold_0_test": [
                          114.8187289
                        ],
                        "fold_1_test": [
                          104.0201893
                        ],
                        "fold_3_test": [
                          122.9561591
                        ],
                        "fold_2_test": [
                          112.9385038
                        ]
                      },
                      {
                        "fold_4_test": [
                          130.2779266
                        ],
                        "fold_0_learn": [
                          57.3895657
                        ],
                        "iteration": 223,
                        "fold_4_learn": [
                          53.16959867
                        ],
                        "fold_3_learn": [
                          56.45734351
                        ],
                        "fold_2_learn": [
                          56.85672462
                        ],
                        "fold_1_learn": [
                          62.64731942
                        ],
                        "fold_0_test": [
                          114.7628444
                        ],
                        "fold_1_test": [
                          104.0280802
                        ],
                        "fold_3_test": [
                          122.9058978
                        ],
                        "fold_2_test": [
                          112.8428476
                        ]
                      },
                      {
                        "fold_4_test": [
                          130.255419
                        ],
                        "fold_0_learn": [
                          57.17590247
                        ],
                        "iteration": 224,
                        "fold_4_learn": [
                          53.04470564
                        ],
                        "fold_3_learn": [
                          56.34929489
                        ],
                        "fold_2_learn": [
                          56.72453634
                        ],
                        "fold_1_learn": [
                          62.55882636
                        ],
                        "fold_0_test": [
                          114.7006894
                        ],
                        "fold_1_test": [
                          104.0212281
                        ],
                        "fold_3_test": [
                          122.8830803
                        ],
                        "fold_2_test": [
                          112.848937
                        ]
                      },
                      {
                        "fold_4_test": [
                          130.2514359
                        ],
                        "fold_0_learn": [
                          57.1000261
                        ],
                        "iteration": 225,
                        "fold_4_learn": [
                          52.93994934
                        ],
                        "fold_3_learn": [
                          56.20554036
                        ],
                        "fold_2_learn": [
                          56.68486083
                        ],
                        "fold_1_learn": [
                          62.46038362
                        ],
                        "fold_0_test": [
                          114.6694192
                        ],
                        "fold_1_test": [
                          104.1884106
                        ],
                        "fold_3_test": [
                          122.772724
                        ],
                        "fold_2_test": [
                          112.9352067
                        ]
                      },
                      {
                        "fold_4_test": [
                          130.2614012
                        ],
                        "fold_0_learn": [
                          57.06178539
                        ],
                        "iteration": 226,
                        "fold_4_learn": [
                          52.88162033
                        ],
                        "fold_3_learn": [
                          55.90408758
                        ],
                        "fold_2_learn": [
                          56.49707043
                        ],
                        "fold_1_learn": [
                          62.30181864
                        ],
                        "fold_0_test": [
                          114.7157619
                        ],
                        "fold_1_test": [
                          104.0326586
                        ],
                        "fold_3_test": [
                          123.3489792
                        ],
                        "fold_2_test": [
                          112.807528
                        ]
                      },
                      {
                        "fold_4_test": [
                          130.3173396
                        ],
                        "fold_0_learn": [
                          56.88976454
                        ],
                        "iteration": 227,
                        "fold_4_learn": [
                          52.78147876
                        ],
                        "fold_3_learn": [
                          55.85710196
                        ],
                        "fold_2_learn": [
                          56.29391607
                        ],
                        "fold_1_learn": [
                          62.25191737
                        ],
                        "fold_0_test": [
                          114.6989746
                        ],
                        "fold_1_test": [
                          104.0118231
                        ],
                        "fold_3_test": [
                          123.3242233
                        ],
                        "fold_2_test": [
                          112.830586
                        ]
                      },
                      {
                        "fold_4_test": [
                          130.4540862
                        ],
                        "fold_0_learn": [
                          56.84066071
                        ],
                        "iteration": 228,
                        "fold_4_learn": [
                          52.52833657
                        ],
                        "fold_3_learn": [
                          55.54267446
                        ],
                        "fold_2_learn": [
                          56.20777727
                        ],
                        "fold_1_learn": [
                          62.21914727
                        ],
                        "fold_0_test": [
                          114.6874873
                        ],
                        "fold_1_test": [
                          103.9998548
                        ],
                        "fold_3_test": [
                          123.2196525
                        ],
                        "fold_2_test": [
                          112.8301083
                        ]
                      },
                      {
                        "fold_4_test": [
                          130.4806769
                        ],
                        "fold_0_learn": [
                          56.73519715
                        ],
                        "iteration": 229,
                        "fold_4_learn": [
                          52.47932711
                        ],
                        "fold_3_learn": [
                          55.37004693
                        ],
                        "fold_2_learn": [
                          56.06235439
                        ],
                        "fold_1_learn": [
                          62.03115442
                        ],
                        "fold_0_test": [
                          114.7657041
                        ],
                        "fold_1_test": [
                          103.9701752
                        ],
                        "fold_3_test": [
                          123.2321681
                        ],
                        "fold_2_test": [
                          112.772471
                        ]
                      },
                      {
                        "fold_4_test": [
                          130.5748008
                        ],
                        "fold_0_learn": [
                          56.66139329
                        ],
                        "iteration": 230,
                        "fold_4_learn": [
                          52.28821426
                        ],
                        "fold_3_learn": [
                          55.3133773
                        ],
                        "fold_2_learn": [
                          55.82949401
                        ],
                        "fold_1_learn": [
                          61.55319798
                        ],
                        "fold_0_test": [
                          114.7945036
                        ],
                        "fold_1_test": [
                          103.8178003
                        ],
                        "fold_3_test": [
                          123.2940464
                        ],
                        "fold_2_test": [
                          112.7662876
                        ]
                      },
                      {
                        "fold_4_test": [
                          130.5696846
                        ],
                        "fold_0_learn": [
                          56.41006163
                        ],
                        "iteration": 231,
                        "fold_4_learn": [
                          52.22306014
                        ],
                        "fold_3_learn": [
                          55.24523265
                        ],
                        "fold_2_learn": [
                          55.63753925
                        ],
                        "fold_1_learn": [
                          61.32928652
                        ],
                        "fold_0_test": [
                          114.5938941
                        ],
                        "fold_1_test": [
                          103.9165038
                        ],
                        "fold_3_test": [
                          123.2604293
                        ],
                        "fold_2_test": [
                          112.6427768
                        ]
                      },
                      {
                        "fold_4_test": [
                          130.5351826
                        ],
                        "fold_0_learn": [
                          56.20811189
                        ],
                        "iteration": 232,
                        "fold_4_learn": [
                          52.07828236
                        ],
                        "fold_3_learn": [
                          55.1754904
                        ],
                        "fold_2_learn": [
                          55.44379784
                        ],
                        "fold_1_learn": [
                          61.30435503
                        ],
                        "fold_0_test": [
                          114.7293891
                        ],
                        "fold_1_test": [
                          103.8745389
                        ],
                        "fold_3_test": [
                          123.1653662
                        ],
                        "fold_2_test": [
                          112.5643457
                        ]
                      },
                      {
                        "fold_4_test": [
                          130.4454362
                        ],
                        "fold_0_learn": [
                          56.08060608
                        ],
                        "iteration": 233,
                        "fold_4_learn": [
                          51.89210754
                        ],
                        "fold_3_learn": [
                          55.1233042
                        ],
                        "fold_2_learn": [
                          55.20597594
                        ],
                        "fold_1_learn": [
                          61.12962857
                        ],
                        "fold_0_test": [
                          114.873815
                        ],
                        "fold_1_test": [
                          103.9590397
                        ],
                        "fold_3_test": [
                          123.1236919
                        ],
                        "fold_2_test": [
                          112.593315
                        ]
                      },
                      {
                        "fold_4_test": [
                          130.4593567
                        ],
                        "fold_0_learn": [
                          55.97360274
                        ],
                        "iteration": 234,
                        "fold_4_learn": [
                          51.8197254
                        ],
                        "fold_3_learn": [
                          54.91610762
                        ],
                        "fold_2_learn": [
                          55.01399632
                        ],
                        "fold_1_learn": [
                          60.88511623
                        ],
                        "fold_0_test": [
                          115.0420076
                        ],
                        "fold_1_test": [
                          104.0210194
                        ],
                        "fold_3_test": [
                          123.0516993
                        ],
                        "fold_2_test": [
                          112.4290011
                        ]
                      },
                      {
                        "fold_4_test": [
                          130.4449589
                        ],
                        "fold_0_learn": [
                          55.89606628
                        ],
                        "iteration": 235,
                        "fold_4_learn": [
                          51.62952127
                        ],
                        "fold_3_learn": [
                          54.59604011
                        ],
                        "fold_2_learn": [
                          54.94786122
                        ],
                        "fold_1_learn": [
                          60.79243566
                        ],
                        "fold_0_test": [
                          115.0914542
                        ],
                        "fold_1_test": [
                          104.0313068
                        ],
                        "fold_3_test": [
                          123.1442528
                        ],
                        "fold_2_test": [
                          112.3793574
                        ]
                      },
                      {
                        "fold_4_test": [
                          130.4356249
                        ],
                        "fold_0_learn": [
                          55.68563491
                        ],
                        "iteration": 236,
                        "fold_4_learn": [
                          51.46675651
                        ],
                        "fold_3_learn": [
                          54.4631346
                        ],
                        "fold_2_learn": [
                          54.79201862
                        ],
                        "fold_1_learn": [
                          60.75498283
                        ],
                        "fold_0_test": [
                          115.132645
                        ],
                        "fold_1_test": [
                          104.0118986
                        ],
                        "fold_3_test": [
                          123.1633439
                        ],
                        "fold_2_test": [
                          112.4866746
                        ]
                      },
                      {
                        "fold_4_test": [
                          130.429752
                        ],
                        "fold_0_learn": [
                          55.57331919
                        ],
                        "iteration": 237,
                        "fold_4_learn": [
                          51.34571272
                        ],
                        "fold_3_learn": [
                          54.29210173
                        ],
                        "fold_2_learn": [
                          54.60601174
                        ],
                        "fold_1_learn": [
                          60.74618159
                        ],
                        "fold_0_test": [
                          115.1014983
                        ],
                        "fold_1_test": [
                          104.0051116
                        ],
                        "fold_3_test": [
                          123.3632375
                        ],
                        "fold_2_test": [
                          112.598102
                        ]
                      },
                      {
                        "fold_4_test": [
                          130.0658998
                        ],
                        "fold_0_learn": [
                          55.42838241
                        ],
                        "iteration": 238,
                        "fold_4_learn": [
                          51.00401932
                        ],
                        "fold_3_learn": [
                          54.19121914
                        ],
                        "fold_2_learn": [
                          54.52684779
                        ],
                        "fold_1_learn": [
                          60.68344276
                        ],
                        "fold_0_test": [
                          114.9349243
                        ],
                        "fold_1_test": [
                          104.0551303
                        ],
                        "fold_3_test": [
                          123.4647141
                        ],
                        "fold_2_test": [
                          112.6750025
                        ]
                      },
                      {
                        "fold_4_test": [
                          130.2362855
                        ],
                        "fold_0_learn": [
                          55.31949313
                        ],
                        "iteration": 239,
                        "fold_4_learn": [
                          50.78586107
                        ],
                        "fold_3_learn": [
                          54.12902748
                        ],
                        "fold_2_learn": [
                          54.36875798
                        ],
                        "fold_1_learn": [
                          60.59243944
                        ],
                        "fold_0_test": [
                          114.8324993
                        ],
                        "fold_1_test": [
                          104.1476414
                        ],
                        "fold_3_test": [
                          123.4372456
                        ],
                        "fold_2_test": [
                          112.6521139
                        ]
                      },
                      {
                        "fold_4_test": [
                          130.1994322
                        ],
                        "fold_0_learn": [
                          55.18246374
                        ],
                        "iteration": 240,
                        "fold_4_learn": [
                          50.62241175
                        ],
                        "fold_3_learn": [
                          53.95833203
                        ],
                        "fold_2_learn": [
                          54.28862682
                        ],
                        "fold_1_learn": [
                          60.33006777
                        ],
                        "fold_0_test": [
                          114.6495161
                        ],
                        "fold_1_test": [
                          103.9277942
                        ],
                        "fold_3_test": [
                          123.4608308
                        ],
                        "fold_2_test": [
                          112.6501814
                        ]
                      },
                      {
                        "fold_4_test": [
                          130.3956545
                        ],
                        "fold_0_learn": [
                          55.02470148
                        ],
                        "iteration": 241,
                        "fold_4_learn": [
                          50.4171075
                        ],
                        "fold_3_learn": [
                          53.92004451
                        ],
                        "fold_2_learn": [
                          54.11342773
                        ],
                        "fold_1_learn": [
                          60.25875018
                        ],
                        "fold_0_test": [
                          114.5615466
                        ],
                        "fold_1_test": [
                          103.9162195
                        ],
                        "fold_3_test": [
                          123.4903058
                        ],
                        "fold_2_test": [
                          112.7777955
                        ]
                      },
                      {
                        "fold_4_test": [
                          130.3559601
                        ],
                        "fold_0_learn": [
                          54.78334842
                        ],
                        "iteration": 242,
                        "fold_4_learn": [
                          50.32895978
                        ],
                        "fold_3_learn": [
                          53.74312918
                        ],
                        "fold_2_learn": [
                          53.85756753
                        ],
                        "fold_1_learn": [
                          60.12141432
                        ],
                        "fold_0_test": [
                          114.4809565
                        ],
                        "fold_1_test": [
                          104.0260713
                        ],
                        "fold_3_test": [
                          123.4034818
                        ],
                        "fold_2_test": [
                          112.883479
                        ]
                      },
                      {
                        "fold_4_test": [
                          130.5502191
                        ],
                        "fold_0_learn": [
                          54.65265876
                        ],
                        "iteration": 243,
                        "fold_4_learn": [
                          50.13386553
                        ],
                        "fold_3_learn": [
                          53.70206987
                        ],
                        "fold_2_learn": [
                          53.78049129
                        ],
                        "fold_1_learn": [
                          60.02498053
                        ],
                        "fold_0_test": [
                          114.4907327
                        ],
                        "fold_1_test": [
                          103.9834101
                        ],
                        "fold_3_test": [
                          123.3848763
                        ],
                        "fold_2_test": [
                          112.8438209
                        ]
                      },
                      {
                        "fold_4_test": [
                          130.4563338
                        ],
                        "fold_0_learn": [
                          54.59998285
                        ],
                        "iteration": 244,
                        "fold_4_learn": [
                          49.94547929
                        ],
                        "fold_3_learn": [
                          53.5612861
                        ],
                        "fold_2_learn": [
                          53.69723727
                        ],
                        "fold_1_learn": [
                          59.91939322
                        ],
                        "fold_0_test": [
                          114.4410351
                        ],
                        "fold_1_test": [
                          103.891009
                        ],
                        "fold_3_test": [
                          123.3580603
                        ],
                        "fold_2_test": [
                          112.9049961
                        ]
                      },
                      {
                        "fold_4_test": [
                          130.4204317
                        ],
                        "fold_0_learn": [
                          54.36382386
                        ],
                        "iteration": 245,
                        "fold_4_learn": [
                          49.66481399
                        ],
                        "fold_3_learn": [
                          53.48957811
                        ],
                        "fold_2_learn": [
                          53.56529082
                        ],
                        "fold_1_learn": [
                          59.67827108
                        ],
                        "fold_0_test": [
                          114.4896533
                        ],
                        "fold_1_test": [
                          103.7353852
                        ],
                        "fold_3_test": [
                          123.3682671
                        ],
                        "fold_2_test": [
                          112.8099913
                        ]
                      },
                      {
                        "fold_4_test": [
                          130.3997286
                        ],
                        "fold_0_learn": [
                          54.1905093
                        ],
                        "iteration": 246,
                        "fold_4_learn": [
                          49.5624869
                        ],
                        "fold_3_learn": [
                          53.40708416
                        ],
                        "fold_2_learn": [
                          53.50789987
                        ],
                        "fold_1_learn": [
                          59.59707218
                        ],
                        "fold_0_test": [
                          114.4357789
                        ],
                        "fold_1_test": [
                          103.7160172
                        ],
                        "fold_3_test": [
                          123.3748863
                        ],
                        "fold_2_test": [
                          112.8285758
                        ]
                      },
                      {
                        "fold_4_test": [
                          130.4425227
                        ],
                        "fold_0_learn": [
                          54.11877786
                        ],
                        "iteration": 247,
                        "fold_4_learn": [
                          49.52731635
                        ],
                        "fold_3_learn": [
                          53.37093926
                        ],
                        "fold_2_learn": [
                          53.47995484
                        ],
                        "fold_1_learn": [
                          59.48815527
                        ],
                        "fold_0_test": [
                          114.4403574
                        ],
                        "fold_1_test": [
                          103.6846657
                        ],
                        "fold_3_test": [
                          123.377026
                        ],
                        "fold_2_test": [
                          112.9026221
                        ]
                      },
                      {
                        "fold_4_test": [
                          130.4437608
                        ],
                        "fold_0_learn": [
                          54.04403941
                        ],
                        "iteration": 248,
                        "fold_4_learn": [
                          49.48022476
                        ],
                        "fold_3_learn": [
                          53.34172746
                        ],
                        "fold_2_learn": [
                          53.29133565
                        ],
                        "fold_1_learn": [
                          59.4405099
                        ],
                        "fold_0_test": [
                          114.3971231
                        ],
                        "fold_1_test": [
                          103.6960257
                        ],
                        "fold_3_test": [
                          123.3059014
                        ],
                        "fold_2_test": [
                          112.9054577
                        ]
                      },
                      {
                        "fold_4_test": [
                          130.4285828
                        ],
                        "fold_0_learn": [
                          53.96242748
                        ],
                        "iteration": 249,
                        "fold_4_learn": [
                          49.38000119
                        ],
                        "fold_3_learn": [
                          53.21343005
                        ],
                        "fold_2_learn": [
                          53.19598588
                        ],
                        "fold_1_learn": [
                          59.31508141
                        ],
                        "fold_0_test": [
                          114.390779
                        ],
                        "fold_1_test": [
                          103.7027695
                        ],
                        "fold_3_test": [
                          123.2865182
                        ],
                        "fold_2_test": [
                          112.9116722
                        ]
                      },
                      {
                        "fold_4_test": [
                          130.3898448
                        ],
                        "fold_0_learn": [
                          53.90794109
                        ],
                        "iteration": 250,
                        "fold_4_learn": [
                          49.27826622
                        ],
                        "fold_3_learn": [
                          53.1032848
                        ],
                        "fold_2_learn": [
                          53.08341349
                        ],
                        "fold_1_learn": [
                          59.19705174
                        ],
                        "fold_0_test": [
                          114.4083954
                        ],
                        "fold_1_test": [
                          103.6870601
                        ],
                        "fold_3_test": [
                          123.4461949
                        ],
                        "fold_2_test": [
                          112.9948936
                        ]
                      },
                      {
                        "fold_4_test": [
                          130.4308284
                        ],
                        "fold_0_learn": [
                          53.79186641
                        ],
                        "iteration": 251,
                        "fold_4_learn": [
                          49.12055844
                        ],
                        "fold_3_learn": [
                          52.7999113
                        ],
                        "fold_2_learn": [
                          52.9360207
                        ],
                        "fold_1_learn": [
                          59.14342471
                        ],
                        "fold_0_test": [
                          114.495572
                        ],
                        "fold_1_test": [
                          103.6980046
                        ],
                        "fold_3_test": [
                          123.4920985
                        ],
                        "fold_2_test": [
                          113.0410657
                        ]
                      },
                      {
                        "fold_4_test": [
                          130.3906856
                        ],
                        "fold_0_learn": [
                          53.75957833
                        ],
                        "iteration": 252,
                        "fold_4_learn": [
                          49.03258605
                        ],
                        "fold_3_learn": [
                          52.54565692
                        ],
                        "fold_2_learn": [
                          52.76516102
                        ],
                        "fold_1_learn": [
                          59.04381581
                        ],
                        "fold_0_test": [
                          114.4785837
                        ],
                        "fold_1_test": [
                          103.5173956
                        ],
                        "fold_3_test": [
                          123.5105122
                        ],
                        "fold_2_test": [
                          113.1393937
                        ]
                      },
                      {
                        "fold_4_test": [
                          130.3778478
                        ],
                        "fold_0_learn": [
                          53.69419293
                        ],
                        "iteration": 253,
                        "fold_4_learn": [
                          48.96662381
                        ],
                        "fold_3_learn": [
                          52.35934017
                        ],
                        "fold_2_learn": [
                          52.56063009
                        ],
                        "fold_1_learn": [
                          59.03961117
                        ],
                        "fold_0_test": [
                          114.4577492
                        ],
                        "fold_1_test": [
                          103.5061271
                        ],
                        "fold_3_test": [
                          123.3246672
                        ],
                        "fold_2_test": [
                          113.0780207
                        ]
                      },
                      {
                        "fold_4_test": [
                          130.4705899
                        ],
                        "fold_0_learn": [
                          53.52197842
                        ],
                        "iteration": 254,
                        "fold_4_learn": [
                          48.86194829
                        ],
                        "fold_3_learn": [
                          52.31823325
                        ],
                        "fold_2_learn": [
                          52.54505592
                        ],
                        "fold_1_learn": [
                          59.02546942
                        ],
                        "fold_0_test": [
                          114.5616995
                        ],
                        "fold_1_test": [
                          103.5496226
                        ],
                        "fold_3_test": [
                          123.2496012
                        ],
                        "fold_2_test": [
                          113.063728
                        ]
                      },
                      {
                        "fold_4_test": [
                          130.4654174
                        ],
                        "fold_0_learn": [
                          53.42048875
                        ],
                        "iteration": 255,
                        "fold_4_learn": [
                          48.65856444
                        ],
                        "fold_3_learn": [
                          52.13127339
                        ],
                        "fold_2_learn": [
                          52.46282902
                        ],
                        "fold_1_learn": [
                          58.85828074
                        ],
                        "fold_0_test": [
                          114.5315226
                        ],
                        "fold_1_test": [
                          103.4264271
                        ],
                        "fold_3_test": [
                          123.163185
                        ],
                        "fold_2_test": [
                          113.1381127
                        ]
                      },
                      {
                        "fold_4_test": [
                          130.4738362
                        ],
                        "fold_0_learn": [
                          53.27308497
                        ],
                        "iteration": 256,
                        "fold_4_learn": [
                          48.63431683
                        ],
                        "fold_3_learn": [
                          52.01694647
                        ],
                        "fold_2_learn": [
                          52.37187286
                        ],
                        "fold_1_learn": [
                          58.77815222
                        ],
                        "fold_0_test": [
                          114.2935333
                        ],
                        "fold_1_test": [
                          103.4041436
                        ],
                        "fold_3_test": [
                          123.0034821
                        ],
                        "fold_2_test": [
                          113.2417505
                        ]
                      },
                      {
                        "fold_4_test": [
                          130.7675726
                        ],
                        "fold_0_learn": [
                          53.24534412
                        ],
                        "iteration": 257,
                        "fold_4_learn": [
                          48.48061552
                        ],
                        "fold_3_learn": [
                          51.80495881
                        ],
                        "fold_2_learn": [
                          52.20651622
                        ],
                        "fold_1_learn": [
                          58.56656116
                        ],
                        "fold_0_test": [
                          114.2976862
                        ],
                        "fold_1_test": [
                          103.4205496
                        ],
                        "fold_3_test": [
                          123.0679297
                        ],
                        "fold_2_test": [
                          113.2601566
                        ]
                      },
                      {
                        "fold_4_test": [
                          130.7376124
                        ],
                        "fold_0_learn": [
                          53.12364517
                        ],
                        "iteration": 258,
                        "fold_4_learn": [
                          48.36184768
                        ],
                        "fold_3_learn": [
                          51.61580048
                        ],
                        "fold_2_learn": [
                          52.09492961
                        ],
                        "fold_1_learn": [
                          58.52766371
                        ],
                        "fold_0_test": [
                          114.4197485
                        ],
                        "fold_1_test": [
                          103.4853387
                        ],
                        "fold_3_test": [
                          122.9714878
                        ],
                        "fold_2_test": [
                          113.3709647
                        ]
                      },
                      {
                        "fold_4_test": [
                          130.9501137
                        ],
                        "fold_0_learn": [
                          53.0437804
                        ],
                        "iteration": 259,
                        "fold_4_learn": [
                          48.22013967
                        ],
                        "fold_3_learn": [
                          51.58254321
                        ],
                        "fold_2_learn": [
                          51.90966614
                        ],
                        "fold_1_learn": [
                          58.45299781
                        ],
                        "fold_0_test": [
                          114.4343252
                        ],
                        "fold_1_test": [
                          103.4910802
                        ],
                        "fold_3_test": [
                          122.9851508
                        ],
                        "fold_2_test": [
                          113.6309126
                        ]
                      },
                      {
                        "fold_4_test": [
                          130.9189024
                        ],
                        "fold_0_learn": [
                          52.92033653
                        ],
                        "iteration": 260,
                        "fold_4_learn": [
                          48.10471733
                        ],
                        "fold_3_learn": [
                          51.4796466
                        ],
                        "fold_2_learn": [
                          51.83925835
                        ],
                        "fold_1_learn": [
                          58.35694515
                        ],
                        "fold_0_test": [
                          114.2776717
                        ],
                        "fold_1_test": [
                          103.4408775
                        ],
                        "fold_3_test": [
                          122.9381333
                        ],
                        "fold_2_test": [
                          113.6551258
                        ]
                      },
                      {
                        "fold_4_test": [
                          130.9573092
                        ],
                        "fold_0_learn": [
                          52.81176473
                        ],
                        "iteration": 261,
                        "fold_4_learn": [
                          47.92185807
                        ],
                        "fold_3_learn": [
                          51.41407696
                        ],
                        "fold_2_learn": [
                          51.79075138
                        ],
                        "fold_1_learn": [
                          58.28953722
                        ],
                        "fold_0_test": [
                          114.2619417
                        ],
                        "fold_1_test": [
                          103.3265459
                        ],
                        "fold_3_test": [
                          122.9452341
                        ],
                        "fold_2_test": [
                          113.6519412
                        ]
                      },
                      {
                        "fold_4_test": [
                          130.94553
                        ],
                        "fold_0_learn": [
                          52.74842949
                        ],
                        "iteration": 262,
                        "fold_4_learn": [
                          47.82570443
                        ],
                        "fold_3_learn": [
                          51.28858779
                        ],
                        "fold_2_learn": [
                          51.6226063
                        ],
                        "fold_1_learn": [
                          58.25875663
                        ],
                        "fold_0_test": [
                          114.1956322
                        ],
                        "fold_1_test": [
                          103.2858219
                        ],
                        "fold_3_test": [
                          122.9673153
                        ],
                        "fold_2_test": [
                          113.746867
                        ]
                      },
                      {
                        "fold_4_test": [
                          130.9223637
                        ],
                        "fold_0_learn": [
                          52.70415911
                        ],
                        "iteration": 263,
                        "fold_4_learn": [
                          47.70003338
                        ],
                        "fold_3_learn": [
                          51.25762192
                        ],
                        "fold_2_learn": [
                          51.53584809
                        ],
                        "fold_1_learn": [
                          58.03714978
                        ],
                        "fold_0_test": [
                          114.2269643
                        ],
                        "fold_1_test": [
                          102.6629078
                        ],
                        "fold_3_test": [
                          122.9558278
                        ],
                        "fold_2_test": [
                          113.7194923
                        ]
                      },
                      {
                        "fold_4_test": [
                          131.1181041
                        ],
                        "fold_0_learn": [
                          52.61127893
                        ],
                        "iteration": 264,
                        "fold_4_learn": [
                          47.56563914
                        ],
                        "fold_3_learn": [
                          51.06671274
                        ],
                        "fold_2_learn": [
                          51.39993385
                        ],
                        "fold_1_learn": [
                          57.95932233
                        ],
                        "fold_0_test": [
                          114.1601805
                        ],
                        "fold_1_test": [
                          102.5574148
                        ],
                        "fold_3_test": [
                          122.9287269
                        ],
                        "fold_2_test": [
                          113.7533476
                        ]
                      },
                      {
                        "fold_4_test": [
                          131.0938717
                        ],
                        "fold_0_learn": [
                          52.37613499
                        ],
                        "iteration": 265,
                        "fold_4_learn": [
                          47.50701621
                        ],
                        "fold_3_learn": [
                          50.99457155
                        ],
                        "fold_2_learn": [
                          51.27599923
                        ],
                        "fold_1_learn": [
                          57.69098782
                        ],
                        "fold_0_test": [
                          114.4021812
                        ],
                        "fold_1_test": [
                          102.7872888
                        ],
                        "fold_3_test": [
                          122.8322155
                        ],
                        "fold_2_test": [
                          113.7923102
                        ]
                      },
                      {
                        "fold_4_test": [
                          131.0820442
                        ],
                        "fold_0_learn": [
                          52.18695882
                        ],
                        "iteration": 266,
                        "fold_4_learn": [
                          47.49199435
                        ],
                        "fold_3_learn": [
                          50.93870177
                        ],
                        "fold_2_learn": [
                          51.26583188
                        ],
                        "fold_1_learn": [
                          57.63673462
                        ],
                        "fold_0_test": [
                          114.3257669
                        ],
                        "fold_1_test": [
                          102.8537461
                        ],
                        "fold_3_test": [
                          122.7763137
                        ],
                        "fold_2_test": [
                          113.8000945
                        ]
                      },
                      {
                        "fold_4_test": [
                          131.0569036
                        ],
                        "fold_0_learn": [
                          52.01932934
                        ],
                        "iteration": 267,
                        "fold_4_learn": [
                          47.39377012
                        ],
                        "fold_3_learn": [
                          50.89647198
                        ],
                        "fold_2_learn": [
                          51.19323202
                        ],
                        "fold_1_learn": [
                          57.42610961
                        ],
                        "fold_0_test": [
                          114.4031443
                        ],
                        "fold_1_test": [
                          102.7091535
                        ],
                        "fold_3_test": [
                          122.7739035
                        ],
                        "fold_2_test": [
                          113.7633962
                        ]
                      },
                      {
                        "fold_4_test": [
                          131.0667631
                        ],
                        "fold_0_learn": [
                          52.00045826
                        ],
                        "iteration": 268,
                        "fold_4_learn": [
                          47.30590287
                        ],
                        "fold_3_learn": [
                          50.84891332
                        ],
                        "fold_2_learn": [
                          51.10561311
                        ],
                        "fold_1_learn": [
                          57.14298449
                        ],
                        "fold_0_test": [
                          114.3944094
                        ],
                        "fold_1_test": [
                          102.8331909
                        ],
                        "fold_3_test": [
                          122.7609898
                        ],
                        "fold_2_test": [
                          113.9224316
                        ]
                      },
                      {
                        "fold_4_test": [
                          131.078225
                        ],
                        "fold_0_learn": [
                          51.94623224
                        ],
                        "iteration": 269,
                        "fold_4_learn": [
                          47.22348462
                        ],
                        "fold_3_learn": [
                          50.76389332
                        ],
                        "fold_2_learn": [
                          50.96226976
                        ],
                        "fold_1_learn": [
                          57.08842445
                        ],
                        "fold_0_test": [
                          114.4048324
                        ],
                        "fold_1_test": [
                          102.8262271
                        ],
                        "fold_3_test": [
                          122.786333
                        ],
                        "fold_2_test": [
                          113.7913818
                        ]
                      },
                      {
                        "fold_4_test": [
                          131.1759594
                        ],
                        "fold_0_learn": [
                          51.87383102
                        ],
                        "iteration": 270,
                        "fold_4_learn": [
                          47.07548642
                        ],
                        "fold_3_learn": [
                          50.73787893
                        ],
                        "fold_2_learn": [
                          50.88746578
                        ],
                        "fold_1_learn": [
                          57.01872588
                        ],
                        "fold_0_test": [
                          114.3138721
                        ],
                        "fold_1_test": [
                          102.8858686
                        ],
                        "fold_3_test": [
                          122.8232205
                        ],
                        "fold_2_test": [
                          113.7604881
                        ]
                      },
                      {
                        "fold_4_test": [
                          131.1518578
                        ],
                        "fold_0_learn": [
                          51.82339785
                        ],
                        "iteration": 271,
                        "fold_4_learn": [
                          46.96269743
                        ],
                        "fold_3_learn": [
                          50.63179257
                        ],
                        "fold_2_learn": [
                          50.69021537
                        ],
                        "fold_1_learn": [
                          56.95027908
                        ],
                        "fold_0_test": [
                          114.26151
                        ],
                        "fold_1_test": [
                          102.933131
                        ],
                        "fold_3_test": [
                          122.7757561
                        ],
                        "fold_2_test": [
                          113.6957788
                        ]
                      },
                      {
                        "fold_4_test": [
                          131.0134376
                        ],
                        "fold_0_learn": [
                          51.7544962
                        ],
                        "iteration": 272,
                        "fold_4_learn": [
                          46.84184003
                        ],
                        "fold_3_learn": [
                          50.58148073
                        ],
                        "fold_2_learn": [
                          50.58836113
                        ],
                        "fold_1_learn": [
                          56.83513425
                        ],
                        "fold_0_test": [
                          114.1917553
                        ],
                        "fold_1_test": [
                          102.8852122
                        ],
                        "fold_3_test": [
                          122.763684
                        ],
                        "fold_2_test": [
                          113.6310359
                        ]
                      },
                      {
                        "fold_4_test": [
                          130.978154
                        ],
                        "fold_0_learn": [
                          51.65064934
                        ],
                        "iteration": 273,
                        "fold_4_learn": [
                          46.75141227
                        ],
                        "fold_3_learn": [
                          50.52982133
                        ],
                        "fold_2_learn": [
                          50.5435965
                        ],
                        "fold_1_learn": [
                          56.79835264
                        ],
                        "fold_0_test": [
                          114.1576761
                        ],
                        "fold_1_test": [
                          102.8595664
                        ],
                        "fold_3_test": [
                          122.7330695
                        ],
                        "fold_2_test": [
                          113.5618848
                        ]
                      },
                      {
                        "fold_4_test": [
                          131.0973969
                        ],
                        "fold_0_learn": [
                          51.5387649
                        ],
                        "iteration": 274,
                        "fold_4_learn": [
                          46.67223529
                        ],
                        "fold_3_learn": [
                          50.36644938
                        ],
                        "fold_2_learn": [
                          50.50564038
                        ],
                        "fold_1_learn": [
                          56.77763956
                        ],
                        "fold_0_test": [
                          114.1256435
                        ],
                        "fold_1_test": [
                          102.8689395
                        ],
                        "fold_3_test": [
                          123.0026721
                        ],
                        "fold_2_test": [
                          113.6116368
                        ]
                      },
                      {
                        "fold_4_test": [
                          131.0764925
                        ],
                        "fold_0_learn": [
                          51.46376278
                        ],
                        "iteration": 275,
                        "fold_4_learn": [
                          46.64468695
                        ],
                        "fold_3_learn": [
                          50.26491541
                        ],
                        "fold_2_learn": [
                          50.39312855
                        ],
                        "fold_1_learn": [
                          56.63133687
                        ],
                        "fold_0_test": [
                          114.1501353
                        ],
                        "fold_1_test": [
                          103.073751
                        ],
                        "fold_3_test": [
                          123.0703581
                        ],
                        "fold_2_test": [
                          113.7064822
                        ]
                      },
                      {
                        "fold_4_test": [
                          131.0617395
                        ],
                        "fold_0_learn": [
                          51.40607514
                        ],
                        "iteration": 276,
                        "fold_4_learn": [
                          46.61361556
                        ],
                        "fold_3_learn": [
                          50.2112839
                        ],
                        "fold_2_learn": [
                          50.32462606
                        ],
                        "fold_1_learn": [
                          56.60332173
                        ],
                        "fold_0_test": [
                          114.1280256
                        ],
                        "fold_1_test": [
                          103.0679692
                        ],
                        "fold_3_test": [
                          123.0917337
                        ],
                        "fold_2_test": [
                          113.6555456
                        ]
                      },
                      {
                        "fold_4_test": [
                          131.0495166
                        ],
                        "fold_0_learn": [
                          51.24594961
                        ],
                        "iteration": 277,
                        "fold_4_learn": [
                          46.52580024
                        ],
                        "fold_3_learn": [
                          50.11581231
                        ],
                        "fold_2_learn": [
                          50.26024066
                        ],
                        "fold_1_learn": [
                          56.41870293
                        ],
                        "fold_0_test": [
                          114.1420302
                        ],
                        "fold_1_test": [
                          102.9992488
                        ],
                        "fold_3_test": [
                          123.0116248
                        ],
                        "fold_2_test": [
                          113.5849416
                        ]
                      },
                      {
                        "fold_4_test": [
                          131.0057058
                        ],
                        "fold_0_learn": [
                          51.14471473
                        ],
                        "iteration": 278,
                        "fold_4_learn": [
                          46.29178343
                        ],
                        "fold_3_learn": [
                          50.02397694
                        ],
                        "fold_2_learn": [
                          50.07751923
                        ],
                        "fold_1_learn": [
                          56.21566764
                        ],
                        "fold_0_test": [
                          114.2179968
                        ],
                        "fold_1_test": [
                          103.0270357
                        ],
                        "fold_3_test": [
                          123.0752174
                        ],
                        "fold_2_test": [
                          113.6797017
                        ]
                      },
                      {
                        "fold_4_test": [
                          131.0767253
                        ],
                        "fold_0_learn": [
                          51.00097209
                        ],
                        "iteration": 279,
                        "fold_4_learn": [
                          46.18552699
                        ],
                        "fold_3_learn": [
                          49.9338292
                        ],
                        "fold_2_learn": [
                          50.03951794
                        ],
                        "fold_1_learn": [
                          56.17670363
                        ],
                        "fold_0_test": [
                          114.1315236
                        ],
                        "fold_1_test": [
                          103.0118475
                        ],
                        "fold_3_test": [
                          122.9962213
                        ],
                        "fold_2_test": [
                          113.6637548
                        ]
                      },
                      {
                        "fold_4_test": [
                          131.2793254
                        ],
                        "fold_0_learn": [
                          50.92406824
                        ],
                        "iteration": 280,
                        "fold_4_learn": [
                          46.06535405
                        ],
                        "fold_3_learn": [
                          49.85346078
                        ],
                        "fold_2_learn": [
                          49.99211848
                        ],
                        "fold_1_learn": [
                          56.11181978
                        ],
                        "fold_0_test": [
                          114.0823998
                        ],
                        "fold_1_test": [
                          102.9977574
                        ],
                        "fold_3_test": [
                          122.9316149
                        ],
                        "fold_2_test": [
                          113.6303156
                        ]
                      },
                      {
                        "fold_4_test": [
                          131.426824
                        ],
                        "fold_0_learn": [
                          50.79655785
                        ],
                        "iteration": 281,
                        "fold_4_learn": [
                          45.9715822
                        ],
                        "fold_3_learn": [
                          49.82581508
                        ],
                        "fold_2_learn": [
                          49.79966415
                        ],
                        "fold_1_learn": [
                          56.06722604
                        ],
                        "fold_0_test": [
                          113.9604074
                        ],
                        "fold_1_test": [
                          102.9766421
                        ],
                        "fold_3_test": [
                          122.9182102
                        ],
                        "fold_2_test": [
                          113.6039226
                        ]
                      },
                      {
                        "fold_4_test": [
                          131.3939246
                        ],
                        "fold_0_learn": [
                          50.77998407
                        ],
                        "iteration": 282,
                        "fold_4_learn": [
                          45.94959204
                        ],
                        "fold_3_learn": [
                          49.59959637
                        ],
                        "fold_2_learn": [
                          49.75302132
                        ],
                        "fold_1_learn": [
                          55.93187367
                        ],
                        "fold_0_test": [
                          113.9549376
                        ],
                        "fold_1_test": [
                          102.9489547
                        ],
                        "fold_3_test": [
                          122.6360153
                        ],
                        "fold_2_test": [
                          113.6579873
                        ]
                      },
                      {
                        "fold_4_test": [
                          131.3769463
                        ],
                        "fold_0_learn": [
                          50.63430308
                        ],
                        "iteration": 283,
                        "fold_4_learn": [
                          45.93497857
                        ],
                        "fold_3_learn": [
                          49.55743565
                        ],
                        "fold_2_learn": [
                          49.48012113
                        ],
                        "fold_1_learn": [
                          55.90464344
                        ],
                        "fold_0_test": [
                          114.049935
                        ],
                        "fold_1_test": [
                          102.9338365
                        ],
                        "fold_3_test": [
                          122.645725
                        ],
                        "fold_2_test": [
                          113.7213866
                        ]
                      },
                      {
                        "fold_4_test": [
                          131.364293
                        ],
                        "fold_0_learn": [
                          50.48712429
                        ],
                        "iteration": 284,
                        "fold_4_learn": [
                          45.91534441
                        ],
                        "fold_3_learn": [
                          49.45926345
                        ],
                        "fold_2_learn": [
                          49.38066675
                        ],
                        "fold_1_learn": [
                          55.89364677
                        ],
                        "fold_0_test": [
                          114.06671
                        ],
                        "fold_1_test": [
                          102.9840625
                        ],
                        "fold_3_test": [
                          122.6152085
                        ],
                        "fold_2_test": [
                          113.6760325
                        ]
                      },
                      {
                        "fold_4_test": [
                          131.3136057
                        ],
                        "fold_0_learn": [
                          50.3503307
                        ],
                        "iteration": 285,
                        "fold_4_learn": [
                          45.81368838
                        ],
                        "fold_3_learn": [
                          49.43275965
                        ],
                        "fold_2_learn": [
                          49.21982835
                        ],
                        "fold_1_learn": [
                          55.78640321
                        ],
                        "fold_0_test": [
                          114.0704828
                        ],
                        "fold_1_test": [
                          102.8940011
                        ],
                        "fold_3_test": [
                          122.6003587
                        ],
                        "fold_2_test": [
                          113.6205663
                        ]
                      },
                      {
                        "fold_4_test": [
                          131.6921824
                        ],
                        "fold_0_learn": [
                          50.3197975
                        ],
                        "iteration": 286,
                        "fold_4_learn": [
                          45.61617134
                        ],
                        "fold_3_learn": [
                          49.30917377
                        ],
                        "fold_2_learn": [
                          49.05541412
                        ],
                        "fold_1_learn": [
                          55.72597037
                        ],
                        "fold_0_test": [
                          114.062854
                        ],
                        "fold_1_test": [
                          102.8914121
                        ],
                        "fold_3_test": [
                          122.648549
                        ],
                        "fold_2_test": [
                          113.6641777
                        ]
                      },
                      {
                        "fold_4_test": [
                          131.6734932
                        ],
                        "fold_0_learn": [
                          50.22166828
                        ],
                        "iteration": 287,
                        "fold_4_learn": [
                          45.57955378
                        ],
                        "fold_3_learn": [
                          49.28675318
                        ],
                        "fold_2_learn": [
                          48.97813345
                        ],
                        "fold_1_learn": [
                          55.60149726
                        ],
                        "fold_0_test": [
                          114.1790488
                        ],
                        "fold_1_test": [
                          102.9216929
                        ],
                        "fold_3_test": [
                          122.5980388
                        ],
                        "fold_2_test": [
                          113.7411979
                        ]
                      },
                      {
                        "fold_4_test": [
                          131.6085272
                        ],
                        "fold_0_learn": [
                          50.05383116
                        ],
                        "iteration": 288,
                        "fold_4_learn": [
                          45.51915842
                        ],
                        "fold_3_learn": [
                          49.24192201
                        ],
                        "fold_2_learn": [
                          48.84085406
                        ],
                        "fold_1_learn": [
                          55.54373791
                        ],
                        "fold_0_test": [
                          114.1217273
                        ],
                        "fold_1_test": [
                          102.8603767
                        ],
                        "fold_3_test": [
                          122.6259538
                        ],
                        "fold_2_test": [
                          113.7421552
                        ]
                      },
                      {
                        "fold_4_test": [
                          131.6524027
                        ],
                        "fold_0_learn": [
                          49.98414282
                        ],
                        "iteration": 289,
                        "fold_4_learn": [
                          45.33392458
                        ],
                        "fold_3_learn": [
                          49.19319509
                        ],
                        "fold_2_learn": [
                          48.57834004
                        ],
                        "fold_1_learn": [
                          55.41096004
                        ],
                        "fold_0_test": [
                          114.1621108
                        ],
                        "fold_1_test": [
                          102.7978978
                        ],
                        "fold_3_test": [
                          122.6148879
                        ],
                        "fold_2_test": [
                          113.7401965
                        ]
                      },
                      {
                        "fold_4_test": [
                          131.7368587
                        ],
                        "fold_0_learn": [
                          49.91302937
                        ],
                        "iteration": 290,
                        "fold_4_learn": [
                          45.19765782
                        ],
                        "fold_3_learn": [
                          49.10703001
                        ],
                        "fold_2_learn": [
                          48.55334028
                        ],
                        "fold_1_learn": [
                          55.40937167
                        ],
                        "fold_0_test": [
                          114.0075881
                        ],
                        "fold_1_test": [
                          102.7964291
                        ],
                        "fold_3_test": [
                          122.6402042
                        ],
                        "fold_2_test": [
                          113.7926877
                        ]
                      },
                      {
                        "fold_4_test": [
                          131.7057757
                        ],
                        "fold_0_learn": [
                          49.81891367
                        ],
                        "iteration": 291,
                        "fold_4_learn": [
                          45.13451482
                        ],
                        "fold_3_learn": [
                          48.95640665
                        ],
                        "fold_2_learn": [
                          48.43335141
                        ],
                        "fold_1_learn": [
                          55.26664644
                        ],
                        "fold_0_test": [
                          113.926289
                        ],
                        "fold_1_test": [
                          102.7611415
                        ],
                        "fold_3_test": [
                          122.5951977
                        ],
                        "fold_2_test": [
                          113.8070689
                        ]
                      },
                      {
                        "fold_4_test": [
                          131.6948121
                        ],
                        "fold_0_learn": [
                          49.74501028
                        ],
                        "iteration": 292,
                        "fold_4_learn": [
                          45.12013305
                        ],
                        "fold_3_learn": [
                          48.81508319
                        ],
                        "fold_2_learn": [
                          48.33935029
                        ],
                        "fold_1_learn": [
                          55.2557535
                        ],
                        "fold_0_test": [
                          113.9409719
                        ],
                        "fold_1_test": [
                          102.7613653
                        ],
                        "fold_3_test": [
                          122.5075357
                        ],
                        "fold_2_test": [
                          113.7613812
                        ]
                      },
                      {
                        "fold_4_test": [
                          131.8173916
                        ],
                        "fold_0_learn": [
                          49.71226995
                        ],
                        "iteration": 293,
                        "fold_4_learn": [
                          44.95925148
                        ],
                        "fold_3_learn": [
                          48.70590448
                        ],
                        "fold_2_learn": [
                          48.32143119
                        ],
                        "fold_1_learn": [
                          55.18305207
                        ],
                        "fold_0_test": [
                          113.9377642
                        ],
                        "fold_1_test": [
                          102.7388793
                        ],
                        "fold_3_test": [
                          122.4447849
                        ],
                        "fold_2_test": [
                          113.7622772
                        ]
                      },
                      {
                        "fold_4_test": [
                          131.8653641
                        ],
                        "fold_0_learn": [
                          49.68321391
                        ],
                        "iteration": 294,
                        "fold_4_learn": [
                          44.92637968
                        ],
                        "fold_3_learn": [
                          48.66684955
                        ],
                        "fold_2_learn": [
                          48.29811492
                        ],
                        "fold_1_learn": [
                          55.09621718
                        ],
                        "fold_0_test": [
                          113.9280851
                        ],
                        "fold_1_test": [
                          102.6729638
                        ],
                        "fold_3_test": [
                          122.4397057
                        ],
                        "fold_2_test": [
                          113.777679
                        ]
                      },
                      {
                        "fold_4_test": [
                          131.8353857
                        ],
                        "fold_0_learn": [
                          49.51383529
                        ],
                        "iteration": 295,
                        "fold_4_learn": [
                          44.82926726
                        ],
                        "fold_3_learn": [
                          48.61571667
                        ],
                        "fold_2_learn": [
                          48.25860614
                        ],
                        "fold_1_learn": [
                          55.01894658
                        ],
                        "fold_0_test": [
                          113.7276216
                        ],
                        "fold_1_test": [
                          102.6732718
                        ],
                        "fold_3_test": [
                          122.4278843
                        ],
                        "fold_2_test": [
                          113.8559615
                        ]
                      },
                      {
                        "fold_4_test": [
                          131.8208297
                        ],
                        "fold_0_learn": [
                          49.43525286
                        ],
                        "iteration": 296,
                        "fold_4_learn": [
                          44.80246802
                        ],
                        "fold_3_learn": [
                          48.53844185
                        ],
                        "fold_2_learn": [
                          48.23140174
                        ],
                        "fold_1_learn": [
                          54.82816856
                        ],
                        "fold_0_test": [
                          113.5551046
                        ],
                        "fold_1_test": [
                          102.5527664
                        ],
                        "fold_3_test": [
                          122.4632696
                        ],
                        "fold_2_test": [
                          113.915476
                        ]
                      },
                      {
                        "fold_4_test": [
                          131.8004577
                        ],
                        "fold_0_learn": [
                          49.34331337
                        ],
                        "iteration": 297,
                        "fold_4_learn": [
                          44.71798427
                        ],
                        "fold_3_learn": [
                          48.49405776
                        ],
                        "fold_2_learn": [
                          48.05152152
                        ],
                        "fold_1_learn": [
                          54.73816967
                        ],
                        "fold_0_test": [
                          113.5148447
                        ],
                        "fold_1_test": [
                          102.6127554
                        ],
                        "fold_3_test": [
                          122.4553989
                        ],
                        "fold_2_test": [
                          113.918461
                        ]
                      },
                      {
                        "fold_4_test": [
                          131.7682021
                        ],
                        "fold_0_learn": [
                          49.21572971
                        ],
                        "iteration": 298,
                        "fold_4_learn": [
                          44.61779425
                        ],
                        "fold_3_learn": [
                          48.44738855
                        ],
                        "fold_2_learn": [
                          47.91464035
                        ],
                        "fold_1_learn": [
                          54.6354227
                        ],
                        "fold_0_test": [
                          113.8044334
                        ],
                        "fold_1_test": [
                          102.6214343
                        ],
                        "fold_3_test": [
                          122.4755228
                        ],
                        "fold_2_test": [
                          113.9141608
                        ]
                      },
                      {
                        "fold_4_test": [
                          131.9073437
                        ],
                        "fold_0_learn": [
                          49.17285401
                        ],
                        "iteration": 299,
                        "fold_4_learn": [
                          44.43943598
                        ],
                        "fold_3_learn": [
                          48.38383423
                        ],
                        "fold_2_learn": [
                          47.87699384
                        ],
                        "fold_1_learn": [
                          54.51716228
                        ],
                        "fold_0_test": [
                          113.7950954
                        ],
                        "fold_1_test": [
                          102.6029915
                        ],
                        "fold_3_test": [
                          122.476074
                        ],
                        "fold_2_test": [
                          113.8886947
                        ]
                      },
                      {
                        "fold_4_test": [
                          131.8479443
                        ],
                        "fold_0_learn": [
                          49.04071683
                        ],
                        "iteration": 300,
                        "fold_4_learn": [
                          44.37007181
                        ],
                        "fold_3_learn": [
                          48.36818644
                        ],
                        "fold_2_learn": [
                          47.79302139
                        ],
                        "fold_1_learn": [
                          54.22115435
                        ],
                        "fold_0_test": [
                          113.7620595
                        ],
                        "fold_1_test": [
                          102.5225397
                        ],
                        "fold_3_test": [
                          122.4672796
                        ],
                        "fold_2_test": [
                          113.895507
                        ]
                      },
                      {
                        "fold_4_test": [
                          131.8477291
                        ],
                        "fold_0_learn": [
                          48.95313323
                        ],
                        "iteration": 301,
                        "fold_4_learn": [
                          44.21460851
                        ],
                        "fold_3_learn": [
                          48.29262237
                        ],
                        "fold_2_learn": [
                          47.6331856
                        ],
                        "fold_1_learn": [
                          54.05789219
                        ],
                        "fold_0_test": [
                          113.810286
                        ],
                        "fold_1_test": [
                          102.5390976
                        ],
                        "fold_3_test": [
                          122.4321524
                        ],
                        "fold_2_test": [
                          113.8798096
                        ]
                      },
                      {
                        "fold_4_test": [
                          131.9141695
                        ],
                        "fold_0_learn": [
                          48.7238974
                        ],
                        "iteration": 302,
                        "fold_4_learn": [
                          44.15105853
                        ],
                        "fold_3_learn": [
                          48.20194362
                        ],
                        "fold_2_learn": [
                          47.55160796
                        ],
                        "fold_1_learn": [
                          53.87837607
                        ],
                        "fold_0_test": [
                          113.524734
                        ],
                        "fold_1_test": [
                          102.4441248
                        ],
                        "fold_3_test": [
                          122.2698982
                        ],
                        "fold_2_test": [
                          114.0006343
                        ]
                      },
                      {
                        "fold_4_test": [
                          131.9067621
                        ],
                        "fold_0_learn": [
                          48.58516158
                        ],
                        "iteration": 303,
                        "fold_4_learn": [
                          44.069315
                        ],
                        "fold_3_learn": [
                          48.13180723
                        ],
                        "fold_2_learn": [
                          47.5443866
                        ],
                        "fold_1_learn": [
                          53.8559343
                        ],
                        "fold_0_test": [
                          113.6294195
                        ],
                        "fold_1_test": [
                          102.4463297
                        ],
                        "fold_3_test": [
                          122.2489583
                        ],
                        "fold_2_test": [
                          114.0080327
                        ]
                      },
                      {
                        "fold_4_test": [
                          131.8670047
                        ],
                        "fold_0_learn": [
                          48.33257187
                        ],
                        "iteration": 304,
                        "fold_4_learn": [
                          43.92272962
                        ],
                        "fold_3_learn": [
                          47.99966805
                        ],
                        "fold_2_learn": [
                          47.42596878
                        ],
                        "fold_1_learn": [
                          53.65021907
                        ],
                        "fold_0_test": [
                          113.6757728
                        ],
                        "fold_1_test": [
                          102.4738085
                        ],
                        "fold_3_test": [
                          122.2271697
                        ],
                        "fold_2_test": [
                          114.0027528
                        ]
                      },
                      {
                        "fold_4_test": [
                          131.8456074
                        ],
                        "fold_0_learn": [
                          48.30591278
                        ],
                        "iteration": 305,
                        "fold_4_learn": [
                          43.86816994
                        ],
                        "fold_3_learn": [
                          47.95034386
                        ],
                        "fold_2_learn": [
                          47.28293436
                        ],
                        "fold_1_learn": [
                          53.47320577
                        ],
                        "fold_0_test": [
                          113.6654162
                        ],
                        "fold_1_test": [
                          102.3222298
                        ],
                        "fold_3_test": [
                          122.302185
                        ],
                        "fold_2_test": [
                          113.9584816
                        ]
                      },
                      {
                        "fold_4_test": [
                          131.8914859
                        ],
                        "fold_0_learn": [
                          48.10197583
                        ],
                        "iteration": 306,
                        "fold_4_learn": [
                          43.80844267
                        ],
                        "fold_3_learn": [
                          47.91237589
                        ],
                        "fold_2_learn": [
                          47.22196977
                        ],
                        "fold_1_learn": [
                          53.46748773
                        ],
                        "fold_0_test": [
                          113.647746
                        ],
                        "fold_1_test": [
                          102.3198755
                        ],
                        "fold_3_test": [
                          122.3215196
                        ],
                        "fold_2_test": [
                          114.0730042
                        ]
                      },
                      {
                        "fold_4_test": [
                          131.881538
                        ],
                        "fold_0_learn": [
                          47.98155949
                        ],
                        "iteration": 307,
                        "fold_4_learn": [
                          43.70791483
                        ],
                        "fold_3_learn": [
                          47.88968523
                        ],
                        "fold_2_learn": [
                          47.18458436
                        ],
                        "fold_1_learn": [
                          53.38800761
                        ],
                        "fold_0_test": [
                          113.5037788
                        ],
                        "fold_1_test": [
                          102.3046111
                        ],
                        "fold_3_test": [
                          122.3510533
                        ],
                        "fold_2_test": [
                          114.040621
                        ]
                      },
                      {
                        "fold_4_test": [
                          132.1048263
                        ],
                        "fold_0_learn": [
                          47.90431087
                        ],
                        "iteration": 308,
                        "fold_4_learn": [
                          43.52854868
                        ],
                        "fold_3_learn": [
                          47.83636344
                        ],
                        "fold_2_learn": [
                          46.97486929
                        ],
                        "fold_1_learn": [
                          53.328722
                        ],
                        "fold_0_test": [
                          113.4191531
                        ],
                        "fold_1_test": [
                          102.2906899
                        ],
                        "fold_3_test": [
                          122.3938099
                        ],
                        "fold_2_test": [
                          113.9133466
                        ]
                      },
                      {
                        "fold_4_test": [
                          132.1528885
                        ],
                        "fold_0_learn": [
                          47.8633702
                        ],
                        "iteration": 309,
                        "fold_4_learn": [
                          43.38795641
                        ],
                        "fold_3_learn": [
                          47.76421418
                        ],
                        "fold_2_learn": [
                          46.96087566
                        ],
                        "fold_1_learn": [
                          53.29278897
                        ],
                        "fold_0_test": [
                          113.4125243
                        ],
                        "fold_1_test": [
                          102.2701319
                        ],
                        "fold_3_test": [
                          122.4096364
                        ],
                        "fold_2_test": [
                          113.9101282
                        ]
                      },
                      {
                        "fold_4_test": [
                          132.1046205
                        ],
                        "fold_0_learn": [
                          47.81467922
                        ],
                        "iteration": 310,
                        "fold_4_learn": [
                          43.27456959
                        ],
                        "fold_3_learn": [
                          47.6762656
                        ],
                        "fold_2_learn": [
                          46.78566611
                        ],
                        "fold_1_learn": [
                          52.98685966
                        ],
                        "fold_0_test": [
                          113.3968941
                        ],
                        "fold_1_test": [
                          102.3913725
                        ],
                        "fold_3_test": [
                          122.3579843
                        ],
                        "fold_2_test": [
                          113.9959818
                        ]
                      },
                      {
                        "fold_4_test": [
                          132.0559219
                        ],
                        "fold_0_learn": [
                          47.7431833
                        ],
                        "iteration": 311,
                        "fold_4_learn": [
                          43.20500673
                        ],
                        "fold_3_learn": [
                          47.64828334
                        ],
                        "fold_2_learn": [
                          46.76439511
                        ],
                        "fold_1_learn": [
                          52.92542775
                        ],
                        "fold_0_test": [
                          113.3815877
                        ],
                        "fold_1_test": [
                          102.3706961
                        ],
                        "fold_3_test": [
                          122.3568405
                        ],
                        "fold_2_test": [
                          113.9798294
                        ]
                      },
                      {
                        "fold_4_test": [
                          132.0232636
                        ],
                        "fold_0_learn": [
                          47.53684124
                        ],
                        "iteration": 312,
                        "fold_4_learn": [
                          43.13378354
                        ],
                        "fold_3_learn": [
                          47.63222897
                        ],
                        "fold_2_learn": [
                          46.74384063
                        ],
                        "fold_1_learn": [
                          52.92216025
                        ],
                        "fold_0_test": [
                          113.5005997
                        ],
                        "fold_1_test": [
                          102.3679378
                        ],
                        "fold_3_test": [
                          122.3537572
                        ],
                        "fold_2_test": [
                          114.0312741
                        ]
                      },
                      {
                        "fold_4_test": [
                          132.0010272
                        ],
                        "fold_0_learn": [
                          47.46001938
                        ],
                        "iteration": 313,
                        "fold_4_learn": [
                          43.08723129
                        ],
                        "fold_3_learn": [
                          47.58966758
                        ],
                        "fold_2_learn": [
                          46.6390517
                        ],
                        "fold_1_learn": [
                          52.76895699
                        ],
                        "fold_0_test": [
                          113.4892257
                        ],
                        "fold_1_test": [
                          102.3731848
                        ],
                        "fold_3_test": [
                          122.3783323
                        ],
                        "fold_2_test": [
                          114.0161193
                        ]
                      },
                      {
                        "fold_4_test": [
                          132.1043244
                        ],
                        "fold_0_learn": [
                          47.41829163
                        ],
                        "iteration": 314,
                        "fold_4_learn": [
                          43.03615493
                        ],
                        "fold_3_learn": [
                          47.45093197
                        ],
                        "fold_2_learn": [
                          46.49240419
                        ],
                        "fold_1_learn": [
                          52.52161485
                        ],
                        "fold_0_test": [
                          113.5188645
                        ],
                        "fold_1_test": [
                          102.3854597
                        ],
                        "fold_3_test": [
                          122.4243036
                        ],
                        "fold_2_test": [
                          114.1942447
                        ]
                      },
                      {
                        "fold_4_test": [
                          132.0793949
                        ],
                        "fold_0_learn": [
                          47.31293176
                        ],
                        "iteration": 315,
                        "fold_4_learn": [
                          43.01776777
                        ],
                        "fold_3_learn": [
                          47.40529966
                        ],
                        "fold_2_learn": [
                          46.38492705
                        ],
                        "fold_1_learn": [
                          52.45462395
                        ],
                        "fold_0_test": [
                          113.5575571
                        ],
                        "fold_1_test": [
                          102.2737278
                        ],
                        "fold_3_test": [
                          122.3776564
                        ],
                        "fold_2_test": [
                          114.2094478
                        ]
                      },
                      {
                        "fold_4_test": [
                          132.0895277
                        ],
                        "fold_0_learn": [
                          47.22505529
                        ],
                        "iteration": 316,
                        "fold_4_learn": [
                          42.97767126
                        ],
                        "fold_3_learn": [
                          47.35462925
                        ],
                        "fold_2_learn": [
                          46.2623109
                        ],
                        "fold_1_learn": [
                          52.32905196
                        ],
                        "fold_0_test": [
                          113.5452991
                        ],
                        "fold_1_test": [
                          102.3070907
                        ],
                        "fold_3_test": [
                          122.4113665
                        ],
                        "fold_2_test": [
                          114.2301789
                        ]
                      },
                      {
                        "fold_4_test": [
                          132.071472
                        ],
                        "fold_0_learn": [
                          47.18648614
                        ],
                        "iteration": 317,
                        "fold_4_learn": [
                          42.96898226
                        ],
                        "fold_3_learn": [
                          47.17775058
                        ],
                        "fold_2_learn": [
                          46.15665884
                        ],
                        "fold_1_learn": [
                          52.31681615
                        ],
                        "fold_0_test": [
                          113.5713232
                        ],
                        "fold_1_test": [
                          102.3068657
                        ],
                        "fold_3_test": [
                          122.2931176
                        ],
                        "fold_2_test": [
                          114.239387
                        ]
                      },
                      {
                        "fold_4_test": [
                          132.0305204
                        ],
                        "fold_0_learn": [
                          47.07058567
                        ],
                        "iteration": 318,
                        "fold_4_learn": [
                          42.78138271
                        ],
                        "fold_3_learn": [
                          47.12553262
                        ],
                        "fold_2_learn": [
                          46.10060682
                        ],
                        "fold_1_learn": [
                          52.21071378
                        ],
                        "fold_0_test": [
                          113.6264039
                        ],
                        "fold_1_test": [
                          102.2840909
                        ],
                        "fold_3_test": [
                          122.4261082
                        ],
                        "fold_2_test": [
                          114.2559928
                        ]
                      },
                      {
                        "fold_4_test": [
                          131.9988329
                        ],
                        "fold_0_learn": [
                          47.02911106
                        ],
                        "iteration": 319,
                        "fold_4_learn": [
                          42.66587245
                        ],
                        "fold_3_learn": [
                          47.04555169
                        ],
                        "fold_2_learn": [
                          46.05039672
                        ],
                        "fold_1_learn": [
                          52.11926784
                        ],
                        "fold_0_test": [
                          113.6391271
                        ],
                        "fold_1_test": [
                          102.2966854
                        ],
                        "fold_3_test": [
                          122.406316
                        ],
                        "fold_2_test": [
                          114.2298543
                        ]
                      },
                      {
                        "fold_4_test": [
                          132.0063371
                        ],
                        "fold_0_learn": [
                          46.8556526
                        ],
                        "iteration": 320,
                        "fold_4_learn": [
                          42.61797195
                        ],
                        "fold_3_learn": [
                          46.97457426
                        ],
                        "fold_2_learn": [
                          45.95447078
                        ],
                        "fold_1_learn": [
                          52.0453729
                        ],
                        "fold_0_test": [
                          113.7362985
                        ],
                        "fold_1_test": [
                          102.3900124
                        ],
                        "fold_3_test": [
                          122.3673605
                        ],
                        "fold_2_test": [
                          114.2839337
                        ]
                      },
                      {
                        "fold_4_test": [
                          132.0417281
                        ],
                        "fold_0_learn": [
                          46.68453108
                        ],
                        "iteration": 321,
                        "fold_4_learn": [
                          42.5316572
                        ],
                        "fold_3_learn": [
                          46.89982595
                        ],
                        "fold_2_learn": [
                          45.89769193
                        ],
                        "fold_1_learn": [
                          52.01644437
                        ],
                        "fold_0_test": [
                          113.6178061
                        ],
                        "fold_1_test": [
                          102.3954611
                        ],
                        "fold_3_test": [
                          122.3704093
                        ],
                        "fold_2_test": [
                          114.2989511
                        ]
                      },
                      {
                        "fold_4_test": [
                          132.0350006
                        ],
                        "fold_0_learn": [
                          46.38699257
                        ],
                        "iteration": 322,
                        "fold_4_learn": [
                          42.4638476
                        ],
                        "fold_3_learn": [
                          46.78771496
                        ],
                        "fold_2_learn": [
                          45.81612716
                        ],
                        "fold_1_learn": [
                          51.92526815
                        ],
                        "fold_0_test": [
                          113.4041701
                        ],
                        "fold_1_test": [
                          102.4212424
                        ],
                        "fold_3_test": [
                          122.3538387
                        ],
                        "fold_2_test": [
                          114.1970608
                        ]
                      },
                      {
                        "fold_4_test": [
                          132.1414056
                        ],
                        "fold_0_learn": [
                          46.27996942
                        ],
                        "iteration": 323,
                        "fold_4_learn": [
                          42.29964333
                        ],
                        "fold_3_learn": [
                          46.69916852
                        ],
                        "fold_2_learn": [
                          45.79662864
                        ],
                        "fold_1_learn": [
                          51.71190468
                        ],
                        "fold_0_test": [
                          113.3691146
                        ],
                        "fold_1_test": [
                          102.519208
                        ],
                        "fold_3_test": [
                          122.4096584
                        ],
                        "fold_2_test": [
                          114.2630707
                        ]
                      },
                      {
                        "fold_4_test": [
                          132.1833098
                        ],
                        "fold_0_learn": [
                          46.2251088
                        ],
                        "iteration": 324,
                        "fold_4_learn": [
                          42.05694902
                        ],
                        "fold_3_learn": [
                          46.54930845
                        ],
                        "fold_2_learn": [
                          45.64960359
                        ],
                        "fold_1_learn": [
                          51.46067456
                        ],
                        "fold_0_test": [
                          113.3464102
                        ],
                        "fold_1_test": [
                          102.4057396
                        ],
                        "fold_3_test": [
                          122.4977583
                        ],
                        "fold_2_test": [
                          114.3455655
                        ]
                      },
                      {
                        "fold_4_test": [
                          132.2509634
                        ],
                        "fold_0_learn": [
                          46.1279046
                        ],
                        "iteration": 325,
                        "fold_4_learn": [
                          42.01427435
                        ],
                        "fold_3_learn": [
                          46.40937842
                        ],
                        "fold_2_learn": [
                          45.47126749
                        ],
                        "fold_1_learn": [
                          51.13071024
                        ],
                        "fold_0_test": [
                          113.3779487
                        ],
                        "fold_1_test": [
                          102.5059122
                        ],
                        "fold_3_test": [
                          122.4864894
                        ],
                        "fold_2_test": [
                          114.2005112
                        ]
                      },
                      {
                        "fold_4_test": [
                          132.2231467
                        ],
                        "fold_0_learn": [
                          46.01858311
                        ],
                        "iteration": 326,
                        "fold_4_learn": [
                          41.98223609
                        ],
                        "fold_3_learn": [
                          46.39892199
                        ],
                        "fold_2_learn": [
                          45.32614146
                        ],
                        "fold_1_learn": [
                          51.0766606
                        ],
                        "fold_0_test": [
                          113.4036204
                        ],
                        "fold_1_test": [
                          102.5724761
                        ],
                        "fold_3_test": [
                          122.4831472
                        ],
                        "fold_2_test": [
                          114.2278308
                        ]
                      },
                      {
                        "fold_4_test": [
                          132.2229573
                        ],
                        "fold_0_learn": [
                          45.98599319
                        ],
                        "iteration": 327,
                        "fold_4_learn": [
                          41.87914148
                        ],
                        "fold_3_learn": [
                          46.2879833
                        ],
                        "fold_2_learn": [
                          45.19869886
                        ],
                        "fold_1_learn": [
                          51.00097666
                        ],
                        "fold_0_test": [
                          113.3836078
                        ],
                        "fold_1_test": [
                          102.5966056
                        ],
                        "fold_3_test": [
                          122.6085212
                        ],
                        "fold_2_test": [
                          114.1127971
                        ]
                      },
                      {
                        "fold_4_test": [
                          132.2957615
                        ],
                        "fold_0_learn": [
                          45.89674103
                        ],
                        "iteration": 328,
                        "fold_4_learn": [
                          41.82597652
                        ],
                        "fold_3_learn": [
                          46.21073399
                        ],
                        "fold_2_learn": [
                          45.16317288
                        ],
                        "fold_1_learn": [
                          50.97950411
                        ],
                        "fold_0_test": [
                          113.4102226
                        ],
                        "fold_1_test": [
                          102.6048457
                        ],
                        "fold_3_test": [
                          122.6534536
                        ],
                        "fold_2_test": [
                          114.1872129
                        ]
                      },
                      {
                        "fold_4_test": [
                          132.2755881
                        ],
                        "fold_0_learn": [
                          45.79882975
                        ],
                        "iteration": 329,
                        "fold_4_learn": [
                          41.74463711
                        ],
                        "fold_3_learn": [
                          46.13973946
                        ],
                        "fold_2_learn": [
                          45.13277958
                        ],
                        "fold_1_learn": [
                          50.89076187
                        ],
                        "fold_0_test": [
                          113.2547535
                        ],
                        "fold_1_test": [
                          102.6352348
                        ],
                        "fold_3_test": [
                          122.63695
                        ],
                        "fold_2_test": [
                          114.1856843
                        ]
                      },
                      {
                        "fold_4_test": [
                          132.2231476
                        ],
                        "fold_0_learn": [
                          45.67563437
                        ],
                        "iteration": 330,
                        "fold_4_learn": [
                          41.60024919
                        ],
                        "fold_3_learn": [
                          46.04452746
                        ],
                        "fold_2_learn": [
                          45.09298971
                        ],
                        "fold_1_learn": [
                          50.79352272
                        ],
                        "fold_0_test": [
                          113.1543945
                        ],
                        "fold_1_test": [
                          102.6557729
                        ],
                        "fold_3_test": [
                          122.7221186
                        ],
                        "fold_2_test": [
                          114.2012145
                        ]
                      },
                      {
                        "fold_4_test": [
                          132.2400347
                        ],
                        "fold_0_learn": [
                          45.57107293
                        ],
                        "iteration": 331,
                        "fold_4_learn": [
                          41.43393114
                        ],
                        "fold_3_learn": [
                          46.00427132
                        ],
                        "fold_2_learn": [
                          44.99813154
                        ],
                        "fold_1_learn": [
                          50.64794054
                        ],
                        "fold_0_test": [
                          113.1509687
                        ],
                        "fold_1_test": [
                          102.6133115
                        ],
                        "fold_3_test": [
                          122.693531
                        ],
                        "fold_2_test": [
                          114.5276726
                        ]
                      },
                      {
                        "fold_4_test": [
                          132.2086256
                        ],
                        "fold_0_learn": [
                          45.36212919
                        ],
                        "iteration": 332,
                        "fold_4_learn": [
                          41.3212228
                        ],
                        "fold_3_learn": [
                          45.954514
                        ],
                        "fold_2_learn": [
                          44.85869444
                        ],
                        "fold_1_learn": [
                          50.55771732
                        ],
                        "fold_0_test": [
                          113.0935865
                        ],
                        "fold_1_test": [
                          102.7554318
                        ],
                        "fold_3_test": [
                          122.5826627
                        ],
                        "fold_2_test": [
                          114.5873245
                        ]
                      },
                      {
                        "fold_4_test": [
                          132.1549036
                        ],
                        "fold_0_learn": [
                          45.34093644
                        ],
                        "iteration": 333,
                        "fold_4_learn": [
                          41.15638117
                        ],
                        "fold_3_learn": [
                          45.87659733
                        ],
                        "fold_2_learn": [
                          44.79347736
                        ],
                        "fold_1_learn": [
                          50.41851328
                        ],
                        "fold_0_test": [
                          113.0916352
                        ],
                        "fold_1_test": [
                          102.7444525
                        ],
                        "fold_3_test": [
                          122.5706421
                        ],
                        "fold_2_test": [
                          114.5837695
                        ]
                      },
                      {
                        "fold_4_test": [
                          132.2197865
                        ],
                        "fold_0_learn": [
                          45.2654685
                        ],
                        "iteration": 334,
                        "fold_4_learn": [
                          41.05989403
                        ],
                        "fold_3_learn": [
                          45.77885523
                        ],
                        "fold_2_learn": [
                          44.77556799
                        ],
                        "fold_1_learn": [
                          50.37650987
                        ],
                        "fold_0_test": [
                          113.0400353
                        ],
                        "fold_1_test": [
                          102.7527488
                        ],
                        "fold_3_test": [
                          122.5997663
                        ],
                        "fold_2_test": [
                          114.5999559
                        ]
                      },
                      {
                        "fold_4_test": [
                          132.2151944
                        ],
                        "fold_0_learn": [
                          45.2404961
                        ],
                        "iteration": 335,
                        "fold_4_learn": [
                          41.04859812
                        ],
                        "fold_3_learn": [
                          45.67443088
                        ],
                        "fold_2_learn": [
                          44.58062651
                        ],
                        "fold_1_learn": [
                          50.32700601
                        ],
                        "fold_0_test": [
                          113.0308806
                        ],
                        "fold_1_test": [
                          102.7515641
                        ],
                        "fold_3_test": [
                          122.6192936
                        ],
                        "fold_2_test": [
                          114.6608826
                        ]
                      },
                      {
                        "fold_4_test": [
                          132.2119118
                        ],
                        "fold_0_learn": [
                          45.07373588
                        ],
                        "iteration": 336,
                        "fold_4_learn": [
                          41.01584351
                        ],
                        "fold_3_learn": [
                          45.57206537
                        ],
                        "fold_2_learn": [
                          44.54433244
                        ],
                        "fold_1_learn": [
                          50.29069184
                        ],
                        "fold_0_test": [
                          113.1145742
                        ],
                        "fold_1_test": [
                          102.7209632
                        ],
                        "fold_3_test": [
                          122.6615889
                        ],
                        "fold_2_test": [
                          114.6865622
                        ]
                      },
                      {
                        "fold_4_test": [
                          132.1686051
                        ],
                        "fold_0_learn": [
                          45.00604101
                        ],
                        "iteration": 337,
                        "fold_4_learn": [
                          40.96808301
                        ],
                        "fold_3_learn": [
                          45.5221303
                        ],
                        "fold_2_learn": [
                          44.3627066
                        ],
                        "fold_1_learn": [
                          50.15808649
                        ],
                        "fold_0_test": [
                          113.0748723
                        ],
                        "fold_1_test": [
                          102.7587689
                        ],
                        "fold_3_test": [
                          122.6384698
                        ],
                        "fold_2_test": [
                          114.8729137
                        ]
                      },
                      {
                        "fold_4_test": [
                          132.1741062
                        ],
                        "fold_0_learn": [
                          44.96518555
                        ],
                        "iteration": 338,
                        "fold_4_learn": [
                          40.86296961
                        ],
                        "fold_3_learn": [
                          45.29922245
                        ],
                        "fold_2_learn": [
                          44.34276485
                        ],
                        "fold_1_learn": [
                          50.05280273
                        ],
                        "fold_0_test": [
                          113.0922717
                        ],
                        "fold_1_test": [
                          102.5951217
                        ],
                        "fold_3_test": [
                          122.4565195
                        ],
                        "fold_2_test": [
                          114.9105042
                        ]
                      },
                      {
                        "fold_4_test": [
                          132.0929678
                        ],
                        "fold_0_learn": [
                          44.88451177
                        ],
                        "iteration": 339,
                        "fold_4_learn": [
                          40.77208704
                        ],
                        "fold_3_learn": [
                          45.28011286
                        ],
                        "fold_2_learn": [
                          44.30365997
                        ],
                        "fold_1_learn": [
                          49.96443127
                        ],
                        "fold_0_test": [
                          113.0860765
                        ],
                        "fold_1_test": [
                          102.6087333
                        ],
                        "fold_3_test": [
                          122.4382225
                        ],
                        "fold_2_test": [
                          114.9547844
                        ]
                      },
                      {
                        "fold_4_test": [
                          132.0610697
                        ],
                        "fold_0_learn": [
                          44.84931669
                        ],
                        "iteration": 340,
                        "fold_4_learn": [
                          40.66380305
                        ],
                        "fold_3_learn": [
                          45.2674448
                        ],
                        "fold_2_learn": [
                          44.04217551
                        ],
                        "fold_1_learn": [
                          49.94481123
                        ],
                        "fold_0_test": [
                          113.0595714
                        ],
                        "fold_1_test": [
                          102.5712028
                        ],
                        "fold_3_test": [
                          122.4065675
                        ],
                        "fold_2_test": [
                          114.9052908
                        ]
                      },
                      {
                        "fold_4_test": [
                          132.0955276
                        ],
                        "fold_0_learn": [
                          44.75849584
                        ],
                        "iteration": 341,
                        "fold_4_learn": [
                          40.54945914
                        ],
                        "fold_3_learn": [
                          45.24621726
                        ],
                        "fold_2_learn": [
                          43.98276868
                        ],
                        "fold_1_learn": [
                          49.87059643
                        ],
                        "fold_0_test": [
                          113.0653152
                        ],
                        "fold_1_test": [
                          102.5072585
                        ],
                        "fold_3_test": [
                          122.4090717
                        ],
                        "fold_2_test": [
                          114.9544618
                        ]
                      },
                      {
                        "fold_4_test": [
                          132.1184452
                        ],
                        "fold_0_learn": [
                          44.65883361
                        ],
                        "iteration": 342,
                        "fold_4_learn": [
                          40.50688661
                        ],
                        "fold_3_learn": [
                          45.205656
                        ],
                        "fold_2_learn": [
                          43.86747756
                        ],
                        "fold_1_learn": [
                          49.86345916
                        ],
                        "fold_0_test": [
                          112.8740555
                        ],
                        "fold_1_test": [
                          102.5035336
                        ],
                        "fold_3_test": [
                          122.4042217
                        ],
                        "fold_2_test": [
                          114.9688552
                        ]
                      },
                      {
                        "fold_4_test": [
                          132.1919185
                        ],
                        "fold_0_learn": [
                          44.56133954
                        ],
                        "iteration": 343,
                        "fold_4_learn": [
                          40.40685634
                        ],
                        "fold_3_learn": [
                          45.11242163
                        ],
                        "fold_2_learn": [
                          43.83033476
                        ],
                        "fold_1_learn": [
                          49.83229961
                        ],
                        "fold_0_test": [
                          112.8904464
                        ],
                        "fold_1_test": [
                          102.5092782
                        ],
                        "fold_3_test": [
                          122.3144556
                        ],
                        "fold_2_test": [
                          114.902354
                        ]
                      },
                      {
                        "fold_4_test": [
                          132.1943274
                        ],
                        "fold_0_learn": [
                          44.46233784
                        ],
                        "iteration": 344,
                        "fold_4_learn": [
                          40.36053637
                        ],
                        "fold_3_learn": [
                          45.03490382
                        ],
                        "fold_2_learn": [
                          43.70152424
                        ],
                        "fold_1_learn": [
                          49.74479138
                        ],
                        "fold_0_test": [
                          112.884579
                        ],
                        "fold_1_test": [
                          102.6119191
                        ],
                        "fold_3_test": [
                          122.3369598
                        ],
                        "fold_2_test": [
                          114.8416913
                        ]
                      },
                      {
                        "fold_4_test": [
                          132.1740656
                        ],
                        "fold_0_learn": [
                          44.37497275
                        ],
                        "iteration": 345,
                        "fold_4_learn": [
                          40.31109333
                        ],
                        "fold_3_learn": [
                          44.88923091
                        ],
                        "fold_2_learn": [
                          43.65097014
                        ],
                        "fold_1_learn": [
                          49.7258729
                        ],
                        "fold_0_test": [
                          112.853587
                        ],
                        "fold_1_test": [
                          102.5533322
                        ],
                        "fold_3_test": [
                          122.3519118
                        ],
                        "fold_2_test": [
                          114.9092723
                        ]
                      },
                      {
                        "fold_4_test": [
                          132.2247276
                        ],
                        "fold_0_learn": [
                          44.31402699
                        ],
                        "iteration": 346,
                        "fold_4_learn": [
                          40.26076389
                        ],
                        "fold_3_learn": [
                          44.80904353
                        ],
                        "fold_2_learn": [
                          43.62809168
                        ],
                        "fold_1_learn": [
                          49.70601596
                        ],
                        "fold_0_test": [
                          112.8144107
                        ],
                        "fold_1_test": [
                          102.5489774
                        ],
                        "fold_3_test": [
                          122.3246214
                        ],
                        "fold_2_test": [
                          114.9704757
                        ]
                      },
                      {
                        "fold_4_test": [
                          132.2478232
                        ],
                        "fold_0_learn": [
                          44.20875942
                        ],
                        "iteration": 347,
                        "fold_4_learn": [
                          40.17059213
                        ],
                        "fold_3_learn": [
                          44.76441314
                        ],
                        "fold_2_learn": [
                          43.61360021
                        ],
                        "fold_1_learn": [
                          49.63800668
                        ],
                        "fold_0_test": [
                          112.9009935
                        ],
                        "fold_1_test": [
                          102.5550812
                        ],
                        "fold_3_test": [
                          122.3345347
                        ],
                        "fold_2_test": [
                          114.9611168
                        ]
                      },
                      {
                        "fold_4_test": [
                          132.2685338
                        ],
                        "fold_0_learn": [
                          44.10264743
                        ],
                        "iteration": 348,
                        "fold_4_learn": [
                          40.15605699
                        ],
                        "fold_3_learn": [
                          44.73575606
                        ],
                        "fold_2_learn": [
                          43.59699527
                        ],
                        "fold_1_learn": [
                          49.6216664
                        ],
                        "fold_0_test": [
                          112.8462905
                        ],
                        "fold_1_test": [
                          102.5569269
                        ],
                        "fold_3_test": [
                          122.35589
                        ],
                        "fold_2_test": [
                          114.9537815
                        ]
                      },
                      {
                        "fold_4_test": [
                          132.2734296
                        ],
                        "fold_0_learn": [
                          43.92505222
                        ],
                        "iteration": 349,
                        "fold_4_learn": [
                          40.12374597
                        ],
                        "fold_3_learn": [
                          44.67118049
                        ],
                        "fold_2_learn": [
                          43.46314552
                        ],
                        "fold_1_learn": [
                          49.51768854
                        ],
                        "fold_0_test": [
                          112.8841874
                        ],
                        "fold_1_test": [
                          102.4808223
                        ],
                        "fold_3_test": [
                          122.3534959
                        ],
                        "fold_2_test": [
                          114.8959545
                        ]
                      },
                      {
                        "fold_4_test": [
                          132.2969741
                        ],
                        "fold_0_learn": [
                          43.79111402
                        ],
                        "iteration": 350,
                        "fold_4_learn": [
                          40.05405695
                        ],
                        "fold_3_learn": [
                          44.5224086
                        ],
                        "fold_2_learn": [
                          43.34454158
                        ],
                        "fold_1_learn": [
                          49.48741448
                        ],
                        "fold_0_test": [
                          112.8734338
                        ],
                        "fold_1_test": [
                          102.4466349
                        ],
                        "fold_3_test": [
                          122.2432834
                        ],
                        "fold_2_test": [
                          114.9435792
                        ]
                      },
                      {
                        "fold_4_test": [
                          132.2760774
                        ],
                        "fold_0_learn": [
                          43.68857524
                        ],
                        "iteration": 351,
                        "fold_4_learn": [
                          40.01236674
                        ],
                        "fold_3_learn": [
                          44.44560443
                        ],
                        "fold_2_learn": [
                          43.31224932
                        ],
                        "fold_1_learn": [
                          49.43511269
                        ],
                        "fold_0_test": [
                          112.8189293
                        ],
                        "fold_1_test": [
                          102.4667626
                        ],
                        "fold_3_test": [
                          122.274778
                        ],
                        "fold_2_test": [
                          114.9532718
                        ]
                      },
                      {
                        "fold_4_test": [
                          132.4032094
                        ],
                        "fold_0_learn": [
                          43.56011395
                        ],
                        "iteration": 352,
                        "fold_4_learn": [
                          39.85687629
                        ],
                        "fold_3_learn": [
                          44.41044346
                        ],
                        "fold_2_learn": [
                          43.25902948
                        ],
                        "fold_1_learn": [
                          49.40756704
                        ],
                        "fold_0_test": [
                          112.6634938
                        ],
                        "fold_1_test": [
                          102.4683687
                        ],
                        "fold_3_test": [
                          122.2269784
                        ],
                        "fold_2_test": [
                          114.9685638
                        ]
                      },
                      {
                        "fold_4_test": [
                          132.3908738
                        ],
                        "fold_0_learn": [
                          43.49619792
                        ],
                        "iteration": 353,
                        "fold_4_learn": [
                          39.77829656
                        ],
                        "fold_3_learn": [
                          44.38390547
                        ],
                        "fold_2_learn": [
                          43.21138536
                        ],
                        "fold_1_learn": [
                          49.22797644
                        ],
                        "fold_0_test": [
                          112.7204783
                        ],
                        "fold_1_test": [
                          102.4534552
                        ],
                        "fold_3_test": [
                          122.2347023
                        ],
                        "fold_2_test": [
                          115.0179387
                        ]
                      },
                      {
                        "fold_4_test": [
                          132.3925632
                        ],
                        "fold_0_learn": [
                          43.40442954
                        ],
                        "iteration": 354,
                        "fold_4_learn": [
                          39.71353284
                        ],
                        "fold_3_learn": [
                          44.31873786
                        ],
                        "fold_2_learn": [
                          43.16405845
                        ],
                        "fold_1_learn": [
                          49.17545622
                        ],
                        "fold_0_test": [
                          112.6997857
                        ],
                        "fold_1_test": [
                          102.4179173
                        ],
                        "fold_3_test": [
                          122.2126668
                        ],
                        "fold_2_test": [
                          115.0316789
                        ]
                      },
                      {
                        "fold_4_test": [
                          132.4214925
                        ],
                        "fold_0_learn": [
                          43.31637462
                        ],
                        "iteration": 355,
                        "fold_4_learn": [
                          39.64013096
                        ],
                        "fold_3_learn": [
                          44.21701117
                        ],
                        "fold_2_learn": [
                          43.04456521
                        ],
                        "fold_1_learn": [
                          48.90901696
                        ],
                        "fold_0_test": [
                          112.7224771
                        ],
                        "fold_1_test": [
                          103.1047188
                        ],
                        "fold_3_test": [
                          122.2295998
                        ],
                        "fold_2_test": [
                          114.9622397
                        ]
                      },
                      {
                        "fold_4_test": [
                          132.4976808
                        ],
                        "fold_0_learn": [
                          43.21658414
                        ],
                        "iteration": 356,
                        "fold_4_learn": [
                          39.54588373
                        ],
                        "fold_3_learn": [
                          44.1545945
                        ],
                        "fold_2_learn": [
                          43.00378639
                        ],
                        "fold_1_learn": [
                          48.86005989
                        ],
                        "fold_0_test": [
                          112.7028977
                        ],
                        "fold_1_test": [
                          103.0563142
                        ],
                        "fold_3_test": [
                          122.1118313
                        ],
                        "fold_2_test": [
                          115.0180434
                        ]
                      },
                      {
                        "fold_4_test": [
                          132.4917438
                        ],
                        "fold_0_learn": [
                          43.16002352
                        ],
                        "iteration": 357,
                        "fold_4_learn": [
                          39.51195297
                        ],
                        "fold_3_learn": [
                          44.13385481
                        ],
                        "fold_2_learn": [
                          42.95088011
                        ],
                        "fold_1_learn": [
                          48.76008586
                        ],
                        "fold_0_test": [
                          112.6997358
                        ],
                        "fold_1_test": [
                          102.9097076
                        ],
                        "fold_3_test": [
                          122.1336859
                        ],
                        "fold_2_test": [
                          115.0569784
                        ]
                      },
                      {
                        "fold_4_test": [
                          132.5646416
                        ],
                        "fold_0_learn": [
                          43.13710862
                        ],
                        "iteration": 358,
                        "fold_4_learn": [
                          39.45712516
                        ],
                        "fold_3_learn": [
                          44.12364767
                        ],
                        "fold_2_learn": [
                          42.92545072
                        ],
                        "fold_1_learn": [
                          48.66943947
                        ],
                        "fold_0_test": [
                          112.6855498
                        ],
                        "fold_1_test": [
                          102.8662824
                        ],
                        "fold_3_test": [
                          122.1220026
                        ],
                        "fold_2_test": [
                          115.0713348
                        ]
                      },
                      {
                        "fold_4_test": [
                          132.5577159
                        ],
                        "fold_0_learn": [
                          43.10410945
                        ],
                        "iteration": 359,
                        "fold_4_learn": [
                          39.42707032
                        ],
                        "fold_3_learn": [
                          44.05709555
                        ],
                        "fold_2_learn": [
                          42.74790966
                        ],
                        "fold_1_learn": [
                          48.46599978
                        ],
                        "fold_0_test": [
                          112.720573
                        ],
                        "fold_1_test": [
                          102.7612342
                        ],
                        "fold_3_test": [
                          122.147431
                        ],
                        "fold_2_test": [
                          115.0591946
                        ]
                      },
                      {
                        "fold_4_test": [
                          132.5577654
                        ],
                        "fold_0_learn": [
                          42.98450571
                        ],
                        "iteration": 360,
                        "fold_4_learn": [
                          39.35051032
                        ],
                        "fold_3_learn": [
                          44.02046234
                        ],
                        "fold_2_learn": [
                          42.72241285
                        ],
                        "fold_1_learn": [
                          48.44812573
                        ],
                        "fold_0_test": [
                          112.9081418
                        ],
                        "fold_1_test": [
                          102.7461393
                        ],
                        "fold_3_test": [
                          122.1138643
                        ],
                        "fold_2_test": [
                          115.06964
                        ]
                      },
                      {
                        "fold_4_test": [
                          132.625674
                        ],
                        "fold_0_learn": [
                          42.90571552
                        ],
                        "iteration": 361,
                        "fold_4_learn": [
                          39.20218975
                        ],
                        "fold_3_learn": [
                          43.90108515
                        ],
                        "fold_2_learn": [
                          42.6956834
                        ],
                        "fold_1_learn": [
                          48.41091821
                        ],
                        "fold_0_test": [
                          112.9149826
                        ],
                        "fold_1_test": [
                          102.7416793
                        ],
                        "fold_3_test": [
                          122.0201089
                        ],
                        "fold_2_test": [
                          115.0439875
                        ]
                      },
                      {
                        "fold_4_test": [
                          132.6614687
                        ],
                        "fold_0_learn": [
                          42.82222693
                        ],
                        "iteration": 362,
                        "fold_4_learn": [
                          39.14332602
                        ],
                        "fold_3_learn": [
                          43.773821
                        ],
                        "fold_2_learn": [
                          42.60392057
                        ],
                        "fold_1_learn": [
                          48.38356686
                        ],
                        "fold_0_test": [
                          112.9630083
                        ],
                        "fold_1_test": [
                          102.6978468
                        ],
                        "fold_3_test": [
                          121.9875192
                        ],
                        "fold_2_test": [
                          115.081192
                        ]
                      },
                      {
                        "fold_4_test": [
                          132.6695173
                        ],
                        "fold_0_learn": [
                          42.74313284
                        ],
                        "iteration": 363,
                        "fold_4_learn": [
                          39.12414536
                        ],
                        "fold_3_learn": [
                          43.70273156
                        ],
                        "fold_2_learn": [
                          42.44503935
                        ],
                        "fold_1_learn": [
                          48.29205954
                        ],
                        "fold_0_test": [
                          113.0182511
                        ],
                        "fold_1_test": [
                          102.7219803
                        ],
                        "fold_3_test": [
                          122.0530502
                        ],
                        "fold_2_test": [
                          115.1679118
                        ]
                      },
                      {
                        "fold_4_test": [
                          132.6905807
                        ],
                        "fold_0_learn": [
                          42.73172842
                        ],
                        "iteration": 364,
                        "fold_4_learn": [
                          39.0700642
                        ],
                        "fold_3_learn": [
                          43.62124149
                        ],
                        "fold_2_learn": [
                          42.36228815
                        ],
                        "fold_1_learn": [
                          48.27099648
                        ],
                        "fold_0_test": [
                          113.0075646
                        ],
                        "fold_1_test": [
                          102.7109168
                        ],
                        "fold_3_test": [
                          122.0059878
                        ],
                        "fold_2_test": [
                          115.1392304
                        ]
                      },
                      {
                        "fold_4_test": [
                          132.6863567
                        ],
                        "fold_0_learn": [
                          42.70581349
                        ],
                        "iteration": 365,
                        "fold_4_learn": [
                          39.020415
                        ],
                        "fold_3_learn": [
                          43.59621167
                        ],
                        "fold_2_learn": [
                          42.22677663
                        ],
                        "fold_1_learn": [
                          48.01797532
                        ],
                        "fold_0_test": [
                          112.9632328
                        ],
                        "fold_1_test": [
                          102.6799526
                        ],
                        "fold_3_test": [
                          122.0254151
                        ],
                        "fold_2_test": [
                          115.1494989
                        ]
                      },
                      {
                        "fold_4_test": [
                          132.7956947
                        ],
                        "fold_0_learn": [
                          42.66244527
                        ],
                        "iteration": 366,
                        "fold_4_learn": [
                          38.93182479
                        ],
                        "fold_3_learn": [
                          43.57127202
                        ],
                        "fold_2_learn": [
                          42.20067448
                        ],
                        "fold_1_learn": [
                          47.81006606
                        ],
                        "fold_0_test": [
                          112.9454368
                        ],
                        "fold_1_test": [
                          102.9479078
                        ],
                        "fold_3_test": [
                          122.0517524
                        ],
                        "fold_2_test": [
                          115.179914
                        ]
                      },
                      {
                        "fold_4_test": [
                          132.8700967
                        ],
                        "fold_0_learn": [
                          42.63470682
                        ],
                        "iteration": 367,
                        "fold_4_learn": [
                          38.83194316
                        ],
                        "fold_3_learn": [
                          43.53403013
                        ],
                        "fold_2_learn": [
                          42.08944599
                        ],
                        "fold_1_learn": [
                          47.7440437
                        ],
                        "fold_0_test": [
                          112.9253388
                        ],
                        "fold_1_test": [
                          102.814152
                        ],
                        "fold_3_test": [
                          122.0302903
                        ],
                        "fold_2_test": [
                          115.1830408
                        ]
                      },
                      {
                        "fold_4_test": [
                          132.805877
                        ],
                        "fold_0_learn": [
                          42.61009615
                        ],
                        "iteration": 368,
                        "fold_4_learn": [
                          38.76706154
                        ],
                        "fold_3_learn": [
                          43.50170609
                        ],
                        "fold_2_learn": [
                          42.04482709
                        ],
                        "fold_1_learn": [
                          47.69539475
                        ],
                        "fold_0_test": [
                          112.9179918
                        ],
                        "fold_1_test": [
                          102.7986045
                        ],
                        "fold_3_test": [
                          122.0043971
                        ],
                        "fold_2_test": [
                          115.1499147
                        ]
                      },
                      {
                        "fold_4_test": [
                          132.7995124
                        ],
                        "fold_0_learn": [
                          42.53989633
                        ],
                        "iteration": 369,
                        "fold_4_learn": [
                          38.73510975
                        ],
                        "fold_3_learn": [
                          43.37225459
                        ],
                        "fold_2_learn": [
                          41.95980961
                        ],
                        "fold_1_learn": [
                          47.6655829
                        ],
                        "fold_0_test": [
                          112.9715411
                        ],
                        "fold_1_test": [
                          102.7932358
                        ],
                        "fold_3_test": [
                          121.8709515
                        ],
                        "fold_2_test": [
                          115.0441456
                        ]
                      },
                      {
                        "fold_4_test": [
                          132.8254728
                        ],
                        "fold_0_learn": [
                          42.52885147
                        ],
                        "iteration": 370,
                        "fold_4_learn": [
                          38.49826819
                        ],
                        "fold_3_learn": [
                          43.3442565
                        ],
                        "fold_2_learn": [
                          41.79941906
                        ],
                        "fold_1_learn": [
                          47.62947443
                        ],
                        "fold_0_test": [
                          112.9570014
                        ],
                        "fold_1_test": [
                          102.9718315
                        ],
                        "fold_3_test": [
                          121.8849534
                        ],
                        "fold_2_test": [
                          115.0827534
                        ]
                      },
                      {
                        "fold_4_test": [
                          132.8233973
                        ],
                        "fold_0_learn": [
                          42.47278124
                        ],
                        "iteration": 371,
                        "fold_4_learn": [
                          38.47360968
                        ],
                        "fold_3_learn": [
                          43.27587489
                        ],
                        "fold_2_learn": [
                          41.72415914
                        ],
                        "fold_1_learn": [
                          47.53217369
                        ],
                        "fold_0_test": [
                          112.9490014
                        ],
                        "fold_1_test": [
                          102.9664645
                        ],
                        "fold_3_test": [
                          122.1129713
                        ],
                        "fold_2_test": [
                          115.0310136
                        ]
                      },
                      {
                        "fold_4_test": [
                          132.8209746
                        ],
                        "fold_0_learn": [
                          42.4298567
                        ],
                        "iteration": 372,
                        "fold_4_learn": [
                          38.42144729
                        ],
                        "fold_3_learn": [
                          43.19780209
                        ],
                        "fold_2_learn": [
                          41.64038536
                        ],
                        "fold_1_learn": [
                          47.40408182
                        ],
                        "fold_0_test": [
                          112.9670518
                        ],
                        "fold_1_test": [
                          102.8940935
                        ],
                        "fold_3_test": [
                          122.2716619
                        ],
                        "fold_2_test": [
                          115.0368449
                        ]
                      },
                      {
                        "fold_4_test": [
                          132.8397477
                        ],
                        "fold_0_learn": [
                          42.35016084
                        ],
                        "iteration": 373,
                        "fold_4_learn": [
                          38.37234617
                        ],
                        "fold_3_learn": [
                          43.18108873
                        ],
                        "fold_2_learn": [
                          41.60471207
                        ],
                        "fold_1_learn": [
                          47.35221454
                        ],
                        "fold_0_test": [
                          112.9746812
                        ],
                        "fold_1_test": [
                          102.9754995
                        ],
                        "fold_3_test": [
                          122.2687007
                        ],
                        "fold_2_test": [
                          115.0232458
                        ]
                      },
                      {
                        "fold_4_test": [
                          132.8416907
                        ],
                        "fold_0_learn": [
                          42.34559804
                        ],
                        "iteration": 374,
                        "fold_4_learn": [
                          38.34336893
                        ],
                        "fold_3_learn": [
                          43.16668216
                        ],
                        "fold_2_learn": [
                          41.59393144
                        ],
                        "fold_1_learn": [
                          47.30639252
                        ],
                        "fold_0_test": [
                          112.9684587
                        ],
                        "fold_1_test": [
                          102.9602914
                        ],
                        "fold_3_test": [
                          122.2482821
                        ],
                        "fold_2_test": [
                          115.0539272
                        ]
                      },
                      {
                        "fold_4_test": [
                          132.8360406
                        ],
                        "fold_0_learn": [
                          42.2668281
                        ],
                        "iteration": 375,
                        "fold_4_learn": [
                          38.29299349
                        ],
                        "fold_3_learn": [
                          43.146722
                        ],
                        "fold_2_learn": [
                          41.509034
                        ],
                        "fold_1_learn": [
                          47.19934637
                        ],
                        "fold_0_test": [
                          112.9092195
                        ],
                        "fold_1_test": [
                          102.8738918
                        ],
                        "fold_3_test": [
                          122.2579002
                        ],
                        "fold_2_test": [
                          115.0739136
                        ]
                      },
                      {
                        "fold_4_test": [
                          132.8823497
                        ],
                        "fold_0_learn": [
                          42.05996924
                        ],
                        "iteration": 376,
                        "fold_4_learn": [
                          38.14960685
                        ],
                        "fold_3_learn": [
                          43.08931109
                        ],
                        "fold_2_learn": [
                          41.48250509
                        ],
                        "fold_1_learn": [
                          47.18324006
                        ],
                        "fold_0_test": [
                          113.1440977
                        ],
                        "fold_1_test": [
                          102.8650347
                        ],
                        "fold_3_test": [
                          122.3560934
                        ],
                        "fold_2_test": [
                          115.0444891
                        ]
                      },
                      {
                        "fold_4_test": [
                          132.8810528
                        ],
                        "fold_0_learn": [
                          42.03114099
                        ],
                        "iteration": 377,
                        "fold_4_learn": [
                          38.06886404
                        ],
                        "fold_3_learn": [
                          43.00930634
                        ],
                        "fold_2_learn": [
                          41.45348695
                        ],
                        "fold_1_learn": [
                          47.05405421
                        ],
                        "fold_0_test": [
                          113.193664
                        ],
                        "fold_1_test": [
                          102.8630641
                        ],
                        "fold_3_test": [
                          122.4283627
                        ],
                        "fold_2_test": [
                          115.0405609
                        ]
                      },
                      {
                        "fold_4_test": [
                          132.8752175
                        ],
                        "fold_0_learn": [
                          41.98971653
                        ],
                        "iteration": 378,
                        "fold_4_learn": [
                          37.99667715
                        ],
                        "fold_3_learn": [
                          42.96789551
                        ],
                        "fold_2_learn": [
                          41.38557541
                        ],
                        "fold_1_learn": [
                          46.97577362
                        ],
                        "fold_0_test": [
                          113.186883
                        ],
                        "fold_1_test": [
                          103.0221944
                        ],
                        "fold_3_test": [
                          122.3951185
                        ],
                        "fold_2_test": [
                          115.0971325
                        ]
                      },
                      {
                        "fold_4_test": [
                          132.8967766
                        ],
                        "fold_0_learn": [
                          41.91846848
                        ],
                        "iteration": 379,
                        "fold_4_learn": [
                          37.95156936
                        ],
                        "fold_3_learn": [
                          42.93866691
                        ],
                        "fold_2_learn": [
                          41.30627442
                        ],
                        "fold_1_learn": [
                          46.93229978
                        ],
                        "fold_0_test": [
                          113.4108247
                        ],
                        "fold_1_test": [
                          103.0576261
                        ],
                        "fold_3_test": [
                          122.3437219
                        ],
                        "fold_2_test": [
                          115.1439786
                        ]
                      },
                      {
                        "fold_4_test": [
                          132.7975711
                        ],
                        "fold_0_learn": [
                          41.85034823
                        ],
                        "iteration": 380,
                        "fold_4_learn": [
                          37.89306118
                        ],
                        "fold_3_learn": [
                          42.90202717
                        ],
                        "fold_2_learn": [
                          41.19738894
                        ],
                        "fold_1_learn": [
                          46.92711948
                        ],
                        "fold_0_test": [
                          113.5262797
                        ],
                        "fold_1_test": [
                          103.0623691
                        ],
                        "fold_3_test": [
                          122.3265802
                        ],
                        "fold_2_test": [
                          115.1344404
                        ]
                      },
                      {
                        "fold_4_test": [
                          132.8169011
                        ],
                        "fold_0_learn": [
                          41.75907465
                        ],
                        "iteration": 381,
                        "fold_4_learn": [
                          37.86069315
                        ],
                        "fold_3_learn": [
                          42.85152381
                        ],
                        "fold_2_learn": [
                          41.16543156
                        ],
                        "fold_1_learn": [
                          46.91500347
                        ],
                        "fold_0_test": [
                          113.5633083
                        ],
                        "fold_1_test": [
                          103.0867584
                        ],
                        "fold_3_test": [
                          122.3514296
                        ],
                        "fold_2_test": [
                          115.1327869
                        ]
                      },
                      {
                        "fold_4_test": [
                          132.8401522
                        ],
                        "fold_0_learn": [
                          41.73780023
                        ],
                        "iteration": 382,
                        "fold_4_learn": [
                          37.77921155
                        ],
                        "fold_3_learn": [
                          42.73445469
                        ],
                        "fold_2_learn": [
                          41.01619282
                        ],
                        "fold_1_learn": [
                          46.91005197
                        ],
                        "fold_0_test": [
                          113.5965393
                        ],
                        "fold_1_test": [
                          103.0912428
                        ],
                        "fold_3_test": [
                          122.3544117
                        ],
                        "fold_2_test": [
                          114.9951711
                        ]
                      },
                      {
                        "fold_4_test": [
                          133.0392346
                        ],
                        "fold_0_learn": [
                          41.57904298
                        ],
                        "iteration": 383,
                        "fold_4_learn": [
                          37.66657447
                        ],
                        "fold_3_learn": [
                          42.70236384
                        ],
                        "fold_2_learn": [
                          40.96816212
                        ],
                        "fold_1_learn": [
                          46.82929164
                        ],
                        "fold_0_test": [
                          113.7558079
                        ],
                        "fold_1_test": [
                          103.0239131
                        ],
                        "fold_3_test": [
                          122.3163798
                        ],
                        "fold_2_test": [
                          114.9956207
                        ]
                      },
                      {
                        "fold_4_test": [
                          133.0336524
                        ],
                        "fold_0_learn": [
                          41.49396248
                        ],
                        "iteration": 384,
                        "fold_4_learn": [
                          37.59974978
                        ],
                        "fold_3_learn": [
                          42.61702842
                        ],
                        "fold_2_learn": [
                          40.83893478
                        ],
                        "fold_1_learn": [
                          46.74584903
                        ],
                        "fold_0_test": [
                          113.7117562
                        ],
                        "fold_1_test": [
                          103.0534426
                        ],
                        "fold_3_test": [
                          122.3248121
                        ],
                        "fold_2_test": [
                          115.0463981
                        ]
                      },
                      {
                        "fold_4_test": [
                          133.0249933
                        ],
                        "fold_0_learn": [
                          41.4566289
                        ],
                        "iteration": 385,
                        "fold_4_learn": [
                          37.57922216
                        ],
                        "fold_3_learn": [
                          42.56973511
                        ],
                        "fold_2_learn": [
                          40.67812256
                        ],
                        "fold_1_learn": [
                          46.74081281
                        ],
                        "fold_0_test": [
                          113.6801434
                        ],
                        "fold_1_test": [
                          103.0428586
                        ],
                        "fold_3_test": [
                          122.279627
                        ],
                        "fold_2_test": [
                          115.2314551
                        ]
                      },
                      {
                        "fold_4_test": [
                          133.0224415
                        ],
                        "fold_0_learn": [
                          41.40491058
                        ],
                        "iteration": 386,
                        "fold_4_learn": [
                          37.55761247
                        ],
                        "fold_3_learn": [
                          42.43921366
                        ],
                        "fold_2_learn": [
                          40.67290619
                        ],
                        "fold_1_learn": [
                          46.66459938
                        ],
                        "fold_0_test": [
                          113.6676135
                        ],
                        "fold_1_test": [
                          103.2642204
                        ],
                        "fold_3_test": [
                          122.4912288
                        ],
                        "fold_2_test": [
                          115.2399975
                        ]
                      },
                      {
                        "fold_4_test": [
                          132.9893618
                        ],
                        "fold_0_learn": [
                          41.27536871
                        ],
                        "iteration": 387,
                        "fold_4_learn": [
                          37.52814652
                        ],
                        "fold_3_learn": [
                          42.32359265
                        ],
                        "fold_2_learn": [
                          40.65847243
                        ],
                        "fold_1_learn": [
                          46.52110929
                        ],
                        "fold_0_test": [
                          113.4525674
                        ],
                        "fold_1_test": [
                          103.5007528
                        ],
                        "fold_3_test": [
                          122.4758906
                        ],
                        "fold_2_test": [
                          115.2626216
                        ]
                      },
                      {
                        "fold_4_test": [
                          133.0012274
                        ],
                        "fold_0_learn": [
                          41.21565819
                        ],
                        "iteration": 388,
                        "fold_4_learn": [
                          37.5056998
                        ],
                        "fold_3_learn": [
                          42.31628907
                        ],
                        "fold_2_learn": [
                          40.65427597
                        ],
                        "fold_1_learn": [
                          46.46435239
                        ],
                        "fold_0_test": [
                          113.4118609
                        ],
                        "fold_1_test": [
                          103.4907377
                        ],
                        "fold_3_test": [
                          122.4995629
                        ],
                        "fold_2_test": [
                          115.2657449
                        ]
                      },
                      {
                        "fold_4_test": [
                          133.0355894
                        ],
                        "fold_0_learn": [
                          41.14826474
                        ],
                        "iteration": 389,
                        "fold_4_learn": [
                          37.4256091
                        ],
                        "fold_3_learn": [
                          42.30823884
                        ],
                        "fold_2_learn": [
                          40.47505861
                        ],
                        "fold_1_learn": [
                          46.45682692
                        ],
                        "fold_0_test": [
                          113.3973705
                        ],
                        "fold_1_test": [
                          103.4874829
                        ],
                        "fold_3_test": [
                          122.5022828
                        ],
                        "fold_2_test": [
                          115.3671759
                        ]
                      },
                      {
                        "fold_4_test": [
                          133.0237846
                        ],
                        "fold_0_learn": [
                          41.02264486
                        ],
                        "iteration": 390,
                        "fold_4_learn": [
                          37.40045246
                        ],
                        "fold_3_learn": [
                          42.2705483
                        ],
                        "fold_2_learn": [
                          40.41110158
                        ],
                        "fold_1_learn": [
                          46.45030551
                        ],
                        "fold_0_test": [
                          113.2721592
                        ],
                        "fold_1_test": [
                          103.4977879
                        ],
                        "fold_3_test": [
                          122.4478514
                        ],
                        "fold_2_test": [
                          115.3935329
                        ]
                      },
                      {
                        "fold_4_test": [
                          133.0072301
                        ],
                        "fold_0_learn": [
                          40.98771879
                        ],
                        "iteration": 391,
                        "fold_4_learn": [
                          37.37801087
                        ],
                        "fold_3_learn": [
                          42.23990852
                        ],
                        "fold_2_learn": [
                          40.28268821
                        ],
                        "fold_1_learn": [
                          46.44216213
                        ],
                        "fold_0_test": [
                          113.2232519
                        ],
                        "fold_1_test": [
                          103.4901228
                        ],
                        "fold_3_test": [
                          122.4852545
                        ],
                        "fold_2_test": [
                          115.485526
                        ]
                      },
                      {
                        "fold_4_test": [
                          133.0845147
                        ],
                        "fold_0_learn": [
                          40.9402932
                        ],
                        "iteration": 392,
                        "fold_4_learn": [
                          37.31392274
                        ],
                        "fold_3_learn": [
                          42.20969719
                        ],
                        "fold_2_learn": [
                          40.26497225
                        ],
                        "fold_1_learn": [
                          46.43592313
                        ],
                        "fold_0_test": [
                          113.4428891
                        ],
                        "fold_1_test": [
                          103.4994071
                        ],
                        "fold_3_test": [
                          122.577405
                        ],
                        "fold_2_test": [
                          115.5169666
                        ]
                      },
                      {
                        "fold_4_test": [
                          133.0568885
                        ],
                        "fold_0_learn": [
                          40.90390379
                        ],
                        "iteration": 393,
                        "fold_4_learn": [
                          37.29895343
                        ],
                        "fold_3_learn": [
                          42.11516628
                        ],
                        "fold_2_learn": [
                          40.17332877
                        ],
                        "fold_1_learn": [
                          46.42388164
                        ],
                        "fold_0_test": [
                          113.4077819
                        ],
                        "fold_1_test": [
                          103.5235054
                        ],
                        "fold_3_test": [
                          122.7250657
                        ],
                        "fold_2_test": [
                          115.4924138
                        ]
                      },
                      {
                        "fold_4_test": [
                          133.0692828
                        ],
                        "fold_0_learn": [
                          40.82801094
                        ],
                        "iteration": 394,
                        "fold_4_learn": [
                          37.28677581
                        ],
                        "fold_3_learn": [
                          42.05887684
                        ],
                        "fold_2_learn": [
                          40.11780824
                        ],
                        "fold_1_learn": [
                          46.38448426
                        ],
                        "fold_0_test": [
                          113.409335
                        ],
                        "fold_1_test": [
                          103.5160446
                        ],
                        "fold_3_test": [
                          122.713424
                        ],
                        "fold_2_test": [
                          115.4641875
                        ]
                      },
                      {
                        "fold_4_test": [
                          133.0684612
                        ],
                        "fold_0_learn": [
                          40.77867682
                        ],
                        "iteration": 395,
                        "fold_4_learn": [
                          37.22775133
                        ],
                        "fold_3_learn": [
                          41.97566793
                        ],
                        "fold_2_learn": [
                          40.1124721
                        ],
                        "fold_1_learn": [
                          46.25811815
                        ],
                        "fold_0_test": [
                          113.3859405
                        ],
                        "fold_1_test": [
                          103.5833912
                        ],
                        "fold_3_test": [
                          122.7594783
                        ],
                        "fold_2_test": [
                          115.4529034
                        ]
                      },
                      {
                        "fold_4_test": [
                          133.0908783
                        ],
                        "fold_0_learn": [
                          40.74295725
                        ],
                        "iteration": 396,
                        "fold_4_learn": [
                          37.19792596
                        ],
                        "fold_3_learn": [
                          41.78148808
                        ],
                        "fold_2_learn": [
                          40.09575714
                        ],
                        "fold_1_learn": [
                          46.2514854
                        ],
                        "fold_0_test": [
                          113.3558353
                        ],
                        "fold_1_test": [
                          103.5756554
                        ],
                        "fold_3_test": [
                          122.5027859
                        ],
                        "fold_2_test": [
                          115.4568156
                        ]
                      },
                      {
                        "fold_4_test": [
                          133.0835415
                        ],
                        "fold_0_learn": [
                          40.60691944
                        ],
                        "iteration": 397,
                        "fold_4_learn": [
                          37.11394316
                        ],
                        "fold_3_learn": [
                          41.702381
                        ],
                        "fold_2_learn": [
                          39.97401321
                        ],
                        "fold_1_learn": [
                          46.23439021
                        ],
                        "fold_0_test": [
                          113.354996
                        ],
                        "fold_1_test": [
                          103.5732861
                        ],
                        "fold_3_test": [
                          122.5524627
                        ],
                        "fold_2_test": [
                          115.7122654
                        ]
                      },
                      {
                        "fold_4_test": [
                          133.0878289
                        ],
                        "fold_0_learn": [
                          40.54330234
                        ],
                        "iteration": 398,
                        "fold_4_learn": [
                          37.09370155
                        ],
                        "fold_3_learn": [
                          41.66796448
                        ],
                        "fold_2_learn": [
                          39.9443155
                        ],
                        "fold_1_learn": [
                          46.22800917
                        ],
                        "fold_0_test": [
                          113.31176
                        ],
                        "fold_1_test": [
                          103.5800974
                        ],
                        "fold_3_test": [
                          122.546364
                        ],
                        "fold_2_test": [
                          115.7175452
                        ]
                      },
                      {
                        "fold_4_test": [
                          133.0826927
                        ],
                        "fold_0_learn": [
                          40.49925191
                        ],
                        "iteration": 399,
                        "fold_4_learn": [
                          37.08573937
                        ],
                        "fold_3_learn": [
                          41.66358505
                        ],
                        "fold_2_learn": [
                          39.91840258
                        ],
                        "fold_1_learn": [
                          46.19914984
                        ],
                        "fold_0_test": [
                          113.3742431
                        ],
                        "fold_1_test": [
                          103.6187764
                        ],
                        "fold_3_test": [
                          122.5501502
                        ],
                        "fold_2_test": [
                          115.7202085
                        ]
                      },
                      {
                        "fold_4_test": [
                          133.0785118
                        ],
                        "fold_0_learn": [
                          40.47656647
                        ],
                        "iteration": 400,
                        "fold_4_learn": [
                          37.08189707
                        ],
                        "fold_3_learn": [
                          41.56076116
                        ],
                        "fold_2_learn": [
                          39.84641214
                        ],
                        "fold_1_learn": [
                          46.12878436
                        ],
                        "fold_0_test": [
                          113.3696872
                        ],
                        "fold_1_test": [
                          103.6088505
                        ],
                        "fold_3_test": [
                          122.5298411
                        ],
                        "fold_2_test": [
                          115.6812489
                        ]
                      },
                      {
                        "fold_4_test": [
                          133.0779115
                        ],
                        "fold_0_learn": [
                          40.46726371
                        ],
                        "iteration": 401,
                        "fold_4_learn": [
                          37.05459633
                        ],
                        "fold_3_learn": [
                          41.5013515
                        ],
                        "fold_2_learn": [
                          39.71631625
                        ],
                        "fold_1_learn": [
                          46.11925912
                        ],
                        "fold_0_test": [
                          113.3641741
                        ],
                        "fold_1_test": [
                          103.6055153
                        ],
                        "fold_3_test": [
                          122.5318505
                        ],
                        "fold_2_test": [
                          115.394502
                        ]
                      },
                      {
                        "fold_4_test": [
                          133.0823792
                        ],
                        "fold_0_learn": [
                          40.37886612
                        ],
                        "iteration": 402,
                        "fold_4_learn": [
                          37.02808716
                        ],
                        "fold_3_learn": [
                          41.48614505
                        ],
                        "fold_2_learn": [
                          39.62631049
                        ],
                        "fold_1_learn": [
                          46.10969087
                        ],
                        "fold_0_test": [
                          113.5033066
                        ],
                        "fold_1_test": [
                          103.6061957
                        ],
                        "fold_3_test": [
                          122.5342827
                        ],
                        "fold_2_test": [
                          115.3873703
                        ]
                      },
                      {
                        "fold_4_test": [
                          133.0619534
                        ],
                        "fold_0_learn": [
                          40.30853657
                        ],
                        "iteration": 403,
                        "fold_4_learn": [
                          36.99035893
                        ],
                        "fold_3_learn": [
                          41.46209979
                        ],
                        "fold_2_learn": [
                          39.62008001
                        ],
                        "fold_1_learn": [
                          46.01841163
                        ],
                        "fold_0_test": [
                          113.4686189
                        ],
                        "fold_1_test": [
                          103.6438566
                        ],
                        "fold_3_test": [
                          122.5344279
                        ],
                        "fold_2_test": [
                          115.3897806
                        ]
                      },
                      {
                        "fold_4_test": [
                          133.0486949
                        ],
                        "fold_0_learn": [
                          40.28630187
                        ],
                        "iteration": 404,
                        "fold_4_learn": [
                          36.96976371
                        ],
                        "fold_3_learn": [
                          41.37876983
                        ],
                        "fold_2_learn": [
                          39.57755614
                        ],
                        "fold_1_learn": [
                          45.99671403
                        ],
                        "fold_0_test": [
                          113.4548872
                        ],
                        "fold_1_test": [
                          103.6495184
                        ],
                        "fold_3_test": [
                          122.5382961
                        ],
                        "fold_2_test": [
                          115.3990958
                        ]
                      },
                      {
                        "fold_4_test": [
                          133.0604246
                        ],
                        "fold_0_learn": [
                          40.25444369
                        ],
                        "iteration": 405,
                        "fold_4_learn": [
                          36.95355492
                        ],
                        "fold_3_learn": [
                          41.36501743
                        ],
                        "fold_2_learn": [
                          39.52315281
                        ],
                        "fold_1_learn": [
                          45.9946893
                        ],
                        "fold_0_test": [
                          113.4089068
                        ],
                        "fold_1_test": [
                          103.6489055
                        ],
                        "fold_3_test": [
                          122.5367043
                        ],
                        "fold_2_test": [
                          115.4028158
                        ]
                      },
                      {
                        "fold_4_test": [
                          132.9542777
                        ],
                        "fold_0_learn": [
                          40.21376327
                        ],
                        "iteration": 406,
                        "fold_4_learn": [
                          36.90600415
                        ],
                        "fold_3_learn": [
                          41.36167279
                        ],
                        "fold_2_learn": [
                          39.51576031
                        ],
                        "fold_1_learn": [
                          45.97367926
                        ],
                        "fold_0_test": [
                          113.4073213
                        ],
                        "fold_1_test": [
                          103.6207139
                        ],
                        "fold_3_test": [
                          122.5344311
                        ],
                        "fold_2_test": [
                          115.423127
                        ]
                      },
                      {
                        "fold_4_test": [
                          132.9663846
                        ],
                        "fold_0_learn": [
                          40.11832536
                        ],
                        "iteration": 407,
                        "fold_4_learn": [
                          36.89339163
                        ],
                        "fold_3_learn": [
                          41.32012806
                        ],
                        "fold_2_learn": [
                          39.4654383
                        ],
                        "fold_1_learn": [
                          45.96949341
                        ],
                        "fold_0_test": [
                          113.485192
                        ],
                        "fold_1_test": [
                          103.6242154
                        ],
                        "fold_3_test": [
                          122.5317398
                        ],
                        "fold_2_test": [
                          115.4368607
                        ]
                      },
                      {
                        "fold_4_test": [
                          132.9862023
                        ],
                        "fold_0_learn": [
                          40.03777553
                        ],
                        "iteration": 408,
                        "fold_4_learn": [
                          36.87606495
                        ],
                        "fold_3_learn": [
                          41.2518754
                        ],
                        "fold_2_learn": [
                          39.28892066
                        ],
                        "fold_1_learn": [
                          45.96793114
                        ],
                        "fold_0_test": [
                          113.4250124
                        ],
                        "fold_1_test": [
                          103.621107
                        ],
                        "fold_3_test": [
                          122.5465368
                        ],
                        "fold_2_test": [
                          115.3322659
                        ]
                      },
                      {
                        "fold_4_test": [
                          132.9011353
                        ],
                        "fold_0_learn": [
                          40.02385566
                        ],
                        "iteration": 409,
                        "fold_4_learn": [
                          36.82949864
                        ],
                        "fold_3_learn": [
                          41.24291935
                        ],
                        "fold_2_learn": [
                          39.26937152
                        ],
                        "fold_1_learn": [
                          45.83690849
                        ],
                        "fold_0_test": [
                          113.4438733
                        ],
                        "fold_1_test": [
                          103.5620796
                        ],
                        "fold_3_test": [
                          122.5254421
                        ],
                        "fold_2_test": [
                          115.339086
                        ]
                      },
                      {
                        "fold_4_test": [
                          132.8930535
                        ],
                        "fold_0_learn": [
                          39.86173274
                        ],
                        "iteration": 410,
                        "fold_4_learn": [
                          36.7991511
                        ],
                        "fold_3_learn": [
                          41.11148236
                        ],
                        "fold_2_learn": [
                          39.2251743
                        ],
                        "fold_1_learn": [
                          45.82364567
                        ],
                        "fold_0_test": [
                          113.3149245
                        ],
                        "fold_1_test": [
                          103.547932
                        ],
                        "fold_3_test": [
                          122.5967963
                        ],
                        "fold_2_test": [
                          115.242928
                        ]
                      },
                      {
                        "fold_4_test": [
                          132.8824411
                        ],
                        "fold_0_learn": [
                          39.84926254
                        ],
                        "iteration": 411,
                        "fold_4_learn": [
                          36.78484997
                        ],
                        "fold_3_learn": [
                          40.87964218
                        ],
                        "fold_2_learn": [
                          39.16352675
                        ],
                        "fold_1_learn": [
                          45.81778744
                        ],
                        "fold_0_test": [
                          113.3218748
                        ],
                        "fold_1_test": [
                          103.5476235
                        ],
                        "fold_3_test": [
                          122.3896643
                        ],
                        "fold_2_test": [
                          115.2211638
                        ]
                      },
                      {
                        "fold_4_test": [
                          132.9244702
                        ],
                        "fold_0_learn": [
                          39.82398629
                        ],
                        "iteration": 412,
                        "fold_4_learn": [
                          36.76228575
                        ],
                        "fold_3_learn": [
                          40.80865283
                        ],
                        "fold_2_learn": [
                          39.05091311
                        ],
                        "fold_1_learn": [
                          45.81074007
                        ],
                        "fold_0_test": [
                          113.308029
                        ],
                        "fold_1_test": [
                          103.5446149
                        ],
                        "fold_3_test": [
                          122.3948639
                        ],
                        "fold_2_test": [
                          115.2653538
                        ]
                      },
                      {
                        "fold_4_test": [
                          132.9512957
                        ],
                        "fold_0_learn": [
                          39.7755397
                        ],
                        "iteration": 413,
                        "fold_4_learn": [
                          36.71731945
                        ],
                        "fold_3_learn": [
                          40.69087445
                        ],
                        "fold_2_learn": [
                          39.0217679
                        ],
                        "fold_1_learn": [
                          45.50086198
                        ],
                        "fold_0_test": [
                          113.3896231
                        ],
                        "fold_1_test": [
                          103.6224156
                        ],
                        "fold_3_test": [
                          122.4703783
                        ],
                        "fold_2_test": [
                          115.2118421
                        ]
                      },
                      {
                        "fold_4_test": [
                          132.9471714
                        ],
                        "fold_0_learn": [
                          39.6477765
                        ],
                        "iteration": 414,
                        "fold_4_learn": [
                          36.6849977
                        ],
                        "fold_3_learn": [
                          40.68253522
                        ],
                        "fold_2_learn": [
                          38.96736758
                        ],
                        "fold_1_learn": [
                          45.46141948
                        ],
                        "fold_0_test": [
                          113.4355072
                        ],
                        "fold_1_test": [
                          103.6263846
                        ],
                        "fold_3_test": [
                          122.4493824
                        ],
                        "fold_2_test": [
                          115.1896875
                        ]
                      },
                      {
                        "fold_4_test": [
                          132.9838258
                        ],
                        "fold_0_learn": [
                          39.63718164
                        ],
                        "iteration": 415,
                        "fold_4_learn": [
                          36.65531841
                        ],
                        "fold_3_learn": [
                          40.62607273
                        ],
                        "fold_2_learn": [
                          38.85176859
                        ],
                        "fold_1_learn": [
                          45.27537166
                        ],
                        "fold_0_test": [
                          113.4280303
                        ],
                        "fold_1_test": [
                          103.4746798
                        ],
                        "fold_3_test": [
                          122.4425766
                        ],
                        "fold_2_test": [
                          115.0450228
                        ]
                      },
                      {
                        "fold_4_test": [
                          133.0180517
                        ],
                        "fold_0_learn": [
                          39.56624863
                        ],
                        "iteration": 416,
                        "fold_4_learn": [
                          36.62624292
                        ],
                        "fold_3_learn": [
                          40.55608518
                        ],
                        "fold_2_learn": [
                          38.84549981
                        ],
                        "fold_1_learn": [
                          45.24893406
                        ],
                        "fold_0_test": [
                          113.4092678
                        ],
                        "fold_1_test": [
                          103.505156
                        ],
                        "fold_3_test": [
                          122.4481258
                        ],
                        "fold_2_test": [
                          115.0478874
                        ]
                      },
                      {
                        "fold_4_test": [
                          133.0236405
                        ],
                        "fold_0_learn": [
                          39.53116617
                        ],
                        "iteration": 417,
                        "fold_4_learn": [
                          36.59286408
                        ],
                        "fold_3_learn": [
                          40.4359609
                        ],
                        "fold_2_learn": [
                          38.76279455
                        ],
                        "fold_1_learn": [
                          45.18659783
                        ],
                        "fold_0_test": [
                          113.3843321
                        ],
                        "fold_1_test": [
                          103.4822548
                        ],
                        "fold_3_test": [
                          122.6260651
                        ],
                        "fold_2_test": [
                          114.9987371
                        ]
                      },
                      {
                        "fold_4_test": [
                          133.0285872
                        ],
                        "fold_0_learn": [
                          39.43048013
                        ],
                        "iteration": 418,
                        "fold_4_learn": [
                          36.45209093
                        ],
                        "fold_3_learn": [
                          40.36784139
                        ],
                        "fold_2_learn": [
                          38.64750685
                        ],
                        "fold_1_learn": [
                          45.12117722
                        ],
                        "fold_0_test": [
                          113.364064
                        ],
                        "fold_1_test": [
                          103.4111686
                        ],
                        "fold_3_test": [
                          122.5866795
                        ],
                        "fold_2_test": [
                          115.0601031
                        ]
                      },
                      {
                        "fold_4_test": [
                          133.0521695
                        ],
                        "fold_0_learn": [
                          39.35486906
                        ],
                        "iteration": 419,
                        "fold_4_learn": [
                          36.37652839
                        ],
                        "fold_3_learn": [
                          40.30530198
                        ],
                        "fold_2_learn": [
                          38.55195322
                        ],
                        "fold_1_learn": [
                          44.98619217
                        ],
                        "fold_0_test": [
                          113.3595273
                        ],
                        "fold_1_test": [
                          103.608316
                        ],
                        "fold_3_test": [
                          122.5651816
                        ],
                        "fold_2_test": [
                          115.2568543
                        ]
                      },
                      {
                        "fold_4_test": [
                          133.0079835
                        ],
                        "fold_0_learn": [
                          39.34395405
                        ],
                        "iteration": 420,
                        "fold_4_learn": [
                          36.34997026
                        ],
                        "fold_3_learn": [
                          40.24337863
                        ],
                        "fold_2_learn": [
                          38.53326213
                        ],
                        "fold_1_learn": [
                          44.93855064
                        ],
                        "fold_0_test": [
                          113.3639928
                        ],
                        "fold_1_test": [
                          103.6482335
                        ],
                        "fold_3_test": [
                          122.4298734
                        ],
                        "fold_2_test": [
                          115.2484554
                        ]
                      },
                      {
                        "fold_4_test": [
                          133.0044621
                        ],
                        "fold_0_learn": [
                          39.32442359
                        ],
                        "iteration": 421,
                        "fold_4_learn": [
                          36.28384234
                        ],
                        "fold_3_learn": [
                          40.07604338
                        ],
                        "fold_2_learn": [
                          38.47488962
                        ],
                        "fold_1_learn": [
                          44.90484813
                        ],
                        "fold_0_test": [
                          113.3474072
                        ],
                        "fold_1_test": [
                          103.6432815
                        ],
                        "fold_3_test": [
                          122.6119292
                        ],
                        "fold_2_test": [
                          115.23751
                        ]
                      },
                      {
                        "fold_4_test": [
                          132.9924918
                        ],
                        "fold_0_learn": [
                          39.23808624
                        ],
                        "iteration": 422,
                        "fold_4_learn": [
                          36.26339128
                        ],
                        "fold_3_learn": [
                          39.98807283
                        ],
                        "fold_2_learn": [
                          38.37530322
                        ],
                        "fold_1_learn": [
                          44.82896305
                        ],
                        "fold_0_test": [
                          113.3340954
                        ],
                        "fold_1_test": [
                          103.6092041
                        ],
                        "fold_3_test": [
                          122.7387837
                        ],
                        "fold_2_test": [
                          115.2371235
                        ]
                      },
                      {
                        "fold_4_test": [
                          132.8549321
                        ],
                        "fold_0_learn": [
                          39.18968092
                        ],
                        "iteration": 423,
                        "fold_4_learn": [
                          36.19654142
                        ],
                        "fold_3_learn": [
                          39.89813145
                        ],
                        "fold_2_learn": [
                          38.29585757
                        ],
                        "fold_1_learn": [
                          44.82353273
                        ],
                        "fold_0_test": [
                          113.3125627
                        ],
                        "fold_1_test": [
                          103.6075309
                        ],
                        "fold_3_test": [
                          123.0393416
                        ],
                        "fold_2_test": [
                          115.241701
                        ]
                      },
                      {
                        "fold_4_test": [
                          133.0051299
                        ],
                        "fold_0_learn": [
                          39.1618059
                        ],
                        "iteration": 424,
                        "fold_4_learn": [
                          36.12221479
                        ],
                        "fold_3_learn": [
                          39.81117382
                        ],
                        "fold_2_learn": [
                          38.18276192
                        ],
                        "fold_1_learn": [
                          44.59768282
                        ],
                        "fold_0_test": [
                          113.2998316
                        ],
                        "fold_1_test": [
                          103.679405
                        ],
                        "fold_3_test": [
                          123.0639948
                        ],
                        "fold_2_test": [
                          115.2786385
                        ]
                      },
                      {
                        "fold_4_test": [
                          133.0073843
                        ],
                        "fold_0_learn": [
                          39.1470033
                        ],
                        "iteration": 425,
                        "fold_4_learn": [
                          36.12073804
                        ],
                        "fold_3_learn": [
                          39.72497812
                        ],
                        "fold_2_learn": [
                          38.07214175
                        ],
                        "fold_1_learn": [
                          44.46124429
                        ],
                        "fold_0_test": [
                          113.2900587
                        ],
                        "fold_1_test": [
                          103.6504184
                        ],
                        "fold_3_test": [
                          123.0731261
                        ],
                        "fold_2_test": [
                          115.2691921
                        ]
                      },
                      {
                        "fold_4_test": [
                          133.0087138
                        ],
                        "fold_0_learn": [
                          39.13372513
                        ],
                        "iteration": 426,
                        "fold_4_learn": [
                          36.10545774
                        ],
                        "fold_3_learn": [
                          39.63799969
                        ],
                        "fold_2_learn": [
                          38.03468532
                        ],
                        "fold_1_learn": [
                          44.40746241
                        ],
                        "fold_0_test": [
                          113.3045458
                        ],
                        "fold_1_test": [
                          103.5957895
                        ],
                        "fold_3_test": [
                          123.0835341
                        ],
                        "fold_2_test": [
                          115.2911462
                        ]
                      },
                      {
                        "fold_4_test": [
                          133.0053215
                        ],
                        "fold_0_learn": [
                          39.10216357
                        ],
                        "iteration": 427,
                        "fold_4_learn": [
                          36.06482043
                        ],
                        "fold_3_learn": [
                          39.55896708
                        ],
                        "fold_2_learn": [
                          38.02699053
                        ],
                        "fold_1_learn": [
                          44.31252295
                        ],
                        "fold_0_test": [
                          113.327552
                        ],
                        "fold_1_test": [
                          103.5759142
                        ],
                        "fold_3_test": [
                          123.0777274
                        ],
                        "fold_2_test": [
                          115.2905566
                        ]
                      },
                      {
                        "fold_4_test": [
                          132.9826765
                        ],
                        "fold_0_learn": [
                          39.05700213
                        ],
                        "iteration": 428,
                        "fold_4_learn": [
                          36.03136009
                        ],
                        "fold_3_learn": [
                          39.5461166
                        ],
                        "fold_2_learn": [
                          37.9861943
                        ],
                        "fold_1_learn": [
                          44.22561287
                        ],
                        "fold_0_test": [
                          113.322493
                        ],
                        "fold_1_test": [
                          103.6814877
                        ],
                        "fold_3_test": [
                          123.0685066
                        ],
                        "fold_2_test": [
                          115.2859753
                        ]
                      },
                      {
                        "fold_4_test": [
                          132.9828957
                        ],
                        "fold_0_learn": [
                          38.93239235
                        ],
                        "iteration": 429,
                        "fold_4_learn": [
                          36.0229971
                        ],
                        "fold_3_learn": [
                          39.52400371
                        ],
                        "fold_2_learn": [
                          37.96888531
                        ],
                        "fold_1_learn": [
                          43.98141331
                        ],
                        "fold_0_test": [
                          113.2122366
                        ],
                        "fold_1_test": [
                          103.6591134
                        ],
                        "fold_3_test": [
                          123.0723153
                        ],
                        "fold_2_test": [
                          115.2881558
                        ]
                      },
                      {
                        "fold_4_test": [
                          133.0006873
                        ],
                        "fold_0_learn": [
                          38.87669441
                        ],
                        "iteration": 430,
                        "fold_4_learn": [
                          35.98810683
                        ],
                        "fold_3_learn": [
                          39.51094615
                        ],
                        "fold_2_learn": [
                          37.94744051
                        ],
                        "fold_1_learn": [
                          43.94026368
                        ],
                        "fold_0_test": [
                          113.2340574
                        ],
                        "fold_1_test": [
                          103.6268427
                        ],
                        "fold_3_test": [
                          123.0922373
                        ],
                        "fold_2_test": [
                          115.2956333
                        ]
                      },
                      {
                        "fold_4_test": [
                          133.0158071
                        ],
                        "fold_0_learn": [
                          38.76971897
                        ],
                        "passed_time": 4.402206624,
                        "iteration": 431,
                        "remaining_time": 0.6929399316,
                        "fold_4_learn": [
                          35.96336228
                        ],
                        "fold_3_learn": [
                          39.49226184
                        ],
                        "fold_2_learn": [
                          37.77823448
                        ],
                        "fold_1_learn": [
                          43.91247712
                        ],
                        "fold_0_test": [
                          113.1226138
                        ],
                        "fold_1_test": [
                          103.6174527
                        ],
                        "fold_3_test": [
                          123.0925631
                        ],
                        "fold_2_test": [
                          115.5498034
                        ]
                      },
                      {
                        "fold_4_test": [
                          132.9675852
                        ],
                        "fold_0_learn": [
                          38.71464643
                        ],
                        "iteration": 432,
                        "fold_4_learn": [
                          35.89473736
                        ],
                        "fold_3_learn": [
                          39.44019834
                        ],
                        "fold_2_learn": [
                          37.7421382
                        ],
                        "fold_1_learn": [
                          43.89593762
                        ],
                        "fold_0_test": [
                          113.1891491
                        ],
                        "fold_1_test": [
                          103.6035527
                        ],
                        "fold_3_test": [
                          123.1178787
                        ],
                        "fold_2_test": [
                          115.5613229
                        ]
                      },
                      {
                        "fold_4_test": [
                          132.9718891
                        ],
                        "fold_0_learn": [
                          38.63250201
                        ],
                        "iteration": 433,
                        "fold_4_learn": [
                          35.87868736
                        ],
                        "fold_3_learn": [
                          39.35474244
                        ],
                        "fold_2_learn": [
                          37.69084491
                        ],
                        "fold_1_learn": [
                          43.86829275
                        ],
                        "fold_0_test": [
                          113.2432478
                        ],
                        "fold_1_test": [
                          103.5674216
                        ],
                        "fold_3_test": [
                          123.2417739
                        ],
                        "fold_2_test": [
                          115.5348448
                        ]
                      },
                      {
                        "fold_4_test": [
                          132.9790644
                        ],
                        "fold_0_learn": [
                          38.53099067
                        ],
                        "iteration": 434,
                        "fold_4_learn": [
                          35.86856219
                        ],
                        "fold_3_learn": [
                          39.33366407
                        ],
                        "fold_2_learn": [
                          37.66531624
                        ],
                        "fold_1_learn": [
                          43.82732681
                        ],
                        "fold_0_test": [
                          113.2152011
                        ],
                        "fold_1_test": [
                          103.5507771
                        ],
                        "fold_3_test": [
                          123.2237328
                        ],
                        "fold_2_test": [
                          115.5627941
                        ]
                      },
                      {
                        "fold_4_test": [
                          133.0121334
                        ],
                        "fold_0_learn": [
                          38.38704783
                        ],
                        "iteration": 435,
                        "fold_4_learn": [
                          35.81584756
                        ],
                        "fold_3_learn": [
                          39.26899798
                        ],
                        "fold_2_learn": [
                          37.63856608
                        ],
                        "fold_1_learn": [
                          43.78065996
                        ],
                        "fold_0_test": [
                          113.2247413
                        ],
                        "fold_1_test": [
                          103.6163003
                        ],
                        "fold_3_test": [
                          123.2708949
                        ],
                        "fold_2_test": [
                          115.5291035
                        ]
                      },
                      {
                        "fold_4_test": [
                          133.2851093
                        ],
                        "fold_0_learn": [
                          38.25846256
                        ],
                        "iteration": 436,
                        "fold_4_learn": [
                          35.6929793
                        ],
                        "fold_3_learn": [
                          39.21827553
                        ],
                        "fold_2_learn": [
                          37.63379902
                        ],
                        "fold_1_learn": [
                          43.76462999
                        ],
                        "fold_0_test": [
                          113.1760349
                        ],
                        "fold_1_test": [
                          103.624975
                        ],
                        "fold_3_test": [
                          123.224033
                        ],
                        "fold_2_test": [
                          115.5295445
                        ]
                      },
                      {
                        "fold_4_test": [
                          133.3392052
                        ],
                        "fold_0_learn": [
                          38.2119847
                        ],
                        "iteration": 437,
                        "fold_4_learn": [
                          35.58720748
                        ],
                        "fold_3_learn": [
                          39.17137586
                        ],
                        "fold_2_learn": [
                          37.52045824
                        ],
                        "fold_1_learn": [
                          43.75361443
                        ],
                        "fold_0_test": [
                          113.2683329
                        ],
                        "fold_1_test": [
                          103.6527481
                        ],
                        "fold_3_test": [
                          123.1818131
                        ],
                        "fold_2_test": [
                          115.4848854
                        ]
                      },
                      {
                        "fold_4_test": [
                          133.3265693
                        ],
                        "fold_0_learn": [
                          38.19351593
                        ],
                        "iteration": 438,
                        "fold_4_learn": [
                          35.58270149
                        ],
                        "fold_3_learn": [
                          39.09436356
                        ],
                        "fold_2_learn": [
                          37.49116507
                        ],
                        "fold_1_learn": [
                          43.65868531
                        ],
                        "fold_0_test": [
                          113.261272
                        ],
                        "fold_1_test": [
                          103.7731147
                        ],
                        "fold_3_test": [
                          123.1426143
                        ],
                        "fold_2_test": [
                          115.4825573
                        ]
                      },
                      {
                        "fold_4_test": [
                          133.3566643
                        ],
                        "fold_0_learn": [
                          38.1852837
                        ],
                        "iteration": 439,
                        "fold_4_learn": [
                          35.53880193
                        ],
                        "fold_3_learn": [
                          39.08378012
                        ],
                        "fold_2_learn": [
                          37.40538423
                        ],
                        "fold_1_learn": [
                          43.45274155
                        ],
                        "fold_0_test": [
                          113.2700806
                        ],
                        "fold_1_test": [
                          103.7580571
                        ],
                        "fold_3_test": [
                          123.1500311
                        ],
                        "fold_2_test": [
                          115.472587
                        ]
                      },
                      {
                        "fold_4_test": [
                          133.3735999
                        ],
                        "fold_0_learn": [
                          38.14387463
                        ],
                        "iteration": 440,
                        "fold_4_learn": [
                          35.52769474
                        ],
                        "fold_3_learn": [
                          39.08019941
                        ],
                        "fold_2_learn": [
                          37.39681829
                        ],
                        "fold_1_learn": [
                          43.28187815
                        ],
                        "fold_0_test": [
                          113.296973
                        ],
                        "fold_1_test": [
                          103.8918489
                        ],
                        "fold_3_test": [
                          123.1494136
                        ],
                        "fold_2_test": [
                          115.4705388
                        ]
                      },
                      {
                        "fold_4_test": [
                          133.3267756
                        ],
                        "fold_0_learn": [
                          38.07945132
                        ],
                        "iteration": 441,
                        "fold_4_learn": [
                          35.48052365
                        ],
                        "fold_3_learn": [
                          39.06236744
                        ],
                        "fold_2_learn": [
                          37.36243837
                        ],
                        "fold_1_learn": [
                          43.26522629
                        ],
                        "fold_0_test": [
                          113.2396011
                        ],
                        "fold_1_test": [
                          103.8839974
                        ],
                        "fold_3_test": [
                          123.1711675
                        ],
                        "fold_2_test": [
                          115.4056723
                        ]
                      },
                      {
                        "fold_4_test": [
                          133.3225171
                        ],
                        "fold_0_learn": [
                          38.06604566
                        ],
                        "iteration": 442,
                        "fold_4_learn": [
                          35.46838355
                        ],
                        "fold_3_learn": [
                          39.05997901
                        ],
                        "fold_2_learn": [
                          37.29171708
                        ],
                        "fold_1_learn": [
                          43.00550974
                        ],
                        "fold_0_test": [
                          113.2227678
                        ],
                        "fold_1_test": [
                          104.2727654
                        ],
                        "fold_3_test": [
                          123.1769369
                        ],
                        "fold_2_test": [
                          115.4481678
                        ]
                      },
                      {
                        "fold_4_test": [
                          133.3363754
                        ],
                        "fold_0_learn": [
                          37.99054036
                        ],
                        "iteration": 443,
                        "fold_4_learn": [
                          35.44619389
                        ],
                        "fold_3_learn": [
                          39.05606776
                        ],
                        "fold_2_learn": [
                          37.17261197
                        ],
                        "fold_1_learn": [
                          42.95264307
                        ],
                        "fold_0_test": [
                          113.1495316
                        ],
                        "fold_1_test": [
                          104.2175812
                        ],
                        "fold_3_test": [
                          123.174237
                        ],
                        "fold_2_test": [
                          115.501414
                        ]
                      },
                      {
                        "fold_4_test": [
                          133.3283165
                        ],
                        "fold_0_learn": [
                          37.98189544
                        ],
                        "iteration": 444,
                        "fold_4_learn": [
                          35.42994612
                        ],
                        "fold_3_learn": [
                          39.00271252
                        ],
                        "fold_2_learn": [
                          37.11015866
                        ],
                        "fold_1_learn": [
                          42.87622479
                        ],
                        "fold_0_test": [
                          113.1464352
                        ],
                        "fold_1_test": [
                          104.1928248
                        ],
                        "fold_3_test": [
                          123.2794036
                        ],
                        "fold_2_test": [
                          115.4722604
                        ]
                      },
                      {
                        "fold_4_test": [
                          133.3593846
                        ],
                        "fold_0_learn": [
                          37.89515131
                        ],
                        "iteration": 445,
                        "fold_4_learn": [
                          35.39449816
                        ],
                        "fold_3_learn": [
                          38.99682011
                        ],
                        "fold_2_learn": [
                          37.07236726
                        ],
                        "fold_1_learn": [
                          42.76057898
                        ],
                        "fold_0_test": [
                          113.054718
                        ],
                        "fold_1_test": [
                          104.2012314
                        ],
                        "fold_3_test": [
                          123.2646123
                        ],
                        "fold_2_test": [
                          115.4655702
                        ]
                      },
                      {
                        "fold_4_test": [
                          133.5397417
                        ],
                        "fold_0_learn": [
                          37.88846154
                        ],
                        "iteration": 446,
                        "fold_4_learn": [
                          35.30731683
                        ],
                        "fold_3_learn": [
                          38.95936971
                        ],
                        "fold_2_learn": [
                          37.06868299
                        ],
                        "fold_1_learn": [
                          42.69181459
                        ],
                        "fold_0_test": [
                          113.0572038
                        ],
                        "fold_1_test": [
                          104.1532726
                        ],
                        "fold_3_test": [
                          123.2937844
                        ],
                        "fold_2_test": [
                          115.4632593
                        ]
                      },
                      {
                        "fold_4_test": [
                          133.5694513
                        ],
                        "fold_0_learn": [
                          37.87816895
                        ],
                        "iteration": 447,
                        "fold_4_learn": [
                          35.27427382
                        ],
                        "fold_3_learn": [
                          38.94347011
                        ],
                        "fold_2_learn": [
                          37.06123472
                        ],
                        "fold_1_learn": [
                          42.56726634
                        ],
                        "fold_0_test": [
                          113.0517569
                        ],
                        "fold_1_test": [
                          104.2134613
                        ],
                        "fold_3_test": [
                          123.3309443
                        ],
                        "fold_2_test": [
                          115.4908508
                        ]
                      },
                      {
                        "fold_4_test": [
                          133.5805667
                        ],
                        "fold_0_learn": [
                          37.86489121
                        ],
                        "iteration": 448,
                        "fold_4_learn": [
                          35.26938434
                        ],
                        "fold_3_learn": [
                          38.88296807
                        ],
                        "fold_2_learn": [
                          37.00320474
                        ],
                        "fold_1_learn": [
                          42.4164009
                        ],
                        "fold_0_test": [
                          113.0411879
                        ],
                        "fold_1_test": [
                          104.1876551
                        ],
                        "fold_3_test": [
                          123.3431275
                        ],
                        "fold_2_test": [
                          115.5093183
                        ]
                      },
                      {
                        "fold_4_test": [
                          133.5924884
                        ],
                        "fold_0_learn": [
                          37.81079529
                        ],
                        "iteration": 449,
                        "fold_4_learn": [
                          35.23157895
                        ],
                        "fold_3_learn": [
                          38.87499376
                        ],
                        "fold_2_learn": [
                          36.98415786
                        ],
                        "fold_1_learn": [
                          42.34328976
                        ],
                        "fold_0_test": [
                          113.2787753
                        ],
                        "fold_1_test": [
                          104.1393959
                        ],
                        "fold_3_test": [
                          123.3408231
                        ],
                        "fold_2_test": [
                          115.5047309
                        ]
                      },
                      {
                        "fold_4_test": [
                          133.6388491
                        ],
                        "fold_0_learn": [
                          37.68793536
                        ],
                        "iteration": 450,
                        "fold_4_learn": [
                          35.15252696
                        ],
                        "fold_3_learn": [
                          38.87109936
                        ],
                        "fold_2_learn": [
                          36.90227147
                        ],
                        "fold_1_learn": [
                          42.28402576
                        ],
                        "fold_0_test": [
                          113.5955761
                        ],
                        "fold_1_test": [
                          104.12695
                        ],
                        "fold_3_test": [
                          123.3346761
                        ],
                        "fold_2_test": [
                          115.5264134
                        ]
                      },
                      {
                        "fold_4_test": [
                          133.6401842
                        ],
                        "fold_0_learn": [
                          37.63229694
                        ],
                        "iteration": 451,
                        "fold_4_learn": [
                          35.13661123
                        ],
                        "fold_3_learn": [
                          38.83339423
                        ],
                        "fold_2_learn": [
                          36.86514926
                        ],
                        "fold_1_learn": [
                          42.19812395
                        ],
                        "fold_0_test": [
                          113.7140594
                        ],
                        "fold_1_test": [
                          104.1758917
                        ],
                        "fold_3_test": [
                          123.3590431
                        ],
                        "fold_2_test": [
                          115.5374646
                        ]
                      },
                      {
                        "fold_4_test": [
                          133.6702623
                        ],
                        "fold_0_learn": [
                          37.56759174
                        ],
                        "iteration": 452,
                        "fold_4_learn": [
                          35.05186617
                        ],
                        "fold_3_learn": [
                          38.82809858
                        ],
                        "fold_2_learn": [
                          36.85444704
                        ],
                        "fold_1_learn": [
                          42.09900711
                        ],
                        "fold_0_test": [
                          113.7357039
                        ],
                        "fold_1_test": [
                          104.1525537
                        ],
                        "fold_3_test": [
                          123.3584659
                        ],
                        "fold_2_test": [
                          115.524231
                        ]
                      },
                      {
                        "fold_4_test": [
                          133.702649
                        ],
                        "fold_0_learn": [
                          37.50407011
                        ],
                        "iteration": 453,
                        "fold_4_learn": [
                          34.98923313
                        ],
                        "fold_3_learn": [
                          38.82238173
                        ],
                        "fold_2_learn": [
                          36.73768063
                        ],
                        "fold_1_learn": [
                          41.98161899
                        ],
                        "fold_0_test": [
                          113.7108081
                        ],
                        "fold_1_test": [
                          103.8756344
                        ],
                        "fold_3_test": [
                          123.3486661
                        ],
                        "fold_2_test": [
                          115.4906413
                        ]
                      },
                      {
                        "fold_4_test": [
                          133.7007739
                        ],
                        "fold_0_learn": [
                          37.4578856
                        ],
                        "iteration": 454,
                        "fold_4_learn": [
                          34.94303906
                        ],
                        "fold_3_learn": [
                          38.79775327
                        ],
                        "fold_2_learn": [
                          36.70698732
                        ],
                        "fold_1_learn": [
                          41.94588122
                        ],
                        "fold_0_test": [
                          113.6954478
                        ],
                        "fold_1_test": [
                          103.8001822
                        ],
                        "fold_3_test": [
                          123.3461184
                        ],
                        "fold_2_test": [
                          115.4993401
                        ]
                      },
                      {
                        "fold_4_test": [
                          133.701315
                        ],
                        "fold_0_learn": [
                          37.4415693
                        ],
                        "iteration": 455,
                        "fold_4_learn": [
                          34.89606527
                        ],
                        "fold_3_learn": [
                          38.76865362
                        ],
                        "fold_2_learn": [
                          36.64864765
                        ],
                        "fold_1_learn": [
                          41.81714344
                        ],
                        "fold_0_test": [
                          113.6734355
                        ],
                        "fold_1_test": [
                          103.8682457
                        ],
                        "fold_3_test": [
                          123.3602898
                        ],
                        "fold_2_test": [
                          115.538377
                        ]
                      },
                      {
                        "fold_4_test": [
                          133.7742463
                        ],
                        "fold_0_learn": [
                          37.36261144
                        ],
                        "iteration": 456,
                        "fold_4_learn": [
                          34.85698947
                        ],
                        "fold_3_learn": [
                          38.68143463
                        ],
                        "fold_2_learn": [
                          36.49835848
                        ],
                        "fold_1_learn": [
                          41.77851354
                        ],
                        "fold_0_test": [
                          113.6320237
                        ],
                        "fold_1_test": [
                          103.9231897
                        ],
                        "fold_3_test": [
                          123.3112805
                        ],
                        "fold_2_test": [
                          115.4779719
                        ]
                      },
                      {
                        "fold_4_test": [
                          133.8326231
                        ],
                        "fold_0_learn": [
                          37.31052348
                        ],
                        "iteration": 457,
                        "fold_4_learn": [
                          34.69382834
                        ],
                        "fold_3_learn": [
                          38.63025229
                        ],
                        "fold_2_learn": [
                          36.46395994
                        ],
                        "fold_1_learn": [
                          41.74713874
                        ],
                        "fold_0_test": [
                          113.5925586
                        ],
                        "fold_1_test": [
                          103.9649573
                        ],
                        "fold_3_test": [
                          123.3174046
                        ],
                        "fold_2_test": [
                          115.5101806
                        ]
                      },
                      {
                        "fold_4_test": [
                          133.7903093
                        ],
                        "fold_0_learn": [
                          37.29519627
                        ],
                        "iteration": 458,
                        "fold_4_learn": [
                          34.64201355
                        ],
                        "fold_3_learn": [
                          38.56822441
                        ],
                        "fold_2_learn": [
                          36.33066753
                        ],
                        "fold_1_learn": [
                          41.70661034
                        ],
                        "fold_0_test": [
                          113.5826133
                        ],
                        "fold_1_test": [
                          104.0052214
                        ],
                        "fold_3_test": [
                          123.3395893
                        ],
                        "fold_2_test": [
                          115.7091071
                        ]
                      },
                      {
                        "fold_4_test": [
                          133.78655
                        ],
                        "fold_0_learn": [
                          37.26788966
                        ],
                        "iteration": 459,
                        "fold_4_learn": [
                          34.6358956
                        ],
                        "fold_3_learn": [
                          38.52000578
                        ],
                        "fold_2_learn": [
                          36.27372431
                        ],
                        "fold_1_learn": [
                          41.68534364
                        ],
                        "fold_0_test": [
                          113.5780864
                        ],
                        "fold_1_test": [
                          104.0141858
                        ],
                        "fold_3_test": [
                          123.2840274
                        ],
                        "fold_2_test": [
                          115.7113934
                        ]
                      },
                      {
                        "fold_4_test": [
                          133.7255785
                        ],
                        "fold_0_learn": [
                          37.1813456
                        ],
                        "iteration": 460,
                        "fold_4_learn": [
                          34.59120609
                        ],
                        "fold_3_learn": [
                          38.47163183
                        ],
                        "fold_2_learn": [
                          36.15207443
                        ],
                        "fold_1_learn": [
                          41.57544442
                        ],
                        "fold_0_test": [
                          113.4004008
                        ],
                        "fold_1_test": [
                          104.0207482
                        ],
                        "fold_3_test": [
                          123.3006318
                        ],
                        "fold_2_test": [
                          115.7221853
                        ]
                      },
                      {
                        "fold_4_test": [
                          133.7453011
                        ],
                        "fold_0_learn": [
                          37.07369344
                        ],
                        "iteration": 461,
                        "fold_4_learn": [
                          34.5694384
                        ],
                        "fold_3_learn": [
                          38.44399557
                        ],
                        "fold_2_learn": [
                          36.14814363
                        ],
                        "fold_1_learn": [
                          41.5139701
                        ],
                        "fold_0_test": [
                          113.1239854
                        ],
                        "fold_1_test": [
                          104.0234976
                        ],
                        "fold_3_test": [
                          123.2903311
                        ],
                        "fold_2_test": [
                          115.7215922
                        ]
                      },
                      {
                        "fold_4_test": [
                          133.7482685
                        ],
                        "fold_0_learn": [
                          36.96228317
                        ],
                        "iteration": 462,
                        "fold_4_learn": [
                          34.56256694
                        ],
                        "fold_3_learn": [
                          38.43695048
                        ],
                        "fold_2_learn": [
                          36.14478771
                        ],
                        "fold_1_learn": [
                          41.45385618
                        ],
                        "fold_0_test": [
                          113.0841468
                        ],
                        "fold_1_test": [
                          103.9291394
                        ],
                        "fold_3_test": [
                          123.2824012
                        ],
                        "fold_2_test": [
                          115.7299661
                        ]
                      },
                      {
                        "fold_4_test": [
                          133.8140122
                        ],
                        "fold_0_learn": [
                          36.85563416
                        ],
                        "iteration": 463,
                        "fold_4_learn": [
                          34.512579
                        ],
                        "fold_3_learn": [
                          38.35597235
                        ],
                        "fold_2_learn": [
                          36.08604837
                        ],
                        "fold_1_learn": [
                          41.43151466
                        ],
                        "fold_0_test": [
                          113.0402952
                        ],
                        "fold_1_test": [
                          103.9335727
                        ],
                        "fold_3_test": [
                          123.1989361
                        ],
                        "fold_2_test": [
                          115.76957
                        ]
                      },
                      {
                        "fold_4_test": [
                          133.8044215
                        ],
                        "fold_0_learn": [
                          36.8099802
                        ],
                        "iteration": 464,
                        "fold_4_learn": [
                          34.43019612
                        ],
                        "fold_3_learn": [
                          38.16267918
                        ],
                        "fold_2_learn": [
                          35.94322725
                        ],
                        "fold_1_learn": [
                          41.2664601
                        ],
                        "fold_0_test": [
                          113.0406657
                        ],
                        "fold_1_test": [
                          103.853614
                        ],
                        "fold_3_test": [
                          123.3891711
                        ],
                        "fold_2_test": [
                          116.0034925
                        ]
                      },
                      {
                        "fold_4_test": [
                          133.8061243
                        ],
                        "fold_0_learn": [
                          36.78368084
                        ],
                        "iteration": 465,
                        "fold_4_learn": [
                          34.41481717
                        ],
                        "fold_3_learn": [
                          38.11053012
                        ],
                        "fold_2_learn": [
                          35.89185594
                        ],
                        "fold_1_learn": [
                          41.23530651
                        ],
                        "fold_0_test": [
                          113.0432967
                        ],
                        "fold_1_test": [
                          103.8477222
                        ],
                        "fold_3_test": [
                          123.357685
                        ],
                        "fold_2_test": [
                          116.0208279
                        ]
                      },
                      {
                        "fold_4_test": [
                          133.8180073
                        ],
                        "fold_0_learn": [
                          36.72175709
                        ],
                        "iteration": 466,
                        "fold_4_learn": [
                          34.3996738
                        ],
                        "fold_3_learn": [
                          38.09462408
                        ],
                        "fold_2_learn": [
                          35.8741278
                        ],
                        "fold_1_learn": [
                          41.14079698
                        ],
                        "fold_0_test": [
                          113.0729464
                        ],
                        "fold_1_test": [
                          103.8537774
                        ],
                        "fold_3_test": [
                          123.3485458
                        ],
                        "fold_2_test": [
                          116.0231981
                        ]
                      },
                      {
                        "fold_4_test": [
                          133.8203802
                        ],
                        "fold_0_learn": [
                          36.61556842
                        ],
                        "iteration": 467,
                        "fold_4_learn": [
                          34.39205404
                        ],
                        "fold_3_learn": [
                          38.05695892
                        ],
                        "fold_2_learn": [
                          35.8094056
                        ],
                        "fold_1_learn": [
                          41.06935796
                        ],
                        "fold_0_test": [
                          113.0373009
                        ],
                        "fold_1_test": [
                          103.9032875
                        ],
                        "fold_3_test": [
                          123.3553684
                        ],
                        "fold_2_test": [
                          116.0586171
                        ]
                      },
                      {
                        "fold_4_test": [
                          133.8379052
                        ],
                        "fold_0_learn": [
                          36.55826543
                        ],
                        "iteration": 468,
                        "fold_4_learn": [
                          34.28728983
                        ],
                        "fold_3_learn": [
                          38.0356605
                        ],
                        "fold_2_learn": [
                          35.6738047
                        ],
                        "fold_1_learn": [
                          41.0535092
                        ],
                        "fold_0_test": [
                          113.0691907
                        ],
                        "fold_1_test": [
                          103.8964331
                        ],
                        "fold_3_test": [
                          123.3326639
                        ],
                        "fold_2_test": [
                          116.1344938
                        ]
                      },
                      {
                        "fold_4_test": [
                          133.8562277
                        ],
                        "fold_0_learn": [
                          36.49127224
                        ],
                        "iteration": 469,
                        "fold_4_learn": [
                          34.23938067
                        ],
                        "fold_3_learn": [
                          37.99309702
                        ],
                        "fold_2_learn": [
                          35.60037957
                        ],
                        "fold_1_learn": [
                          41.02459929
                        ],
                        "fold_0_test": [
                          113.0981728
                        ],
                        "fold_1_test": [
                          103.8799408
                        ],
                        "fold_3_test": [
                          123.3227303
                        ],
                        "fold_2_test": [
                          116.319676
                        ]
                      },
                      {
                        "fold_4_test": [
                          133.888047
                        ],
                        "fold_0_learn": [
                          36.37534784
                        ],
                        "iteration": 470,
                        "fold_4_learn": [
                          34.19333527
                        ],
                        "fold_3_learn": [
                          37.97210282
                        ],
                        "fold_2_learn": [
                          35.54430908
                        ],
                        "fold_1_learn": [
                          40.92473833
                        ],
                        "fold_0_test": [
                          112.9320515
                        ],
                        "fold_1_test": [
                          103.8133651
                        ],
                        "fold_3_test": [
                          123.3077575
                        ],
                        "fold_2_test": [
                          116.3551246
                        ]
                      },
                      {
                        "fold_4_test": [
                          133.9050555
                        ],
                        "fold_0_learn": [
                          36.28507217
                        ],
                        "iteration": 471,
                        "fold_4_learn": [
                          34.13822017
                        ],
                        "fold_3_learn": [
                          37.9086339
                        ],
                        "fold_2_learn": [
                          35.4700269
                        ],
                        "fold_1_learn": [
                          40.87346619
                        ],
                        "fold_0_test": [
                          112.8834625
                        ],
                        "fold_1_test": [
                          103.7628095
                        ],
                        "fold_3_test": [
                          123.3215685
                        ],
                        "fold_2_test": [
                          116.3520685
                        ]
                      },
                      {
                        "fold_4_test": [
                          133.9412453
                        ],
                        "fold_0_learn": [
                          36.17869381
                        ],
                        "iteration": 472,
                        "fold_4_learn": [
                          34.08617887
                        ],
                        "fold_3_learn": [
                          37.8510762
                        ],
                        "fold_2_learn": [
                          35.46844972
                        ],
                        "fold_1_learn": [
                          40.85111396
                        ],
                        "fold_0_test": [
                          112.8932463
                        ],
                        "fold_1_test": [
                          103.751369
                        ],
                        "fold_3_test": [
                          123.2853565
                        ],
                        "fold_2_test": [
                          116.353698
                        ]
                      },
                      {
                        "fold_4_test": [
                          133.9368386
                        ],
                        "fold_0_learn": [
                          36.11728311
                        ],
                        "iteration": 473,
                        "fold_4_learn": [
                          34.06756722
                        ],
                        "fold_3_learn": [
                          37.75568767
                        ],
                        "fold_2_learn": [
                          35.3009112
                        ],
                        "fold_1_learn": [
                          40.80517767
                        ],
                        "fold_0_test": [
                          112.9148432
                        ],
                        "fold_1_test": [
                          103.8868368
                        ],
                        "fold_3_test": [
                          123.3883635
                        ],
                        "fold_2_test": [
                          116.3067402
                        ]
                      },
                      {
                        "fold_4_test": [
                          133.9577833
                        ],
                        "fold_0_learn": [
                          36.05173135
                        ],
                        "iteration": 474,
                        "fold_4_learn": [
                          34.04562604
                        ],
                        "fold_3_learn": [
                          37.68036404
                        ],
                        "fold_2_learn": [
                          35.24746984
                        ],
                        "fold_1_learn": [
                          40.7688123
                        ],
                        "fold_0_test": [
                          112.7533093
                        ],
                        "fold_1_test": [
                          103.7886427
                        ],
                        "fold_3_test": [
                          123.4734323
                        ],
                        "fold_2_test": [
                          116.309944
                        ]
                      },
                      {
                        "fold_4_test": [
                          133.932855
                        ],
                        "fold_0_learn": [
                          35.96446479
                        ],
                        "iteration": 475,
                        "fold_4_learn": [
                          34.03414372
                        ],
                        "fold_3_learn": [
                          37.63006505
                        ],
                        "fold_2_learn": [
                          35.22696234
                        ],
                        "fold_1_learn": [
                          40.7525854
                        ],
                        "fold_0_test": [
                          112.6520989
                        ],
                        "fold_1_test": [
                          103.775147
                        ],
                        "fold_3_test": [
                          123.5366828
                        ],
                        "fold_2_test": [
                          116.3066634
                        ]
                      },
                      {
                        "fold_4_test": [
                          133.975407
                        ],
                        "fold_0_learn": [
                          35.9031648
                        ],
                        "iteration": 476,
                        "fold_4_learn": [
                          33.99524443
                        ],
                        "fold_3_learn": [
                          37.60789048
                        ],
                        "fold_2_learn": [
                          35.14104936
                        ],
                        "fold_1_learn": [
                          40.67357838
                        ],
                        "fold_0_test": [
                          112.7276466
                        ],
                        "fold_1_test": [
                          103.7509684
                        ],
                        "fold_3_test": [
                          123.5391804
                        ],
                        "fold_2_test": [
                          116.3225398
                        ]
                      },
                      {
                        "fold_4_test": [
                          133.9721289
                        ],
                        "fold_0_learn": [
                          35.85683767
                        ],
                        "iteration": 477,
                        "fold_4_learn": [
                          33.97216004
                        ],
                        "fold_3_learn": [
                          37.52377085
                        ],
                        "fold_2_learn": [
                          35.03916093
                        ],
                        "fold_1_learn": [
                          40.62668709
                        ],
                        "fold_0_test": [
                          112.7175647
                        ],
                        "fold_1_test": [
                          103.7609063
                        ],
                        "fold_3_test": [
                          123.5420138
                        ],
                        "fold_2_test": [
                          116.4229454
                        ]
                      },
                      {
                        "fold_4_test": [
                          133.9769616
                        ],
                        "fold_0_learn": [
                          35.79501912
                        ],
                        "iteration": 478,
                        "fold_4_learn": [
                          33.93877681
                        ],
                        "fold_3_learn": [
                          37.47198202
                        ],
                        "fold_2_learn": [
                          34.91989711
                        ],
                        "fold_1_learn": [
                          40.60791498
                        ],
                        "fold_0_test": [
                          112.7276657
                        ],
                        "fold_1_test": [
                          103.7380423
                        ],
                        "fold_3_test": [
                          123.5330184
                        ],
                        "fold_2_test": [
                          116.39693
                        ]
                      },
                      {
                        "fold_4_test": [
                          133.968038
                        ],
                        "fold_0_learn": [
                          35.73475936
                        ],
                        "iteration": 479,
                        "fold_4_learn": [
                          33.88839775
                        ],
                        "fold_3_learn": [
                          37.4538432
                        ],
                        "fold_2_learn": [
                          34.8647193
                        ],
                        "fold_1_learn": [
                          40.58125371
                        ],
                        "fold_0_test": [
                          112.7106231
                        ],
                        "fold_1_test": [
                          103.7400939
                        ],
                        "fold_3_test": [
                          123.525122
                        ],
                        "fold_2_test": [
                          116.4274095
                        ]
                      },
                      {
                        "fold_4_test": [
                          133.9971616
                        ],
                        "fold_0_learn": [
                          35.677695
                        ],
                        "iteration": 480,
                        "fold_4_learn": [
                          33.83329248
                        ],
                        "fold_3_learn": [
                          37.36731538
                        ],
                        "fold_2_learn": [
                          34.78339084
                        ],
                        "fold_1_learn": [
                          40.56315004
                        ],
                        "fold_0_test": [
                          112.7225027
                        ],
                        "fold_1_test": [
                          103.7366868
                        ],
                        "fold_3_test": [
                          123.5195475
                        ],
                        "fold_2_test": [
                          116.3714198
                        ]
                      },
                      {
                        "fold_4_test": [
                          133.9727174
                        ],
                        "fold_0_learn": [
                          35.62480126
                        ],
                        "iteration": 481,
                        "fold_4_learn": [
                          33.79957557
                        ],
                        "fold_3_learn": [
                          37.2833833
                        ],
                        "fold_2_learn": [
                          34.70161094
                        ],
                        "fold_1_learn": [
                          40.52364577
                        ],
                        "fold_0_test": [
                          112.2594735
                        ],
                        "fold_1_test": [
                          103.7744975
                        ],
                        "fold_3_test": [
                          123.5294267
                        ],
                        "fold_2_test": [
                          116.1947312
                        ]
                      },
                      {
                        "fold_4_test": [
                          133.9792884
                        ],
                        "fold_0_learn": [
                          35.57461307
                        ],
                        "iteration": 482,
                        "fold_4_learn": [
                          33.76229995
                        ],
                        "fold_3_learn": [
                          37.17400173
                        ],
                        "fold_2_learn": [
                          34.60625387
                        ],
                        "fold_1_learn": [
                          40.47593267
                        ],
                        "fold_0_test": [
                          112.1992078
                        ],
                        "fold_1_test": [
                          103.7626853
                        ],
                        "fold_3_test": [
                          123.3545159
                        ],
                        "fold_2_test": [
                          116.1910881
                        ]
                      },
                      {
                        "fold_4_test": [
                          133.9740337
                        ],
                        "fold_0_learn": [
                          35.55640924
                        ],
                        "iteration": 483,
                        "fold_4_learn": [
                          33.75854281
                        ],
                        "fold_3_learn": [
                          37.12624314
                        ],
                        "fold_2_learn": [
                          34.57492597
                        ],
                        "fold_1_learn": [
                          40.41400323
                        ],
                        "fold_0_test": [
                          112.1621706
                        ],
                        "fold_1_test": [
                          103.7809196
                        ],
                        "fold_3_test": [
                          123.342071
                        ],
                        "fold_2_test": [
                          116.2175469
                        ]
                      },
                      {
                        "fold_4_test": [
                          133.9643968
                        ],
                        "fold_0_learn": [
                          35.53631437
                        ],
                        "iteration": 484,
                        "fold_4_learn": [
                          33.74129457
                        ],
                        "fold_3_learn": [
                          37.08096649
                        ],
                        "fold_2_learn": [
                          34.44609138
                        ],
                        "fold_1_learn": [
                          40.39151026
                        ],
                        "fold_0_test": [
                          112.175993
                        ],
                        "fold_1_test": [
                          103.7807528
                        ],
                        "fold_3_test": [
                          123.3684368
                        ],
                        "fold_2_test": [
                          116.2151322
                        ]
                      },
                      {
                        "fold_4_test": [
                          134.003261
                        ],
                        "fold_0_learn": [
                          35.49803849
                        ],
                        "iteration": 485,
                        "fold_4_learn": [
                          33.59693811
                        ],
                        "fold_3_learn": [
                          37.05467994
                        ],
                        "fold_2_learn": [
                          34.43222114
                        ],
                        "fold_1_learn": [
                          40.36624102
                        ],
                        "fold_0_test": [
                          112.2391409
                        ],
                        "fold_1_test": [
                          103.8704173
                        ],
                        "fold_3_test": [
                          123.3505191
                        ],
                        "fold_2_test": [
                          116.2198857
                        ]
                      },
                      {
                        "fold_4_test": [
                          133.9961903
                        ],
                        "fold_0_learn": [
                          35.42276567
                        ],
                        "iteration": 486,
                        "fold_4_learn": [
                          33.58083506
                        ],
                        "fold_3_learn": [
                          36.97126974
                        ],
                        "fold_2_learn": [
                          34.40938229
                        ],
                        "fold_1_learn": [
                          40.33014251
                        ],
                        "fold_0_test": [
                          112.3918071
                        ],
                        "fold_1_test": [
                          103.835785
                        ],
                        "fold_3_test": [
                          123.2713551
                        ],
                        "fold_2_test": [
                          116.1992886
                        ]
                      },
                      {
                        "fold_4_test": [
                          133.9968431
                        ],
                        "fold_0_learn": [
                          35.34650255
                        ],
                        "iteration": 487,
                        "fold_4_learn": [
                          33.56412762
                        ],
                        "fold_3_learn": [
                          36.96344715
                        ],
                        "fold_2_learn": [
                          34.32884152
                        ],
                        "fold_1_learn": [
                          40.22898013
                        ],
                        "fold_0_test": [
                          112.3285626
                        ],
                        "fold_1_test": [
                          103.8369048
                        ],
                        "fold_3_test": [
                          123.2659781
                        ],
                        "fold_2_test": [
                          116.1972841
                        ]
                      },
                      {
                        "fold_4_test": [
                          133.9803792
                        ],
                        "fold_0_learn": [
                          35.28367688
                        ],
                        "iteration": 488,
                        "fold_4_learn": [
                          33.55511709
                        ],
                        "fold_3_learn": [
                          36.92292802
                        ],
                        "fold_2_learn": [
                          34.30755375
                        ],
                        "fold_1_learn": [
                          40.14636321
                        ],
                        "fold_0_test": [
                          112.2766971
                        ],
                        "fold_1_test": [
                          103.6647126
                        ],
                        "fold_3_test": [
                          123.2916795
                        ],
                        "fold_2_test": [
                          116.1846355
                        ]
                      },
                      {
                        "fold_4_test": [
                          133.9875761
                        ],
                        "fold_0_learn": [
                          35.18155121
                        ],
                        "iteration": 489,
                        "fold_4_learn": [
                          33.5108774
                        ],
                        "fold_3_learn": [
                          36.91411742
                        ],
                        "fold_2_learn": [
                          34.28763187
                        ],
                        "fold_1_learn": [
                          40.10358995
                        ],
                        "fold_0_test": [
                          112.3379842
                        ],
                        "fold_1_test": [
                          103.6419238
                        ],
                        "fold_3_test": [
                          123.2801349
                        ],
                        "fold_2_test": [
                          116.3740314
                        ]
                      },
                      {
                        "fold_4_test": [
                          134.0271091
                        ],
                        "fold_0_learn": [
                          35.13719495
                        ],
                        "iteration": 490,
                        "fold_4_learn": [
                          33.46674493
                        ],
                        "fold_3_learn": [
                          36.90348944
                        ],
                        "fold_2_learn": [
                          34.25616958
                        ],
                        "fold_1_learn": [
                          40.06970965
                        ],
                        "fold_0_test": [
                          112.3284152
                        ],
                        "fold_1_test": [
                          103.6687389
                        ],
                        "fold_3_test": [
                          123.2773045
                        ],
                        "fold_2_test": [
                          116.4360102
                        ]
                      },
                      {
                        "fold_4_test": [
                          134.0081105
                        ],
                        "fold_0_learn": [
                          35.07693279
                        ],
                        "iteration": 491,
                        "fold_4_learn": [
                          33.44828076
                        ],
                        "fold_3_learn": [
                          36.82521714
                        ],
                        "fold_2_learn": [
                          34.18505539
                        ],
                        "fold_1_learn": [
                          39.93161474
                        ],
                        "fold_0_test": [
                          112.3140093
                        ],
                        "fold_1_test": [
                          103.5263432
                        ],
                        "fold_3_test": [
                          123.404949
                        ],
                        "fold_2_test": [
                          116.4729077
                        ]
                      },
                      {
                        "fold_4_test": [
                          134.0149827
                        ],
                        "fold_0_learn": [
                          35.0098762
                        ],
                        "iteration": 492,
                        "fold_4_learn": [
                          33.40521251
                        ],
                        "fold_3_learn": [
                          36.70866847
                        ],
                        "fold_2_learn": [
                          34.07500337
                        ],
                        "fold_1_learn": [
                          39.92339146
                        ],
                        "fold_0_test": [
                          112.2871264
                        ],
                        "fold_1_test": [
                          103.5203233
                        ],
                        "fold_3_test": [
                          123.4985548
                        ],
                        "fold_2_test": [
                          116.580943
                        ]
                      },
                      {
                        "fold_4_test": [
                          134.0050219
                        ],
                        "fold_0_learn": [
                          34.96169273
                        ],
                        "iteration": 493,
                        "fold_4_learn": [
                          33.39999716
                        ],
                        "fold_3_learn": [
                          36.64371277
                        ],
                        "fold_2_learn": [
                          34.05485776
                        ],
                        "fold_1_learn": [
                          39.89743777
                        ],
                        "fold_0_test": [
                          112.3474659
                        ],
                        "fold_1_test": [
                          103.51312
                        ],
                        "fold_3_test": [
                          123.5139877
                        ],
                        "fold_2_test": [
                          116.587545
                        ]
                      },
                      {
                        "fold_4_test": [
                          134.0101467
                        ],
                        "fold_0_learn": [
                          34.88433953
                        ],
                        "iteration": 494,
                        "fold_4_learn": [
                          33.36969279
                        ],
                        "fold_3_learn": [
                          36.57534541
                        ],
                        "fold_2_learn": [
                          33.98009465
                        ],
                        "fold_1_learn": [
                          39.8593048
                        ],
                        "fold_0_test": [
                          112.1887736
                        ],
                        "fold_1_test": [
                          103.3244253
                        ],
                        "fold_3_test": [
                          123.6023964
                        ],
                        "fold_2_test": [
                          116.4569583
                        ]
                      },
                      {
                        "fold_4_test": [
                          134.0151353
                        ],
                        "fold_0_learn": [
                          34.84237826
                        ],
                        "iteration": 495,
                        "fold_4_learn": [
                          33.34511367
                        ],
                        "fold_3_learn": [
                          36.57174367
                        ],
                        "fold_2_learn": [
                          33.89355678
                        ],
                        "fold_1_learn": [
                          39.8557913
                        ],
                        "fold_0_test": [
                          112.1916653
                        ],
                        "fold_1_test": [
                          103.3212573
                        ],
                        "fold_3_test": [
                          123.600516
                        ],
                        "fold_2_test": [
                          116.4691474
                        ]
                      },
                      {
                        "fold_4_test": [
                          134.0420826
                        ],
                        "fold_0_learn": [
                          34.78857472
                        ],
                        "iteration": 496,
                        "fold_4_learn": [
                          33.30439391
                        ],
                        "fold_3_learn": [
                          36.55931366
                        ],
                        "fold_2_learn": [
                          33.87314851
                        ],
                        "fold_1_learn": [
                          39.81380923
                        ],
                        "fold_0_test": [
                          112.2169501
                        ],
                        "fold_1_test": [
                          103.3022493
                        ],
                        "fold_3_test": [
                          123.6061262
                        ],
                        "fold_2_test": [
                          116.4689965
                        ]
                      },
                      {
                        "fold_4_test": [
                          134.0384217
                        ],
                        "fold_0_learn": [
                          34.75692797
                        ],
                        "iteration": 497,
                        "fold_4_learn": [
                          33.28814302
                        ],
                        "fold_3_learn": [
                          36.53572871
                        ],
                        "fold_2_learn": [
                          33.81315691
                        ],
                        "fold_1_learn": [
                          39.792898
                        ],
                        "fold_0_test": [
                          112.1913864
                        ],
                        "fold_1_test": [
                          103.2984032
                        ],
                        "fold_3_test": [
                          123.6135855
                        ],
                        "fold_2_test": [
                          116.5085869
                        ]
                      },
                      {
                        "fold_4_test": [
                          134.0461228
                        ],
                        "fold_0_learn": [
                          34.70930079
                        ],
                        "iteration": 498,
                        "fold_4_learn": [
                          33.26972771
                        ],
                        "fold_3_learn": [
                          36.44710376
                        ],
                        "fold_2_learn": [
                          33.75236213
                        ],
                        "fold_1_learn": [
                          39.78253021
                        ],
                        "fold_0_test": [
                          112.2751165
                        ],
                        "fold_1_test": [
                          103.3033493
                        ],
                        "fold_3_test": [
                          123.666958
                        ],
                        "fold_2_test": [
                          116.4831435
                        ]
                      },
                      {
                        "fold_4_test": [
                          134.0374194
                        ],
                        "fold_0_learn": [
                          34.65649026
                        ],
                        "passed_time": 5.533550091,
                        "iteration": 499,
                        "remaining_time": 0,
                        "fold_4_learn": [
                          33.26613205
                        ],
                        "fold_3_learn": [
                          36.41639478
                        ],
                        "fold_2_learn": [
                          33.7129406
                        ],
                        "fold_1_learn": [
                          39.67849685
                        ],
                        "fold_0_test": [
                          112.2505325
                        ],
                        "fold_1_test": [
                          103.5550636
                        ],
                        "fold_3_test": [
                          123.6817904
                        ],
                        "fold_2_test": [
                          116.505217
                        ]
                      }
                    ]
                  },
                  "total_iterations": 500,
                  "passed_iterations": 499
                },
                "path": "catboost_info",
                "name": "catboost_info"
              }
            },
            "_view_module": "catboost-widget",
            "_model_module_version": "^1.0.0",
            "_view_count": null,
            "_view_module_version": "^1.0.0",
            "layout": "IPY_MODEL_061c04b2f2464b5c94c608a8c8b98e2f",
            "_model_module": "catboost-widget"
          }
        }
      }
    }
  },
  "cells": [
    {
      "cell_type": "markdown",
      "metadata": {
        "id": "ENYnfiNTOo6a"
      },
      "source": [
        "### **기본 세팅**\n",
        "---"
      ]
    },
    {
      "cell_type": "code",
      "metadata": {
        "id": "oYjp6rqFI3Df",
        "colab": {
          "base_uri": "https://localhost:8080/"
        },
        "outputId": "83bba8d9-5e0d-4eb8-d48a-40322514e5c5"
      },
      "source": [
        "from google.colab import drive\n",
        "drive.mount(\"/content/drive\")"
      ],
      "execution_count": 1,
      "outputs": [
        {
          "output_type": "stream",
          "text": [
            "Drive already mounted at /content/drive; to attempt to forcibly remount, call drive.mount(\"/content/drive\", force_remount=True).\n"
          ],
          "name": "stdout"
        }
      ]
    },
    {
      "cell_type": "code",
      "metadata": {
        "id": "es3KIm8UzjpZ",
        "colab": {
          "base_uri": "https://localhost:8080/"
        },
        "outputId": "091367b4-9fb1-44e3-82dd-a380c593e22c"
      },
      "source": [
        "!sudo apt-get install -y fonts-nanum\n",
        "!sudo fc-cache -fv\n",
        "!rm ~/.cache/matplotlib -rf\n",
        "!pip install tqdm\n",
        "!pip install catboost\n",
        "!pip install category_encoders"
      ],
      "execution_count": 238,
      "outputs": [
        {
          "output_type": "stream",
          "text": [
            "Reading package lists... Done\n",
            "Building dependency tree       \n",
            "Reading state information... Done\n",
            "fonts-nanum is already the newest version (20170925-1).\n",
            "0 upgraded, 0 newly installed, 0 to remove and 40 not upgraded.\n",
            "/usr/share/fonts: caching, new cache contents: 0 fonts, 1 dirs\n",
            "/usr/share/fonts/truetype: caching, new cache contents: 0 fonts, 3 dirs\n",
            "/usr/share/fonts/truetype/humor-sans: caching, new cache contents: 1 fonts, 0 dirs\n",
            "/usr/share/fonts/truetype/liberation: caching, new cache contents: 16 fonts, 0 dirs\n",
            "/usr/share/fonts/truetype/nanum: caching, new cache contents: 10 fonts, 0 dirs\n",
            "/usr/local/share/fonts: caching, new cache contents: 0 fonts, 0 dirs\n",
            "/root/.local/share/fonts: skipping, no such directory\n",
            "/root/.fonts: skipping, no such directory\n",
            "/var/cache/fontconfig: cleaning cache directory\n",
            "/root/.cache/fontconfig: not cleaning non-existent cache directory\n",
            "/root/.fontconfig: not cleaning non-existent cache directory\n",
            "fc-cache: succeeded\n",
            "Requirement already satisfied: tqdm in /usr/local/lib/python3.7/dist-packages (4.41.1)\n",
            "Requirement already satisfied: catboost in /usr/local/lib/python3.7/dist-packages (0.26)\n",
            "Requirement already satisfied: numpy>=1.16.0 in /usr/local/lib/python3.7/dist-packages (from catboost) (1.19.5)\n",
            "Requirement already satisfied: pandas>=0.24.0 in /usr/local/lib/python3.7/dist-packages (from catboost) (1.1.5)\n",
            "Requirement already satisfied: matplotlib in /usr/local/lib/python3.7/dist-packages (from catboost) (3.2.2)\n",
            "Requirement already satisfied: graphviz in /usr/local/lib/python3.7/dist-packages (from catboost) (0.10.1)\n",
            "Requirement already satisfied: scipy in /usr/local/lib/python3.7/dist-packages (from catboost) (1.4.1)\n",
            "Requirement already satisfied: six in /usr/local/lib/python3.7/dist-packages (from catboost) (1.15.0)\n",
            "Requirement already satisfied: plotly in /usr/local/lib/python3.7/dist-packages (from catboost) (4.4.1)\n",
            "Requirement already satisfied: pytz>=2017.2 in /usr/local/lib/python3.7/dist-packages (from pandas>=0.24.0->catboost) (2018.9)\n",
            "Requirement already satisfied: python-dateutil>=2.7.3 in /usr/local/lib/python3.7/dist-packages (from pandas>=0.24.0->catboost) (2.8.1)\n",
            "Requirement already satisfied: cycler>=0.10 in /usr/local/lib/python3.7/dist-packages (from matplotlib->catboost) (0.10.0)\n",
            "Requirement already satisfied: pyparsing!=2.0.4,!=2.1.2,!=2.1.6,>=2.0.1 in /usr/local/lib/python3.7/dist-packages (from matplotlib->catboost) (2.4.7)\n",
            "Requirement already satisfied: kiwisolver>=1.0.1 in /usr/local/lib/python3.7/dist-packages (from matplotlib->catboost) (1.3.1)\n",
            "Requirement already satisfied: retrying>=1.3.3 in /usr/local/lib/python3.7/dist-packages (from plotly->catboost) (1.3.3)\n",
            "Collecting category_encoders\n",
            "  Downloading category_encoders-2.2.2-py2.py3-none-any.whl (80 kB)\n",
            "\u001b[K     |████████████████████████████████| 80 kB 3.8 MB/s \n",
            "\u001b[?25hRequirement already satisfied: scikit-learn>=0.20.0 in /usr/local/lib/python3.7/dist-packages (from category_encoders) (0.22.2.post1)\n",
            "Requirement already satisfied: pandas>=0.21.1 in /usr/local/lib/python3.7/dist-packages (from category_encoders) (1.1.5)\n",
            "Requirement already satisfied: numpy>=1.14.0 in /usr/local/lib/python3.7/dist-packages (from category_encoders) (1.19.5)\n",
            "Requirement already satisfied: scipy>=1.0.0 in /usr/local/lib/python3.7/dist-packages (from category_encoders) (1.4.1)\n",
            "Requirement already satisfied: statsmodels>=0.9.0 in /usr/local/lib/python3.7/dist-packages (from category_encoders) (0.10.2)\n",
            "Requirement already satisfied: patsy>=0.5.1 in /usr/local/lib/python3.7/dist-packages (from category_encoders) (0.5.1)\n",
            "Requirement already satisfied: python-dateutil>=2.7.3 in /usr/local/lib/python3.7/dist-packages (from pandas>=0.21.1->category_encoders) (2.8.1)\n",
            "Requirement already satisfied: pytz>=2017.2 in /usr/local/lib/python3.7/dist-packages (from pandas>=0.21.1->category_encoders) (2018.9)\n",
            "Requirement already satisfied: six in /usr/local/lib/python3.7/dist-packages (from patsy>=0.5.1->category_encoders) (1.15.0)\n",
            "Requirement already satisfied: joblib>=0.11 in /usr/local/lib/python3.7/dist-packages (from scikit-learn>=0.20.0->category_encoders) (1.0.1)\n",
            "Installing collected packages: category-encoders\n",
            "Successfully installed category-encoders-2.2.2\n"
          ],
          "name": "stdout"
        }
      ]
    },
    {
      "cell_type": "code",
      "metadata": {
        "colab": {
          "base_uri": "https://localhost:8080/"
        },
        "id": "ENtBuvBlI9H0",
        "outputId": "b6aa3bb7-da6f-4bac-a94e-5c7d03008573"
      },
      "source": [
        "import sys\n",
        "import math\n",
        "import random\n",
        "\n",
        "from tqdm import tqdm\n",
        "import pandas as pd\n",
        "import numpy as np\n",
        "import matplotlib.pyplot as plt\n",
        "import seaborn as sns\n",
        "\n",
        "import plotly.express as px\n",
        "import plotly.graph_objects as go\n",
        "import plotly.io as pio\n",
        "from plotly.subplots import make_subplots\n",
        "\n",
        "from matplotlib import font_manager, rc\n",
        "rc('font', family='NanumBarunGothic') \n",
        "\n",
        "seed = 0\n",
        "\n",
        "data_path = \"/content/drive/Shareddrives/Parking_pred/data/Encoded/\"\n",
        "result_path = \"/content/drive/Shareddrives/Parking_pred/jihoon/result/\"\n",
        "result_file = \"cat_baseline.csv\"\n",
        "\n",
        "train = pd.read_excel(data_path + \"train.xlsx\")\n",
        "test = pd.read_excel(data_path + \"test.xlsx\")\n",
        "age_gender = pd.read_excel(data_path + \"age_gender_info.xlsx\")\n",
        "\n",
        "submission = pd.read_excel(data_path + \"sample_submission.xlsx\")\n",
        "\n",
        "train.shape, test.shape"
      ],
      "execution_count": 4,
      "outputs": [
        {
          "output_type": "execute_result",
          "data": {
            "text/plain": [
              "((2952, 15), (1022, 14))"
            ]
          },
          "metadata": {
            "tags": []
          },
          "execution_count": 4
        }
      ]
    },
    {
      "cell_type": "markdown",
      "metadata": {
        "id": "8jAxs3GvQCpM"
      },
      "source": [
        "### **오류 데이터 처리**\n",
        "---"
      ]
    },
    {
      "cell_type": "code",
      "metadata": {
        "colab": {
          "base_uri": "https://localhost:8080/"
        },
        "id": "L6DMy2PHQI18",
        "outputId": "b14bb0d4-2981-4397-c21b-d5a48b0cf98d"
      },
      "source": [
        "train_code = ['C1095', 'C2051', 'C1218', 'C1894', 'C2483', 'C1502', 'C1988']\n",
        "test_code = ['C2335', 'C1327']\n",
        "submission_code = ['C2335', 'C1327', 'C2675']\n",
        "for c in train_code:\n",
        "    train = train[train['단지코드'] != c]\n",
        "\n",
        "# for c in test_code:\n",
        "#     test = test[test['단지코드'] != c]\n",
        "\n",
        "# for c in submission_code:\n",
        "#     submission = submission[submission['code'] != c]\n",
        "\n",
        "train.shape, test.shape, submission.shape"
      ],
      "execution_count": 5,
      "outputs": [
        {
          "output_type": "execute_result",
          "data": {
            "text/plain": [
              "((2896, 15), (1022, 14), (150, 2))"
            ]
          },
          "metadata": {
            "tags": []
          },
          "execution_count": 5
        }
      ]
    },
    {
      "cell_type": "code",
      "metadata": {
        "id": "q7p3qjKGTYK3"
      },
      "source": [
        "c2085 = train[train['단지코드'] == 'C2085'].index\n",
        "train.loc[c2085, '단지코드'] = 'C1397'\n",
        "\n",
        "c1397 = train[train['단지코드'] == 'C1397'].index\n",
        "train.loc[c1397, '총세대수'] = 1339"
      ],
      "execution_count": 6,
      "outputs": []
    },
    {
      "cell_type": "code",
      "metadata": {
        "id": "_dzT7vSIh-Bw"
      },
      "source": [
        "c2461 = train[train['단지코드'] == 'C2431'].index\n",
        "train.loc[c2461, '단지코드'] = 'C1649'\n",
        "\n",
        "c1649 = train[train['단지코드'] == 'C1649'].index\n",
        "train.loc[c1649, '총세대수'] = 1047\n",
        "train.loc[c1649, '등록차량수'] = 1214"
      ],
      "execution_count": 7,
      "outputs": []
    },
    {
      "cell_type": "code",
      "metadata": {
        "colab": {
          "base_uri": "https://localhost:8080/"
        },
        "id": "a62FCDY_iT90",
        "outputId": "4a9081da-e89b-45f0-8ca8-de3794836001"
      },
      "source": [
        "c2675 = test[test['단지코드'] == 'C2675']\n",
        "c2675['등록차량수'] = 1279\n",
        "c2675['단지코드'] = 'C1036'\n",
        "c2675\n",
        "\n",
        "# test = test[test['단지코드'] != 'C2675']\n",
        "\n",
        "train = train.append(c2675)\n",
        "train = train.reset_index(drop=True)\n",
        "c1036 = train[train['단지코드'] == 'C1036'].index\n",
        "train.loc[c1036, '총세대수'] = 1254\n",
        "\n",
        "test[test['단지코드'] == 'C2675'], train[train['단지코드'] == 'C1036']"
      ],
      "execution_count": 8,
      "outputs": [
        {
          "output_type": "stream",
          "text": [
            "/usr/local/lib/python3.7/dist-packages/ipykernel_launcher.py:2: SettingWithCopyWarning:\n",
            "\n",
            "\n",
            "A value is trying to be set on a copy of a slice from a DataFrame.\n",
            "Try using .loc[row_indexer,col_indexer] = value instead\n",
            "\n",
            "See the caveats in the documentation: https://pandas.pydata.org/pandas-docs/stable/user_guide/indexing.html#returning-a-view-versus-a-copy\n",
            "\n",
            "/usr/local/lib/python3.7/dist-packages/ipykernel_launcher.py:3: SettingWithCopyWarning:\n",
            "\n",
            "\n",
            "A value is trying to be set on a copy of a slice from a DataFrame.\n",
            "Try using .loc[row_indexer,col_indexer] = value instead\n",
            "\n",
            "See the caveats in the documentation: https://pandas.pydata.org/pandas-docs/stable/user_guide/indexing.html#returning-a-view-versus-a-copy\n",
            "\n"
          ],
          "name": "stderr"
        },
        {
          "output_type": "execute_result",
          "data": {
            "text/plain": [
              "(      단지코드  총세대수  ... 도보 10분거리 내 버스정류장 수 단지내주차면수\n",
              " 579  C2675   512  ...                  3    1016\n",
              " 580  C2675   512  ...                  3    1016\n",
              " 581  C2675   512  ...                  3    1016\n",
              " 582  C2675   512  ...                  3    1016\n",
              " 583  C2675   512  ...                  3    1016\n",
              " 584  C2675   512  ...                  3    1016\n",
              " 585  C2675   512  ...                  3    1016\n",
              " 586  C2675   512  ...                  3    1016\n",
              " \n",
              " [8 rows x 14 columns],\n",
              "        단지코드  총세대수 임대건물구분  ... 도보 10분거리 내 버스정류장 수 단지내주차면수  등록차량수\n",
              " 1490  C1036  1254    아파트  ...                3.0    1016   1279\n",
              " 1491  C1036  1254    아파트  ...                3.0    1016   1279\n",
              " 1492  C1036  1254    아파트  ...                3.0    1016   1279\n",
              " 1493  C1036  1254    아파트  ...                3.0    1016   1279\n",
              " 1494  C1036  1254    아파트  ...                3.0    1016   1279\n",
              " 1495  C1036  1254    아파트  ...                3.0    1016   1279\n",
              " 1496  C1036  1254    아파트  ...                3.0    1016   1279\n",
              " 2896  C1036  1254    아파트  ...                3.0    1016   1279\n",
              " 2897  C1036  1254    아파트  ...                3.0    1016   1279\n",
              " 2898  C1036  1254    아파트  ...                3.0    1016   1279\n",
              " 2899  C1036  1254    아파트  ...                3.0    1016   1279\n",
              " 2900  C1036  1254    아파트  ...                3.0    1016   1279\n",
              " 2901  C1036  1254    아파트  ...                3.0    1016   1279\n",
              " 2902  C1036  1254    아파트  ...                3.0    1016   1279\n",
              " 2903  C1036  1254    아파트  ...                3.0    1016   1279\n",
              " \n",
              " [15 rows x 15 columns])"
            ]
          },
          "metadata": {
            "tags": []
          },
          "execution_count": 8
        }
      ]
    },
    {
      "cell_type": "code",
      "metadata": {
        "colab": {
          "base_uri": "https://localhost:8080/"
        },
        "id": "OWvv3N2UlxV_",
        "outputId": "1cd4a71c-2a73-4767-8593-b32ed5526a5d"
      },
      "source": [
        "def get_mod_miss_households(data):\n",
        "    total = data.iloc[0]['총세대수']\n",
        "    sum_hh = data['전용면적별세대수'].sum()\n",
        "    miss = total - sum_hh\n",
        "    prop = (data['전용면적별세대수'] / sum_hh).tolist()\n",
        "    miss_prop = [int(p * miss) for p in prop]\n",
        "    int_miss = miss - sum(miss_prop)\n",
        "    for i in range(int_miss):\n",
        "        miss_prop[(i)%len(miss_prop)] += 1\n",
        "\n",
        "    return miss_prop\n",
        "\n",
        "total_miss = ['C1490', 'C2497', 'C2620', 'C1344', 'C1024', 'C2470', 'C1206', 'C1740', 'C2405', 'C1804',\n",
        "                'C1925', 'C1312', 'C2013', 'C1424', 'C2520', 'C2319', 'C1850', 'C1068', 'C2644', 'C2156', \n",
        "                'C2453', 'C1910', 'C2139', 'C2508', 'C1695', 'C2556', 'C2362', 'C2568', 'C2245', 'C2549', \n",
        "                'C1584', 'C2298', 'C2225', 'C1218', 'C1970', 'C1732', 'C2433', 'C1894', 'C1156', 'C2142', \n",
        "                'C2186', 'C2411', 'C1812', 'C1030', 'C1749', 'C1349', 'C2043', 'C1229', 'C2363', 'C1414', \n",
        "                'C2174', 'C2404', 'C1683', 'C1038', 'C2456', 'C1266', 'C1267', 'C2189']\n",
        "\n",
        "for tm in total_miss:\n",
        "    if train[train['단지코드'] == tm].shape[0] == 0:\n",
        "        if test[test['단지코드'] == tm].shape[0] == 0:\n",
        "            print(\"Empty: {}\".format(tm))\n",
        "            continue\n",
        "        else:\n",
        "            mod = get_mod_miss_households(test[test['단지코드'] == tm])\n",
        "            idx = test[test['단지코드'] == tm].index\n",
        "            test.loc[idx, '전용면적별세대수'] += mod\n",
        "            # print(test[test['단지코드'] == tm][[\"총세대수\", \"전용면적별세대수\"]])\n",
        "    else:\n",
        "        mod = get_mod_miss_households(train[train['단지코드'] == tm])\n",
        "        idx = train[train['단지코드'] == tm].index\n",
        "        train.loc[idx, '전용면적별세대수'] += mod\n",
        "        # print(train[train['단지코드'] == tm][[\"총세대수\", \"전용면적별세대수\"]])\n",
        "\n",
        "train.shape, test.shape"
      ],
      "execution_count": 9,
      "outputs": [
        {
          "output_type": "stream",
          "text": [
            "Empty: C1218\n",
            "Empty: C1894\n"
          ],
          "name": "stdout"
        },
        {
          "output_type": "execute_result",
          "data": {
            "text/plain": [
              "((2904, 15), (1022, 14))"
            ]
          },
          "metadata": {
            "tags": []
          },
          "execution_count": 9
        }
      ]
    },
    {
      "cell_type": "code",
      "metadata": {
        "colab": {
          "base_uri": "https://localhost:8080/",
          "height": 0
        },
        "id": "L6RAzab7d67z",
        "outputId": "3a0402a8-f5f2-46d3-f30e-62a8912f67b9"
      },
      "source": [
        "train.reset_index(drop = True, inplace=True)\n",
        "test.reset_index(drop = True, inplace=True)\n",
        "train"
      ],
      "execution_count": 10,
      "outputs": [
        {
          "output_type": "execute_result",
          "data": {
            "text/html": [
              "<div>\n",
              "<style scoped>\n",
              "    .dataframe tbody tr th:only-of-type {\n",
              "        vertical-align: middle;\n",
              "    }\n",
              "\n",
              "    .dataframe tbody tr th {\n",
              "        vertical-align: top;\n",
              "    }\n",
              "\n",
              "    .dataframe thead th {\n",
              "        text-align: right;\n",
              "    }\n",
              "</style>\n",
              "<table border=\"1\" class=\"dataframe\">\n",
              "  <thead>\n",
              "    <tr style=\"text-align: right;\">\n",
              "      <th></th>\n",
              "      <th>단지코드</th>\n",
              "      <th>총세대수</th>\n",
              "      <th>임대건물구분</th>\n",
              "      <th>지역</th>\n",
              "      <th>공급유형</th>\n",
              "      <th>전용면적</th>\n",
              "      <th>전용면적별세대수</th>\n",
              "      <th>공가수</th>\n",
              "      <th>자격유형</th>\n",
              "      <th>임대보증금</th>\n",
              "      <th>임대료</th>\n",
              "      <th>도보 10분거리 내 지하철역 수(환승노선 수 반영)</th>\n",
              "      <th>도보 10분거리 내 버스정류장 수</th>\n",
              "      <th>단지내주차면수</th>\n",
              "      <th>등록차량수</th>\n",
              "    </tr>\n",
              "  </thead>\n",
              "  <tbody>\n",
              "    <tr>\n",
              "      <th>0</th>\n",
              "      <td>C2515</td>\n",
              "      <td>545</td>\n",
              "      <td>아파트</td>\n",
              "      <td>경상남도</td>\n",
              "      <td>국민임대</td>\n",
              "      <td>33.48</td>\n",
              "      <td>276</td>\n",
              "      <td>17</td>\n",
              "      <td>A</td>\n",
              "      <td>9216000.0</td>\n",
              "      <td>82940.0</td>\n",
              "      <td>0.0</td>\n",
              "      <td>3.0</td>\n",
              "      <td>624</td>\n",
              "      <td>205</td>\n",
              "    </tr>\n",
              "    <tr>\n",
              "      <th>1</th>\n",
              "      <td>C2515</td>\n",
              "      <td>545</td>\n",
              "      <td>아파트</td>\n",
              "      <td>경상남도</td>\n",
              "      <td>국민임대</td>\n",
              "      <td>39.60</td>\n",
              "      <td>60</td>\n",
              "      <td>17</td>\n",
              "      <td>A</td>\n",
              "      <td>12672000.0</td>\n",
              "      <td>107130.0</td>\n",
              "      <td>0.0</td>\n",
              "      <td>3.0</td>\n",
              "      <td>624</td>\n",
              "      <td>205</td>\n",
              "    </tr>\n",
              "    <tr>\n",
              "      <th>2</th>\n",
              "      <td>C2515</td>\n",
              "      <td>545</td>\n",
              "      <td>아파트</td>\n",
              "      <td>경상남도</td>\n",
              "      <td>국민임대</td>\n",
              "      <td>39.60</td>\n",
              "      <td>20</td>\n",
              "      <td>17</td>\n",
              "      <td>A</td>\n",
              "      <td>12672000.0</td>\n",
              "      <td>107130.0</td>\n",
              "      <td>0.0</td>\n",
              "      <td>3.0</td>\n",
              "      <td>624</td>\n",
              "      <td>205</td>\n",
              "    </tr>\n",
              "    <tr>\n",
              "      <th>3</th>\n",
              "      <td>C2515</td>\n",
              "      <td>545</td>\n",
              "      <td>아파트</td>\n",
              "      <td>경상남도</td>\n",
              "      <td>국민임대</td>\n",
              "      <td>46.90</td>\n",
              "      <td>38</td>\n",
              "      <td>17</td>\n",
              "      <td>A</td>\n",
              "      <td>18433000.0</td>\n",
              "      <td>149760.0</td>\n",
              "      <td>0.0</td>\n",
              "      <td>3.0</td>\n",
              "      <td>624</td>\n",
              "      <td>205</td>\n",
              "    </tr>\n",
              "    <tr>\n",
              "      <th>4</th>\n",
              "      <td>C2515</td>\n",
              "      <td>545</td>\n",
              "      <td>아파트</td>\n",
              "      <td>경상남도</td>\n",
              "      <td>국민임대</td>\n",
              "      <td>46.90</td>\n",
              "      <td>19</td>\n",
              "      <td>17</td>\n",
              "      <td>A</td>\n",
              "      <td>18433000.0</td>\n",
              "      <td>149760.0</td>\n",
              "      <td>0.0</td>\n",
              "      <td>3.0</td>\n",
              "      <td>624</td>\n",
              "      <td>205</td>\n",
              "    </tr>\n",
              "    <tr>\n",
              "      <th>...</th>\n",
              "      <td>...</td>\n",
              "      <td>...</td>\n",
              "      <td>...</td>\n",
              "      <td>...</td>\n",
              "      <td>...</td>\n",
              "      <td>...</td>\n",
              "      <td>...</td>\n",
              "      <td>...</td>\n",
              "      <td>...</td>\n",
              "      <td>...</td>\n",
              "      <td>...</td>\n",
              "      <td>...</td>\n",
              "      <td>...</td>\n",
              "      <td>...</td>\n",
              "      <td>...</td>\n",
              "    </tr>\n",
              "    <tr>\n",
              "      <th>2899</th>\n",
              "      <td>C1036</td>\n",
              "      <td>1254</td>\n",
              "      <td>아파트</td>\n",
              "      <td>경기도</td>\n",
              "      <td>국민임대</td>\n",
              "      <td>46.90</td>\n",
              "      <td>50</td>\n",
              "      <td>9</td>\n",
              "      <td>A</td>\n",
              "      <td>34082000.0</td>\n",
              "      <td>232200.0</td>\n",
              "      <td>0.0</td>\n",
              "      <td>3.0</td>\n",
              "      <td>1016</td>\n",
              "      <td>1279</td>\n",
              "    </tr>\n",
              "    <tr>\n",
              "      <th>2900</th>\n",
              "      <td>C1036</td>\n",
              "      <td>1254</td>\n",
              "      <td>아파트</td>\n",
              "      <td>경기도</td>\n",
              "      <td>국민임대</td>\n",
              "      <td>46.90</td>\n",
              "      <td>88</td>\n",
              "      <td>9</td>\n",
              "      <td>A</td>\n",
              "      <td>34082000.0</td>\n",
              "      <td>232200.0</td>\n",
              "      <td>0.0</td>\n",
              "      <td>3.0</td>\n",
              "      <td>1016</td>\n",
              "      <td>1279</td>\n",
              "    </tr>\n",
              "    <tr>\n",
              "      <th>2901</th>\n",
              "      <td>C1036</td>\n",
              "      <td>1254</td>\n",
              "      <td>아파트</td>\n",
              "      <td>경기도</td>\n",
              "      <td>국민임대</td>\n",
              "      <td>47.40</td>\n",
              "      <td>30</td>\n",
              "      <td>9</td>\n",
              "      <td>A</td>\n",
              "      <td>34082000.0</td>\n",
              "      <td>232200.0</td>\n",
              "      <td>0.0</td>\n",
              "      <td>3.0</td>\n",
              "      <td>1016</td>\n",
              "      <td>1279</td>\n",
              "    </tr>\n",
              "    <tr>\n",
              "      <th>2902</th>\n",
              "      <td>C1036</td>\n",
              "      <td>1254</td>\n",
              "      <td>아파트</td>\n",
              "      <td>경기도</td>\n",
              "      <td>국민임대</td>\n",
              "      <td>51.93</td>\n",
              "      <td>75</td>\n",
              "      <td>9</td>\n",
              "      <td>A</td>\n",
              "      <td>43819000.0</td>\n",
              "      <td>275900.0</td>\n",
              "      <td>0.0</td>\n",
              "      <td>3.0</td>\n",
              "      <td>1016</td>\n",
              "      <td>1279</td>\n",
              "    </tr>\n",
              "    <tr>\n",
              "      <th>2903</th>\n",
              "      <td>C1036</td>\n",
              "      <td>1254</td>\n",
              "      <td>아파트</td>\n",
              "      <td>경기도</td>\n",
              "      <td>국민임대</td>\n",
              "      <td>51.93</td>\n",
              "      <td>15</td>\n",
              "      <td>9</td>\n",
              "      <td>A</td>\n",
              "      <td>43819000.0</td>\n",
              "      <td>275900.0</td>\n",
              "      <td>0.0</td>\n",
              "      <td>3.0</td>\n",
              "      <td>1016</td>\n",
              "      <td>1279</td>\n",
              "    </tr>\n",
              "  </tbody>\n",
              "</table>\n",
              "<p>2904 rows × 15 columns</p>\n",
              "</div>"
            ],
            "text/plain": [
              "       단지코드  총세대수 임대건물구분  ... 도보 10분거리 내 버스정류장 수 단지내주차면수  등록차량수\n",
              "0     C2515   545    아파트  ...                3.0     624    205\n",
              "1     C2515   545    아파트  ...                3.0     624    205\n",
              "2     C2515   545    아파트  ...                3.0     624    205\n",
              "3     C2515   545    아파트  ...                3.0     624    205\n",
              "4     C2515   545    아파트  ...                3.0     624    205\n",
              "...     ...   ...    ...  ...                ...     ...    ...\n",
              "2899  C1036  1254    아파트  ...                3.0    1016   1279\n",
              "2900  C1036  1254    아파트  ...                3.0    1016   1279\n",
              "2901  C1036  1254    아파트  ...                3.0    1016   1279\n",
              "2902  C1036  1254    아파트  ...                3.0    1016   1279\n",
              "2903  C1036  1254    아파트  ...                3.0    1016   1279\n",
              "\n",
              "[2904 rows x 15 columns]"
            ]
          },
          "metadata": {
            "tags": []
          },
          "execution_count": 10
        }
      ]
    },
    {
      "cell_type": "markdown",
      "metadata": {
        "id": "8a6nU3iDcXtj"
      },
      "source": [
        "### **단지 통합**"
      ]
    },
    {
      "cell_type": "code",
      "metadata": {
        "id": "kIKxBYSJiYCC"
      },
      "source": [
        "tmp_train = train.copy()\n",
        "tmp_test = test.copy()\n",
        "\n",
        "tmp_train.columns = [\n",
        "    '단지코드', '총세대수', '임대건물구분', '지역', '공급유형', '전용면적', '전용면적별세대수', '공가수', '신분',\n",
        "    '임대보증금', '임대료', '지하철', '버스',\n",
        "    '단지내주차면수', '등록차량수'\n",
        "]\n",
        "tmp_test.columns = [\n",
        "    '단지코드', '총세대수', '임대건물구분', '지역', '공급유형', '전용면적', '전용면적별세대수', '공가수', '신분',\n",
        "    '임대보증금', '임대료', '지하철', '버스',\n",
        "    '단지내주차면수'\n",
        "]"
      ],
      "execution_count": 372,
      "outputs": []
    },
    {
      "cell_type": "code",
      "metadata": {
        "id": "0MMiKrb7i6Fp"
      },
      "source": [
        "columns = ['단지코드', '총세대수', '총구성원수', '등록차량_인구통계', '임대건물구분', '지역', '공급유형', \n",
        "           '공가수', '신분', '지하철', '버스', '단지내주차면수']\n",
        "cat_features = ['임대건물구분', '지역', '공급유형', '신분']\n",
        "target = '등록차량수'"
      ],
      "execution_count": 373,
      "outputs": []
    },
    {
      "cell_type": "code",
      "metadata": {
        "id": "cqq9hhYTOgug"
      },
      "source": [
        "## Encode categorical features\n",
        "for cf in cat_features:\n",
        "    map = {}\n",
        "    for i, ele in enumerate(tmp_train[cf].unique()):\n",
        "        map[ele] = i\n",
        "    tmp_train[cf] = tmp_train[cf].map(map)\n",
        "    tmp_test[cf] = tmp_test[cf].map(map)"
      ],
      "execution_count": 374,
      "outputs": []
    },
    {
      "cell_type": "code",
      "metadata": {
        "colab": {
          "base_uri": "https://localhost:8080/"
        },
        "id": "DTu8RqrY_jzd",
        "outputId": "b8fdd5a3-4885-4b4b-b904-e6ce51214201"
      },
      "source": [
        "tmp_train.isnull().sum(), tmp_test.isnull().sum()"
      ],
      "execution_count": 375,
      "outputs": [
        {
          "output_type": "execute_result",
          "data": {
            "text/plain": [
              "(단지코드          0\n",
              " 총세대수          0\n",
              " 임대건물구분        0\n",
              " 지역            0\n",
              " 공급유형          0\n",
              " 전용면적          0\n",
              " 전용면적별세대수      0\n",
              " 공가수           0\n",
              " 신분            0\n",
              " 임대보증금       581\n",
              " 임대료         590\n",
              " 지하철         211\n",
              " 버스            4\n",
              " 단지내주차면수       0\n",
              " 등록차량수         0\n",
              " dtype: int64, 단지코드          0\n",
              " 총세대수          0\n",
              " 임대건물구분        0\n",
              " 지역            0\n",
              " 공급유형          0\n",
              " 전용면적          0\n",
              " 전용면적별세대수      0\n",
              " 공가수           0\n",
              " 신분            2\n",
              " 임대보증금       186\n",
              " 임대료         186\n",
              " 지하철          42\n",
              " 버스            0\n",
              " 단지내주차면수       0\n",
              " dtype: int64)"
            ]
          },
          "metadata": {
            "tags": []
          },
          "execution_count": 375
        }
      ]
    },
    {
      "cell_type": "code",
      "metadata": {
        "colab": {
          "base_uri": "https://localhost:8080/",
          "height": 1000
        },
        "id": "D_ib_NQWqBbx",
        "outputId": "366c6245-9e41-4bcb-ab03-7077ab0f5cf9"
      },
      "source": [
        "import statsmodels.api as sm\n",
        "\n",
        "def display_total_parknums_summary(data, seq, fig):\n",
        "    total = []\n",
        "    park_nums = []\n",
        "    for i, code in enumerate(data['단지코드'].unique()):\n",
        "        temp = data[data['단지코드']==code]\n",
        "        temp.index = range(temp.shape[0])\n",
        "        total.append(temp.loc[0, \"총세대수\"])\n",
        "        park_nums.append(temp.loc[0, \"단지내주차면수\"])\n",
        "    regline = sm.OLS(park_nums, sm.add_constant(total)).fit().fittedvalues\n",
        "    fig.add_trace( go.Scatter(x=total, y=park_nums, mode=\"markers\", \n",
        "                              marker_color=px.colors.qualitative.Plotly[seq]), row=seq+1, col=1)\n",
        "    fig.add_trace(go.Scatter(x=total, y=regline,\n",
        "                            mode=\"lines\", marker_color=\"black\"), row=seq+1, col=1)\n",
        "    fig.add_trace(go.Box(y= np.array(park_nums) / np.array(total),\n",
        "                            marker_color=px.colors.qualitative.Plotly[seq]), row=seq+1, col=2)\n",
        "    \n",
        "fig = make_subplots(2,2, column_widths=[0.7, 0.3])\n",
        "fig.update_layout(width=1000, height=1000)\n",
        "display_total_parknums_summary(tmp_train, 0, fig)\n",
        "display_total_parknums_summary(tmp_test, 1, fig)\n",
        "fig.show()"
      ],
      "execution_count": 376,
      "outputs": [
        {
          "output_type": "display_data",
          "data": {
            "text/html": [
              "<html>\n",
              "<head><meta charset=\"utf-8\" /></head>\n",
              "<body>\n",
              "    <div>\n",
              "            <script src=\"https://cdnjs.cloudflare.com/ajax/libs/mathjax/2.7.5/MathJax.js?config=TeX-AMS-MML_SVG\"></script><script type=\"text/javascript\">if (window.MathJax) {MathJax.Hub.Config({SVG: {font: \"STIX-Web\"}});}</script>\n",
              "                <script type=\"text/javascript\">window.PlotlyConfig = {MathJaxConfig: 'local'};</script>\n",
              "        <script src=\"https://cdn.plot.ly/plotly-latest.min.js\"></script>    \n",
              "            <div id=\"12016bab-2836-465b-bd86-bf0c19fdbc3a\" class=\"plotly-graph-div\" style=\"height:1000px; width:1000px;\"></div>\n",
              "            <script type=\"text/javascript\">\n",
              "                \n",
              "                    window.PLOTLYENV=window.PLOTLYENV || {};\n",
              "                    \n",
              "                if (document.getElementById(\"12016bab-2836-465b-bd86-bf0c19fdbc3a\")) {\n",
              "                    Plotly.newPlot(\n",
              "                        '12016bab-2836-465b-bd86-bf0c19fdbc3a',\n",
              "                        [{\"marker\": {\"color\": \"#636EFA\"}, \"mode\": \"markers\", \"type\": \"scatter\", \"x\": [545, 1216, 755, 696, 566, 1722, 624, 361, 754, 240, 688, 623, 601, 405, 518, 619, 875, 560, 595, 625, 880, 1396, 970, 606, 1507, 639, 965, 946, 785, 2424, 809, 388, 1013, 453, 861, 806, 903, 1116, 1486, 1957, 802, 1527, 1005, 1988, 1350, 2428, 1755, 840, 390, 451, 410, 779, 755, 693, 753, 498, 1533, 711, 420, 590, 657, 495, 460, 338, 1144, 521, 1003, 306, 697, 213, 481, 468, 1364, 800, 830, 775, 261, 474, 72, 1473, 996, 870, 678, 632, 961, 1232, 676, 1300, 998, 493, 1117, 307, 501, 896, 521, 458, 290, 409, 586, 1084, 1174, 270, 1308, 355, 384, 853, 996, 355, 492, 861, 711, 901, 815, 312, 571, 594, 944, 410, 635, 962, 822, 1129, 1479, 330, 386, 456, 642, 302, 757, 705, 1072, 375, 853, 1018, 341, 416, 708, 662, 1002, 462, 781, 496, 630, 512, 492, 534, 458, 762, 1005, 775, 890, 494, 571, 550, 383, 996, 882, 615, 470, 477, 496, 1260, 390, 330, 773, 1124, 550, 324, 1497, 531, 355, 389, 712, 561, 816, 898, 581, 851, 693, 136, 225, 1254, 866, 383, 720, 280, 307, 232, 602, 522, 457, 808, 712, 757, 356, 283, 467, 506, 243, 525, 445, 514, 374, 330, 378, 277, 856, 646, 511, 285, 256, 466, 314, 382, 212, 872, 508, 594, 514, 558, 758, 812, 504, 631, 332, 409, 773, 375, 747, 372, 434, 538, 498, 718, 818, 1035, 431, 467, 566, 861, 1116, 456, 648, 875, 1668, 443, 1215, 1647, 462, 806, 1017, 589, 504, 937, 840, 1144, 553, 424, 499, 200, 603, 700, 107, 318, 656, 306, 970, 992, 533, 1006, 478, 1339, 560, 600, 291, 679, 1065, 1037, 715, 790, 1099, 374, 504, 1128, 304, 600, 690, 690, 749, 680, 376, 783, 1029, 919, 368, 70, 922, 622, 600, 1366, 1122, 752, 886, 552, 850, 432, 960, 874, 1106, 772, 483, 1028, 326, 1047, 532, 791, 1401, 344, 935, 1444, 452, 1105, 354, 268, 984, 624, 1546, 640, 1460, 396, 1022, 1126, 924, 340, 922, 632, 1684, 794, 1454, 316, 580, 198, 556, 540, 938, 2568, 1058, 368, 1088, 1696, 404, 1934, 295, 1550, 1618, 363, 514, 636, 840, 659, 902, 1256, 1438, 2334, 528, 867, 542, 1124, 526, 947, 480, 908, 450, 890, 1020, 616, 820, 311, 270, 100, 847, 540, 203, 303, 1080, 442, 178, 818, 404, 1509, 412, 212, 26, 202, 1227, 581, 1206, 1077, 464, 100, 214, 266, 511, 1004, 954, 362, 924, 1486, 2200, 90, 492, 40, 90, 239], \"xaxis\": \"x\", \"y\": [624, 1285, 734, 645, 517, 1483, 634, 288, 530, 168, 631, 222, 117, 296, 527, 97, 616, 154, 509, 517, 736, 277, 420, 548, 407, 162, 287, 986, 150, 487, 264, 226, 178, 107, 612, 804, 200, 262, 405, 351, 375, 240, 166, 217, 1043, 756, 270, 594, 97, 109, 120, 190, 88, 486, 682, 402, 1296, 131, 393, 376, 166, 117, 155, 235, 950, 153, 192, 246, 128, 164, 65, 477, 1505, 671, 802, 738, 198, 374, 54, 1299, 823, 763, 579, 478, 928, 1181, 658, 1082, 1240, 421, 985, 219, 405, 900, 521, 399, 205, 316, 472, 837, 1026, 222, 1119, 354, 384, 853, 895, 330, 347, 608, 573, 668, 574, 224, 483, 480, 958, 402, 508, 873, 827, 1137, 1488, 259, 299, 399, 567, 217, 660, 502, 894, 454, 862, 788, 240, 296, 638, 546, 775, 325, 663, 428, 637, 362, 426, 465, 403, 661, 882, 665, 985, 358, 492, 385, 385, 834, 755, 527, 405, 413, 425, 941, 334, 335, 779, 1129, 448, 270, 1100, 480, 291, 352, 658, 572, 822, 909, 530, 771, 717, 136, 277, 1016, 692, 317, 581, 280, 296, 195, 715, 525, 537, 728, 641, 761, 550, 227, 403, 436, 214, 422, 404, 362, 281, 253, 265, 222, 777, 583, 413, 200, 199, 329, 241, 306, 163, 733, 370, 596, 442, 449, 564, 612, 445, 442, 258, 330, 817, 360, 698, 374, 384, 393, 480, 550, 640, 911, 319, 366, 438, 812, 1050, 367, 600, 903, 1756, 362, 1105, 1741, 387, 707, 879, 515, 434, 770, 772, 1039, 584, 467, 409, 153, 506, 592, 27, 262, 527, 248, 845, 871, 484, 915, 629, 1590, 400, 528, 257, 615, 879, 936, 582, 673, 1154, 321, 438, 951, 230, 360, 652, 694, 759, 877, 380, 978, 1061, 988, 285, 50, 731, 551, 728, 1192, 1182, 680, 809, 523, 948, 349, 876, 722, 752, 700, 437, 973, 268, 1066, 660, 944, 1636, 344, 939, 1275, 461, 1110, 297, 214, 865, 535, 1176, 549, 1534, 237, 1202, 983, 986, 320, 804, 750, 1689, 676, 880, 239, 378, 200, 490, 500, 1117, 1798, 956, 333, 773, 1648, 490, 1670, 167, 1319, 1382, 434, 309, 772, 658, 573, 635, 878, 1500, 1713, 543, 897, 542, 1201, 727, 1306, 338, 1001, 318, 423, 719, 350, 629, 232, 183, 57, 496, 397, 109, 249, 1142, 533, 131, 995, 486, 1055, 287, 114, 13, 141, 857, 408, 842, 1239, 288, 54, 108, 188, 389, 700, 772, 345, 664, 1493, 1570, 66, 521, 25, 30, 166], \"yaxis\": \"y\"}, {\"marker\": {\"color\": \"black\"}, \"mode\": \"lines\", \"type\": \"scatter\", \"x\": [545, 1216, 755, 696, 566, 1722, 624, 361, 754, 240, 688, 623, 601, 405, 518, 619, 875, 560, 595, 625, 880, 1396, 970, 606, 1507, 639, 965, 946, 785, 2424, 809, 388, 1013, 453, 861, 806, 903, 1116, 1486, 1957, 802, 1527, 1005, 1988, 1350, 2428, 1755, 840, 390, 451, 410, 779, 755, 693, 753, 498, 1533, 711, 420, 590, 657, 495, 460, 338, 1144, 521, 1003, 306, 697, 213, 481, 468, 1364, 800, 830, 775, 261, 474, 72, 1473, 996, 870, 678, 632, 961, 1232, 676, 1300, 998, 493, 1117, 307, 501, 896, 521, 458, 290, 409, 586, 1084, 1174, 270, 1308, 355, 384, 853, 996, 355, 492, 861, 711, 901, 815, 312, 571, 594, 944, 410, 635, 962, 822, 1129, 1479, 330, 386, 456, 642, 302, 757, 705, 1072, 375, 853, 1018, 341, 416, 708, 662, 1002, 462, 781, 496, 630, 512, 492, 534, 458, 762, 1005, 775, 890, 494, 571, 550, 383, 996, 882, 615, 470, 477, 496, 1260, 390, 330, 773, 1124, 550, 324, 1497, 531, 355, 389, 712, 561, 816, 898, 581, 851, 693, 136, 225, 1254, 866, 383, 720, 280, 307, 232, 602, 522, 457, 808, 712, 757, 356, 283, 467, 506, 243, 525, 445, 514, 374, 330, 378, 277, 856, 646, 511, 285, 256, 466, 314, 382, 212, 872, 508, 594, 514, 558, 758, 812, 504, 631, 332, 409, 773, 375, 747, 372, 434, 538, 498, 718, 818, 1035, 431, 467, 566, 861, 1116, 456, 648, 875, 1668, 443, 1215, 1647, 462, 806, 1017, 589, 504, 937, 840, 1144, 553, 424, 499, 200, 603, 700, 107, 318, 656, 306, 970, 992, 533, 1006, 478, 1339, 560, 600, 291, 679, 1065, 1037, 715, 790, 1099, 374, 504, 1128, 304, 600, 690, 690, 749, 680, 376, 783, 1029, 919, 368, 70, 922, 622, 600, 1366, 1122, 752, 886, 552, 850, 432, 960, 874, 1106, 772, 483, 1028, 326, 1047, 532, 791, 1401, 344, 935, 1444, 452, 1105, 354, 268, 984, 624, 1546, 640, 1460, 396, 1022, 1126, 924, 340, 922, 632, 1684, 794, 1454, 316, 580, 198, 556, 540, 938, 2568, 1058, 368, 1088, 1696, 404, 1934, 295, 1550, 1618, 363, 514, 636, 840, 659, 902, 1256, 1438, 2334, 528, 867, 542, 1124, 526, 947, 480, 908, 450, 890, 1020, 616, 820, 311, 270, 100, 847, 540, 203, 303, 1080, 442, 178, 818, 404, 1509, 412, 212, 26, 202, 1227, 581, 1206, 1077, 464, 100, 214, 266, 511, 1004, 954, 362, 924, 1486, 2200, 90, 492, 40, 90, 239], \"xaxis\": \"x\", \"y\": [461.888679443889, 923.4589736232633, 606.344360185571, 565.7591927390984, 476.33424751805717, 1271.5283757913162, 516.2315307705217, 335.3179877464152, 605.656475991563, 252.08400027144603, 560.2561191870343, 515.5436465765137, 500.4101943083375, 365.5848922827676, 443.3158062056727, 512.7921098004816, 688.8904634665321, 472.20694235400913, 496.2828891442894, 516.9194149645297, 692.3298844365721, 1047.278128544705, 754.239461897293, 503.84961527837754, 1123.633274079594, 526.5497936806419, 750.8000409272529, 737.7302412411008, 626.9808860058113, 1754.4230799849388, 643.4901066620034, 353.89086098463144, 783.8184822396374, 398.6033335951521, 679.26008475042, 641.4264540799794, 708.1512208987564, 854.6705542224623, 1109.1877060054258, 1433.1811613831983, 638.6749173039474, 1137.3909579597544, 778.3154086875733, 1454.5055713974466, 1015.6354556203366, 1757.1746167609708, 1294.2285541935805, 664.8145166762517, 355.2666293726475, 397.2275652071361, 369.0243132528077, 622.8535808417632, 606.344360185571, 563.6955401570743, 604.968591797555, 429.5581223255125, 1141.5182631238024, 576.0774556492185, 375.90315519288777, 492.8434681742494, 538.931709172786, 427.4944697434885, 403.41852295320814, 319.496651284231, 873.9313116546866, 445.3794587876967, 776.9396402995573, 297.4843570759747, 566.4470769331064, 233.5111270332298, 417.86409102737633, 408.92159650527225, 1025.2658343364487, 637.2991489159314, 657.9356747361717, 620.1020440657311, 266.5295683456143, 413.0489016693203, 136.51945567810046, 1100.2452114833218, 772.1244509415012, 685.451042496492, 553.3772772469542, 521.7346043225857, 748.0485041512209, 934.4651207273914, 552.0015088589382, 981.2412459199361, 773.5002193295172, 426.11870135547247, 855.3584384164703, 298.1722412699827, 431.6217749075365, 703.3360315407003, 445.3794587876967, 402.0427545651921, 286.4782099718465, 368.3364290587997, 490.09193139821735, 832.6582600142061, 894.5678374749269, 272.72052609168634, 986.7443194720001, 331.1906825823671, 351.1393242085994, 673.7570111983558, 772.1244509415012, 331.1906825823671, 425.43081716146446, 679.26008475042, 576.0774556492185, 706.7754525107404, 647.6174118260515, 301.6116622400227, 479.7736684880972, 495.5950049502814, 736.3544728530848, 369.0243132528077, 523.7982569046097, 748.7363883452289, 652.4326011841076, 863.6130487445665, 1104.3725166473698, 313.9935777321669, 352.51509259661543, 400.6669861771761, 528.6134462626659, 294.73282029994266, 607.720128573587, 571.9501504851704, 824.4036496861099, 344.94836646252736, 673.7570111983558, 787.2579032096775, 321.560303866255, 373.15161841685574, 574.0138030671944, 542.371130142826, 776.2517561055492, 404.79429134122415, 624.2293492297792, 428.1823539374965, 520.3588359345697, 439.18850104162465, 425.43081716146446, 454.32195330980085, 402.0427545651921, 611.159549543627, 778.3154086875733, 620.1020440657311, 699.2087263766522, 426.8065855494805, 479.7736684880972, 465.328100413929, 350.4514400145914, 772.1244509415012, 693.7056528245881, 510.0405730244496, 410.29736489328826, 415.1125542513443, 428.1823539374965, 953.7258781596157, 355.2666293726475, 313.9935777321669, 618.7262756777151, 860.1736277745265, 465.328100413929, 309.86627256811886, 1116.754432139514, 452.2583007277768, 331.1906825823671, 354.5787451786395, 576.7653398432266, 472.89482654801714, 648.3052960200596, 704.7117999287163, 486.6525104281773, 672.3812428103398, 563.6955401570743, 180.54404409461307, 241.76573736132593, 949.5985729955677, 682.69950572046, 350.4514400145914, 582.2684133952906, 279.59936803176646, 298.1722412699827, 246.58092671938198, 501.0980785023455, 446.06734298170477, 401.3548703711841, 642.8022224679954, 576.7653398432266, 607.720128573587, 331.8785667763752, 281.6630206137905, 408.23371231126424, 435.0611958775766, 254.1476528534701, 448.1309955637288, 393.100260043088, 440.56426942964066, 344.26048226851935, 313.9935777321669, 347.0120190445514, 277.5357154497424, 675.82066378038, 531.3649830386979, 438.50061684761664, 283.0387890018065, 263.0901473755742, 407.54582811725624, 302.98743062803874, 349.7635558205834, 232.8232428392218, 686.8268108845081, 436.4369642655926, 495.5950049502814, 440.56426942964066, 470.83117396599306, 608.408012767595, 645.5537592440274, 433.6854274895606, 521.0467201285777, 315.3693461201829, 368.3364290587997, 618.7262756777151, 344.94836646252736, 600.8412866335069, 342.8847138805033, 385.5335339089999, 457.0734900858329, 429.5581223255125, 580.8926450072746, 649.6810644080756, 798.9519345078136, 383.4698813269759, 408.23371231126424, 476.33424751805717, 679.26008475042, 854.6705542224623, 400.6669861771761, 532.7407514267139, 688.8904634665321, 1234.3826293148836, 391.724491655072, 922.7710894292553, 1219.9370612407154, 404.79429134122415, 641.4264540799794, 786.5700190156695, 492.1555839802414, 433.6854274895606, 731.5392834950287, 664.8145166762517, 873.9313116546866, 467.391752995953, 378.6546919689198, 430.2460065195205, 224.56863251112566, 501.7859626963535, 568.5107295151304, 160.5954024683808, 305.7389674040708, 538.243824978778, 297.4843570759747, 754.239461897293, 769.3729141654692, 453.63406911579284, 779.0032928815814, 415.8004384453523, 1008.0687294862485, 472.20694235400913, 499.7223101143295, 287.16609416585453, 554.0651614409622, 819.5884603280539, 800.3277028958296, 578.8289924252506, 630.4203069758513, 842.9765229243262, 344.26048226851935, 433.6854274895606, 862.9251645505585, 296.1085886879587, 499.7223101143295, 561.6318875750503, 561.6318875750503, 602.2170550215229, 554.7530456349702, 345.63625065653537, 625.6051176177953, 794.8246293437655, 719.1573680028845, 340.13317710447126, 135.14368729008444, 721.2210205849085, 514.8557623825056, 499.7223101143295, 1026.6416027244647, 858.7978593865105, 604.280707603547, 696.4571896006202, 466.703868801945, 671.6933586163318, 384.1577655209839, 747.3606199572129, 688.2025792725241, 847.7917122823823, 618.0383914837071, 419.23985941539235, 794.1367451497575, 311.2420409561349, 807.2065448359098, 452.94618492178483, 631.1081911698593, 1050.717549514745, 323.62395644827905, 730.1635151070127, 1080.2965698570895, 397.9154494011441, 847.1038280883743, 330.5027983883591, 271.3447577036703, 763.8698406134051, 516.2315307705217, 1150.4607576459064, 527.2376778746499, 1091.3027169612176, 359.39393453669555, 790.0094399857095, 861.5493961625425, 722.5967889729245, 320.872419672247, 721.2210205849085, 521.7346043225857, 1245.3887764190117, 633.1718437518833, 1087.1754117971695, 304.36319901605475, 485.9646262341693, 223.19286412310964, 469.45540557797705, 458.4492584738489, 732.2271676890367, 1853.4784039220922, 814.7732709699978, 340.13317710447126, 835.4097967902381, 1253.6433867471078, 364.8970080887596, 1417.359824921014, 289.91763094188656, 1153.2122944219384, 1199.988419614483, 336.6937561344312, 440.56426942964066, 524.4861410986178, 664.8145166762517, 540.307477560802, 707.4633367047484, 950.9743413835837, 1076.1692646930414, 1692.513502524218, 450.1946481457528, 683.387389914468, 459.82502686186496, 860.1736277745265, 448.8188797577368, 738.4181254351088, 417.1762068333683, 711.5906418687964, 396.5396810131281, 699.2087263766522, 788.6336715976935, 510.7284572184576, 651.0568327960916, 300.9237780460147, 272.72052609168634, 155.78021311032472, 669.6297060343078, 458.4492584738489, 226.63228509314968, 295.42070449395067, 829.906723238174, 391.03660746106397, 209.43518024294946, 649.6810644080756, 364.8970080887596, 1125.00904246761, 370.4000816408237, 232.8232428392218, 104.87678275373202, 225.94440089914167, 931.0256997573514, 486.6525104281773, 916.5801316831833, 827.84307065615, 406.17005972924017, 155.78021311032472, 234.1990112272378, 269.9689893156543, 438.50061684761664, 777.6275244935653, 743.2333147931648, 336.0058719404232, 722.5967889729245, 1109.1877060054258, 1600.3370205271447, 148.90137117024463, 425.43081716146446, 114.50716146984416, 148.90137117024463, 251.39611607743802], \"yaxis\": \"y\"}, {\"marker\": {\"color\": \"#636EFA\"}, \"type\": \"box\", \"xaxis\": \"x2\", \"y\": [1.144954128440367, 1.0567434210526316, 0.9721854304635762, 0.9267241379310345, 0.9134275618374559, 0.8612078977932637, 1.016025641025641, 0.7977839335180056, 0.7029177718832891, 0.7, 0.9171511627906976, 0.3563402889245586, 0.194675540765391, 0.7308641975308642, 1.0173745173745175, 0.1567043618739903, 0.704, 0.275, 0.8554621848739495, 0.8272, 0.8363636363636363, 0.1984240687679083, 0.4329896907216495, 0.9042904290429042, 0.27007299270072993, 0.2535211267605634, 0.29740932642487045, 1.0422832980972516, 0.1910828025477707, 0.2009075907590759, 0.3263288009888752, 0.5824742268041238, 0.175715695952616, 0.23620309050772628, 0.710801393728223, 0.9975186104218362, 0.22148394241417496, 0.23476702508960573, 0.27254374158815614, 0.17935615738375063, 0.46758104738154616, 0.15717092337917485, 0.16517412935323383, 0.10915492957746478, 0.7725925925925926, 0.3113673805601318, 0.15384615384615385, 0.7071428571428572, 0.24871794871794872, 0.24168514412416853, 0.2926829268292683, 0.24390243902439024, 0.11655629139072848, 0.7012987012987013, 0.9057104913678619, 0.8072289156626506, 0.8454011741682974, 0.18424753867791843, 0.9357142857142857, 0.6372881355932203, 0.2526636225266362, 0.23636363636363636, 0.33695652173913043, 0.6952662721893491, 0.8304195804195804, 0.29366602687140114, 0.1914257228315055, 0.803921568627451, 0.1836441893830703, 0.7699530516431925, 0.13513513513513514, 1.0192307692307692, 1.1033724340175952, 0.83875, 0.9662650602409638, 0.952258064516129, 0.7586206896551724, 0.7890295358649789, 0.75, 0.8818737270875764, 0.8263052208835341, 0.8770114942528736, 0.8539823008849557, 0.7563291139240507, 0.9656607700312175, 0.9586038961038961, 0.9733727810650887, 0.8323076923076923, 1.2424849699398797, 0.8539553752535497, 0.8818263205013429, 0.7133550488599348, 0.8083832335329342, 1.0044642857142858, 1.0, 0.87117903930131, 0.7068965517241379, 0.7726161369193154, 0.8054607508532423, 0.772140221402214, 0.8739352640545145, 0.8222222222222222, 0.8555045871559633, 0.9971830985915493, 1.0, 1.0, 0.8985943775100401, 0.9295774647887324, 0.7052845528455285, 0.7061556329849012, 0.8059071729957806, 0.7413984461709212, 0.7042944785276074, 0.717948717948718, 0.8458844133099825, 0.8080808080808081, 1.0148305084745763, 0.9804878048780488, 0.8, 0.9074844074844075, 1.0060827250608273, 1.0070859167404782, 1.0060851926977687, 0.7848484848484848, 0.7746113989637305, 0.875, 0.883177570093458, 0.7185430463576159, 0.8718626155878467, 0.7120567375886525, 0.8339552238805971, 1.2106666666666666, 1.010550996483001, 0.7740667976424361, 0.7038123167155426, 0.7115384615384616, 0.9011299435028248, 0.824773413897281, 0.7734530938123753, 0.7034632034632035, 0.8489116517285531, 0.8629032258064516, 1.011111111111111, 0.70703125, 0.8658536585365854, 0.8707865168539326, 0.8799126637554585, 0.8674540682414699, 0.8776119402985074, 0.8580645161290322, 1.1067415730337078, 0.7246963562753036, 0.861646234676007, 0.7, 1.0052219321148825, 0.8373493975903614, 0.8560090702947846, 0.8569105691056911, 0.8617021276595744, 0.8658280922431866, 0.8568548387096774, 0.7468253968253968, 0.8564102564102564, 1.0151515151515151, 1.0077619663648125, 1.0044483985765125, 0.8145454545454546, 0.8333333333333334, 0.7348029392117569, 0.903954802259887, 0.819718309859155, 0.9048843187660668, 0.9241573033707865, 1.0196078431372548, 1.0073529411764706, 1.012249443207127, 0.9122203098106713, 0.9059929494712103, 1.0346320346320346, 1.0, 1.231111111111111, 0.810207336523126, 0.7990762124711316, 0.8276762402088773, 0.8069444444444445, 1.0, 0.9641693811074918, 0.8405172413793104, 1.1877076411960132, 1.0057471264367817, 1.175054704595186, 0.900990099009901, 0.9002808988764045, 1.0052840158520475, 1.5449438202247192, 0.8021201413427562, 0.8629550321199143, 0.8616600790513834, 0.8806584362139918, 0.8038095238095239, 0.9078651685393259, 0.7042801556420234, 0.7513368983957219, 0.7666666666666667, 0.701058201058201, 0.8014440433212996, 0.9077102803738317, 0.9024767801857585, 0.8082191780821918, 0.7017543859649122, 0.77734375, 0.7060085836909872, 0.767515923566879, 0.8010471204188482, 0.7688679245283019, 0.8405963302752294, 0.7283464566929134, 1.0033670033670035, 0.8599221789883269, 0.8046594982078853, 0.7440633245382586, 0.7536945812807881, 0.8829365079365079, 0.7004754358161648, 0.7771084337349398, 0.8068459657701712, 1.0569210866752912, 0.96, 0.9344042838018741, 1.0053763440860215, 0.8847926267281107, 0.7304832713754646, 0.963855421686747, 0.766016713091922, 0.78239608801956, 0.8801932367149758, 0.740139211136891, 0.7837259100642399, 0.773851590106007, 0.943089430894309, 0.9408602150537635, 0.8048245614035088, 0.9259259259259259, 1.032, 1.052757793764988, 0.8171557562076749, 0.9094650205761317, 1.0570734669095325, 0.8376623376623377, 0.8771712158808933, 0.8643067846607669, 0.8743633276740238, 0.8611111111111112, 0.8217716115261473, 0.919047619047619, 0.9082167832167832, 1.0560578661844484, 1.1014150943396226, 0.8196392785571143, 0.765, 0.8391376451077943, 0.8457142857142858, 0.2523364485981308, 0.8238993710691824, 0.8033536585365854, 0.8104575163398693, 0.8711340206185567, 0.8780241935483871, 0.9080675422138836, 0.9095427435387674, 1.3158995815899581, 1.1874533233756535, 0.7142857142857143, 0.88, 0.8831615120274914, 0.9057437407952872, 0.8253521126760563, 0.9026036644165863, 0.813986013986014, 0.8518987341772152, 1.0500454959053684, 0.8582887700534759, 0.8690476190476191, 0.8430851063829787, 0.756578947368421, 0.6, 0.9449275362318841, 1.0057971014492753, 1.0133511348464619, 1.2897058823529413, 1.0106382978723405, 1.2490421455938698, 1.031098153547133, 1.0750816104461371, 0.7744565217391305, 0.7142857142857143, 0.7928416485900217, 0.8858520900321544, 1.2133333333333334, 0.8726207906295754, 1.053475935828877, 0.9042553191489362, 0.9130925507900677, 0.947463768115942, 1.1152941176470588, 0.8078703703703703, 0.9125, 0.8260869565217391, 0.6799276672694394, 0.9067357512953368, 0.9047619047619048, 0.9464980544747081, 0.8220858895705522, 1.0181470869149951, 1.2406015037593985, 1.193426042983565, 1.16773733047823, 1.0, 1.0042780748663103, 0.8829639889196675, 1.0199115044247788, 1.004524886877828, 0.8389830508474576, 0.7985074626865671, 0.8790650406504065, 0.8573717948717948, 0.7606727037516171, 0.8578125, 1.0506849315068494, 0.5984848484848485, 1.1761252446183954, 0.8730017761989343, 1.067099567099567, 0.9411764705882353, 0.8720173535791758, 1.1867088607594938, 1.0029691211401426, 0.8513853904282116, 0.6052269601100413, 0.7563291139240507, 0.6517241379310345, 1.0101010101010102, 0.8812949640287769, 0.9259259259259259, 1.1908315565031984, 0.7001557632398754, 0.9035916824196597, 0.904891304347826, 0.7104779411764706, 0.9716981132075472, 1.2128712871287128, 0.8634953464322648, 0.5661016949152542, 0.8509677419354839, 0.8541409147095179, 1.1955922865013775, 0.6011673151750972, 1.2138364779874213, 0.7833333333333333, 0.8694992412746586, 0.7039911308203991, 0.6990445859872612, 1.043115438108484, 0.7339331619537275, 1.0284090909090908, 1.0346020761245676, 1.0, 1.0685053380782918, 1.38212927756654, 1.37909186906019, 0.7041666666666667, 1.1024229074889869, 0.7066666666666667, 0.4752808988764045, 0.7049019607843138, 0.5681818181818182, 0.7670731707317073, 0.7459807073954984, 0.6777777777777778, 0.57, 0.5855962219598583, 0.7351851851851852, 0.5369458128078818, 0.8217821782178217, 1.0574074074074074, 1.2058823529411764, 0.7359550561797753, 1.2163814180929096, 1.202970297029703, 0.6991385023194169, 0.6966019417475728, 0.5377358490566038, 0.5, 0.698019801980198, 0.6984515077424613, 0.7022375215146299, 0.6981757877280266, 1.15041782729805, 0.6206896551724138, 0.54, 0.5046728971962616, 0.706766917293233, 0.761252446183953, 0.6972111553784861, 0.8092243186582809, 0.9530386740331491, 0.7186147186147186, 1.0047106325706594, 0.7136363636363636, 0.7333333333333333, 1.0589430894308942, 0.625, 0.3333333333333333, 0.694560669456067], \"yaxis\": \"y2\"}, {\"marker\": {\"color\": \"#EF553B\"}, \"mode\": \"markers\", \"type\": \"scatter\", \"x\": [754, 1354, 619, 593, 1297, 1974, 1349, 533, 470, 353, 548, 1505, 427, 383, 2572, 420, 602, 371, 1245, 962, 1400, 534, 558, 638, 494, 1021, 1161, 709, 496, 584, 1301, 207, 620, 312, 627, 408, 498, 663, 980, 419, 540, 528, 496, 593, 898, 1442, 449, 603, 496, 377, 891, 349, 1138, 861, 656, 262, 801, 307, 525, 203, 385, 557, 1044, 503, 225, 327, 828, 1008, 531, 503, 977, 321, 618, 948, 981, 388, 643, 512, 708, 976, 860, 1267, 359, 244, 320, 332, 284, 511, 354, 1175, 879, 794, 335, 745, 1414, 1385, 659, 1147, 964, 1060, 826, 456, 687, 488, 728, 736, 1331, 737, 1191, 296, 538, 765, 1124, 1390, 1278, 190, 178, 990, 595, 963, 626, 906, 565, 482, 1054, 480, 900, 674, 150, 75, 98, 395, 848, 465, 469, 453, 864, 873, 954, 150, 112, 100, 214, 328, 554, 349, 596, 120, 675, 382], \"xaxis\": \"x3\", \"y\": [683, 1216, 547, 543, 1112, 1696, 1098, 470, 384, 280, 442, 428, 384, 265, 418, 210, 491, 281, 187, 840, 308, 400, 480, 548, 447, 185, 173, 571, 593, 499, 1101, 152, 498, 226, 131, 319, 425, 573, 841, 333, 458, 403, 378, 516, 785, 1225, 448, 562, 350, 382, 805, 270, 1141, 660, 528, 202, 611, 309, 461, 159, 349, 470, 893, 358, 159, 274, 585, 1035, 537, 507, 741, 259, 545, 831, 989, 392, 646, 1016, 711, 884, 771, 1280, 254, 211, 259, 236, 213, 379, 286, 1024, 802, 645, 278, 705, 1307, 1139, 602, 1222, 818, 925, 746, 372, 690, 624, 803, 704, 1204, 632, 1052, 239, 451, 910, 980, 1216, 1014, 142, 168, 701, 685, 1161, 566, 906, 582, 423, 824, 339, 633, 674, 107, 29, 98, 433, 675, 322, 330, 317, 603, 610, 667, 120, 636, 53, 117, 250, 387, 270, 593, 40, 467, 300], \"yaxis\": \"y3\"}, {\"marker\": {\"color\": \"black\"}, \"mode\": \"lines\", \"type\": \"scatter\", \"x\": [754, 1354, 619, 593, 1297, 1974, 1349, 533, 470, 353, 548, 1505, 427, 383, 2572, 420, 602, 371, 1245, 962, 1400, 534, 558, 638, 494, 1021, 1161, 709, 496, 584, 1301, 207, 620, 312, 627, 408, 498, 663, 980, 419, 540, 528, 496, 593, 898, 1442, 449, 603, 496, 377, 891, 349, 1138, 861, 656, 262, 801, 307, 525, 203, 385, 557, 1044, 503, 225, 327, 828, 1008, 531, 503, 977, 321, 618, 948, 981, 388, 643, 512, 708, 976, 860, 1267, 359, 244, 320, 332, 284, 511, 354, 1175, 879, 794, 335, 745, 1414, 1385, 659, 1147, 964, 1060, 826, 456, 687, 488, 728, 736, 1331, 737, 1191, 296, 538, 765, 1124, 1390, 1278, 190, 178, 990, 595, 963, 626, 906, 565, 482, 1054, 480, 900, 674, 150, 75, 98, 395, 848, 465, 469, 453, 864, 873, 954, 150, 112, 100, 214, 328, 554, 349, 596, 120, 675, 382], \"xaxis\": \"x3\", \"y\": [600.8555973791474, 969.1836094828318, 517.9817946558185, 502.0209141313255, 934.1924483329819, 1349.7892219899722, 966.1142093819678, 465.18811292095705, 426.5136716500702, 354.68970928985175, 474.39631322354916, 1061.8794925289258, 400.1168307826395, 373.10610989503596, 1716.889474053311, 395.81967064142987, 507.5458343128808, 365.7395496529623, 902.2706872839958, 728.5426415750915, 997.422090410781, 465.80199294112987, 480.53511342527725, 529.6455150391018, 441.24679213421757, 764.761562765287, 850.7047655894801, 573.2309964713711, 442.4745521745632, 496.49599394977025, 936.647968413673, 265.0632263446219, 518.5956746759913, 329.5206284627667, 522.892834817201, 388.45311039935615, 443.70231221490883, 544.9925155434221, 739.5924819382019, 395.20579062125705, 469.4852730621667, 462.11871282009304, 442.4745521745632, 502.0209141313255, 689.2543202840318, 1023.2050512580388, 413.62219122644126, 508.15971433305356, 442.4745521745632, 369.4228297739991, 684.957160142822, 352.2341892091605, 836.5855251255055, 666.5407595376378, 540.6953554022124, 298.8266274541263, 629.7079583272694, 326.4512283619026, 460.2770727595746, 262.60770626393065, 374.3338699353816, 479.92123340510443, 778.8808032292616, 446.77171231577285, 276.1130667077324, 338.7288287653588, 646.2827188719352, 756.7811225030405, 463.9603528806115, 446.77171231577285, 737.7508418776836, 335.0455486443219, 517.3679146356458, 719.9483212926721, 740.2063619583748, 376.17550999590003, 532.7149151399658, 452.2966324973281, 572.6171164511984, 737.1369618575106, 665.9268795174651, 915.7760477277977, 358.37298941088864, 287.77678709101576, 334.4316686241491, 341.7982288662228, 312.33198789792806, 451.6827524771553, 355.30358931002456, 859.2990858718993, 677.5905999007484, 625.4107981860598, 343.6398689267412, 595.3306771975922, 1006.0164106932002, 988.2138901081889, 542.5369954627308, 842.1104453070607, 729.7704016154371, 788.7028835520266, 645.0549588315896, 417.9193513676509, 559.7256360275694, 437.56351201318074, 584.8947168546545, 589.805757016037, 955.0643690188574, 590.4196370362097, 869.1211661946643, 319.6985481400018, 468.2575130218211, 607.6082776010484, 827.9912048430863, 991.2832902090529, 922.5287279496986, 254.62726600168418, 247.2607057596105, 745.73128213993, 503.2486741716711, 729.1565215952642, 522.2789547970282, 694.1653604454141, 484.8322735664869, 433.8802318921439, 785.0196034309897, 432.6524718517983, 690.4820803243774, 551.7451957653229, 230.07206519477188, 184.03106368181133, 198.1503041457859, 380.4726701371097, 658.5603192753913, 423.4442715492062, 425.8997916298974, 416.07771130713246, 668.3823995981563, 673.9073197797115, 723.631601413709, 230.07206519477188, 206.7446244282052, 199.3780641861315, 269.36038648583155, 339.3427087855316, 478.07959334458604, 352.2341892091605, 503.8625541918439, 211.65566458958767, 552.3590757854956, 372.49222987486314], \"yaxis\": \"y3\"}, {\"marker\": {\"color\": \"#EF553B\"}, \"type\": \"box\", \"xaxis\": \"x4\", \"y\": [0.9058355437665783, 0.8980797636632201, 0.8836833602584814, 0.9156829679595279, 0.8573631457208943, 0.8591691995947315, 0.8139362490733877, 0.8818011257035647, 0.8170212765957446, 0.7932011331444759, 0.8065693430656934, 0.2843853820598007, 0.8992974238875878, 0.6919060052219321, 0.1625194401244168, 0.5, 0.8156146179401993, 0.7574123989218329, 0.1502008032128514, 0.8731808731808732, 0.22, 0.7490636704119851, 0.8602150537634409, 0.8589341692789969, 0.9048582995951417, 0.1811949069539667, 0.14900947459086994, 0.8053596614950634, 1.1955645161290323, 0.8544520547945206, 0.846272098385857, 0.7342995169082126, 0.8032258064516129, 0.7243589743589743, 0.20893141945773525, 0.7818627450980392, 0.8534136546184738, 0.8642533936651584, 0.8581632653061224, 0.7947494033412887, 0.8481481481481481, 0.7632575757575758, 0.7620967741935484, 0.8701517706576728, 0.8741648106904232, 0.8495145631067961, 0.9977728285077951, 0.9320066334991708, 0.7056451612903226, 1.013262599469496, 0.9034792368125701, 0.7736389684813754, 1.0026362038664323, 0.7665505226480837, 0.8048780487804879, 0.7709923664122137, 0.762796504369538, 1.006514657980456, 0.878095238095238, 0.7832512315270936, 0.9064935064935065, 0.8438061041292639, 0.8553639846743295, 0.7117296222664016, 0.7066666666666667, 0.8379204892966361, 0.7065217391304348, 1.0267857142857142, 1.0112994350282485, 1.0079522862823063, 0.7584442169907881, 0.8068535825545171, 0.8818770226537217, 0.8765822784810127, 1.0081549439347604, 1.0103092783505154, 1.0046656298600312, 1.984375, 1.0042372881355932, 0.9057377049180327, 0.8965116279069767, 1.01026045777427, 0.7075208913649025, 0.8647540983606558, 0.809375, 0.7108433734939759, 0.75, 0.7416829745596869, 0.807909604519774, 0.8714893617021277, 0.9124004550625711, 0.8123425692695214, 0.8298507462686567, 0.9463087248322147, 0.9243281471004243, 0.8223826714801444, 0.91350531107739, 1.065387968613775, 0.8485477178423236, 0.8726415094339622, 0.9031476997578692, 0.8157894736842105, 1.0043668122270741, 1.278688524590164, 1.103021978021978, 0.9565217391304348, 0.9045830202854996, 0.8575305291723202, 0.8832913518052057, 0.8074324324324325, 0.8382899628252788, 1.1895424836601307, 0.8718861209964412, 0.874820143884892, 0.7934272300469484, 0.7473684210526316, 0.9438202247191011, 0.7080808080808081, 1.1512605042016806, 1.205607476635514, 0.9041533546325878, 1.0, 1.0300884955752212, 0.8775933609958506, 0.7817836812144212, 0.70625, 0.7033333333333334, 1.0, 0.7133333333333334, 0.38666666666666666, 1.0, 1.0962025316455697, 0.7959905660377359, 0.6924731182795699, 0.7036247334754797, 0.6997792494481236, 0.6979166666666666, 0.6987399770904925, 0.69916142557652, 0.8, 5.678571428571429, 0.53, 0.5467289719626168, 0.7621951219512195, 0.6985559566787004, 0.7736389684813754, 0.9949664429530202, 0.3333333333333333, 0.6918518518518518, 0.7853403141361257], \"yaxis\": \"y4\"}],\n",
              "                        {\"height\": 1000, \"template\": {\"data\": {\"bar\": [{\"error_x\": {\"color\": \"#2a3f5f\"}, \"error_y\": {\"color\": \"#2a3f5f\"}, \"marker\": {\"line\": {\"color\": \"#E5ECF6\", \"width\": 0.5}}, \"type\": \"bar\"}], \"barpolar\": [{\"marker\": {\"line\": {\"color\": \"#E5ECF6\", \"width\": 0.5}}, \"type\": \"barpolar\"}], \"carpet\": [{\"aaxis\": {\"endlinecolor\": \"#2a3f5f\", \"gridcolor\": \"white\", \"linecolor\": \"white\", \"minorgridcolor\": \"white\", \"startlinecolor\": \"#2a3f5f\"}, \"baxis\": {\"endlinecolor\": \"#2a3f5f\", \"gridcolor\": \"white\", \"linecolor\": \"white\", \"minorgridcolor\": \"white\", \"startlinecolor\": \"#2a3f5f\"}, \"type\": \"carpet\"}], \"choropleth\": [{\"colorbar\": {\"outlinewidth\": 0, \"ticks\": \"\"}, \"type\": \"choropleth\"}], \"contour\": [{\"colorbar\": {\"outlinewidth\": 0, \"ticks\": \"\"}, \"colorscale\": [[0.0, \"#0d0887\"], [0.1111111111111111, \"#46039f\"], [0.2222222222222222, \"#7201a8\"], [0.3333333333333333, \"#9c179e\"], [0.4444444444444444, \"#bd3786\"], [0.5555555555555556, \"#d8576b\"], [0.6666666666666666, \"#ed7953\"], [0.7777777777777778, \"#fb9f3a\"], [0.8888888888888888, \"#fdca26\"], [1.0, \"#f0f921\"]], \"type\": \"contour\"}], \"contourcarpet\": [{\"colorbar\": {\"outlinewidth\": 0, \"ticks\": \"\"}, \"type\": \"contourcarpet\"}], \"heatmap\": [{\"colorbar\": {\"outlinewidth\": 0, \"ticks\": \"\"}, \"colorscale\": [[0.0, \"#0d0887\"], [0.1111111111111111, \"#46039f\"], [0.2222222222222222, \"#7201a8\"], [0.3333333333333333, \"#9c179e\"], [0.4444444444444444, \"#bd3786\"], [0.5555555555555556, \"#d8576b\"], [0.6666666666666666, \"#ed7953\"], [0.7777777777777778, \"#fb9f3a\"], [0.8888888888888888, \"#fdca26\"], [1.0, \"#f0f921\"]], \"type\": \"heatmap\"}], \"heatmapgl\": [{\"colorbar\": {\"outlinewidth\": 0, \"ticks\": \"\"}, \"colorscale\": [[0.0, \"#0d0887\"], [0.1111111111111111, \"#46039f\"], [0.2222222222222222, \"#7201a8\"], [0.3333333333333333, \"#9c179e\"], [0.4444444444444444, \"#bd3786\"], [0.5555555555555556, \"#d8576b\"], [0.6666666666666666, \"#ed7953\"], [0.7777777777777778, \"#fb9f3a\"], [0.8888888888888888, \"#fdca26\"], [1.0, \"#f0f921\"]], \"type\": \"heatmapgl\"}], \"histogram\": [{\"marker\": {\"colorbar\": {\"outlinewidth\": 0, \"ticks\": \"\"}}, \"type\": \"histogram\"}], \"histogram2d\": [{\"colorbar\": {\"outlinewidth\": 0, \"ticks\": \"\"}, \"colorscale\": [[0.0, \"#0d0887\"], [0.1111111111111111, \"#46039f\"], [0.2222222222222222, \"#7201a8\"], [0.3333333333333333, \"#9c179e\"], [0.4444444444444444, \"#bd3786\"], [0.5555555555555556, \"#d8576b\"], [0.6666666666666666, \"#ed7953\"], [0.7777777777777778, \"#fb9f3a\"], [0.8888888888888888, \"#fdca26\"], [1.0, \"#f0f921\"]], \"type\": \"histogram2d\"}], \"histogram2dcontour\": [{\"colorbar\": {\"outlinewidth\": 0, \"ticks\": \"\"}, \"colorscale\": [[0.0, \"#0d0887\"], [0.1111111111111111, \"#46039f\"], [0.2222222222222222, \"#7201a8\"], [0.3333333333333333, \"#9c179e\"], [0.4444444444444444, \"#bd3786\"], [0.5555555555555556, \"#d8576b\"], [0.6666666666666666, \"#ed7953\"], [0.7777777777777778, \"#fb9f3a\"], [0.8888888888888888, \"#fdca26\"], [1.0, \"#f0f921\"]], \"type\": \"histogram2dcontour\"}], \"mesh3d\": [{\"colorbar\": {\"outlinewidth\": 0, \"ticks\": \"\"}, \"type\": \"mesh3d\"}], \"parcoords\": [{\"line\": {\"colorbar\": {\"outlinewidth\": 0, \"ticks\": \"\"}}, \"type\": \"parcoords\"}], \"pie\": [{\"automargin\": true, \"type\": \"pie\"}], \"scatter\": [{\"marker\": {\"colorbar\": {\"outlinewidth\": 0, \"ticks\": \"\"}}, \"type\": \"scatter\"}], \"scatter3d\": [{\"line\": {\"colorbar\": {\"outlinewidth\": 0, \"ticks\": \"\"}}, \"marker\": {\"colorbar\": {\"outlinewidth\": 0, \"ticks\": \"\"}}, \"type\": \"scatter3d\"}], \"scattercarpet\": [{\"marker\": {\"colorbar\": {\"outlinewidth\": 0, \"ticks\": \"\"}}, \"type\": \"scattercarpet\"}], \"scattergeo\": [{\"marker\": {\"colorbar\": {\"outlinewidth\": 0, \"ticks\": \"\"}}, \"type\": \"scattergeo\"}], \"scattergl\": [{\"marker\": {\"colorbar\": {\"outlinewidth\": 0, \"ticks\": \"\"}}, \"type\": \"scattergl\"}], \"scattermapbox\": [{\"marker\": {\"colorbar\": {\"outlinewidth\": 0, \"ticks\": \"\"}}, \"type\": \"scattermapbox\"}], \"scatterpolar\": [{\"marker\": {\"colorbar\": {\"outlinewidth\": 0, \"ticks\": \"\"}}, \"type\": \"scatterpolar\"}], \"scatterpolargl\": [{\"marker\": {\"colorbar\": {\"outlinewidth\": 0, \"ticks\": \"\"}}, \"type\": \"scatterpolargl\"}], \"scatterternary\": [{\"marker\": {\"colorbar\": {\"outlinewidth\": 0, \"ticks\": \"\"}}, \"type\": \"scatterternary\"}], \"surface\": [{\"colorbar\": {\"outlinewidth\": 0, \"ticks\": \"\"}, \"colorscale\": [[0.0, \"#0d0887\"], [0.1111111111111111, \"#46039f\"], [0.2222222222222222, \"#7201a8\"], [0.3333333333333333, \"#9c179e\"], [0.4444444444444444, \"#bd3786\"], [0.5555555555555556, \"#d8576b\"], [0.6666666666666666, \"#ed7953\"], [0.7777777777777778, \"#fb9f3a\"], [0.8888888888888888, \"#fdca26\"], [1.0, \"#f0f921\"]], \"type\": \"surface\"}], \"table\": [{\"cells\": {\"fill\": {\"color\": \"#EBF0F8\"}, \"line\": {\"color\": \"white\"}}, \"header\": {\"fill\": {\"color\": \"#C8D4E3\"}, \"line\": {\"color\": \"white\"}}, \"type\": \"table\"}]}, \"layout\": {\"annotationdefaults\": {\"arrowcolor\": \"#2a3f5f\", \"arrowhead\": 0, \"arrowwidth\": 1}, \"coloraxis\": {\"colorbar\": {\"outlinewidth\": 0, \"ticks\": \"\"}}, \"colorscale\": {\"diverging\": [[0, \"#8e0152\"], [0.1, \"#c51b7d\"], [0.2, \"#de77ae\"], [0.3, \"#f1b6da\"], [0.4, \"#fde0ef\"], [0.5, \"#f7f7f7\"], [0.6, \"#e6f5d0\"], [0.7, \"#b8e186\"], [0.8, \"#7fbc41\"], [0.9, \"#4d9221\"], [1, \"#276419\"]], \"sequential\": [[0.0, \"#0d0887\"], [0.1111111111111111, \"#46039f\"], [0.2222222222222222, \"#7201a8\"], [0.3333333333333333, \"#9c179e\"], [0.4444444444444444, \"#bd3786\"], [0.5555555555555556, \"#d8576b\"], [0.6666666666666666, \"#ed7953\"], [0.7777777777777778, \"#fb9f3a\"], [0.8888888888888888, \"#fdca26\"], [1.0, \"#f0f921\"]], \"sequentialminus\": [[0.0, \"#0d0887\"], [0.1111111111111111, \"#46039f\"], [0.2222222222222222, \"#7201a8\"], [0.3333333333333333, \"#9c179e\"], [0.4444444444444444, \"#bd3786\"], [0.5555555555555556, \"#d8576b\"], [0.6666666666666666, \"#ed7953\"], [0.7777777777777778, \"#fb9f3a\"], [0.8888888888888888, \"#fdca26\"], [1.0, \"#f0f921\"]]}, \"colorway\": [\"#636efa\", \"#EF553B\", \"#00cc96\", \"#ab63fa\", \"#FFA15A\", \"#19d3f3\", \"#FF6692\", \"#B6E880\", \"#FF97FF\", \"#FECB52\"], \"font\": {\"color\": \"#2a3f5f\"}, \"geo\": {\"bgcolor\": \"white\", \"lakecolor\": \"white\", \"landcolor\": \"#E5ECF6\", \"showlakes\": true, \"showland\": true, \"subunitcolor\": \"white\"}, \"hoverlabel\": {\"align\": \"left\"}, \"hovermode\": \"closest\", \"mapbox\": {\"style\": \"light\"}, \"paper_bgcolor\": \"white\", \"plot_bgcolor\": \"#E5ECF6\", \"polar\": {\"angularaxis\": {\"gridcolor\": \"white\", \"linecolor\": \"white\", \"ticks\": \"\"}, \"bgcolor\": \"#E5ECF6\", \"radialaxis\": {\"gridcolor\": \"white\", \"linecolor\": \"white\", \"ticks\": \"\"}}, \"scene\": {\"xaxis\": {\"backgroundcolor\": \"#E5ECF6\", \"gridcolor\": \"white\", \"gridwidth\": 2, \"linecolor\": \"white\", \"showbackground\": true, \"ticks\": \"\", \"zerolinecolor\": \"white\"}, \"yaxis\": {\"backgroundcolor\": \"#E5ECF6\", \"gridcolor\": \"white\", \"gridwidth\": 2, \"linecolor\": \"white\", \"showbackground\": true, \"ticks\": \"\", \"zerolinecolor\": \"white\"}, \"zaxis\": {\"backgroundcolor\": \"#E5ECF6\", \"gridcolor\": \"white\", \"gridwidth\": 2, \"linecolor\": \"white\", \"showbackground\": true, \"ticks\": \"\", \"zerolinecolor\": \"white\"}}, \"shapedefaults\": {\"line\": {\"color\": \"#2a3f5f\"}}, \"ternary\": {\"aaxis\": {\"gridcolor\": \"white\", \"linecolor\": \"white\", \"ticks\": \"\"}, \"baxis\": {\"gridcolor\": \"white\", \"linecolor\": \"white\", \"ticks\": \"\"}, \"bgcolor\": \"#E5ECF6\", \"caxis\": {\"gridcolor\": \"white\", \"linecolor\": \"white\", \"ticks\": \"\"}}, \"title\": {\"x\": 0.05}, \"xaxis\": {\"automargin\": true, \"gridcolor\": \"white\", \"linecolor\": \"white\", \"ticks\": \"\", \"title\": {\"standoff\": 15}, \"zerolinecolor\": \"white\", \"zerolinewidth\": 2}, \"yaxis\": {\"automargin\": true, \"gridcolor\": \"white\", \"linecolor\": \"white\", \"ticks\": \"\", \"title\": {\"standoff\": 15}, \"zerolinecolor\": \"white\", \"zerolinewidth\": 2}}}, \"width\": 1000, \"xaxis\": {\"anchor\": \"y\", \"domain\": [0.0, 0.63]}, \"xaxis2\": {\"anchor\": \"y2\", \"domain\": [0.73, 1.0]}, \"xaxis3\": {\"anchor\": \"y3\", \"domain\": [0.0, 0.63]}, \"xaxis4\": {\"anchor\": \"y4\", \"domain\": [0.73, 1.0]}, \"yaxis\": {\"anchor\": \"x\", \"domain\": [0.575, 1.0]}, \"yaxis2\": {\"anchor\": \"x2\", \"domain\": [0.575, 1.0]}, \"yaxis3\": {\"anchor\": \"x3\", \"domain\": [0.0, 0.425]}, \"yaxis4\": {\"anchor\": \"x4\", \"domain\": [0.0, 0.425]}},\n",
              "                        {\"responsive\": true}\n",
              "                    ).then(function(){\n",
              "                            \n",
              "var gd = document.getElementById('12016bab-2836-465b-bd86-bf0c19fdbc3a');\n",
              "var x = new MutationObserver(function (mutations, observer) {{\n",
              "        var display = window.getComputedStyle(gd).display;\n",
              "        if (!display || display === 'none') {{\n",
              "            console.log([gd, 'removed!']);\n",
              "            Plotly.purge(gd);\n",
              "            observer.disconnect();\n",
              "        }}\n",
              "}});\n",
              "\n",
              "// Listen for the removal of the full notebook cells\n",
              "var notebookContainer = gd.closest('#notebook-container');\n",
              "if (notebookContainer) {{\n",
              "    x.observe(notebookContainer, {childList: true});\n",
              "}}\n",
              "\n",
              "// Listen for the clearing of the current output cell\n",
              "var outputEl = gd.closest('.output');\n",
              "if (outputEl) {{\n",
              "    x.observe(outputEl, {childList: true});\n",
              "}}\n",
              "\n",
              "                        })\n",
              "                };\n",
              "                \n",
              "            </script>\n",
              "        </div>\n",
              "</body>\n",
              "</html>"
            ]
          },
          "metadata": {
            "tags": []
          }
        }
      ]
    },
    {
      "cell_type": "code",
      "metadata": {
        "id": "3nlvvzjCLC3I",
        "colab": {
          "base_uri": "https://localhost:8080/",
          "height": 419
        },
        "outputId": "2ba31bd2-4491-469f-eba5-ecafacf929c4"
      },
      "source": [
        "tmp_train = tmp_train[tmp_train['단지내주차면수']/tmp_train['총세대수'] < 1.289]\n",
        "tmp_train.reset_index(drop = True, inplace=True)\n",
        "tmp_train"
      ],
      "execution_count": 377,
      "outputs": [
        {
          "output_type": "execute_result",
          "data": {
            "text/html": [
              "<div>\n",
              "<style scoped>\n",
              "    .dataframe tbody tr th:only-of-type {\n",
              "        vertical-align: middle;\n",
              "    }\n",
              "\n",
              "    .dataframe tbody tr th {\n",
              "        vertical-align: top;\n",
              "    }\n",
              "\n",
              "    .dataframe thead th {\n",
              "        text-align: right;\n",
              "    }\n",
              "</style>\n",
              "<table border=\"1\" class=\"dataframe\">\n",
              "  <thead>\n",
              "    <tr style=\"text-align: right;\">\n",
              "      <th></th>\n",
              "      <th>단지코드</th>\n",
              "      <th>총세대수</th>\n",
              "      <th>임대건물구분</th>\n",
              "      <th>지역</th>\n",
              "      <th>공급유형</th>\n",
              "      <th>전용면적</th>\n",
              "      <th>전용면적별세대수</th>\n",
              "      <th>공가수</th>\n",
              "      <th>신분</th>\n",
              "      <th>임대보증금</th>\n",
              "      <th>임대료</th>\n",
              "      <th>지하철</th>\n",
              "      <th>버스</th>\n",
              "      <th>단지내주차면수</th>\n",
              "      <th>등록차량수</th>\n",
              "    </tr>\n",
              "  </thead>\n",
              "  <tbody>\n",
              "    <tr>\n",
              "      <th>0</th>\n",
              "      <td>C2515</td>\n",
              "      <td>545</td>\n",
              "      <td>0</td>\n",
              "      <td>0</td>\n",
              "      <td>0</td>\n",
              "      <td>33.48</td>\n",
              "      <td>276</td>\n",
              "      <td>17</td>\n",
              "      <td>0</td>\n",
              "      <td>9216000.0</td>\n",
              "      <td>82940.0</td>\n",
              "      <td>0.0</td>\n",
              "      <td>3.0</td>\n",
              "      <td>624</td>\n",
              "      <td>205</td>\n",
              "    </tr>\n",
              "    <tr>\n",
              "      <th>1</th>\n",
              "      <td>C2515</td>\n",
              "      <td>545</td>\n",
              "      <td>0</td>\n",
              "      <td>0</td>\n",
              "      <td>0</td>\n",
              "      <td>39.60</td>\n",
              "      <td>60</td>\n",
              "      <td>17</td>\n",
              "      <td>0</td>\n",
              "      <td>12672000.0</td>\n",
              "      <td>107130.0</td>\n",
              "      <td>0.0</td>\n",
              "      <td>3.0</td>\n",
              "      <td>624</td>\n",
              "      <td>205</td>\n",
              "    </tr>\n",
              "    <tr>\n",
              "      <th>2</th>\n",
              "      <td>C2515</td>\n",
              "      <td>545</td>\n",
              "      <td>0</td>\n",
              "      <td>0</td>\n",
              "      <td>0</td>\n",
              "      <td>39.60</td>\n",
              "      <td>20</td>\n",
              "      <td>17</td>\n",
              "      <td>0</td>\n",
              "      <td>12672000.0</td>\n",
              "      <td>107130.0</td>\n",
              "      <td>0.0</td>\n",
              "      <td>3.0</td>\n",
              "      <td>624</td>\n",
              "      <td>205</td>\n",
              "    </tr>\n",
              "    <tr>\n",
              "      <th>3</th>\n",
              "      <td>C2515</td>\n",
              "      <td>545</td>\n",
              "      <td>0</td>\n",
              "      <td>0</td>\n",
              "      <td>0</td>\n",
              "      <td>46.90</td>\n",
              "      <td>38</td>\n",
              "      <td>17</td>\n",
              "      <td>0</td>\n",
              "      <td>18433000.0</td>\n",
              "      <td>149760.0</td>\n",
              "      <td>0.0</td>\n",
              "      <td>3.0</td>\n",
              "      <td>624</td>\n",
              "      <td>205</td>\n",
              "    </tr>\n",
              "    <tr>\n",
              "      <th>4</th>\n",
              "      <td>C2515</td>\n",
              "      <td>545</td>\n",
              "      <td>0</td>\n",
              "      <td>0</td>\n",
              "      <td>0</td>\n",
              "      <td>46.90</td>\n",
              "      <td>19</td>\n",
              "      <td>17</td>\n",
              "      <td>0</td>\n",
              "      <td>18433000.0</td>\n",
              "      <td>149760.0</td>\n",
              "      <td>0.0</td>\n",
              "      <td>3.0</td>\n",
              "      <td>624</td>\n",
              "      <td>205</td>\n",
              "    </tr>\n",
              "    <tr>\n",
              "      <th>...</th>\n",
              "      <td>...</td>\n",
              "      <td>...</td>\n",
              "      <td>...</td>\n",
              "      <td>...</td>\n",
              "      <td>...</td>\n",
              "      <td>...</td>\n",
              "      <td>...</td>\n",
              "      <td>...</td>\n",
              "      <td>...</td>\n",
              "      <td>...</td>\n",
              "      <td>...</td>\n",
              "      <td>...</td>\n",
              "      <td>...</td>\n",
              "      <td>...</td>\n",
              "      <td>...</td>\n",
              "    </tr>\n",
              "    <tr>\n",
              "      <th>2870</th>\n",
              "      <td>C1036</td>\n",
              "      <td>1254</td>\n",
              "      <td>0</td>\n",
              "      <td>2</td>\n",
              "      <td>0</td>\n",
              "      <td>46.90</td>\n",
              "      <td>50</td>\n",
              "      <td>9</td>\n",
              "      <td>0</td>\n",
              "      <td>34082000.0</td>\n",
              "      <td>232200.0</td>\n",
              "      <td>0.0</td>\n",
              "      <td>3.0</td>\n",
              "      <td>1016</td>\n",
              "      <td>1279</td>\n",
              "    </tr>\n",
              "    <tr>\n",
              "      <th>2871</th>\n",
              "      <td>C1036</td>\n",
              "      <td>1254</td>\n",
              "      <td>0</td>\n",
              "      <td>2</td>\n",
              "      <td>0</td>\n",
              "      <td>46.90</td>\n",
              "      <td>88</td>\n",
              "      <td>9</td>\n",
              "      <td>0</td>\n",
              "      <td>34082000.0</td>\n",
              "      <td>232200.0</td>\n",
              "      <td>0.0</td>\n",
              "      <td>3.0</td>\n",
              "      <td>1016</td>\n",
              "      <td>1279</td>\n",
              "    </tr>\n",
              "    <tr>\n",
              "      <th>2872</th>\n",
              "      <td>C1036</td>\n",
              "      <td>1254</td>\n",
              "      <td>0</td>\n",
              "      <td>2</td>\n",
              "      <td>0</td>\n",
              "      <td>47.40</td>\n",
              "      <td>30</td>\n",
              "      <td>9</td>\n",
              "      <td>0</td>\n",
              "      <td>34082000.0</td>\n",
              "      <td>232200.0</td>\n",
              "      <td>0.0</td>\n",
              "      <td>3.0</td>\n",
              "      <td>1016</td>\n",
              "      <td>1279</td>\n",
              "    </tr>\n",
              "    <tr>\n",
              "      <th>2873</th>\n",
              "      <td>C1036</td>\n",
              "      <td>1254</td>\n",
              "      <td>0</td>\n",
              "      <td>2</td>\n",
              "      <td>0</td>\n",
              "      <td>51.93</td>\n",
              "      <td>75</td>\n",
              "      <td>9</td>\n",
              "      <td>0</td>\n",
              "      <td>43819000.0</td>\n",
              "      <td>275900.0</td>\n",
              "      <td>0.0</td>\n",
              "      <td>3.0</td>\n",
              "      <td>1016</td>\n",
              "      <td>1279</td>\n",
              "    </tr>\n",
              "    <tr>\n",
              "      <th>2874</th>\n",
              "      <td>C1036</td>\n",
              "      <td>1254</td>\n",
              "      <td>0</td>\n",
              "      <td>2</td>\n",
              "      <td>0</td>\n",
              "      <td>51.93</td>\n",
              "      <td>15</td>\n",
              "      <td>9</td>\n",
              "      <td>0</td>\n",
              "      <td>43819000.0</td>\n",
              "      <td>275900.0</td>\n",
              "      <td>0.0</td>\n",
              "      <td>3.0</td>\n",
              "      <td>1016</td>\n",
              "      <td>1279</td>\n",
              "    </tr>\n",
              "  </tbody>\n",
              "</table>\n",
              "<p>2875 rows × 15 columns</p>\n",
              "</div>"
            ],
            "text/plain": [
              "       단지코드  총세대수  임대건물구분  지역  공급유형  ...       임대료  지하철   버스  단지내주차면수  등록차량수\n",
              "0     C2515   545       0   0     0  ...   82940.0  0.0  3.0      624    205\n",
              "1     C2515   545       0   0     0  ...  107130.0  0.0  3.0      624    205\n",
              "2     C2515   545       0   0     0  ...  107130.0  0.0  3.0      624    205\n",
              "3     C2515   545       0   0     0  ...  149760.0  0.0  3.0      624    205\n",
              "4     C2515   545       0   0     0  ...  149760.0  0.0  3.0      624    205\n",
              "...     ...   ...     ...  ..   ...  ...       ...  ...  ...      ...    ...\n",
              "2870  C1036  1254       0   2     0  ...  232200.0  0.0  3.0     1016   1279\n",
              "2871  C1036  1254       0   2     0  ...  232200.0  0.0  3.0     1016   1279\n",
              "2872  C1036  1254       0   2     0  ...  232200.0  0.0  3.0     1016   1279\n",
              "2873  C1036  1254       0   2     0  ...  275900.0  0.0  3.0     1016   1279\n",
              "2874  C1036  1254       0   2     0  ...  275900.0  0.0  3.0     1016   1279\n",
              "\n",
              "[2875 rows x 15 columns]"
            ]
          },
          "metadata": {
            "tags": []
          },
          "execution_count": 377
        }
      ]
    },
    {
      "cell_type": "code",
      "metadata": {
        "id": "llb-Tzx3utB9"
      },
      "source": [
        "tmp_train['전용면적'] = tmp_train['전용면적']//3*3\n",
        "tmp_test['전용면적'] = tmp_test['전용면적']//3*3\n",
        "\n",
        "idx = tmp_train[tmp_train['전용면적']>100].index\n",
        "tmp_train.loc[idx, '전용면적'] = 100\n",
        "idx = tmp_test[tmp_test['전용면적']>100].index\n",
        "tmp_test.loc[idx, '전용면적'] = 100\n",
        "\n",
        "idx = tmp_train[tmp_train['전용면적']<15].index\n",
        "tmp_train.loc[idx, '전용면적'] = 15\n",
        "idx = tmp_test[tmp_test['전용면적']<15].index\n",
        "tmp_test.loc[idx, '전용면적'] = 15"
      ],
      "execution_count": 378,
      "outputs": []
    },
    {
      "cell_type": "code",
      "metadata": {
        "colab": {
          "base_uri": "https://localhost:8080/",
          "height": 762
        },
        "id": "k9utfMCMvD98",
        "outputId": "2e1d3bda-e1a4-490f-dd99-c0aa78ebfe5b"
      },
      "source": [
        "au = tmp_train['전용면적'].unique()\n",
        "au.sort()\n",
        "areas = dict.fromkeys(au, 0)\n",
        "for i, row in tmp_train.iterrows():\n",
        "    areas[row.loc['전용면적']] += row['전용면적별세대수']\n",
        "areas_df = pd.DataFrame.from_dict(areas, orient='index')\n",
        "areas_df.insert(0, \"전용면적\", areas_df.index)\n",
        "areas_df.columns = ['전용면적', '전용면적별세대수']\n",
        "areas_df.index = range(areas_df.shape[0])\n",
        "areas_df"
      ],
      "execution_count": 379,
      "outputs": [
        {
          "output_type": "execute_result",
          "data": {
            "text/html": [
              "<div>\n",
              "<style scoped>\n",
              "    .dataframe tbody tr th:only-of-type {\n",
              "        vertical-align: middle;\n",
              "    }\n",
              "\n",
              "    .dataframe tbody tr th {\n",
              "        vertical-align: top;\n",
              "    }\n",
              "\n",
              "    .dataframe thead th {\n",
              "        text-align: right;\n",
              "    }\n",
              "</style>\n",
              "<table border=\"1\" class=\"dataframe\">\n",
              "  <thead>\n",
              "    <tr style=\"text-align: right;\">\n",
              "      <th></th>\n",
              "      <th>전용면적</th>\n",
              "      <th>전용면적별세대수</th>\n",
              "    </tr>\n",
              "  </thead>\n",
              "  <tbody>\n",
              "    <tr>\n",
              "      <th>0</th>\n",
              "      <td>15.0</td>\n",
              "      <td>3388</td>\n",
              "    </tr>\n",
              "    <tr>\n",
              "      <th>1</th>\n",
              "      <td>18.0</td>\n",
              "      <td>38</td>\n",
              "    </tr>\n",
              "    <tr>\n",
              "      <th>2</th>\n",
              "      <td>21.0</td>\n",
              "      <td>4606</td>\n",
              "    </tr>\n",
              "    <tr>\n",
              "      <th>3</th>\n",
              "      <td>24.0</td>\n",
              "      <td>38357</td>\n",
              "    </tr>\n",
              "    <tr>\n",
              "      <th>4</th>\n",
              "      <td>27.0</td>\n",
              "      <td>6427</td>\n",
              "    </tr>\n",
              "    <tr>\n",
              "      <th>5</th>\n",
              "      <td>30.0</td>\n",
              "      <td>9278</td>\n",
              "    </tr>\n",
              "    <tr>\n",
              "      <th>6</th>\n",
              "      <td>33.0</td>\n",
              "      <td>9448</td>\n",
              "    </tr>\n",
              "    <tr>\n",
              "      <th>7</th>\n",
              "      <td>36.0</td>\n",
              "      <td>50556</td>\n",
              "    </tr>\n",
              "    <tr>\n",
              "      <th>8</th>\n",
              "      <td>39.0</td>\n",
              "      <td>29081</td>\n",
              "    </tr>\n",
              "    <tr>\n",
              "      <th>9</th>\n",
              "      <td>42.0</td>\n",
              "      <td>1652</td>\n",
              "    </tr>\n",
              "    <tr>\n",
              "      <th>10</th>\n",
              "      <td>45.0</td>\n",
              "      <td>60824</td>\n",
              "    </tr>\n",
              "    <tr>\n",
              "      <th>11</th>\n",
              "      <td>48.0</td>\n",
              "      <td>3864</td>\n",
              "    </tr>\n",
              "    <tr>\n",
              "      <th>12</th>\n",
              "      <td>51.0</td>\n",
              "      <td>40427</td>\n",
              "    </tr>\n",
              "    <tr>\n",
              "      <th>13</th>\n",
              "      <td>54.0</td>\n",
              "      <td>477</td>\n",
              "    </tr>\n",
              "    <tr>\n",
              "      <th>14</th>\n",
              "      <td>57.0</td>\n",
              "      <td>26536</td>\n",
              "    </tr>\n",
              "    <tr>\n",
              "      <th>15</th>\n",
              "      <td>60.0</td>\n",
              "      <td>1</td>\n",
              "    </tr>\n",
              "    <tr>\n",
              "      <th>16</th>\n",
              "      <td>63.0</td>\n",
              "      <td>7</td>\n",
              "    </tr>\n",
              "    <tr>\n",
              "      <th>17</th>\n",
              "      <td>66.0</td>\n",
              "      <td>878</td>\n",
              "    </tr>\n",
              "    <tr>\n",
              "      <th>18</th>\n",
              "      <td>72.0</td>\n",
              "      <td>4454</td>\n",
              "    </tr>\n",
              "    <tr>\n",
              "      <th>19</th>\n",
              "      <td>75.0</td>\n",
              "      <td>221</td>\n",
              "    </tr>\n",
              "    <tr>\n",
              "      <th>20</th>\n",
              "      <td>81.0</td>\n",
              "      <td>1</td>\n",
              "    </tr>\n",
              "    <tr>\n",
              "      <th>21</th>\n",
              "      <td>84.0</td>\n",
              "      <td>6989</td>\n",
              "    </tr>\n",
              "    <tr>\n",
              "      <th>22</th>\n",
              "      <td>100.0</td>\n",
              "      <td>28</td>\n",
              "    </tr>\n",
              "  </tbody>\n",
              "</table>\n",
              "</div>"
            ],
            "text/plain": [
              "     전용면적  전용면적별세대수\n",
              "0    15.0      3388\n",
              "1    18.0        38\n",
              "2    21.0      4606\n",
              "3    24.0     38357\n",
              "4    27.0      6427\n",
              "5    30.0      9278\n",
              "6    33.0      9448\n",
              "7    36.0     50556\n",
              "8    39.0     29081\n",
              "9    42.0      1652\n",
              "10   45.0     60824\n",
              "11   48.0      3864\n",
              "12   51.0     40427\n",
              "13   54.0       477\n",
              "14   57.0     26536\n",
              "15   60.0         1\n",
              "16   63.0         7\n",
              "17   66.0       878\n",
              "18   72.0      4454\n",
              "19   75.0       221\n",
              "20   81.0         1\n",
              "21   84.0      6989\n",
              "22  100.0        28"
            ]
          },
          "metadata": {
            "tags": []
          },
          "execution_count": 379
        }
      ]
    },
    {
      "cell_type": "code",
      "metadata": {
        "colab": {
          "base_uri": "https://localhost:8080/",
          "height": 617
        },
        "id": "6gL5NowmZmAf",
        "outputId": "8ddec7e9-3063-4637-db55-941a8c50c2c2"
      },
      "source": [
        "cumsum = np.cumsum(areas_df[\"전용면적별세대수\"])\n",
        "fig = go.Figure()\n",
        "fig.update_layout(width=600, height=600)\n",
        "fig.add_trace(go.Bar(x=areas_df[\"전용면적\"], y=cumsum/cumsum.loc[cumsum.size-1]))\n",
        "fig.add_trace(go.Bar(x=areas_df[\"전용면적\"], y=areas_df[\"전용면적별세대수\"]/cumsum.loc[cumsum.size-1]))\n",
        "fig.add_trace(go.Scatter(x=areas_df[\"전용면적\"], y=cumsum/cumsum.loc[cumsum.size-1]))\n",
        "fig.show()"
      ],
      "execution_count": 380,
      "outputs": [
        {
          "output_type": "display_data",
          "data": {
            "text/html": [
              "<html>\n",
              "<head><meta charset=\"utf-8\" /></head>\n",
              "<body>\n",
              "    <div>\n",
              "            <script src=\"https://cdnjs.cloudflare.com/ajax/libs/mathjax/2.7.5/MathJax.js?config=TeX-AMS-MML_SVG\"></script><script type=\"text/javascript\">if (window.MathJax) {MathJax.Hub.Config({SVG: {font: \"STIX-Web\"}});}</script>\n",
              "                <script type=\"text/javascript\">window.PlotlyConfig = {MathJaxConfig: 'local'};</script>\n",
              "        <script src=\"https://cdn.plot.ly/plotly-latest.min.js\"></script>    \n",
              "            <div id=\"3a9bc716-700e-445f-b5b7-497e2938188e\" class=\"plotly-graph-div\" style=\"height:600px; width:600px;\"></div>\n",
              "            <script type=\"text/javascript\">\n",
              "                \n",
              "                    window.PLOTLYENV=window.PLOTLYENV || {};\n",
              "                    \n",
              "                if (document.getElementById(\"3a9bc716-700e-445f-b5b7-497e2938188e\")) {\n",
              "                    Plotly.newPlot(\n",
              "                        '3a9bc716-700e-445f-b5b7-497e2938188e',\n",
              "                        [{\"type\": \"bar\", \"x\": [15.0, 18.0, 21.0, 24.0, 27.0, 30.0, 33.0, 36.0, 39.0, 42.0, 45.0, 48.0, 51.0, 54.0, 57.0, 60.0, 63.0, 66.0, 72.0, 75.0, 81.0, 84.0, 100.0], \"y\": [0.01138678084816057, 0.011514495627449267, 0.026994871243336986, 0.15590949727429773, 0.17751009955030955, 0.20869267118821797, 0.2404465984176811, 0.4103610295155577, 0.5080998057390989, 0.5136520377229127, 0.7180763465506926, 0.7310629230552064, 0.8669346436421567, 0.8685378002137543, 0.9577230471401972, 0.9577264080554416, 0.9577499344621527, 0.9607008180467705, 0.9756703345455034, 0.9764130968145245, 0.9764164577297689, 0.9999058943731557, 1.0]}, {\"type\": \"bar\", \"x\": [15.0, 18.0, 21.0, 24.0, 27.0, 30.0, 33.0, 36.0, 39.0, 42.0, 45.0, 48.0, 51.0, 54.0, 57.0, 60.0, 63.0, 66.0, 72.0, 75.0, 81.0, 84.0, 100.0], \"y\": [0.01138678084816057, 0.0001277147792886959, 0.015480375615887719, 0.12891462603096074, 0.021600602276011804, 0.031182571637908434, 0.03175392722946313, 0.16991443109787657, 0.0977387762235412, 0.005552231983813832, 0.20442430882777998, 0.01298657650451371, 0.13587172058695024, 0.0016031565715975775, 0.08918524692644302, 3.360915244439366e-06, 2.352640671107556e-05, 0.002950883584617763, 0.014969516498732936, 0.0007427622690210998, 3.360915244439366e-06, 0.023489436643386728, 9.410562684430224e-05]}, {\"type\": \"scatter\", \"x\": [15.0, 18.0, 21.0, 24.0, 27.0, 30.0, 33.0, 36.0, 39.0, 42.0, 45.0, 48.0, 51.0, 54.0, 57.0, 60.0, 63.0, 66.0, 72.0, 75.0, 81.0, 84.0, 100.0], \"y\": [0.01138678084816057, 0.011514495627449267, 0.026994871243336986, 0.15590949727429773, 0.17751009955030955, 0.20869267118821797, 0.2404465984176811, 0.4103610295155577, 0.5080998057390989, 0.5136520377229127, 0.7180763465506926, 0.7310629230552064, 0.8669346436421567, 0.8685378002137543, 0.9577230471401972, 0.9577264080554416, 0.9577499344621527, 0.9607008180467705, 0.9756703345455034, 0.9764130968145245, 0.9764164577297689, 0.9999058943731557, 1.0]}],\n",
              "                        {\"height\": 600, \"template\": {\"data\": {\"bar\": [{\"error_x\": {\"color\": \"#2a3f5f\"}, \"error_y\": {\"color\": \"#2a3f5f\"}, \"marker\": {\"line\": {\"color\": \"#E5ECF6\", \"width\": 0.5}}, \"type\": \"bar\"}], \"barpolar\": [{\"marker\": {\"line\": {\"color\": \"#E5ECF6\", \"width\": 0.5}}, \"type\": \"barpolar\"}], \"carpet\": [{\"aaxis\": {\"endlinecolor\": \"#2a3f5f\", \"gridcolor\": \"white\", \"linecolor\": \"white\", \"minorgridcolor\": \"white\", \"startlinecolor\": \"#2a3f5f\"}, \"baxis\": {\"endlinecolor\": \"#2a3f5f\", \"gridcolor\": \"white\", \"linecolor\": \"white\", \"minorgridcolor\": \"white\", \"startlinecolor\": \"#2a3f5f\"}, \"type\": \"carpet\"}], \"choropleth\": [{\"colorbar\": {\"outlinewidth\": 0, \"ticks\": \"\"}, \"type\": \"choropleth\"}], \"contour\": [{\"colorbar\": {\"outlinewidth\": 0, \"ticks\": \"\"}, \"colorscale\": [[0.0, \"#0d0887\"], [0.1111111111111111, \"#46039f\"], [0.2222222222222222, \"#7201a8\"], [0.3333333333333333, \"#9c179e\"], [0.4444444444444444, \"#bd3786\"], [0.5555555555555556, \"#d8576b\"], [0.6666666666666666, \"#ed7953\"], [0.7777777777777778, \"#fb9f3a\"], [0.8888888888888888, \"#fdca26\"], [1.0, \"#f0f921\"]], \"type\": \"contour\"}], \"contourcarpet\": [{\"colorbar\": {\"outlinewidth\": 0, \"ticks\": \"\"}, \"type\": \"contourcarpet\"}], \"heatmap\": [{\"colorbar\": {\"outlinewidth\": 0, \"ticks\": \"\"}, \"colorscale\": [[0.0, \"#0d0887\"], [0.1111111111111111, \"#46039f\"], [0.2222222222222222, \"#7201a8\"], [0.3333333333333333, \"#9c179e\"], [0.4444444444444444, \"#bd3786\"], [0.5555555555555556, \"#d8576b\"], [0.6666666666666666, \"#ed7953\"], [0.7777777777777778, \"#fb9f3a\"], [0.8888888888888888, \"#fdca26\"], [1.0, \"#f0f921\"]], \"type\": \"heatmap\"}], \"heatmapgl\": [{\"colorbar\": {\"outlinewidth\": 0, \"ticks\": \"\"}, \"colorscale\": [[0.0, \"#0d0887\"], [0.1111111111111111, \"#46039f\"], [0.2222222222222222, \"#7201a8\"], [0.3333333333333333, \"#9c179e\"], [0.4444444444444444, \"#bd3786\"], [0.5555555555555556, \"#d8576b\"], [0.6666666666666666, \"#ed7953\"], [0.7777777777777778, \"#fb9f3a\"], [0.8888888888888888, \"#fdca26\"], [1.0, \"#f0f921\"]], \"type\": \"heatmapgl\"}], \"histogram\": [{\"marker\": {\"colorbar\": {\"outlinewidth\": 0, \"ticks\": \"\"}}, \"type\": \"histogram\"}], \"histogram2d\": [{\"colorbar\": {\"outlinewidth\": 0, \"ticks\": \"\"}, \"colorscale\": [[0.0, \"#0d0887\"], [0.1111111111111111, \"#46039f\"], [0.2222222222222222, \"#7201a8\"], [0.3333333333333333, \"#9c179e\"], [0.4444444444444444, \"#bd3786\"], [0.5555555555555556, \"#d8576b\"], [0.6666666666666666, \"#ed7953\"], [0.7777777777777778, \"#fb9f3a\"], [0.8888888888888888, \"#fdca26\"], [1.0, \"#f0f921\"]], \"type\": \"histogram2d\"}], \"histogram2dcontour\": [{\"colorbar\": {\"outlinewidth\": 0, \"ticks\": \"\"}, \"colorscale\": [[0.0, \"#0d0887\"], [0.1111111111111111, \"#46039f\"], [0.2222222222222222, \"#7201a8\"], [0.3333333333333333, \"#9c179e\"], [0.4444444444444444, \"#bd3786\"], [0.5555555555555556, \"#d8576b\"], [0.6666666666666666, \"#ed7953\"], [0.7777777777777778, \"#fb9f3a\"], [0.8888888888888888, \"#fdca26\"], [1.0, \"#f0f921\"]], \"type\": \"histogram2dcontour\"}], \"mesh3d\": [{\"colorbar\": {\"outlinewidth\": 0, \"ticks\": \"\"}, \"type\": \"mesh3d\"}], \"parcoords\": [{\"line\": {\"colorbar\": {\"outlinewidth\": 0, \"ticks\": \"\"}}, \"type\": \"parcoords\"}], \"pie\": [{\"automargin\": true, \"type\": \"pie\"}], \"scatter\": [{\"marker\": {\"colorbar\": {\"outlinewidth\": 0, \"ticks\": \"\"}}, \"type\": \"scatter\"}], \"scatter3d\": [{\"line\": {\"colorbar\": {\"outlinewidth\": 0, \"ticks\": \"\"}}, \"marker\": {\"colorbar\": {\"outlinewidth\": 0, \"ticks\": \"\"}}, \"type\": \"scatter3d\"}], \"scattercarpet\": [{\"marker\": {\"colorbar\": {\"outlinewidth\": 0, \"ticks\": \"\"}}, \"type\": \"scattercarpet\"}], \"scattergeo\": [{\"marker\": {\"colorbar\": {\"outlinewidth\": 0, \"ticks\": \"\"}}, \"type\": \"scattergeo\"}], \"scattergl\": [{\"marker\": {\"colorbar\": {\"outlinewidth\": 0, \"ticks\": \"\"}}, \"type\": \"scattergl\"}], \"scattermapbox\": [{\"marker\": {\"colorbar\": {\"outlinewidth\": 0, \"ticks\": \"\"}}, \"type\": \"scattermapbox\"}], \"scatterpolar\": [{\"marker\": {\"colorbar\": {\"outlinewidth\": 0, \"ticks\": \"\"}}, \"type\": \"scatterpolar\"}], \"scatterpolargl\": [{\"marker\": {\"colorbar\": {\"outlinewidth\": 0, \"ticks\": \"\"}}, \"type\": \"scatterpolargl\"}], \"scatterternary\": [{\"marker\": {\"colorbar\": {\"outlinewidth\": 0, \"ticks\": \"\"}}, \"type\": \"scatterternary\"}], \"surface\": [{\"colorbar\": {\"outlinewidth\": 0, \"ticks\": \"\"}, \"colorscale\": [[0.0, \"#0d0887\"], [0.1111111111111111, \"#46039f\"], [0.2222222222222222, \"#7201a8\"], [0.3333333333333333, \"#9c179e\"], [0.4444444444444444, \"#bd3786\"], [0.5555555555555556, \"#d8576b\"], [0.6666666666666666, \"#ed7953\"], [0.7777777777777778, \"#fb9f3a\"], [0.8888888888888888, \"#fdca26\"], [1.0, \"#f0f921\"]], \"type\": \"surface\"}], \"table\": [{\"cells\": {\"fill\": {\"color\": \"#EBF0F8\"}, \"line\": {\"color\": \"white\"}}, \"header\": {\"fill\": {\"color\": \"#C8D4E3\"}, \"line\": {\"color\": \"white\"}}, \"type\": \"table\"}]}, \"layout\": {\"annotationdefaults\": {\"arrowcolor\": \"#2a3f5f\", \"arrowhead\": 0, \"arrowwidth\": 1}, \"coloraxis\": {\"colorbar\": {\"outlinewidth\": 0, \"ticks\": \"\"}}, \"colorscale\": {\"diverging\": [[0, \"#8e0152\"], [0.1, \"#c51b7d\"], [0.2, \"#de77ae\"], [0.3, \"#f1b6da\"], [0.4, \"#fde0ef\"], [0.5, \"#f7f7f7\"], [0.6, \"#e6f5d0\"], [0.7, \"#b8e186\"], [0.8, \"#7fbc41\"], [0.9, \"#4d9221\"], [1, \"#276419\"]], \"sequential\": [[0.0, \"#0d0887\"], [0.1111111111111111, \"#46039f\"], [0.2222222222222222, \"#7201a8\"], [0.3333333333333333, \"#9c179e\"], [0.4444444444444444, \"#bd3786\"], [0.5555555555555556, \"#d8576b\"], [0.6666666666666666, \"#ed7953\"], [0.7777777777777778, \"#fb9f3a\"], [0.8888888888888888, \"#fdca26\"], [1.0, \"#f0f921\"]], \"sequentialminus\": [[0.0, \"#0d0887\"], [0.1111111111111111, \"#46039f\"], [0.2222222222222222, \"#7201a8\"], [0.3333333333333333, \"#9c179e\"], [0.4444444444444444, \"#bd3786\"], [0.5555555555555556, \"#d8576b\"], [0.6666666666666666, \"#ed7953\"], [0.7777777777777778, \"#fb9f3a\"], [0.8888888888888888, \"#fdca26\"], [1.0, \"#f0f921\"]]}, \"colorway\": [\"#636efa\", \"#EF553B\", \"#00cc96\", \"#ab63fa\", \"#FFA15A\", \"#19d3f3\", \"#FF6692\", \"#B6E880\", \"#FF97FF\", \"#FECB52\"], \"font\": {\"color\": \"#2a3f5f\"}, \"geo\": {\"bgcolor\": \"white\", \"lakecolor\": \"white\", \"landcolor\": \"#E5ECF6\", \"showlakes\": true, \"showland\": true, \"subunitcolor\": \"white\"}, \"hoverlabel\": {\"align\": \"left\"}, \"hovermode\": \"closest\", \"mapbox\": {\"style\": \"light\"}, \"paper_bgcolor\": \"white\", \"plot_bgcolor\": \"#E5ECF6\", \"polar\": {\"angularaxis\": {\"gridcolor\": \"white\", \"linecolor\": \"white\", \"ticks\": \"\"}, \"bgcolor\": \"#E5ECF6\", \"radialaxis\": {\"gridcolor\": \"white\", \"linecolor\": \"white\", \"ticks\": \"\"}}, \"scene\": {\"xaxis\": {\"backgroundcolor\": \"#E5ECF6\", \"gridcolor\": \"white\", \"gridwidth\": 2, \"linecolor\": \"white\", \"showbackground\": true, \"ticks\": \"\", \"zerolinecolor\": \"white\"}, \"yaxis\": {\"backgroundcolor\": \"#E5ECF6\", \"gridcolor\": \"white\", \"gridwidth\": 2, \"linecolor\": \"white\", \"showbackground\": true, \"ticks\": \"\", \"zerolinecolor\": \"white\"}, \"zaxis\": {\"backgroundcolor\": \"#E5ECF6\", \"gridcolor\": \"white\", \"gridwidth\": 2, \"linecolor\": \"white\", \"showbackground\": true, \"ticks\": \"\", \"zerolinecolor\": \"white\"}}, \"shapedefaults\": {\"line\": {\"color\": \"#2a3f5f\"}}, \"ternary\": {\"aaxis\": {\"gridcolor\": \"white\", \"linecolor\": \"white\", \"ticks\": \"\"}, \"baxis\": {\"gridcolor\": \"white\", \"linecolor\": \"white\", \"ticks\": \"\"}, \"bgcolor\": \"#E5ECF6\", \"caxis\": {\"gridcolor\": \"white\", \"linecolor\": \"white\", \"ticks\": \"\"}}, \"title\": {\"x\": 0.05}, \"xaxis\": {\"automargin\": true, \"gridcolor\": \"white\", \"linecolor\": \"white\", \"ticks\": \"\", \"title\": {\"standoff\": 15}, \"zerolinecolor\": \"white\", \"zerolinewidth\": 2}, \"yaxis\": {\"automargin\": true, \"gridcolor\": \"white\", \"linecolor\": \"white\", \"ticks\": \"\", \"title\": {\"standoff\": 15}, \"zerolinecolor\": \"white\", \"zerolinewidth\": 2}}}, \"width\": 600},\n",
              "                        {\"responsive\": true}\n",
              "                    ).then(function(){\n",
              "                            \n",
              "var gd = document.getElementById('3a9bc716-700e-445f-b5b7-497e2938188e');\n",
              "var x = new MutationObserver(function (mutations, observer) {{\n",
              "        var display = window.getComputedStyle(gd).display;\n",
              "        if (!display || display === 'none') {{\n",
              "            console.log([gd, 'removed!']);\n",
              "            Plotly.purge(gd);\n",
              "            observer.disconnect();\n",
              "        }}\n",
              "}});\n",
              "\n",
              "// Listen for the removal of the full notebook cells\n",
              "var notebookContainer = gd.closest('#notebook-container');\n",
              "if (notebookContainer) {{\n",
              "    x.observe(notebookContainer, {childList: true});\n",
              "}}\n",
              "\n",
              "// Listen for the clearing of the current output cell\n",
              "var outputEl = gd.closest('.output');\n",
              "if (outputEl) {{\n",
              "    x.observe(outputEl, {childList: true});\n",
              "}}\n",
              "\n",
              "                        })\n",
              "                };\n",
              "                \n",
              "            </script>\n",
              "        </div>\n",
              "</body>\n",
              "</html>"
            ]
          },
          "metadata": {
            "tags": []
          }
        }
      ]
    },
    {
      "cell_type": "code",
      "metadata": {
        "id": "-kKbKDsezznF"
      },
      "source": [
        "areas_std = [0.0, 36.0, 45.0, 54.0]\n",
        "area_columns = ['면적_' + str(a) for a in areas_std]"
      ],
      "execution_count": 381,
      "outputs": []
    },
    {
      "cell_type": "code",
      "metadata": {
        "id": "igtHaq8wLhDc"
      },
      "source": [
        "def get_total_population(row):\n",
        "    total_pop = 0\n",
        "    if row[\"전용면적\"] < 30:\n",
        "        total_pop += 1 * row[\"전용면적별세대수\"]\n",
        "    elif row[\"전용면적\"] >= 30 and row[\"전용면적\"] < 39:\n",
        "        total_pop += 1.5 * row[\"전용면적별세대수\"]\n",
        "    elif row[\"전용면적\"] >= 39 and row[\"전용면적\"] < 51:\n",
        "        total_pop += 2 * row[\"전용면적별세대수\"]\n",
        "    elif row[\"전용면적\"] >= 51 and row[\"전용면적\"] < 57:\n",
        "        total_pop += 2.5 * row[\"전용면적별세대수\"]\n",
        "    else:\n",
        "        total_pop += 3.5 * row[\"전용면적별세대수\"]\n",
        "    return total_pop\n",
        "\n",
        "total_pop_arr = []\n",
        "for i, row in tmp_train.iterrows():\n",
        "    total_pop_arr.append(get_total_population(row))\n",
        "tmp_train.insert(2, \"총구성원수\", total_pop_arr)\n",
        "\n",
        "total_pop_arr = []\n",
        "for i, row in tmp_test.iterrows():\n",
        "    total_pop_arr.append(get_total_population(row))\n",
        "tmp_test.insert(2, \"총구성원수\", total_pop_arr)"
      ],
      "execution_count": 382,
      "outputs": []
    },
    {
      "cell_type": "code",
      "metadata": {
        "id": "ZHru1HFh6fGd"
      },
      "source": [
        "locals = tmp_train[\"지역\"].unique()\n",
        "locals.sort()\n",
        "locals_map = dict.fromkeys(locals, 0)\n",
        "local_weight = [0.5, 0.4, 0.5, 0.6, 0.5, 0.5, 0.5, 0.4, 0.3, 0.5, 0.5, 0.6, 0.5, 0.9, 0.5, 0.5]\n",
        "for i, local in enumerate(locals_map):\n",
        "    locals_map[local] = local_weight[i]\n",
        "\n",
        "est_cars = []\n",
        "for i, row in tmp_train.iterrows():\n",
        "    est_cars.append(get_total_population(row) * locals_map[row['지역']])\n",
        "tmp_train.insert(3, \"등록차량_인구통계\", est_cars)\n",
        "\n",
        "est_cars = []\n",
        "for i, row in tmp_test.iterrows():\n",
        "    est_cars.append(get_total_population(row) * locals_map[row['지역']])\n",
        "tmp_test.insert(3, \"등록차량_인구통계\", est_cars)"
      ],
      "execution_count": 383,
      "outputs": []
    },
    {
      "cell_type": "code",
      "metadata": {
        "colab": {
          "base_uri": "https://localhost:8080/",
          "height": 419
        },
        "id": "ery-Tt2zPcTr",
        "outputId": "36c79018-dd94-4d76-805b-68aeb1f545ed"
      },
      "source": [
        "tmp_train"
      ],
      "execution_count": 384,
      "outputs": [
        {
          "output_type": "execute_result",
          "data": {
            "text/html": [
              "<div>\n",
              "<style scoped>\n",
              "    .dataframe tbody tr th:only-of-type {\n",
              "        vertical-align: middle;\n",
              "    }\n",
              "\n",
              "    .dataframe tbody tr th {\n",
              "        vertical-align: top;\n",
              "    }\n",
              "\n",
              "    .dataframe thead th {\n",
              "        text-align: right;\n",
              "    }\n",
              "</style>\n",
              "<table border=\"1\" class=\"dataframe\">\n",
              "  <thead>\n",
              "    <tr style=\"text-align: right;\">\n",
              "      <th></th>\n",
              "      <th>단지코드</th>\n",
              "      <th>총세대수</th>\n",
              "      <th>총구성원수</th>\n",
              "      <th>등록차량_인구통계</th>\n",
              "      <th>임대건물구분</th>\n",
              "      <th>지역</th>\n",
              "      <th>공급유형</th>\n",
              "      <th>전용면적</th>\n",
              "      <th>전용면적별세대수</th>\n",
              "      <th>공가수</th>\n",
              "      <th>신분</th>\n",
              "      <th>임대보증금</th>\n",
              "      <th>임대료</th>\n",
              "      <th>지하철</th>\n",
              "      <th>버스</th>\n",
              "      <th>단지내주차면수</th>\n",
              "      <th>등록차량수</th>\n",
              "    </tr>\n",
              "  </thead>\n",
              "  <tbody>\n",
              "    <tr>\n",
              "      <th>0</th>\n",
              "      <td>C2515</td>\n",
              "      <td>545</td>\n",
              "      <td>414.0</td>\n",
              "      <td>207.00</td>\n",
              "      <td>0</td>\n",
              "      <td>0</td>\n",
              "      <td>0</td>\n",
              "      <td>33.0</td>\n",
              "      <td>276</td>\n",
              "      <td>17</td>\n",
              "      <td>0</td>\n",
              "      <td>9216000.0</td>\n",
              "      <td>82940.0</td>\n",
              "      <td>0.0</td>\n",
              "      <td>3.0</td>\n",
              "      <td>624</td>\n",
              "      <td>205</td>\n",
              "    </tr>\n",
              "    <tr>\n",
              "      <th>1</th>\n",
              "      <td>C2515</td>\n",
              "      <td>545</td>\n",
              "      <td>120.0</td>\n",
              "      <td>60.00</td>\n",
              "      <td>0</td>\n",
              "      <td>0</td>\n",
              "      <td>0</td>\n",
              "      <td>39.0</td>\n",
              "      <td>60</td>\n",
              "      <td>17</td>\n",
              "      <td>0</td>\n",
              "      <td>12672000.0</td>\n",
              "      <td>107130.0</td>\n",
              "      <td>0.0</td>\n",
              "      <td>3.0</td>\n",
              "      <td>624</td>\n",
              "      <td>205</td>\n",
              "    </tr>\n",
              "    <tr>\n",
              "      <th>2</th>\n",
              "      <td>C2515</td>\n",
              "      <td>545</td>\n",
              "      <td>40.0</td>\n",
              "      <td>20.00</td>\n",
              "      <td>0</td>\n",
              "      <td>0</td>\n",
              "      <td>0</td>\n",
              "      <td>39.0</td>\n",
              "      <td>20</td>\n",
              "      <td>17</td>\n",
              "      <td>0</td>\n",
              "      <td>12672000.0</td>\n",
              "      <td>107130.0</td>\n",
              "      <td>0.0</td>\n",
              "      <td>3.0</td>\n",
              "      <td>624</td>\n",
              "      <td>205</td>\n",
              "    </tr>\n",
              "    <tr>\n",
              "      <th>3</th>\n",
              "      <td>C2515</td>\n",
              "      <td>545</td>\n",
              "      <td>76.0</td>\n",
              "      <td>38.00</td>\n",
              "      <td>0</td>\n",
              "      <td>0</td>\n",
              "      <td>0</td>\n",
              "      <td>45.0</td>\n",
              "      <td>38</td>\n",
              "      <td>17</td>\n",
              "      <td>0</td>\n",
              "      <td>18433000.0</td>\n",
              "      <td>149760.0</td>\n",
              "      <td>0.0</td>\n",
              "      <td>3.0</td>\n",
              "      <td>624</td>\n",
              "      <td>205</td>\n",
              "    </tr>\n",
              "    <tr>\n",
              "      <th>4</th>\n",
              "      <td>C2515</td>\n",
              "      <td>545</td>\n",
              "      <td>38.0</td>\n",
              "      <td>19.00</td>\n",
              "      <td>0</td>\n",
              "      <td>0</td>\n",
              "      <td>0</td>\n",
              "      <td>45.0</td>\n",
              "      <td>19</td>\n",
              "      <td>17</td>\n",
              "      <td>0</td>\n",
              "      <td>18433000.0</td>\n",
              "      <td>149760.0</td>\n",
              "      <td>0.0</td>\n",
              "      <td>3.0</td>\n",
              "      <td>624</td>\n",
              "      <td>205</td>\n",
              "    </tr>\n",
              "    <tr>\n",
              "      <th>...</th>\n",
              "      <td>...</td>\n",
              "      <td>...</td>\n",
              "      <td>...</td>\n",
              "      <td>...</td>\n",
              "      <td>...</td>\n",
              "      <td>...</td>\n",
              "      <td>...</td>\n",
              "      <td>...</td>\n",
              "      <td>...</td>\n",
              "      <td>...</td>\n",
              "      <td>...</td>\n",
              "      <td>...</td>\n",
              "      <td>...</td>\n",
              "      <td>...</td>\n",
              "      <td>...</td>\n",
              "      <td>...</td>\n",
              "      <td>...</td>\n",
              "    </tr>\n",
              "    <tr>\n",
              "      <th>2870</th>\n",
              "      <td>C1036</td>\n",
              "      <td>1254</td>\n",
              "      <td>100.0</td>\n",
              "      <td>50.00</td>\n",
              "      <td>0</td>\n",
              "      <td>2</td>\n",
              "      <td>0</td>\n",
              "      <td>45.0</td>\n",
              "      <td>50</td>\n",
              "      <td>9</td>\n",
              "      <td>0</td>\n",
              "      <td>34082000.0</td>\n",
              "      <td>232200.0</td>\n",
              "      <td>0.0</td>\n",
              "      <td>3.0</td>\n",
              "      <td>1016</td>\n",
              "      <td>1279</td>\n",
              "    </tr>\n",
              "    <tr>\n",
              "      <th>2871</th>\n",
              "      <td>C1036</td>\n",
              "      <td>1254</td>\n",
              "      <td>176.0</td>\n",
              "      <td>88.00</td>\n",
              "      <td>0</td>\n",
              "      <td>2</td>\n",
              "      <td>0</td>\n",
              "      <td>45.0</td>\n",
              "      <td>88</td>\n",
              "      <td>9</td>\n",
              "      <td>0</td>\n",
              "      <td>34082000.0</td>\n",
              "      <td>232200.0</td>\n",
              "      <td>0.0</td>\n",
              "      <td>3.0</td>\n",
              "      <td>1016</td>\n",
              "      <td>1279</td>\n",
              "    </tr>\n",
              "    <tr>\n",
              "      <th>2872</th>\n",
              "      <td>C1036</td>\n",
              "      <td>1254</td>\n",
              "      <td>60.0</td>\n",
              "      <td>30.00</td>\n",
              "      <td>0</td>\n",
              "      <td>2</td>\n",
              "      <td>0</td>\n",
              "      <td>45.0</td>\n",
              "      <td>30</td>\n",
              "      <td>9</td>\n",
              "      <td>0</td>\n",
              "      <td>34082000.0</td>\n",
              "      <td>232200.0</td>\n",
              "      <td>0.0</td>\n",
              "      <td>3.0</td>\n",
              "      <td>1016</td>\n",
              "      <td>1279</td>\n",
              "    </tr>\n",
              "    <tr>\n",
              "      <th>2873</th>\n",
              "      <td>C1036</td>\n",
              "      <td>1254</td>\n",
              "      <td>187.5</td>\n",
              "      <td>93.75</td>\n",
              "      <td>0</td>\n",
              "      <td>2</td>\n",
              "      <td>0</td>\n",
              "      <td>51.0</td>\n",
              "      <td>75</td>\n",
              "      <td>9</td>\n",
              "      <td>0</td>\n",
              "      <td>43819000.0</td>\n",
              "      <td>275900.0</td>\n",
              "      <td>0.0</td>\n",
              "      <td>3.0</td>\n",
              "      <td>1016</td>\n",
              "      <td>1279</td>\n",
              "    </tr>\n",
              "    <tr>\n",
              "      <th>2874</th>\n",
              "      <td>C1036</td>\n",
              "      <td>1254</td>\n",
              "      <td>37.5</td>\n",
              "      <td>18.75</td>\n",
              "      <td>0</td>\n",
              "      <td>2</td>\n",
              "      <td>0</td>\n",
              "      <td>51.0</td>\n",
              "      <td>15</td>\n",
              "      <td>9</td>\n",
              "      <td>0</td>\n",
              "      <td>43819000.0</td>\n",
              "      <td>275900.0</td>\n",
              "      <td>0.0</td>\n",
              "      <td>3.0</td>\n",
              "      <td>1016</td>\n",
              "      <td>1279</td>\n",
              "    </tr>\n",
              "  </tbody>\n",
              "</table>\n",
              "<p>2875 rows × 17 columns</p>\n",
              "</div>"
            ],
            "text/plain": [
              "       단지코드  총세대수  총구성원수  등록차량_인구통계  임대건물구분  ...       임대료  지하철   버스  단지내주차면수  등록차량수\n",
              "0     C2515   545  414.0     207.00       0  ...   82940.0  0.0  3.0      624    205\n",
              "1     C2515   545  120.0      60.00       0  ...  107130.0  0.0  3.0      624    205\n",
              "2     C2515   545   40.0      20.00       0  ...  107130.0  0.0  3.0      624    205\n",
              "3     C2515   545   76.0      38.00       0  ...  149760.0  0.0  3.0      624    205\n",
              "4     C2515   545   38.0      19.00       0  ...  149760.0  0.0  3.0      624    205\n",
              "...     ...   ...    ...        ...     ...  ...       ...  ...  ...      ...    ...\n",
              "2870  C1036  1254  100.0      50.00       0  ...  232200.0  0.0  3.0     1016   1279\n",
              "2871  C1036  1254  176.0      88.00       0  ...  232200.0  0.0  3.0     1016   1279\n",
              "2872  C1036  1254   60.0      30.00       0  ...  232200.0  0.0  3.0     1016   1279\n",
              "2873  C1036  1254  187.5      93.75       0  ...  275900.0  0.0  3.0     1016   1279\n",
              "2874  C1036  1254   37.5      18.75       0  ...  275900.0  0.0  3.0     1016   1279\n",
              "\n",
              "[2875 rows x 17 columns]"
            ]
          },
          "metadata": {
            "tags": []
          },
          "execution_count": 384
        }
      ]
    },
    {
      "cell_type": "code",
      "metadata": {
        "id": "90o9Ch0r7X6G"
      },
      "source": [
        "def get_similar_fee(target, data, col):\n",
        "    if col == \"임대료\":\n",
        "        nonnull_local_idx = data[(data['임대료'].notnull()) & (data['지역'] == target[\"지역\"])].index\n",
        "        nonnull_local = data.loc[nonnull_local_idx]\n",
        "        rental_fee = nonnull_local['임대료'].median()\n",
        "        if nonnull_local[nonnull_local['전용면적'] == target['전용면적']].shape[0] != 0:\n",
        "            rental_fee = nonnull_local[nonnull_local['전용면적'] == target['전용면적']]['임대료'].median()\n",
        "        elif nonnull_local[nonnull_local['전용면적'] == target['전용면적']+3].shape[0] != 0:\n",
        "            rental_fee = nonnull_local[nonnull_local['전용면적'] == target['전용면적']+3]['임대료'].median()\n",
        "        elif nonnull_local[nonnull_local['전용면적'] == target['전용면적']-3].shape[0] != 0:\n",
        "            rental_fee = nonnull_local[nonnull_local['전용면적'] == target['전용면적']-3]['임대료'].median()\n",
        "        elif nonnull_local[nonnull_local['전용면적'] == target['전용면적']+6].shape[0] != 0:\n",
        "            rental_fee = nonnull_local[nonnull_local['전용면적'] == target['전용면적']+6]['임대료'].median()\n",
        "        elif nonnull_local[nonnull_local['전용면적'] == target['전용면적']-6].shape[0] != 0:\n",
        "            rental_fee = nonnull_local[nonnull_local['전용면적'] == target['전용면적']-6]['임대료'].median()\n",
        "        return rental_fee\n",
        "    else:\n",
        "        nonnull_local_idx = data[(data['임대보증금'].notnull()) & (data['지역'] == target[\"지역\"])].index\n",
        "        nonnull_local = data.loc[nonnull_local_idx]\n",
        "        deposit = nonnull_local['임대보증금'].median()\n",
        "        if nonnull_local[nonnull_local['전용면적'] == target['전용면적']].shape[0] != 0:\n",
        "            deposit = nonnull_local[nonnull_local['전용면적'] == target['전용면적']]['임대보증금'].median()\n",
        "        elif nonnull_local[nonnull_local['전용면적'] == target['전용면적']+3].shape[0] != 0:\n",
        "            deposit = nonnull_local[nonnull_local['전용면적'] == target['전용면적']+3]['임대보증금'].median()\n",
        "        elif nonnull_local[nonnull_local['전용면적'] == target['전용면적']-3].shape[0] != 0:\n",
        "            deposit = nonnull_local[nonnull_local['전용면적'] == target['전용면적']-3]['임대보증금'].median()\n",
        "        elif nonnull_local[nonnull_local['전용면적'] == target['전용면적']+6].shape[0] != 0:\n",
        "            deposit = nonnull_local[nonnull_local['전용면적'] == target['전용면적']+6]['임대보증금'].median()\n",
        "        elif nonnull_local[nonnull_local['전용면적'] == target['전용면적']-6].shape[0] != 0:\n",
        "            deposit = nonnull_local[nonnull_local['전용면적'] == target['전용면적']-6]['임대보증금'].median()\n",
        "        return deposit\n",
        "\n",
        "# for i in tmp_train['임대료'].index[tmp_train['임대료'].apply(np.isnan)]:\n",
        "#     tmp_train.loc[i, '임대료'] = get_similar_fee(tmp_train.loc[i], tmp_train, \"임대료\")\n",
        "\n",
        "# for i in tmp_test['임대료'].index[tmp_test['임대료'].apply(np.isnan)]:\n",
        "#     tmp_test.loc[i, '임대료'] = get_similar_fee(tmp_test.loc[i], tmp_train, \"임대료\")\n",
        "\n",
        "# for i in tmp_train['임대보증금'].index[tmp_train['임대보증금'].apply(np.isnan)]:\n",
        "#     tmp_train.loc[i, '임대보증금'] = get_similar_fee(tmp_train.loc[i], tmp_train, \"임대보증금\")\n",
        "\n",
        "# for i in tmp_test['임대보증금'].index[tmp_test['임대보증금'].apply(np.isnan)]:\n",
        "#     tmp_test.loc[i, '임대보증금'] = get_similar_fee(tmp_test.loc[i], tmp_train, \"임대보증금\")"
      ],
      "execution_count": 385,
      "outputs": []
    },
    {
      "cell_type": "code",
      "metadata": {
        "id": "_89XEkTukBde"
      },
      "source": [
        "new_train = pd.DataFrame()\n",
        "new_test = pd.DataFrame()"
      ],
      "execution_count": 386,
      "outputs": []
    },
    {
      "cell_type": "code",
      "metadata": {
        "colab": {
          "base_uri": "https://localhost:8080/"
        },
        "id": "awjszlVWPUFo",
        "outputId": "623d65fb-ee65-40bb-ee70-145df51b7232"
      },
      "source": [
        "def get_max_item(data, cat_col):\n",
        "    map = dict.fromkeys(data[cat_col].unique(), 0)\n",
        "    for i, row in data.iterrows():\n",
        "        map[row.loc[cat_col]] += row['전용면적별세대수']\n",
        "    max_item = max(map, key=map.get)\n",
        "    return max_item\n",
        "\n",
        "for i, code in tqdm(enumerate(tmp_train['단지코드'].unique())):\n",
        "    temp = tmp_train[tmp_train['단지코드']==code]\n",
        "    temp.index = range(temp.shape[0])\n",
        "    for col in columns:\n",
        "        new_train.loc[i, col] = temp.loc[0, col]\n",
        "    new_train.loc[i, '임대건물구분'] = get_max_item(temp, '임대건물구분')\n",
        "    new_train.loc[i, '공급유형'] = get_max_item(temp, '공급유형')\n",
        "    new_train.loc[i, '총구성원수'] = temp[\"총구성원수\"].sum()\n",
        "    new_train.loc[i, '등록차량_인구통계'] = temp[\"등록차량_인구통계\"].sum()\n",
        "    new_train.loc[i, '등록차량수'] = temp.loc[0, '등록차량수']\n",
        "    \n",
        "for i, code in tqdm(enumerate(tmp_test['단지코드'].unique())):\n",
        "    temp = tmp_test[tmp_test['단지코드']==code]\n",
        "    temp.index = range(temp.shape[0])\n",
        "    for col in columns:\n",
        "        new_test.loc[i, col] = temp.loc[0, col]\n",
        "    new_test.loc[i, '임대건물구분'] = get_max_item(temp, '임대건물구분')\n",
        "    new_test.loc[i, '공급유형'] = get_max_item(temp, '공급유형')\n",
        "    new_test.loc[i, '총구성원수'] = temp[\"총구성원수\"].sum()\n",
        "    new_test.loc[i, '등록차량_인구통계'] = temp[\"등록차량_인구통계\"].sum()"
      ],
      "execution_count": 387,
      "outputs": [
        {
          "output_type": "stream",
          "text": [
            "409it [00:04, 97.93it/s]\n",
            "150it [00:01, 100.42it/s]\n"
          ],
          "name": "stderr"
        }
      ]
    },
    {
      "cell_type": "code",
      "metadata": {
        "id": "v0MDZ4rYzHqK"
      },
      "source": [
        "new_train = new_train.fillna(0.0)\n",
        "new_test = new_test.fillna(0.0)"
      ],
      "execution_count": 388,
      "outputs": []
    },
    {
      "cell_type": "code",
      "metadata": {
        "colab": {
          "base_uri": "https://localhost:8080/",
          "height": 823
        },
        "id": "AhrWbSHvh7Pw",
        "outputId": "8e3995c4-6c3f-4634-a1c2-8b50d53999ce"
      },
      "source": [
        "plt.figure(figsize=(10, 10))\n",
        "sns.heatmap(new_train.corr(), vmin=-1, vmax=1, annot=True, linewidths=0.01)"
      ],
      "execution_count": 389,
      "outputs": [
        {
          "output_type": "stream",
          "text": [
            "/usr/local/lib/python3.7/dist-packages/matplotlib/backends/backend_agg.py:214: RuntimeWarning:\n",
            "\n",
            "Glyph 8722 missing from current font.\n",
            "\n",
            "/usr/local/lib/python3.7/dist-packages/matplotlib/backends/backend_agg.py:183: RuntimeWarning:\n",
            "\n",
            "Glyph 8722 missing from current font.\n",
            "\n"
          ],
          "name": "stderr"
        },
        {
          "output_type": "execute_result",
          "data": {
            "text/plain": [
              "<matplotlib.axes._subplots.AxesSubplot at 0x7f9e349baa10>"
            ]
          },
          "metadata": {
            "tags": []
          },
          "execution_count": 389
        },
        {
          "output_type": "display_data",
          "data": {
            "image/png": "[encoded data removed]",
            "text/plain": [
              "<Figure size 720x720 with 2 Axes>"
            ]
          },
          "metadata": {
            "tags": [],
            "needs_background": "light"
          }
        }
      ]
    },
    {
      "cell_type": "code",
      "metadata": {
        "colab": {
          "base_uri": "https://localhost:8080/",
          "height": 419
        },
        "id": "LQzByxnL3KLz",
        "outputId": "76f15513-4980-4c7a-b3d4-b36002421711"
      },
      "source": [
        "new_train"
      ],
      "execution_count": 390,
      "outputs": [
        {
          "output_type": "execute_result",
          "data": {
            "text/html": [
              "<div>\n",
              "<style scoped>\n",
              "    .dataframe tbody tr th:only-of-type {\n",
              "        vertical-align: middle;\n",
              "    }\n",
              "\n",
              "    .dataframe tbody tr th {\n",
              "        vertical-align: top;\n",
              "    }\n",
              "\n",
              "    .dataframe thead th {\n",
              "        text-align: right;\n",
              "    }\n",
              "</style>\n",
              "<table border=\"1\" class=\"dataframe\">\n",
              "  <thead>\n",
              "    <tr style=\"text-align: right;\">\n",
              "      <th></th>\n",
              "      <th>단지코드</th>\n",
              "      <th>총세대수</th>\n",
              "      <th>총구성원수</th>\n",
              "      <th>등록차량_인구통계</th>\n",
              "      <th>임대건물구분</th>\n",
              "      <th>지역</th>\n",
              "      <th>공급유형</th>\n",
              "      <th>공가수</th>\n",
              "      <th>신분</th>\n",
              "      <th>지하철</th>\n",
              "      <th>버스</th>\n",
              "      <th>단지내주차면수</th>\n",
              "      <th>등록차량수</th>\n",
              "    </tr>\n",
              "  </thead>\n",
              "  <tbody>\n",
              "    <tr>\n",
              "      <th>0</th>\n",
              "      <td>C2515</td>\n",
              "      <td>545.0</td>\n",
              "      <td>1018.0</td>\n",
              "      <td>509.00</td>\n",
              "      <td>0.0</td>\n",
              "      <td>0.0</td>\n",
              "      <td>0.0</td>\n",
              "      <td>17.0</td>\n",
              "      <td>0.0</td>\n",
              "      <td>0.0</td>\n",
              "      <td>3.0</td>\n",
              "      <td>624.0</td>\n",
              "      <td>205.0</td>\n",
              "    </tr>\n",
              "    <tr>\n",
              "      <th>1</th>\n",
              "      <td>C1407</td>\n",
              "      <td>1216.0</td>\n",
              "      <td>2299.0</td>\n",
              "      <td>919.60</td>\n",
              "      <td>0.0</td>\n",
              "      <td>1.0</td>\n",
              "      <td>0.0</td>\n",
              "      <td>13.0</td>\n",
              "      <td>0.0</td>\n",
              "      <td>1.0</td>\n",
              "      <td>1.0</td>\n",
              "      <td>1285.0</td>\n",
              "      <td>1064.0</td>\n",
              "    </tr>\n",
              "    <tr>\n",
              "      <th>2</th>\n",
              "      <td>C1945</td>\n",
              "      <td>755.0</td>\n",
              "      <td>1979.5</td>\n",
              "      <td>989.75</td>\n",
              "      <td>0.0</td>\n",
              "      <td>2.0</td>\n",
              "      <td>0.0</td>\n",
              "      <td>6.0</td>\n",
              "      <td>1.0</td>\n",
              "      <td>1.0</td>\n",
              "      <td>3.0</td>\n",
              "      <td>734.0</td>\n",
              "      <td>730.0</td>\n",
              "    </tr>\n",
              "    <tr>\n",
              "      <th>3</th>\n",
              "      <td>C1470</td>\n",
              "      <td>696.0</td>\n",
              "      <td>1388.0</td>\n",
              "      <td>832.80</td>\n",
              "      <td>0.0</td>\n",
              "      <td>3.0</td>\n",
              "      <td>0.0</td>\n",
              "      <td>14.0</td>\n",
              "      <td>0.0</td>\n",
              "      <td>0.0</td>\n",
              "      <td>2.0</td>\n",
              "      <td>645.0</td>\n",
              "      <td>553.0</td>\n",
              "    </tr>\n",
              "    <tr>\n",
              "      <th>4</th>\n",
              "      <td>C1898</td>\n",
              "      <td>566.0</td>\n",
              "      <td>1039.5</td>\n",
              "      <td>623.70</td>\n",
              "      <td>0.0</td>\n",
              "      <td>3.0</td>\n",
              "      <td>0.0</td>\n",
              "      <td>9.0</td>\n",
              "      <td>0.0</td>\n",
              "      <td>0.0</td>\n",
              "      <td>6.0</td>\n",
              "      <td>517.0</td>\n",
              "      <td>415.0</td>\n",
              "    </tr>\n",
              "    <tr>\n",
              "      <th>...</th>\n",
              "      <td>...</td>\n",
              "      <td>...</td>\n",
              "      <td>...</td>\n",
              "      <td>...</td>\n",
              "      <td>...</td>\n",
              "      <td>...</td>\n",
              "      <td>...</td>\n",
              "      <td>...</td>\n",
              "      <td>...</td>\n",
              "      <td>...</td>\n",
              "      <td>...</td>\n",
              "      <td>...</td>\n",
              "      <td>...</td>\n",
              "    </tr>\n",
              "    <tr>\n",
              "      <th>404</th>\n",
              "      <td>C2586</td>\n",
              "      <td>90.0</td>\n",
              "      <td>108.0</td>\n",
              "      <td>32.40</td>\n",
              "      <td>0.0</td>\n",
              "      <td>8.0</td>\n",
              "      <td>8.0</td>\n",
              "      <td>7.0</td>\n",
              "      <td>9.0</td>\n",
              "      <td>0.0</td>\n",
              "      <td>3.0</td>\n",
              "      <td>66.0</td>\n",
              "      <td>57.0</td>\n",
              "    </tr>\n",
              "    <tr>\n",
              "      <th>405</th>\n",
              "      <td>C2035</td>\n",
              "      <td>492.0</td>\n",
              "      <td>750.0</td>\n",
              "      <td>375.00</td>\n",
              "      <td>0.0</td>\n",
              "      <td>4.0</td>\n",
              "      <td>0.0</td>\n",
              "      <td>24.0</td>\n",
              "      <td>0.0</td>\n",
              "      <td>0.0</td>\n",
              "      <td>1.0</td>\n",
              "      <td>521.0</td>\n",
              "      <td>246.0</td>\n",
              "    </tr>\n",
              "    <tr>\n",
              "      <th>406</th>\n",
              "      <td>C2020</td>\n",
              "      <td>40.0</td>\n",
              "      <td>47.5</td>\n",
              "      <td>19.00</td>\n",
              "      <td>0.0</td>\n",
              "      <td>7.0</td>\n",
              "      <td>8.0</td>\n",
              "      <td>7.0</td>\n",
              "      <td>11.0</td>\n",
              "      <td>1.0</td>\n",
              "      <td>2.0</td>\n",
              "      <td>25.0</td>\n",
              "      <td>19.0</td>\n",
              "    </tr>\n",
              "    <tr>\n",
              "      <th>407</th>\n",
              "      <td>C2437</td>\n",
              "      <td>90.0</td>\n",
              "      <td>90.0</td>\n",
              "      <td>45.00</td>\n",
              "      <td>0.0</td>\n",
              "      <td>10.0</td>\n",
              "      <td>2.0</td>\n",
              "      <td>12.0</td>\n",
              "      <td>2.0</td>\n",
              "      <td>0.0</td>\n",
              "      <td>1.0</td>\n",
              "      <td>30.0</td>\n",
              "      <td>16.0</td>\n",
              "    </tr>\n",
              "    <tr>\n",
              "      <th>408</th>\n",
              "      <td>C2532</td>\n",
              "      <td>239.0</td>\n",
              "      <td>578.5</td>\n",
              "      <td>289.25</td>\n",
              "      <td>0.0</td>\n",
              "      <td>4.0</td>\n",
              "      <td>0.0</td>\n",
              "      <td>7.0</td>\n",
              "      <td>0.0</td>\n",
              "      <td>0.0</td>\n",
              "      <td>1.0</td>\n",
              "      <td>166.0</td>\n",
              "      <td>146.0</td>\n",
              "    </tr>\n",
              "  </tbody>\n",
              "</table>\n",
              "<p>409 rows × 13 columns</p>\n",
              "</div>"
            ],
            "text/plain": [
              "      단지코드    총세대수   총구성원수  등록차량_인구통계  임대건물구분  ...    신분  지하철   버스  단지내주차면수   등록차량수\n",
              "0    C2515   545.0  1018.0     509.00     0.0  ...   0.0  0.0  3.0    624.0   205.0\n",
              "1    C1407  1216.0  2299.0     919.60     0.0  ...   0.0  1.0  1.0   1285.0  1064.0\n",
              "2    C1945   755.0  1979.5     989.75     0.0  ...   1.0  1.0  3.0    734.0   730.0\n",
              "3    C1470   696.0  1388.0     832.80     0.0  ...   0.0  0.0  2.0    645.0   553.0\n",
              "4    C1898   566.0  1039.5     623.70     0.0  ...   0.0  0.0  6.0    517.0   415.0\n",
              "..     ...     ...     ...        ...     ...  ...   ...  ...  ...      ...     ...\n",
              "404  C2586    90.0   108.0      32.40     0.0  ...   9.0  0.0  3.0     66.0    57.0\n",
              "405  C2035   492.0   750.0     375.00     0.0  ...   0.0  0.0  1.0    521.0   246.0\n",
              "406  C2020    40.0    47.5      19.00     0.0  ...  11.0  1.0  2.0     25.0    19.0\n",
              "407  C2437    90.0    90.0      45.00     0.0  ...   2.0  0.0  1.0     30.0    16.0\n",
              "408  C2532   239.0   578.5     289.25     0.0  ...   0.0  0.0  1.0    166.0   146.0\n",
              "\n",
              "[409 rows x 13 columns]"
            ]
          },
          "metadata": {
            "tags": []
          },
          "execution_count": 390
        }
      ]
    },
    {
      "cell_type": "code",
      "metadata": {
        "colab": {
          "base_uri": "https://localhost:8080/",
          "height": 419
        },
        "id": "SdTi2KRa0yVV",
        "outputId": "c2e29ff3-c9b0-42f5-eba5-543d6c86df79"
      },
      "source": [
        "new_test"
      ],
      "execution_count": 391,
      "outputs": [
        {
          "output_type": "execute_result",
          "data": {
            "text/html": [
              "<div>\n",
              "<style scoped>\n",
              "    .dataframe tbody tr th:only-of-type {\n",
              "        vertical-align: middle;\n",
              "    }\n",
              "\n",
              "    .dataframe tbody tr th {\n",
              "        vertical-align: top;\n",
              "    }\n",
              "\n",
              "    .dataframe thead th {\n",
              "        text-align: right;\n",
              "    }\n",
              "</style>\n",
              "<table border=\"1\" class=\"dataframe\">\n",
              "  <thead>\n",
              "    <tr style=\"text-align: right;\">\n",
              "      <th></th>\n",
              "      <th>단지코드</th>\n",
              "      <th>총세대수</th>\n",
              "      <th>총구성원수</th>\n",
              "      <th>등록차량_인구통계</th>\n",
              "      <th>임대건물구분</th>\n",
              "      <th>지역</th>\n",
              "      <th>공급유형</th>\n",
              "      <th>공가수</th>\n",
              "      <th>신분</th>\n",
              "      <th>지하철</th>\n",
              "      <th>버스</th>\n",
              "      <th>단지내주차면수</th>\n",
              "    </tr>\n",
              "  </thead>\n",
              "  <tbody>\n",
              "    <tr>\n",
              "      <th>0</th>\n",
              "      <td>C1072</td>\n",
              "      <td>754.0</td>\n",
              "      <td>1696.0</td>\n",
              "      <td>848.00</td>\n",
              "      <td>0.0</td>\n",
              "      <td>2.0</td>\n",
              "      <td>0.0</td>\n",
              "      <td>14.0</td>\n",
              "      <td>7.0</td>\n",
              "      <td>0.0</td>\n",
              "      <td>2.0</td>\n",
              "      <td>683.0</td>\n",
              "    </tr>\n",
              "    <tr>\n",
              "      <th>1</th>\n",
              "      <td>C1128</td>\n",
              "      <td>1354.0</td>\n",
              "      <td>2997.0</td>\n",
              "      <td>1498.50</td>\n",
              "      <td>0.0</td>\n",
              "      <td>2.0</td>\n",
              "      <td>0.0</td>\n",
              "      <td>9.0</td>\n",
              "      <td>7.0</td>\n",
              "      <td>0.0</td>\n",
              "      <td>3.0</td>\n",
              "      <td>1216.0</td>\n",
              "    </tr>\n",
              "    <tr>\n",
              "      <th>2</th>\n",
              "      <td>C1456</td>\n",
              "      <td>619.0</td>\n",
              "      <td>1329.0</td>\n",
              "      <td>531.60</td>\n",
              "      <td>0.0</td>\n",
              "      <td>7.0</td>\n",
              "      <td>0.0</td>\n",
              "      <td>18.0</td>\n",
              "      <td>0.0</td>\n",
              "      <td>0.0</td>\n",
              "      <td>16.0</td>\n",
              "      <td>547.0</td>\n",
              "    </tr>\n",
              "    <tr>\n",
              "      <th>3</th>\n",
              "      <td>C1840</td>\n",
              "      <td>593.0</td>\n",
              "      <td>1228.0</td>\n",
              "      <td>736.80</td>\n",
              "      <td>0.0</td>\n",
              "      <td>3.0</td>\n",
              "      <td>0.0</td>\n",
              "      <td>7.0</td>\n",
              "      <td>0.0</td>\n",
              "      <td>0.0</td>\n",
              "      <td>3.0</td>\n",
              "      <td>543.0</td>\n",
              "    </tr>\n",
              "    <tr>\n",
              "      <th>4</th>\n",
              "      <td>C1332</td>\n",
              "      <td>1297.0</td>\n",
              "      <td>2746.0</td>\n",
              "      <td>1373.00</td>\n",
              "      <td>0.0</td>\n",
              "      <td>2.0</td>\n",
              "      <td>0.0</td>\n",
              "      <td>11.0</td>\n",
              "      <td>7.0</td>\n",
              "      <td>0.0</td>\n",
              "      <td>2.0</td>\n",
              "      <td>1112.0</td>\n",
              "    </tr>\n",
              "    <tr>\n",
              "      <th>...</th>\n",
              "      <td>...</td>\n",
              "      <td>...</td>\n",
              "      <td>...</td>\n",
              "      <td>...</td>\n",
              "      <td>...</td>\n",
              "      <td>...</td>\n",
              "      <td>...</td>\n",
              "      <td>...</td>\n",
              "      <td>...</td>\n",
              "      <td>...</td>\n",
              "      <td>...</td>\n",
              "      <td>...</td>\n",
              "    </tr>\n",
              "    <tr>\n",
              "      <th>145</th>\n",
              "      <td>C2456</td>\n",
              "      <td>349.0</td>\n",
              "      <td>514.5</td>\n",
              "      <td>154.35</td>\n",
              "      <td>0.0</td>\n",
              "      <td>8.0</td>\n",
              "      <td>0.0</td>\n",
              "      <td>17.0</td>\n",
              "      <td>7.0</td>\n",
              "      <td>0.0</td>\n",
              "      <td>4.0</td>\n",
              "      <td>270.0</td>\n",
              "    </tr>\n",
              "    <tr>\n",
              "      <th>146</th>\n",
              "      <td>C1266</td>\n",
              "      <td>596.0</td>\n",
              "      <td>856.0</td>\n",
              "      <td>428.00</td>\n",
              "      <td>0.0</td>\n",
              "      <td>10.0</td>\n",
              "      <td>0.0</td>\n",
              "      <td>35.0</td>\n",
              "      <td>7.0</td>\n",
              "      <td>0.0</td>\n",
              "      <td>1.0</td>\n",
              "      <td>593.0</td>\n",
              "    </tr>\n",
              "    <tr>\n",
              "      <th>147</th>\n",
              "      <td>C2152</td>\n",
              "      <td>120.0</td>\n",
              "      <td>147.0</td>\n",
              "      <td>73.50</td>\n",
              "      <td>0.0</td>\n",
              "      <td>4.0</td>\n",
              "      <td>2.0</td>\n",
              "      <td>9.0</td>\n",
              "      <td>2.0</td>\n",
              "      <td>0.0</td>\n",
              "      <td>1.0</td>\n",
              "      <td>40.0</td>\n",
              "    </tr>\n",
              "    <tr>\n",
              "      <th>148</th>\n",
              "      <td>C1267</td>\n",
              "      <td>675.0</td>\n",
              "      <td>920.0</td>\n",
              "      <td>460.00</td>\n",
              "      <td>0.0</td>\n",
              "      <td>0.0</td>\n",
              "      <td>0.0</td>\n",
              "      <td>38.0</td>\n",
              "      <td>7.0</td>\n",
              "      <td>0.0</td>\n",
              "      <td>1.0</td>\n",
              "      <td>467.0</td>\n",
              "    </tr>\n",
              "    <tr>\n",
              "      <th>149</th>\n",
              "      <td>C2189</td>\n",
              "      <td>382.0</td>\n",
              "      <td>646.0</td>\n",
              "      <td>387.60</td>\n",
              "      <td>0.0</td>\n",
              "      <td>3.0</td>\n",
              "      <td>0.0</td>\n",
              "      <td>45.0</td>\n",
              "      <td>7.0</td>\n",
              "      <td>0.0</td>\n",
              "      <td>2.0</td>\n",
              "      <td>300.0</td>\n",
              "    </tr>\n",
              "  </tbody>\n",
              "</table>\n",
              "<p>150 rows × 12 columns</p>\n",
              "</div>"
            ],
            "text/plain": [
              "      단지코드    총세대수   총구성원수  등록차량_인구통계  임대건물구분  ...   공가수   신분  지하철    버스  단지내주차면수\n",
              "0    C1072   754.0  1696.0     848.00     0.0  ...  14.0  7.0  0.0   2.0    683.0\n",
              "1    C1128  1354.0  2997.0    1498.50     0.0  ...   9.0  7.0  0.0   3.0   1216.0\n",
              "2    C1456   619.0  1329.0     531.60     0.0  ...  18.0  0.0  0.0  16.0    547.0\n",
              "3    C1840   593.0  1228.0     736.80     0.0  ...   7.0  0.0  0.0   3.0    543.0\n",
              "4    C1332  1297.0  2746.0    1373.00     0.0  ...  11.0  7.0  0.0   2.0   1112.0\n",
              "..     ...     ...     ...        ...     ...  ...   ...  ...  ...   ...      ...\n",
              "145  C2456   349.0   514.5     154.35     0.0  ...  17.0  7.0  0.0   4.0    270.0\n",
              "146  C1266   596.0   856.0     428.00     0.0  ...  35.0  7.0  0.0   1.0    593.0\n",
              "147  C2152   120.0   147.0      73.50     0.0  ...   9.0  2.0  0.0   1.0     40.0\n",
              "148  C1267   675.0   920.0     460.00     0.0  ...  38.0  7.0  0.0   1.0    467.0\n",
              "149  C2189   382.0   646.0     387.60     0.0  ...  45.0  7.0  0.0   2.0    300.0\n",
              "\n",
              "[150 rows x 12 columns]"
            ]
          },
          "metadata": {
            "tags": []
          },
          "execution_count": 391
        }
      ]
    },
    {
      "cell_type": "markdown",
      "metadata": {
        "id": "NI_8v_JFwELC"
      },
      "source": [
        "### **학습 및 추론**\n",
        "--- \n"
      ]
    },
    {
      "cell_type": "code",
      "metadata": {
        "id": "JOLaWNjJPy55"
      },
      "source": [
        "X_train = new_train.iloc[:, 1:-1]\n",
        "Y_train = new_train.iloc[:,-1]\n",
        "x_test = new_test.iloc[:,1:]"
      ],
      "execution_count": 392,
      "outputs": []
    },
    {
      "cell_type": "code",
      "metadata": {
        "id": "nkRBZXezf6V3"
      },
      "source": [
        "from sklearn.model_selection import train_test_split\n",
        "x_train, x_valid, y_train, y_valid = train_test_split(X_train, Y_train, test_size=0.2, \n",
        "                                                      random_state=seed, shuffle=True)"
      ],
      "execution_count": 393,
      "outputs": []
    },
    {
      "cell_type": "code",
      "metadata": {
        "id": "P_w6LLAPjrKD",
        "colab": {
          "base_uri": "https://localhost:8080/"
        },
        "outputId": "c77170e5-410b-4e3b-f220-c3a673073e60"
      },
      "source": [
        "from catboost import CatBoostRegressor\n",
        "cat = CatBoostRegressor(\n",
        "        loss_function='MAE',\n",
        "        n_estimators=500, \n",
        "        learning_rate=0.05, \n",
        "        random_state=seed     \n",
        "    )\n",
        "cat.fit(x_train, y_train, eval_set=(x_valid, y_valid), use_best_model=True)"
      ],
      "execution_count": 394,
      "outputs": [
        {
          "output_type": "stream",
          "text": [
            "0:\tlearn: 280.6574912\ttest: 262.3749989\tbest: 262.3749989 (0)\ttotal: 3.06ms\tremaining: 1.53s\n",
            "1:\tlearn: 271.8593794\ttest: 254.7667670\tbest: 254.7667670 (1)\ttotal: 5.46ms\tremaining: 1.36s\n",
            "2:\tlearn: 263.9321885\ttest: 247.4373476\tbest: 247.4373476 (2)\ttotal: 7.78ms\tremaining: 1.29s\n",
            "3:\tlearn: 256.4288575\ttest: 241.6479877\tbest: 241.6479877 (3)\ttotal: 10.7ms\tremaining: 1.33s\n",
            "4:\tlearn: 248.8239356\ttest: 235.2344349\tbest: 235.2344349 (4)\ttotal: 12.6ms\tremaining: 1.25s\n",
            "5:\tlearn: 242.2822311\ttest: 230.2432606\tbest: 230.2432606 (5)\ttotal: 14.6ms\tremaining: 1.2s\n",
            "6:\tlearn: 234.7662444\ttest: 224.4018188\tbest: 224.4018188 (6)\ttotal: 16.6ms\tremaining: 1.17s\n",
            "7:\tlearn: 229.0927441\ttest: 219.5809901\tbest: 219.5809901 (7)\ttotal: 18.5ms\tremaining: 1.14s\n",
            "8:\tlearn: 222.7643974\ttest: 213.9446120\tbest: 213.9446120 (8)\ttotal: 20.3ms\tremaining: 1.11s\n",
            "9:\tlearn: 215.6905535\ttest: 206.9621066\tbest: 206.9621066 (9)\ttotal: 22.5ms\tremaining: 1.1s\n",
            "10:\tlearn: 211.0942789\ttest: 203.3239705\tbest: 203.3239705 (10)\ttotal: 24.3ms\tremaining: 1.08s\n",
            "11:\tlearn: 206.2244748\ttest: 200.0152050\tbest: 200.0152050 (11)\ttotal: 26.2ms\tremaining: 1.06s\n",
            "12:\tlearn: 200.9258541\ttest: 195.9463066\tbest: 195.9463066 (12)\ttotal: 28.2ms\tremaining: 1.06s\n",
            "13:\tlearn: 196.6088577\ttest: 192.7675299\tbest: 192.7675299 (13)\ttotal: 30.1ms\tremaining: 1.04s\n",
            "14:\tlearn: 191.8713011\ttest: 188.3682210\tbest: 188.3682210 (14)\ttotal: 31.8ms\tremaining: 1.03s\n",
            "15:\tlearn: 188.1811383\ttest: 185.1779441\tbest: 185.1779441 (15)\ttotal: 33.4ms\tremaining: 1.01s\n",
            "16:\tlearn: 184.3096889\ttest: 182.0596501\tbest: 182.0596501 (16)\ttotal: 35.5ms\tremaining: 1.01s\n",
            "17:\tlearn: 180.4865864\ttest: 178.9213235\tbest: 178.9213235 (17)\ttotal: 37.3ms\tremaining: 998ms\n",
            "18:\tlearn: 176.6165588\ttest: 175.4221522\tbest: 175.4221522 (18)\ttotal: 39.1ms\tremaining: 991ms\n",
            "19:\tlearn: 173.7004202\ttest: 173.1610247\tbest: 173.1610247 (19)\ttotal: 40.9ms\tremaining: 982ms\n",
            "20:\tlearn: 169.9528619\ttest: 170.2559790\tbest: 170.2559790 (20)\ttotal: 42.9ms\tremaining: 979ms\n",
            "21:\tlearn: 166.7949707\ttest: 168.6294271\tbest: 168.6294271 (21)\ttotal: 44.7ms\tremaining: 971ms\n",
            "22:\tlearn: 163.4188998\ttest: 166.2251331\tbest: 166.2251331 (22)\ttotal: 46.5ms\tremaining: 964ms\n",
            "23:\tlearn: 159.8783005\ttest: 163.0516087\tbest: 163.0516087 (23)\ttotal: 48.3ms\tremaining: 957ms\n",
            "24:\tlearn: 157.9268339\ttest: 162.6637511\tbest: 162.6637511 (24)\ttotal: 50ms\tremaining: 950ms\n",
            "25:\tlearn: 154.9459679\ttest: 160.2674679\tbest: 160.2674679 (25)\ttotal: 51.8ms\tremaining: 944ms\n",
            "26:\tlearn: 151.8341690\ttest: 157.6806801\tbest: 157.6806801 (26)\ttotal: 54ms\tremaining: 946ms\n",
            "27:\tlearn: 149.9140384\ttest: 156.6182145\tbest: 156.6182145 (27)\ttotal: 56ms\tremaining: 944ms\n",
            "28:\tlearn: 148.4478770\ttest: 155.4501393\tbest: 155.4501393 (28)\ttotal: 57.8ms\tremaining: 939ms\n",
            "29:\tlearn: 145.7212208\ttest: 153.1090971\tbest: 153.1090971 (29)\ttotal: 59.6ms\tremaining: 935ms\n",
            "30:\tlearn: 143.1635624\ttest: 151.0514294\tbest: 151.0514294 (30)\ttotal: 61.4ms\tremaining: 929ms\n",
            "31:\tlearn: 141.1579185\ttest: 149.4810492\tbest: 149.4810492 (31)\ttotal: 63.1ms\tremaining: 923ms\n",
            "32:\tlearn: 138.8008804\ttest: 147.5266144\tbest: 147.5266144 (32)\ttotal: 64.9ms\tremaining: 918ms\n",
            "33:\tlearn: 137.7070337\ttest: 146.4220799\tbest: 146.4220799 (33)\ttotal: 66.6ms\tremaining: 913ms\n",
            "34:\tlearn: 136.2161060\ttest: 145.7870014\tbest: 145.7870014 (34)\ttotal: 68.4ms\tremaining: 908ms\n",
            "35:\tlearn: 134.4956619\ttest: 144.7549014\tbest: 144.7549014 (35)\ttotal: 70ms\tremaining: 902ms\n",
            "36:\tlearn: 132.6946158\ttest: 143.1408682\tbest: 143.1408682 (36)\ttotal: 71.9ms\tremaining: 899ms\n",
            "37:\tlearn: 131.2289302\ttest: 142.2871344\tbest: 142.2871344 (37)\ttotal: 73.8ms\tremaining: 898ms\n",
            "38:\tlearn: 129.6081819\ttest: 141.0975282\tbest: 141.0975282 (38)\ttotal: 75.7ms\tremaining: 894ms\n",
            "39:\tlearn: 128.9572029\ttest: 140.6231423\tbest: 140.6231423 (39)\ttotal: 77.4ms\tremaining: 890ms\n",
            "40:\tlearn: 127.4046021\ttest: 139.0801377\tbest: 139.0801377 (40)\ttotal: 79.1ms\tremaining: 886ms\n",
            "41:\tlearn: 125.9234885\ttest: 136.9082082\tbest: 136.9082082 (41)\ttotal: 80.9ms\tremaining: 882ms\n",
            "42:\tlearn: 125.1692889\ttest: 135.9181488\tbest: 135.9181488 (42)\ttotal: 82.6ms\tremaining: 878ms\n",
            "43:\tlearn: 124.8472239\ttest: 135.8198034\tbest: 135.8198034 (43)\ttotal: 83.8ms\tremaining: 869ms\n",
            "44:\tlearn: 123.3078471\ttest: 134.6289344\tbest: 134.6289344 (44)\ttotal: 85.8ms\tremaining: 867ms\n",
            "45:\tlearn: 122.3617658\ttest: 133.2816624\tbest: 133.2816624 (45)\ttotal: 87.8ms\tremaining: 866ms\n",
            "46:\tlearn: 121.5945639\ttest: 132.7685055\tbest: 132.7685055 (46)\ttotal: 89.4ms\tremaining: 861ms\n",
            "47:\tlearn: 120.4063429\ttest: 131.7226794\tbest: 131.7226794 (47)\ttotal: 91.3ms\tremaining: 860ms\n",
            "48:\tlearn: 119.6571090\ttest: 130.8557734\tbest: 130.8557734 (48)\ttotal: 93.2ms\tremaining: 858ms\n",
            "49:\tlearn: 118.3336162\ttest: 130.7579912\tbest: 130.7579912 (49)\ttotal: 95ms\tremaining: 855ms\n",
            "50:\tlearn: 117.2620686\ttest: 129.5640720\tbest: 129.5640720 (50)\ttotal: 96.8ms\tremaining: 853ms\n",
            "51:\tlearn: 116.0963360\ttest: 127.8737751\tbest: 127.8737751 (51)\ttotal: 98.6ms\tremaining: 850ms\n",
            "52:\tlearn: 114.7888837\ttest: 126.3309020\tbest: 126.3309020 (52)\ttotal: 100ms\tremaining: 847ms\n",
            "53:\tlearn: 114.3517361\ttest: 125.6567515\tbest: 125.6567515 (53)\ttotal: 102ms\tremaining: 844ms\n",
            "54:\tlearn: 113.5465985\ttest: 124.6685156\tbest: 124.6685156 (54)\ttotal: 104ms\tremaining: 841ms\n",
            "55:\tlearn: 112.7780052\ttest: 123.8278753\tbest: 123.8278753 (55)\ttotal: 106ms\tremaining: 837ms\n",
            "56:\tlearn: 112.1563022\ttest: 123.4302854\tbest: 123.4302854 (56)\ttotal: 107ms\tremaining: 835ms\n",
            "57:\tlearn: 111.0949962\ttest: 122.4006033\tbest: 122.4006033 (57)\ttotal: 109ms\tremaining: 831ms\n",
            "58:\tlearn: 109.8080812\ttest: 121.3707873\tbest: 121.3707873 (58)\ttotal: 111ms\tremaining: 828ms\n",
            "59:\tlearn: 108.9982182\ttest: 120.6749792\tbest: 120.6749792 (59)\ttotal: 113ms\tremaining: 826ms\n",
            "60:\tlearn: 108.3000367\ttest: 119.9749185\tbest: 119.9749185 (60)\ttotal: 115ms\tremaining: 824ms\n",
            "61:\tlearn: 107.6800899\ttest: 119.0778015\tbest: 119.0778015 (61)\ttotal: 116ms\tremaining: 820ms\n",
            "62:\tlearn: 107.1685764\ttest: 118.7356667\tbest: 118.7356667 (62)\ttotal: 118ms\tremaining: 818ms\n",
            "63:\tlearn: 106.8136456\ttest: 118.4152266\tbest: 118.4152266 (63)\ttotal: 120ms\tremaining: 816ms\n",
            "64:\tlearn: 106.1955532\ttest: 117.8057230\tbest: 117.8057230 (64)\ttotal: 122ms\tremaining: 814ms\n",
            "65:\tlearn: 105.3687252\ttest: 116.9443414\tbest: 116.9443414 (65)\ttotal: 126ms\tremaining: 830ms\n",
            "66:\tlearn: 104.8337300\ttest: 116.4967080\tbest: 116.4967080 (66)\ttotal: 130ms\tremaining: 838ms\n",
            "67:\tlearn: 103.9878896\ttest: 116.1061546\tbest: 116.1061546 (67)\ttotal: 131ms\tremaining: 834ms\n",
            "68:\tlearn: 103.4392633\ttest: 115.5100332\tbest: 115.5100332 (68)\ttotal: 133ms\tremaining: 829ms\n",
            "69:\tlearn: 102.6156274\ttest: 114.8895040\tbest: 114.8895040 (69)\ttotal: 134ms\tremaining: 824ms\n",
            "70:\tlearn: 101.9578176\ttest: 114.4166453\tbest: 114.4166453 (70)\ttotal: 136ms\tremaining: 820ms\n",
            "71:\tlearn: 101.6694784\ttest: 114.1363635\tbest: 114.1363635 (71)\ttotal: 137ms\tremaining: 816ms\n",
            "72:\tlearn: 101.0455355\ttest: 114.0595290\tbest: 114.0595290 (72)\ttotal: 139ms\tremaining: 813ms\n",
            "73:\tlearn: 100.4585482\ttest: 113.4624534\tbest: 113.4624534 (73)\ttotal: 141ms\tremaining: 811ms\n",
            "74:\tlearn: 99.6482399\ttest: 112.5307631\tbest: 112.5307631 (74)\ttotal: 143ms\tremaining: 810ms\n",
            "75:\tlearn: 99.3153948\ttest: 112.1822711\tbest: 112.1822711 (75)\ttotal: 145ms\tremaining: 807ms\n",
            "76:\tlearn: 99.0943035\ttest: 112.0376152\tbest: 112.0376152 (76)\ttotal: 147ms\tremaining: 806ms\n",
            "77:\tlearn: 98.6315513\ttest: 111.4637983\tbest: 111.4637983 (77)\ttotal: 149ms\tremaining: 804ms\n",
            "78:\tlearn: 98.4545251\ttest: 111.3485546\tbest: 111.3485546 (78)\ttotal: 150ms\tremaining: 800ms\n",
            "79:\tlearn: 97.6676097\ttest: 111.0173334\tbest: 111.0173334 (79)\ttotal: 152ms\tremaining: 798ms\n",
            "80:\tlearn: 97.4939893\ttest: 110.8925141\tbest: 110.8925141 (80)\ttotal: 154ms\tremaining: 796ms\n",
            "81:\tlearn: 97.0017923\ttest: 110.1885318\tbest: 110.1885318 (81)\ttotal: 156ms\tremaining: 793ms\n",
            "82:\tlearn: 96.6617785\ttest: 109.9540787\tbest: 109.9540787 (82)\ttotal: 157ms\tremaining: 790ms\n",
            "83:\tlearn: 96.2510630\ttest: 109.6671077\tbest: 109.6671077 (83)\ttotal: 159ms\tremaining: 788ms\n",
            "84:\tlearn: 95.7271414\ttest: 109.2593057\tbest: 109.2593057 (84)\ttotal: 161ms\tremaining: 788ms\n",
            "85:\tlearn: 95.1110522\ttest: 108.8967857\tbest: 108.8967857 (85)\ttotal: 163ms\tremaining: 787ms\n",
            "86:\tlearn: 94.5093588\ttest: 108.6673635\tbest: 108.6673635 (86)\ttotal: 165ms\tremaining: 785ms\n",
            "87:\tlearn: 93.7867467\ttest: 108.3050436\tbest: 108.3050436 (87)\ttotal: 167ms\tremaining: 782ms\n",
            "88:\tlearn: 93.6118454\ttest: 108.2146520\tbest: 108.2146520 (88)\ttotal: 169ms\tremaining: 780ms\n",
            "89:\tlearn: 92.8161344\ttest: 107.9056049\tbest: 107.9056049 (89)\ttotal: 171ms\tremaining: 777ms\n",
            "90:\tlearn: 92.5476927\ttest: 107.8897336\tbest: 107.8897336 (90)\ttotal: 172ms\tremaining: 774ms\n",
            "91:\tlearn: 92.4444661\ttest: 107.8188163\tbest: 107.8188163 (91)\ttotal: 174ms\tremaining: 771ms\n",
            "92:\tlearn: 91.9018306\ttest: 107.5048247\tbest: 107.5048247 (92)\ttotal: 176ms\tremaining: 768ms\n",
            "93:\tlearn: 91.6570759\ttest: 107.5348555\tbest: 107.5048247 (92)\ttotal: 177ms\tremaining: 767ms\n",
            "94:\tlearn: 91.0836781\ttest: 107.0258287\tbest: 107.0258287 (94)\ttotal: 180ms\tremaining: 766ms\n",
            "95:\tlearn: 90.8160978\ttest: 106.9202602\tbest: 106.9202602 (95)\ttotal: 182ms\tremaining: 764ms\n",
            "96:\tlearn: 89.8987026\ttest: 106.7312951\tbest: 106.7312951 (96)\ttotal: 183ms\tremaining: 762ms\n",
            "97:\tlearn: 89.6956391\ttest: 106.5158996\tbest: 106.5158996 (97)\ttotal: 185ms\tremaining: 760ms\n",
            "98:\tlearn: 89.1961286\ttest: 106.3008630\tbest: 106.3008630 (98)\ttotal: 187ms\tremaining: 757ms\n",
            "99:\tlearn: 88.9236752\ttest: 106.1259673\tbest: 106.1259673 (99)\ttotal: 192ms\tremaining: 768ms\n",
            "100:\tlearn: 88.2959002\ttest: 105.7121296\tbest: 105.7121296 (100)\ttotal: 195ms\tremaining: 769ms\n",
            "101:\tlearn: 88.0724839\ttest: 105.3036187\tbest: 105.3036187 (101)\ttotal: 200ms\tremaining: 781ms\n",
            "102:\tlearn: 87.8807364\ttest: 105.5276905\tbest: 105.3036187 (101)\ttotal: 204ms\tremaining: 786ms\n",
            "103:\tlearn: 87.4346498\ttest: 105.4852240\tbest: 105.3036187 (101)\ttotal: 206ms\tremaining: 784ms\n",
            "104:\tlearn: 87.3085673\ttest: 105.5018556\tbest: 105.3036187 (101)\ttotal: 208ms\tremaining: 781ms\n",
            "105:\tlearn: 87.1121975\ttest: 105.5355970\tbest: 105.3036187 (101)\ttotal: 209ms\tremaining: 778ms\n",
            "106:\tlearn: 86.6284926\ttest: 105.1034672\tbest: 105.1034672 (106)\ttotal: 211ms\tremaining: 776ms\n",
            "107:\tlearn: 86.5262011\ttest: 104.9330113\tbest: 104.9330113 (107)\ttotal: 213ms\tremaining: 773ms\n",
            "108:\tlearn: 86.3386454\ttest: 104.7772035\tbest: 104.7772035 (108)\ttotal: 215ms\tremaining: 770ms\n",
            "109:\tlearn: 86.1099189\ttest: 104.7638751\tbest: 104.7638751 (109)\ttotal: 216ms\tremaining: 767ms\n",
            "110:\tlearn: 85.9326805\ttest: 104.6516824\tbest: 104.6516824 (110)\ttotal: 218ms\tremaining: 764ms\n",
            "111:\tlearn: 85.6009435\ttest: 104.8372265\tbest: 104.6516824 (110)\ttotal: 220ms\tremaining: 761ms\n",
            "112:\tlearn: 85.0263240\ttest: 104.8680934\tbest: 104.6516824 (110)\ttotal: 221ms\tremaining: 759ms\n",
            "113:\tlearn: 84.4266142\ttest: 104.8181706\tbest: 104.6516824 (110)\ttotal: 223ms\tremaining: 756ms\n",
            "114:\tlearn: 83.9640585\ttest: 104.8622014\tbest: 104.6516824 (110)\ttotal: 225ms\tremaining: 753ms\n",
            "115:\tlearn: 83.6161880\ttest: 105.0112531\tbest: 104.6516824 (110)\ttotal: 227ms\tremaining: 750ms\n",
            "116:\tlearn: 83.1383895\ttest: 104.9153197\tbest: 104.6516824 (110)\ttotal: 229ms\tremaining: 748ms\n",
            "117:\tlearn: 83.0451989\ttest: 104.9425632\tbest: 104.6516824 (110)\ttotal: 230ms\tremaining: 746ms\n",
            "118:\tlearn: 82.7676821\ttest: 104.9121116\tbest: 104.6516824 (110)\ttotal: 232ms\tremaining: 743ms\n",
            "119:\tlearn: 82.5998850\ttest: 104.8476351\tbest: 104.6516824 (110)\ttotal: 234ms\tremaining: 740ms\n",
            "120:\tlearn: 82.3702791\ttest: 104.8113429\tbest: 104.6516824 (110)\ttotal: 235ms\tremaining: 737ms\n",
            "121:\tlearn: 82.0325510\ttest: 104.4338956\tbest: 104.4338956 (121)\ttotal: 237ms\tremaining: 735ms\n",
            "122:\tlearn: 81.8260240\ttest: 104.2460352\tbest: 104.2460352 (122)\ttotal: 239ms\tremaining: 732ms\n",
            "123:\tlearn: 81.4437861\ttest: 103.8095528\tbest: 103.8095528 (123)\ttotal: 241ms\tremaining: 730ms\n",
            "124:\tlearn: 80.9524845\ttest: 103.5445806\tbest: 103.5445806 (124)\ttotal: 242ms\tremaining: 727ms\n",
            "125:\tlearn: 80.5841486\ttest: 104.0081424\tbest: 103.5445806 (124)\ttotal: 244ms\tremaining: 725ms\n",
            "126:\tlearn: 80.4059336\ttest: 104.1294134\tbest: 103.5445806 (124)\ttotal: 246ms\tremaining: 722ms\n",
            "127:\tlearn: 79.7062332\ttest: 103.7625970\tbest: 103.5445806 (124)\ttotal: 248ms\tremaining: 720ms\n",
            "128:\tlearn: 79.5998652\ttest: 103.7907214\tbest: 103.5445806 (124)\ttotal: 249ms\tremaining: 717ms\n",
            "129:\tlearn: 79.1541064\ttest: 103.6476119\tbest: 103.5445806 (124)\ttotal: 251ms\tremaining: 715ms\n",
            "130:\tlearn: 78.9595588\ttest: 103.5882139\tbest: 103.5445806 (124)\ttotal: 253ms\tremaining: 713ms\n",
            "131:\tlearn: 78.3541412\ttest: 103.8669804\tbest: 103.5445806 (124)\ttotal: 255ms\tremaining: 710ms\n",
            "132:\tlearn: 78.2068876\ttest: 103.7486196\tbest: 103.5445806 (124)\ttotal: 257ms\tremaining: 708ms\n",
            "133:\tlearn: 77.9742698\ttest: 103.5227513\tbest: 103.5227513 (133)\ttotal: 258ms\tremaining: 705ms\n",
            "134:\tlearn: 77.6844556\ttest: 103.7263372\tbest: 103.5227513 (133)\ttotal: 260ms\tremaining: 703ms\n",
            "135:\tlearn: 77.5292639\ttest: 103.7037880\tbest: 103.5227513 (133)\ttotal: 262ms\tremaining: 700ms\n",
            "136:\tlearn: 77.4528365\ttest: 103.7449504\tbest: 103.5227513 (133)\ttotal: 264ms\tremaining: 699ms\n",
            "137:\tlearn: 77.1983185\ttest: 103.7123800\tbest: 103.5227513 (133)\ttotal: 266ms\tremaining: 698ms\n",
            "138:\tlearn: 77.0599938\ttest: 103.5695227\tbest: 103.5227513 (133)\ttotal: 268ms\tremaining: 696ms\n",
            "139:\tlearn: 76.5614085\ttest: 103.3633049\tbest: 103.3633049 (139)\ttotal: 270ms\tremaining: 694ms\n",
            "140:\tlearn: 76.2004869\ttest: 103.4565086\tbest: 103.3633049 (139)\ttotal: 272ms\tremaining: 692ms\n",
            "141:\tlearn: 76.1364561\ttest: 103.4431492\tbest: 103.3633049 (139)\ttotal: 274ms\tremaining: 690ms\n",
            "142:\tlearn: 75.7251862\ttest: 103.1179024\tbest: 103.1179024 (142)\ttotal: 275ms\tremaining: 687ms\n",
            "143:\tlearn: 75.4781871\ttest: 103.0826609\tbest: 103.0826609 (143)\ttotal: 277ms\tremaining: 685ms\n",
            "144:\tlearn: 74.9743154\ttest: 102.6584563\tbest: 102.6584563 (144)\ttotal: 279ms\tremaining: 683ms\n",
            "145:\tlearn: 74.5565881\ttest: 102.4273147\tbest: 102.4273147 (145)\ttotal: 281ms\tremaining: 681ms\n",
            "146:\tlearn: 74.4550595\ttest: 102.4735394\tbest: 102.4273147 (145)\ttotal: 283ms\tremaining: 678ms\n",
            "147:\tlearn: 74.1517585\ttest: 102.3059404\tbest: 102.3059404 (147)\ttotal: 284ms\tremaining: 676ms\n",
            "148:\tlearn: 73.9468993\ttest: 102.2722874\tbest: 102.2722874 (148)\ttotal: 286ms\tremaining: 674ms\n",
            "149:\tlearn: 73.5456933\ttest: 102.3664414\tbest: 102.2722874 (148)\ttotal: 288ms\tremaining: 672ms\n",
            "150:\tlearn: 73.3918320\ttest: 102.2416648\tbest: 102.2416648 (150)\ttotal: 290ms\tremaining: 670ms\n",
            "151:\tlearn: 73.3106789\ttest: 102.1798026\tbest: 102.1798026 (151)\ttotal: 292ms\tremaining: 668ms\n",
            "152:\tlearn: 73.1784443\ttest: 102.3117478\tbest: 102.1798026 (151)\ttotal: 294ms\tremaining: 666ms\n",
            "153:\tlearn: 73.1203557\ttest: 102.3711521\tbest: 102.1798026 (151)\ttotal: 296ms\tremaining: 664ms\n",
            "154:\tlearn: 72.9408730\ttest: 102.5133079\tbest: 102.1798026 (151)\ttotal: 297ms\tremaining: 662ms\n",
            "155:\tlearn: 72.7053947\ttest: 102.4048648\tbest: 102.1798026 (151)\ttotal: 299ms\tremaining: 660ms\n",
            "156:\tlearn: 72.6720161\ttest: 102.3847228\tbest: 102.1798026 (151)\ttotal: 301ms\tremaining: 657ms\n",
            "157:\tlearn: 72.3191508\ttest: 102.2009617\tbest: 102.1798026 (151)\ttotal: 303ms\tremaining: 655ms\n",
            "158:\tlearn: 72.2415377\ttest: 102.2501167\tbest: 102.1798026 (151)\ttotal: 304ms\tremaining: 652ms\n",
            "159:\tlearn: 71.9968798\ttest: 102.2090138\tbest: 102.1798026 (151)\ttotal: 306ms\tremaining: 650ms\n",
            "160:\tlearn: 71.7742419\ttest: 102.2555391\tbest: 102.1798026 (151)\ttotal: 308ms\tremaining: 648ms\n",
            "161:\tlearn: 71.5931450\ttest: 102.2174452\tbest: 102.1798026 (151)\ttotal: 309ms\tremaining: 645ms\n",
            "162:\tlearn: 71.4851066\ttest: 102.1708457\tbest: 102.1708457 (162)\ttotal: 311ms\tremaining: 643ms\n",
            "163:\tlearn: 71.2568290\ttest: 101.9585114\tbest: 101.9585114 (163)\ttotal: 313ms\tremaining: 641ms\n",
            "164:\tlearn: 70.8958730\ttest: 101.8243817\tbest: 101.8243817 (164)\ttotal: 314ms\tremaining: 638ms\n",
            "165:\tlearn: 70.4881562\ttest: 102.1960709\tbest: 101.8243817 (164)\ttotal: 316ms\tremaining: 636ms\n",
            "166:\tlearn: 70.3663520\ttest: 102.0929523\tbest: 101.8243817 (164)\ttotal: 318ms\tremaining: 634ms\n",
            "167:\tlearn: 70.0488980\ttest: 102.0446571\tbest: 101.8243817 (164)\ttotal: 320ms\tremaining: 631ms\n",
            "168:\tlearn: 69.8447187\ttest: 101.9069861\tbest: 101.8243817 (164)\ttotal: 322ms\tremaining: 630ms\n",
            "169:\tlearn: 69.6775578\ttest: 101.7397170\tbest: 101.7397170 (169)\ttotal: 323ms\tremaining: 628ms\n",
            "170:\tlearn: 69.3976409\ttest: 101.7125216\tbest: 101.7125216 (170)\ttotal: 325ms\tremaining: 626ms\n",
            "171:\tlearn: 69.1784438\ttest: 101.7051194\tbest: 101.7051194 (171)\ttotal: 327ms\tremaining: 624ms\n",
            "172:\tlearn: 69.0698420\ttest: 101.7040168\tbest: 101.7040168 (172)\ttotal: 329ms\tremaining: 622ms\n",
            "173:\tlearn: 68.8633389\ttest: 101.9732005\tbest: 101.7040168 (172)\ttotal: 331ms\tremaining: 619ms\n",
            "174:\tlearn: 68.6772304\ttest: 101.9307130\tbest: 101.7040168 (172)\ttotal: 332ms\tremaining: 617ms\n",
            "175:\tlearn: 68.5813357\ttest: 102.0331064\tbest: 101.7040168 (172)\ttotal: 334ms\tremaining: 615ms\n",
            "176:\tlearn: 68.4590420\ttest: 101.9834407\tbest: 101.7040168 (172)\ttotal: 336ms\tremaining: 613ms\n",
            "177:\tlearn: 68.2430151\ttest: 101.6269093\tbest: 101.6269093 (177)\ttotal: 338ms\tremaining: 611ms\n",
            "178:\tlearn: 68.0709166\ttest: 101.7287342\tbest: 101.6269093 (177)\ttotal: 339ms\tremaining: 608ms\n",
            "179:\tlearn: 67.7856906\ttest: 101.8701162\tbest: 101.6269093 (177)\ttotal: 341ms\tremaining: 606ms\n",
            "180:\tlearn: 67.6681179\ttest: 101.8397656\tbest: 101.6269093 (177)\ttotal: 343ms\tremaining: 604ms\n",
            "181:\tlearn: 67.5203102\ttest: 101.9091152\tbest: 101.6269093 (177)\ttotal: 344ms\tremaining: 602ms\n",
            "182:\tlearn: 67.3839208\ttest: 101.8646406\tbest: 101.6269093 (177)\ttotal: 346ms\tremaining: 599ms\n",
            "183:\tlearn: 67.1466213\ttest: 101.7762490\tbest: 101.6269093 (177)\ttotal: 348ms\tremaining: 597ms\n",
            "184:\tlearn: 66.9712606\ttest: 102.0098772\tbest: 101.6269093 (177)\ttotal: 349ms\tremaining: 595ms\n",
            "185:\tlearn: 66.7935666\ttest: 101.8388438\tbest: 101.6269093 (177)\ttotal: 351ms\tremaining: 593ms\n",
            "186:\tlearn: 66.5455461\ttest: 101.8559999\tbest: 101.6269093 (177)\ttotal: 353ms\tremaining: 590ms\n",
            "187:\tlearn: 66.3982392\ttest: 101.9785590\tbest: 101.6269093 (177)\ttotal: 354ms\tremaining: 588ms\n",
            "188:\tlearn: 66.3307174\ttest: 101.9443044\tbest: 101.6269093 (177)\ttotal: 356ms\tremaining: 586ms\n",
            "189:\tlearn: 66.1247938\ttest: 101.8833237\tbest: 101.6269093 (177)\ttotal: 358ms\tremaining: 584ms\n",
            "190:\tlearn: 65.8040385\ttest: 101.9393655\tbest: 101.6269093 (177)\ttotal: 360ms\tremaining: 582ms\n",
            "191:\tlearn: 65.7377457\ttest: 101.9180744\tbest: 101.6269093 (177)\ttotal: 361ms\tremaining: 579ms\n",
            "192:\tlearn: 65.6216610\ttest: 102.0276147\tbest: 101.6269093 (177)\ttotal: 363ms\tremaining: 577ms\n",
            "193:\tlearn: 65.5185186\ttest: 102.0297617\tbest: 101.6269093 (177)\ttotal: 365ms\tremaining: 575ms\n",
            "194:\tlearn: 65.3320395\ttest: 102.0306490\tbest: 101.6269093 (177)\ttotal: 366ms\tremaining: 573ms\n",
            "195:\tlearn: 65.1488419\ttest: 102.0037034\tbest: 101.6269093 (177)\ttotal: 368ms\tremaining: 571ms\n",
            "196:\tlearn: 64.7605664\ttest: 101.5273181\tbest: 101.5273181 (196)\ttotal: 370ms\tremaining: 569ms\n",
            "197:\tlearn: 64.5310802\ttest: 101.4381240\tbest: 101.4381240 (197)\ttotal: 373ms\tremaining: 568ms\n",
            "198:\tlearn: 64.2638254\ttest: 101.3971224\tbest: 101.3971224 (198)\ttotal: 374ms\tremaining: 566ms\n",
            "199:\tlearn: 63.9871336\ttest: 101.5832929\tbest: 101.3971224 (198)\ttotal: 376ms\tremaining: 564ms\n",
            "200:\tlearn: 63.7766137\ttest: 101.4178627\tbest: 101.3971224 (198)\ttotal: 386ms\tremaining: 575ms\n",
            "201:\tlearn: 63.6001634\ttest: 101.2536216\tbest: 101.2536216 (201)\ttotal: 388ms\tremaining: 573ms\n",
            "202:\tlearn: 63.4966845\ttest: 101.2823048\tbest: 101.2536216 (201)\ttotal: 390ms\tremaining: 571ms\n",
            "203:\tlearn: 63.2151747\ttest: 101.2872512\tbest: 101.2536216 (201)\ttotal: 392ms\tremaining: 569ms\n",
            "204:\tlearn: 63.1068416\ttest: 101.0745606\tbest: 101.0745606 (204)\ttotal: 394ms\tremaining: 567ms\n",
            "205:\tlearn: 63.0410901\ttest: 100.9733717\tbest: 100.9733717 (205)\ttotal: 396ms\tremaining: 565ms\n",
            "206:\tlearn: 62.9452457\ttest: 101.0776697\tbest: 100.9733717 (205)\ttotal: 397ms\tremaining: 562ms\n",
            "207:\tlearn: 62.7791218\ttest: 101.1975226\tbest: 100.9733717 (205)\ttotal: 399ms\tremaining: 560ms\n",
            "208:\tlearn: 62.5450325\ttest: 101.1992260\tbest: 100.9733717 (205)\ttotal: 401ms\tremaining: 558ms\n",
            "209:\tlearn: 62.2548761\ttest: 101.4850507\tbest: 100.9733717 (205)\ttotal: 402ms\tremaining: 556ms\n",
            "210:\tlearn: 62.1523164\ttest: 101.6549684\tbest: 100.9733717 (205)\ttotal: 404ms\tremaining: 553ms\n",
            "211:\tlearn: 62.1132583\ttest: 101.6583856\tbest: 100.9733717 (205)\ttotal: 406ms\tremaining: 551ms\n",
            "212:\tlearn: 62.0338139\ttest: 101.6263571\tbest: 100.9733717 (205)\ttotal: 408ms\tremaining: 549ms\n",
            "213:\tlearn: 61.9169997\ttest: 101.5806201\tbest: 100.9733717 (205)\ttotal: 409ms\tremaining: 547ms\n",
            "214:\tlearn: 61.7993101\ttest: 101.4683848\tbest: 100.9733717 (205)\ttotal: 411ms\tremaining: 545ms\n",
            "215:\tlearn: 61.6347877\ttest: 101.3814354\tbest: 100.9733717 (205)\ttotal: 413ms\tremaining: 543ms\n",
            "216:\tlearn: 61.4937767\ttest: 101.2069310\tbest: 100.9733717 (205)\ttotal: 414ms\tremaining: 540ms\n",
            "217:\tlearn: 61.4188856\ttest: 101.2594775\tbest: 100.9733717 (205)\ttotal: 416ms\tremaining: 538ms\n",
            "218:\tlearn: 61.3224090\ttest: 101.2230763\tbest: 100.9733717 (205)\ttotal: 418ms\tremaining: 536ms\n",
            "219:\tlearn: 61.1762950\ttest: 101.1485965\tbest: 100.9733717 (205)\ttotal: 420ms\tremaining: 534ms\n",
            "220:\tlearn: 61.1658246\ttest: 101.1253190\tbest: 100.9733717 (205)\ttotal: 421ms\tremaining: 532ms\n",
            "221:\tlearn: 61.1027850\ttest: 101.0980685\tbest: 100.9733717 (205)\ttotal: 423ms\tremaining: 530ms\n",
            "222:\tlearn: 61.0289266\ttest: 101.0894654\tbest: 100.9733717 (205)\ttotal: 424ms\tremaining: 527ms\n",
            "223:\tlearn: 60.8961000\ttest: 101.1237780\tbest: 100.9733717 (205)\ttotal: 426ms\tremaining: 525ms\n",
            "224:\tlearn: 60.4441981\ttest: 101.1340517\tbest: 100.9733717 (205)\ttotal: 428ms\tremaining: 523ms\n",
            "225:\tlearn: 60.2335367\ttest: 101.2815542\tbest: 100.9733717 (205)\ttotal: 430ms\tremaining: 521ms\n",
            "226:\tlearn: 59.9626135\ttest: 101.2058225\tbest: 100.9733717 (205)\ttotal: 431ms\tremaining: 519ms\n",
            "227:\tlearn: 59.9320852\ttest: 101.2003946\tbest: 100.9733717 (205)\ttotal: 433ms\tremaining: 517ms\n",
            "228:\tlearn: 59.8502160\ttest: 101.1688774\tbest: 100.9733717 (205)\ttotal: 435ms\tremaining: 515ms\n",
            "229:\tlearn: 59.7586294\ttest: 101.0435942\tbest: 100.9733717 (205)\ttotal: 436ms\tremaining: 512ms\n",
            "230:\tlearn: 59.5754889\ttest: 101.3203271\tbest: 100.9733717 (205)\ttotal: 438ms\tremaining: 510ms\n",
            "231:\tlearn: 59.5275834\ttest: 101.3164915\tbest: 100.9733717 (205)\ttotal: 440ms\tremaining: 508ms\n",
            "232:\tlearn: 59.5010176\ttest: 101.2982906\tbest: 100.9733717 (205)\ttotal: 442ms\tremaining: 506ms\n",
            "233:\tlearn: 59.2670682\ttest: 101.2657789\tbest: 100.9733717 (205)\ttotal: 443ms\tremaining: 504ms\n",
            "234:\tlearn: 59.1279432\ttest: 101.2172925\tbest: 100.9733717 (205)\ttotal: 445ms\tremaining: 502ms\n",
            "235:\tlearn: 59.0571465\ttest: 101.2005721\tbest: 100.9733717 (205)\ttotal: 447ms\tremaining: 500ms\n",
            "236:\tlearn: 59.0364105\ttest: 101.1890152\tbest: 100.9733717 (205)\ttotal: 448ms\tremaining: 498ms\n",
            "237:\tlearn: 58.8578441\ttest: 101.0091160\tbest: 100.9733717 (205)\ttotal: 450ms\tremaining: 495ms\n",
            "238:\tlearn: 58.8185489\ttest: 101.0059525\tbest: 100.9733717 (205)\ttotal: 452ms\tremaining: 493ms\n",
            "239:\tlearn: 58.6446904\ttest: 100.8871543\tbest: 100.8871543 (239)\ttotal: 453ms\tremaining: 491ms\n",
            "240:\tlearn: 58.4826018\ttest: 100.7680557\tbest: 100.7680557 (240)\ttotal: 455ms\tremaining: 489ms\n",
            "241:\tlearn: 58.1716546\ttest: 100.5514456\tbest: 100.5514456 (241)\ttotal: 457ms\tremaining: 487ms\n",
            "242:\tlearn: 57.8316815\ttest: 100.5955700\tbest: 100.5514456 (241)\ttotal: 458ms\tremaining: 485ms\n",
            "243:\tlearn: 57.5066013\ttest: 100.5973374\tbest: 100.5514456 (241)\ttotal: 460ms\tremaining: 483ms\n",
            "244:\tlearn: 57.1408357\ttest: 100.6252392\tbest: 100.5514456 (241)\ttotal: 462ms\tremaining: 481ms\n",
            "245:\tlearn: 56.8178407\ttest: 100.3441685\tbest: 100.3441685 (245)\ttotal: 463ms\tremaining: 478ms\n",
            "246:\tlearn: 56.7847587\ttest: 100.3398320\tbest: 100.3398320 (246)\ttotal: 465ms\tremaining: 476ms\n",
            "247:\tlearn: 56.7060800\ttest: 100.3003522\tbest: 100.3003522 (247)\ttotal: 467ms\tremaining: 474ms\n",
            "248:\tlearn: 56.6078473\ttest: 100.2306212\tbest: 100.2306212 (248)\ttotal: 468ms\tremaining: 472ms\n",
            "249:\tlearn: 56.5784010\ttest: 100.2349594\tbest: 100.2306212 (248)\ttotal: 470ms\tremaining: 470ms\n",
            "250:\tlearn: 56.5274479\ttest: 100.2179198\tbest: 100.2179198 (250)\ttotal: 472ms\tremaining: 468ms\n",
            "251:\tlearn: 56.4178695\ttest: 100.2132552\tbest: 100.2132552 (251)\ttotal: 473ms\tremaining: 466ms\n",
            "252:\tlearn: 56.0959553\ttest: 100.3513341\tbest: 100.2132552 (251)\ttotal: 475ms\tremaining: 464ms\n",
            "253:\tlearn: 55.8598766\ttest: 100.4375449\tbest: 100.2132552 (251)\ttotal: 477ms\tremaining: 462ms\n",
            "254:\tlearn: 55.7829737\ttest: 100.4511716\tbest: 100.2132552 (251)\ttotal: 478ms\tremaining: 460ms\n",
            "255:\tlearn: 55.7067334\ttest: 100.4644557\tbest: 100.2132552 (251)\ttotal: 480ms\tremaining: 458ms\n",
            "256:\tlearn: 55.5398924\ttest: 100.4649507\tbest: 100.2132552 (251)\ttotal: 482ms\tremaining: 456ms\n",
            "257:\tlearn: 55.3088159\ttest: 100.3315344\tbest: 100.2132552 (251)\ttotal: 484ms\tremaining: 454ms\n",
            "258:\tlearn: 55.0858364\ttest: 100.3465780\tbest: 100.2132552 (251)\ttotal: 486ms\tremaining: 452ms\n",
            "259:\tlearn: 54.8380825\ttest: 100.3625356\tbest: 100.2132552 (251)\ttotal: 487ms\tremaining: 450ms\n",
            "260:\tlearn: 54.7517408\ttest: 100.2949236\tbest: 100.2132552 (251)\ttotal: 489ms\tremaining: 448ms\n",
            "261:\tlearn: 54.6178434\ttest: 100.3260026\tbest: 100.2132552 (251)\ttotal: 491ms\tremaining: 446ms\n",
            "262:\tlearn: 54.5641280\ttest: 100.3174783\tbest: 100.2132552 (251)\ttotal: 492ms\tremaining: 444ms\n",
            "263:\tlearn: 54.5140420\ttest: 100.2062966\tbest: 100.2062966 (263)\ttotal: 494ms\tremaining: 442ms\n",
            "264:\tlearn: 54.4134792\ttest: 100.1639523\tbest: 100.1639523 (264)\ttotal: 496ms\tremaining: 440ms\n",
            "265:\tlearn: 54.3100714\ttest: 100.1900874\tbest: 100.1639523 (264)\ttotal: 498ms\tremaining: 438ms\n",
            "266:\tlearn: 54.2205805\ttest: 100.1175684\tbest: 100.1175684 (266)\ttotal: 499ms\tremaining: 436ms\n",
            "267:\tlearn: 54.0399632\ttest: 100.1242714\tbest: 100.1175684 (266)\ttotal: 501ms\tremaining: 434ms\n",
            "268:\tlearn: 53.8567139\ttest: 100.1084974\tbest: 100.1084974 (268)\ttotal: 503ms\tremaining: 432ms\n",
            "269:\tlearn: 53.6439109\ttest: 99.8539467\tbest: 99.8539467 (269)\ttotal: 505ms\tremaining: 430ms\n",
            "270:\tlearn: 53.4989076\ttest: 99.8287148\tbest: 99.8287148 (270)\ttotal: 506ms\tremaining: 428ms\n",
            "271:\tlearn: 53.4892142\ttest: 99.8320125\tbest: 99.8287148 (270)\ttotal: 508ms\tremaining: 426ms\n",
            "272:\tlearn: 53.3247303\ttest: 99.6475619\tbest: 99.6475619 (272)\ttotal: 510ms\tremaining: 424ms\n",
            "273:\tlearn: 53.1353383\ttest: 99.5007443\tbest: 99.5007443 (273)\ttotal: 512ms\tremaining: 422ms\n",
            "274:\tlearn: 52.9380720\ttest: 99.5049146\tbest: 99.5007443 (273)\ttotal: 513ms\tremaining: 420ms\n",
            "275:\tlearn: 52.8719354\ttest: 99.4508138\tbest: 99.4508138 (275)\ttotal: 515ms\tremaining: 418ms\n",
            "276:\tlearn: 52.7389844\ttest: 99.4913265\tbest: 99.4508138 (275)\ttotal: 517ms\tremaining: 416ms\n",
            "277:\tlearn: 52.6582659\ttest: 99.4445029\tbest: 99.4445029 (277)\ttotal: 518ms\tremaining: 414ms\n",
            "278:\tlearn: 52.4290566\ttest: 99.4608984\tbest: 99.4445029 (277)\ttotal: 520ms\tremaining: 412ms\n",
            "279:\tlearn: 52.1462363\ttest: 99.4550780\tbest: 99.4445029 (277)\ttotal: 522ms\tremaining: 410ms\n",
            "280:\tlearn: 52.1275511\ttest: 99.4366218\tbest: 99.4366218 (280)\ttotal: 523ms\tremaining: 408ms\n",
            "281:\tlearn: 52.0903705\ttest: 99.4154314\tbest: 99.4154314 (281)\ttotal: 525ms\tremaining: 406ms\n",
            "282:\tlearn: 51.9203405\ttest: 99.8329211\tbest: 99.4154314 (281)\ttotal: 527ms\tremaining: 404ms\n",
            "283:\tlearn: 51.7233557\ttest: 99.8085745\tbest: 99.4154314 (281)\ttotal: 529ms\tremaining: 402ms\n",
            "284:\tlearn: 51.6984727\ttest: 99.8230801\tbest: 99.4154314 (281)\ttotal: 530ms\tremaining: 400ms\n",
            "285:\tlearn: 51.5562278\ttest: 99.7488464\tbest: 99.4154314 (281)\ttotal: 532ms\tremaining: 398ms\n",
            "286:\tlearn: 51.4965391\ttest: 99.7705834\tbest: 99.4154314 (281)\ttotal: 536ms\tremaining: 398ms\n",
            "287:\tlearn: 51.4685890\ttest: 99.7919781\tbest: 99.4154314 (281)\ttotal: 541ms\tremaining: 398ms\n",
            "288:\tlearn: 51.3946203\ttest: 99.7233245\tbest: 99.4154314 (281)\ttotal: 543ms\tremaining: 397ms\n",
            "289:\tlearn: 51.3327105\ttest: 99.6734772\tbest: 99.4154314 (281)\ttotal: 545ms\tremaining: 395ms\n",
            "290:\tlearn: 51.2550397\ttest: 99.6963949\tbest: 99.4154314 (281)\ttotal: 547ms\tremaining: 393ms\n",
            "291:\tlearn: 50.9968633\ttest: 99.6875155\tbest: 99.4154314 (281)\ttotal: 549ms\tremaining: 391ms\n",
            "292:\tlearn: 50.8094702\ttest: 99.5904821\tbest: 99.4154314 (281)\ttotal: 551ms\tremaining: 389ms\n",
            "293:\tlearn: 50.5997833\ttest: 99.3235865\tbest: 99.3235865 (293)\ttotal: 553ms\tremaining: 387ms\n",
            "294:\tlearn: 50.5543462\ttest: 99.2990498\tbest: 99.2990498 (294)\ttotal: 554ms\tremaining: 385ms\n",
            "295:\tlearn: 50.3690207\ttest: 99.2504521\tbest: 99.2504521 (295)\ttotal: 556ms\tremaining: 383ms\n",
            "296:\tlearn: 50.1363972\ttest: 99.2286162\tbest: 99.2286162 (296)\ttotal: 558ms\tremaining: 381ms\n",
            "297:\tlearn: 50.0200189\ttest: 99.2654273\tbest: 99.2286162 (296)\ttotal: 559ms\tremaining: 379ms\n",
            "298:\tlearn: 49.7403958\ttest: 99.3450667\tbest: 99.2286162 (296)\ttotal: 561ms\tremaining: 377ms\n",
            "299:\tlearn: 49.6968900\ttest: 99.3603340\tbest: 99.2286162 (296)\ttotal: 563ms\tremaining: 376ms\n",
            "300:\tlearn: 49.5478853\ttest: 99.2978986\tbest: 99.2286162 (296)\ttotal: 565ms\tremaining: 374ms\n",
            "301:\tlearn: 49.4960313\ttest: 99.3478124\tbest: 99.2286162 (296)\ttotal: 567ms\tremaining: 372ms\n",
            "302:\tlearn: 49.4041936\ttest: 99.3501615\tbest: 99.2286162 (296)\ttotal: 569ms\tremaining: 370ms\n",
            "303:\tlearn: 49.0816323\ttest: 99.0427927\tbest: 99.0427927 (303)\ttotal: 580ms\tremaining: 374ms\n",
            "304:\tlearn: 48.9399314\ttest: 98.9179332\tbest: 98.9179332 (304)\ttotal: 582ms\tremaining: 372ms\n",
            "305:\tlearn: 48.7411186\ttest: 98.8378561\tbest: 98.8378561 (305)\ttotal: 584ms\tremaining: 370ms\n",
            "306:\tlearn: 48.7278928\ttest: 98.8491188\tbest: 98.8378561 (305)\ttotal: 586ms\tremaining: 368ms\n",
            "307:\tlearn: 48.5335441\ttest: 98.8041587\tbest: 98.8041587 (307)\ttotal: 587ms\tremaining: 366ms\n",
            "308:\tlearn: 48.4666578\ttest: 98.7689915\tbest: 98.7689915 (308)\ttotal: 589ms\tremaining: 364ms\n",
            "309:\tlearn: 48.4289157\ttest: 98.8105782\tbest: 98.7689915 (308)\ttotal: 591ms\tremaining: 362ms\n",
            "310:\tlearn: 48.3393008\ttest: 98.7735472\tbest: 98.7689915 (308)\ttotal: 593ms\tremaining: 360ms\n",
            "311:\tlearn: 48.1052961\ttest: 98.6934676\tbest: 98.6934676 (311)\ttotal: 595ms\tremaining: 358ms\n",
            "312:\tlearn: 47.9198761\ttest: 98.5229316\tbest: 98.5229316 (312)\ttotal: 596ms\tremaining: 356ms\n",
            "313:\tlearn: 47.8681234\ttest: 98.6824227\tbest: 98.5229316 (312)\ttotal: 598ms\tremaining: 354ms\n",
            "314:\tlearn: 47.7402905\ttest: 98.6808005\tbest: 98.5229316 (312)\ttotal: 600ms\tremaining: 352ms\n",
            "315:\tlearn: 47.6763521\ttest: 98.8211356\tbest: 98.5229316 (312)\ttotal: 601ms\tremaining: 350ms\n",
            "316:\tlearn: 47.4409180\ttest: 98.8768147\tbest: 98.5229316 (312)\ttotal: 603ms\tremaining: 348ms\n",
            "317:\tlearn: 47.3555744\ttest: 98.8636466\tbest: 98.5229316 (312)\ttotal: 605ms\tremaining: 346ms\n",
            "318:\tlearn: 47.3203796\ttest: 98.8730271\tbest: 98.5229316 (312)\ttotal: 606ms\tremaining: 344ms\n",
            "319:\tlearn: 47.2341936\ttest: 98.9187533\tbest: 98.5229316 (312)\ttotal: 608ms\tremaining: 342ms\n",
            "320:\tlearn: 47.1198358\ttest: 98.8943137\tbest: 98.5229316 (312)\ttotal: 610ms\tremaining: 340ms\n",
            "321:\tlearn: 46.9123248\ttest: 98.8580556\tbest: 98.5229316 (312)\ttotal: 611ms\tremaining: 338ms\n",
            "322:\tlearn: 46.8391221\ttest: 98.8949649\tbest: 98.5229316 (312)\ttotal: 613ms\tremaining: 336ms\n",
            "323:\tlearn: 46.6882151\ttest: 98.7959069\tbest: 98.5229316 (312)\ttotal: 615ms\tremaining: 334ms\n",
            "324:\tlearn: 46.5755513\ttest: 98.7753063\tbest: 98.5229316 (312)\ttotal: 617ms\tremaining: 332ms\n",
            "325:\tlearn: 46.3685704\ttest: 98.6158986\tbest: 98.5229316 (312)\ttotal: 618ms\tremaining: 330ms\n",
            "326:\tlearn: 46.2718614\ttest: 98.6554749\tbest: 98.5229316 (312)\ttotal: 620ms\tremaining: 328ms\n",
            "327:\tlearn: 46.2221041\ttest: 98.6440873\tbest: 98.5229316 (312)\ttotal: 622ms\tremaining: 326ms\n",
            "328:\tlearn: 46.0871930\ttest: 98.5372488\tbest: 98.5229316 (312)\ttotal: 623ms\tremaining: 324ms\n",
            "329:\tlearn: 46.0667539\ttest: 98.5064353\tbest: 98.5064353 (329)\ttotal: 625ms\tremaining: 322ms\n",
            "330:\tlearn: 46.0089938\ttest: 98.4700395\tbest: 98.4700395 (330)\ttotal: 627ms\tremaining: 320ms\n",
            "331:\tlearn: 45.8749988\ttest: 98.5232211\tbest: 98.4700395 (330)\ttotal: 629ms\tremaining: 318ms\n",
            "332:\tlearn: 45.8229449\ttest: 98.4716933\tbest: 98.4700395 (330)\ttotal: 630ms\tremaining: 316ms\n",
            "333:\tlearn: 45.6968050\ttest: 98.4568604\tbest: 98.4568604 (333)\ttotal: 632ms\tremaining: 314ms\n",
            "334:\tlearn: 45.5724871\ttest: 98.5591872\tbest: 98.4568604 (333)\ttotal: 634ms\tremaining: 312ms\n",
            "335:\tlearn: 45.4716509\ttest: 98.6517260\tbest: 98.4568604 (333)\ttotal: 635ms\tremaining: 310ms\n",
            "336:\tlearn: 45.3833950\ttest: 98.7005521\tbest: 98.4568604 (333)\ttotal: 637ms\tremaining: 308ms\n",
            "337:\tlearn: 45.1751866\ttest: 98.7066302\tbest: 98.4568604 (333)\ttotal: 639ms\tremaining: 306ms\n",
            "338:\tlearn: 45.1490663\ttest: 98.7219963\tbest: 98.4568604 (333)\ttotal: 640ms\tremaining: 304ms\n",
            "339:\tlearn: 44.9803108\ttest: 98.6604689\tbest: 98.4568604 (333)\ttotal: 642ms\tremaining: 302ms\n",
            "340:\tlearn: 44.9202579\ttest: 98.6288955\tbest: 98.4568604 (333)\ttotal: 644ms\tremaining: 300ms\n",
            "341:\tlearn: 44.8327752\ttest: 98.6249841\tbest: 98.4568604 (333)\ttotal: 645ms\tremaining: 298ms\n",
            "342:\tlearn: 44.7404237\ttest: 98.6356626\tbest: 98.4568604 (333)\ttotal: 647ms\tremaining: 296ms\n",
            "343:\tlearn: 44.5870831\ttest: 98.6264207\tbest: 98.4568604 (333)\ttotal: 649ms\tremaining: 294ms\n",
            "344:\tlearn: 44.5592612\ttest: 98.5984094\tbest: 98.4568604 (333)\ttotal: 650ms\tremaining: 292ms\n",
            "345:\tlearn: 44.4482220\ttest: 98.5779248\tbest: 98.4568604 (333)\ttotal: 652ms\tremaining: 290ms\n",
            "346:\tlearn: 44.2907466\ttest: 98.5284505\tbest: 98.4568604 (333)\ttotal: 654ms\tremaining: 288ms\n",
            "347:\tlearn: 44.1995415\ttest: 98.6842873\tbest: 98.4568604 (333)\ttotal: 655ms\tremaining: 286ms\n",
            "348:\tlearn: 44.1616652\ttest: 98.6851580\tbest: 98.4568604 (333)\ttotal: 657ms\tremaining: 284ms\n",
            "349:\tlearn: 44.0731748\ttest: 98.6673276\tbest: 98.4568604 (333)\ttotal: 659ms\tremaining: 282ms\n",
            "350:\tlearn: 44.0505560\ttest: 98.6623252\tbest: 98.4568604 (333)\ttotal: 660ms\tremaining: 280ms\n",
            "351:\tlearn: 43.9620527\ttest: 98.6926564\tbest: 98.4568604 (333)\ttotal: 662ms\tremaining: 278ms\n",
            "352:\tlearn: 43.8307863\ttest: 98.6840129\tbest: 98.4568604 (333)\ttotal: 666ms\tremaining: 277ms\n",
            "353:\tlearn: 43.7467710\ttest: 98.7355601\tbest: 98.4568604 (333)\ttotal: 667ms\tremaining: 275ms\n",
            "354:\tlearn: 43.7215445\ttest: 98.7476100\tbest: 98.4568604 (333)\ttotal: 669ms\tremaining: 273ms\n",
            "355:\tlearn: 43.6722157\ttest: 98.6408664\tbest: 98.4568604 (333)\ttotal: 671ms\tremaining: 271ms\n",
            "356:\tlearn: 43.6553096\ttest: 98.6530617\tbest: 98.4568604 (333)\ttotal: 673ms\tremaining: 269ms\n",
            "357:\tlearn: 43.6106951\ttest: 98.6574380\tbest: 98.4568604 (333)\ttotal: 674ms\tremaining: 268ms\n",
            "358:\tlearn: 43.4494660\ttest: 98.7623883\tbest: 98.4568604 (333)\ttotal: 676ms\tremaining: 266ms\n",
            "359:\tlearn: 43.4248158\ttest: 98.7440604\tbest: 98.4568604 (333)\ttotal: 678ms\tremaining: 264ms\n",
            "360:\tlearn: 43.3137891\ttest: 98.7594380\tbest: 98.4568604 (333)\ttotal: 680ms\tremaining: 262ms\n",
            "361:\tlearn: 43.1816353\ttest: 98.6189054\tbest: 98.4568604 (333)\ttotal: 681ms\tremaining: 260ms\n",
            "362:\tlearn: 43.1440755\ttest: 98.5623535\tbest: 98.4568604 (333)\ttotal: 683ms\tremaining: 258ms\n",
            "363:\tlearn: 43.1246394\ttest: 98.5090886\tbest: 98.4568604 (333)\ttotal: 684ms\tremaining: 256ms\n",
            "364:\tlearn: 43.0610103\ttest: 98.5600738\tbest: 98.4568604 (333)\ttotal: 686ms\tremaining: 254ms\n",
            "365:\tlearn: 42.8935906\ttest: 98.6116154\tbest: 98.4568604 (333)\ttotal: 688ms\tremaining: 252ms\n",
            "366:\tlearn: 42.8354420\ttest: 98.6660897\tbest: 98.4568604 (333)\ttotal: 690ms\tremaining: 250ms\n",
            "367:\tlearn: 42.7665547\ttest: 98.6422877\tbest: 98.4568604 (333)\ttotal: 692ms\tremaining: 248ms\n",
            "368:\tlearn: 42.7230022\ttest: 98.6388546\tbest: 98.4568604 (333)\ttotal: 693ms\tremaining: 246ms\n",
            "369:\tlearn: 42.6666061\ttest: 98.6350914\tbest: 98.4568604 (333)\ttotal: 697ms\tremaining: 245ms\n",
            "370:\tlearn: 42.5881165\ttest: 98.6501548\tbest: 98.4568604 (333)\ttotal: 699ms\tremaining: 243ms\n",
            "371:\tlearn: 42.5160592\ttest: 98.5685980\tbest: 98.4568604 (333)\ttotal: 700ms\tremaining: 241ms\n",
            "372:\tlearn: 42.3274428\ttest: 98.7350204\tbest: 98.4568604 (333)\ttotal: 705ms\tremaining: 240ms\n",
            "373:\tlearn: 42.3139487\ttest: 98.7401066\tbest: 98.4568604 (333)\ttotal: 707ms\tremaining: 238ms\n",
            "374:\tlearn: 42.2437360\ttest: 98.7408876\tbest: 98.4568604 (333)\ttotal: 709ms\tremaining: 236ms\n",
            "375:\tlearn: 42.1891272\ttest: 98.7219571\tbest: 98.4568604 (333)\ttotal: 710ms\tremaining: 234ms\n",
            "376:\tlearn: 42.1255606\ttest: 98.6237441\tbest: 98.4568604 (333)\ttotal: 712ms\tremaining: 232ms\n",
            "377:\tlearn: 42.0541626\ttest: 98.6046960\tbest: 98.4568604 (333)\ttotal: 714ms\tremaining: 230ms\n",
            "378:\tlearn: 41.9480409\ttest: 98.6016055\tbest: 98.4568604 (333)\ttotal: 715ms\tremaining: 228ms\n",
            "379:\tlearn: 41.9004967\ttest: 98.6004893\tbest: 98.4568604 (333)\ttotal: 717ms\tremaining: 226ms\n",
            "380:\tlearn: 41.8500268\ttest: 98.5892405\tbest: 98.4568604 (333)\ttotal: 719ms\tremaining: 224ms\n",
            "381:\tlearn: 41.7339147\ttest: 98.5798384\tbest: 98.4568604 (333)\ttotal: 720ms\tremaining: 223ms\n",
            "382:\tlearn: 41.6911837\ttest: 98.5405601\tbest: 98.4568604 (333)\ttotal: 722ms\tremaining: 221ms\n",
            "383:\tlearn: 41.6328530\ttest: 98.5834159\tbest: 98.4568604 (333)\ttotal: 724ms\tremaining: 219ms\n",
            "384:\tlearn: 41.5621843\ttest: 98.6870699\tbest: 98.4568604 (333)\ttotal: 726ms\tremaining: 217ms\n",
            "385:\tlearn: 41.4191434\ttest: 98.7490859\tbest: 98.4568604 (333)\ttotal: 727ms\tremaining: 215ms\n",
            "386:\tlearn: 41.3970724\ttest: 98.7501478\tbest: 98.4568604 (333)\ttotal: 729ms\tremaining: 213ms\n",
            "387:\tlearn: 41.2583249\ttest: 98.9118829\tbest: 98.4568604 (333)\ttotal: 731ms\tremaining: 211ms\n",
            "388:\tlearn: 41.1232048\ttest: 99.0887231\tbest: 98.4568604 (333)\ttotal: 732ms\tremaining: 209ms\n",
            "389:\tlearn: 40.9984836\ttest: 98.9571280\tbest: 98.4568604 (333)\ttotal: 734ms\tremaining: 207ms\n",
            "390:\tlearn: 40.9748184\ttest: 98.8837485\tbest: 98.4568604 (333)\ttotal: 736ms\tremaining: 205ms\n",
            "391:\tlearn: 40.9619339\ttest: 98.8802715\tbest: 98.4568604 (333)\ttotal: 737ms\tremaining: 203ms\n",
            "392:\tlearn: 40.8970158\ttest: 98.9217756\tbest: 98.4568604 (333)\ttotal: 739ms\tremaining: 201ms\n",
            "393:\tlearn: 40.8132726\ttest: 98.9212388\tbest: 98.4568604 (333)\ttotal: 741ms\tremaining: 199ms\n",
            "394:\tlearn: 40.6793188\ttest: 98.9034823\tbest: 98.4568604 (333)\ttotal: 743ms\tremaining: 197ms\n",
            "395:\tlearn: 40.6701713\ttest: 98.9015621\tbest: 98.4568604 (333)\ttotal: 744ms\tremaining: 195ms\n",
            "396:\tlearn: 40.5355340\ttest: 98.8265570\tbest: 98.4568604 (333)\ttotal: 746ms\tremaining: 194ms\n",
            "397:\tlearn: 40.4674571\ttest: 98.8583488\tbest: 98.4568604 (333)\ttotal: 748ms\tremaining: 192ms\n",
            "398:\tlearn: 40.4352354\ttest: 98.8515134\tbest: 98.4568604 (333)\ttotal: 749ms\tremaining: 190ms\n",
            "399:\tlearn: 40.4258835\ttest: 98.8492279\tbest: 98.4568604 (333)\ttotal: 751ms\tremaining: 188ms\n",
            "400:\tlearn: 40.4101180\ttest: 98.8454458\tbest: 98.4568604 (333)\ttotal: 752ms\tremaining: 186ms\n",
            "401:\tlearn: 40.3622323\ttest: 98.8595195\tbest: 98.4568604 (333)\ttotal: 754ms\tremaining: 184ms\n",
            "402:\tlearn: 40.3487921\ttest: 98.8646871\tbest: 98.4568604 (333)\ttotal: 756ms\tremaining: 182ms\n",
            "403:\tlearn: 40.2949440\ttest: 98.8553551\tbest: 98.4568604 (333)\ttotal: 757ms\tremaining: 180ms\n",
            "404:\tlearn: 40.2703944\ttest: 98.8228056\tbest: 98.4568604 (333)\ttotal: 759ms\tremaining: 178ms\n",
            "405:\tlearn: 40.2595547\ttest: 98.8201225\tbest: 98.4568604 (333)\ttotal: 761ms\tremaining: 176ms\n",
            "406:\tlearn: 40.1938107\ttest: 98.8439077\tbest: 98.4568604 (333)\ttotal: 765ms\tremaining: 175ms\n",
            "407:\tlearn: 40.0991806\ttest: 98.8239388\tbest: 98.4568604 (333)\ttotal: 767ms\tremaining: 173ms\n",
            "408:\tlearn: 40.0757464\ttest: 98.8450900\tbest: 98.4568604 (333)\ttotal: 770ms\tremaining: 171ms\n",
            "409:\tlearn: 40.0638186\ttest: 98.8452754\tbest: 98.4568604 (333)\ttotal: 773ms\tremaining: 170ms\n",
            "410:\tlearn: 39.9204201\ttest: 98.7571067\tbest: 98.4568604 (333)\ttotal: 775ms\tremaining: 168ms\n",
            "411:\tlearn: 39.8641909\ttest: 98.7627073\tbest: 98.4568604 (333)\ttotal: 777ms\tremaining: 166ms\n",
            "412:\tlearn: 39.8428484\ttest: 98.7539090\tbest: 98.4568604 (333)\ttotal: 780ms\tremaining: 164ms\n",
            "413:\tlearn: 39.7526995\ttest: 98.7486230\tbest: 98.4568604 (333)\ttotal: 781ms\tremaining: 162ms\n",
            "414:\tlearn: 39.6108003\ttest: 98.7670971\tbest: 98.4568604 (333)\ttotal: 783ms\tremaining: 160ms\n",
            "415:\tlearn: 39.5652586\ttest: 98.6392596\tbest: 98.4568604 (333)\ttotal: 785ms\tremaining: 158ms\n",
            "416:\tlearn: 39.5532410\ttest: 98.6501834\tbest: 98.4568604 (333)\ttotal: 786ms\tremaining: 157ms\n",
            "417:\tlearn: 39.5366340\ttest: 98.6242917\tbest: 98.4568604 (333)\ttotal: 788ms\tremaining: 155ms\n",
            "418:\tlearn: 39.5199756\ttest: 98.6352804\tbest: 98.4568604 (333)\ttotal: 790ms\tremaining: 153ms\n",
            "419:\tlearn: 39.5011979\ttest: 98.6364518\tbest: 98.4568604 (333)\ttotal: 791ms\tremaining: 151ms\n",
            "420:\tlearn: 39.4110157\ttest: 98.6248861\tbest: 98.4568604 (333)\ttotal: 793ms\tremaining: 149ms\n",
            "421:\tlearn: 39.3648285\ttest: 98.6080000\tbest: 98.4568604 (333)\ttotal: 795ms\tremaining: 147ms\n",
            "422:\tlearn: 39.3022059\ttest: 98.5261728\tbest: 98.4568604 (333)\ttotal: 796ms\tremaining: 145ms\n",
            "423:\tlearn: 39.2713255\ttest: 98.5422911\tbest: 98.4568604 (333)\ttotal: 798ms\tremaining: 143ms\n",
            "424:\tlearn: 39.1554133\ttest: 98.5705365\tbest: 98.4568604 (333)\ttotal: 800ms\tremaining: 141ms\n",
            "425:\tlearn: 39.1053824\ttest: 98.5372358\tbest: 98.4568604 (333)\ttotal: 802ms\tremaining: 139ms\n",
            "426:\tlearn: 38.9441355\ttest: 98.4855797\tbest: 98.4568604 (333)\ttotal: 803ms\tremaining: 137ms\n",
            "427:\tlearn: 38.8801701\ttest: 98.5370778\tbest: 98.4568604 (333)\ttotal: 805ms\tremaining: 135ms\n",
            "428:\tlearn: 38.8663505\ttest: 98.5332378\tbest: 98.4568604 (333)\ttotal: 807ms\tremaining: 134ms\n",
            "429:\tlearn: 38.8397935\ttest: 98.5188811\tbest: 98.4568604 (333)\ttotal: 809ms\tremaining: 132ms\n",
            "430:\tlearn: 38.7623728\ttest: 98.5597533\tbest: 98.4568604 (333)\ttotal: 811ms\tremaining: 130ms\n",
            "431:\tlearn: 38.7147806\ttest: 98.5756976\tbest: 98.4568604 (333)\ttotal: 812ms\tremaining: 128ms\n",
            "432:\tlearn: 38.6737262\ttest: 98.5021178\tbest: 98.4568604 (333)\ttotal: 814ms\tremaining: 126ms\n",
            "433:\tlearn: 38.5934816\ttest: 98.4901675\tbest: 98.4568604 (333)\ttotal: 816ms\tremaining: 124ms\n",
            "434:\tlearn: 38.5428683\ttest: 98.4950182\tbest: 98.4568604 (333)\ttotal: 818ms\tremaining: 122ms\n",
            "435:\tlearn: 38.5022079\ttest: 98.4723924\tbest: 98.4568604 (333)\ttotal: 819ms\tremaining: 120ms\n",
            "436:\tlearn: 38.4569275\ttest: 98.4545961\tbest: 98.4545961 (436)\ttotal: 821ms\tremaining: 118ms\n",
            "437:\tlearn: 38.4447338\ttest: 98.4578110\tbest: 98.4545961 (436)\ttotal: 823ms\tremaining: 116ms\n",
            "438:\tlearn: 38.3864065\ttest: 98.5070452\tbest: 98.4545961 (436)\ttotal: 825ms\tremaining: 115ms\n",
            "439:\tlearn: 38.2729183\ttest: 98.8151800\tbest: 98.4545961 (436)\ttotal: 826ms\tremaining: 113ms\n",
            "440:\tlearn: 38.2363198\ttest: 98.8297281\tbest: 98.4545961 (436)\ttotal: 828ms\tremaining: 111ms\n",
            "441:\tlearn: 38.2079752\ttest: 98.8411891\tbest: 98.4545961 (436)\ttotal: 830ms\tremaining: 109ms\n",
            "442:\tlearn: 38.1563557\ttest: 98.7487089\tbest: 98.4545961 (436)\ttotal: 832ms\tremaining: 107ms\n",
            "443:\tlearn: 38.0977092\ttest: 98.7787074\tbest: 98.4545961 (436)\ttotal: 833ms\tremaining: 105ms\n",
            "444:\tlearn: 38.0028418\ttest: 98.7464122\tbest: 98.4545961 (436)\ttotal: 835ms\tremaining: 103ms\n",
            "445:\tlearn: 37.9668286\ttest: 98.7421552\tbest: 98.4545961 (436)\ttotal: 837ms\tremaining: 101ms\n",
            "446:\tlearn: 37.9239644\ttest: 98.7297763\tbest: 98.4545961 (436)\ttotal: 839ms\tremaining: 99.4ms\n",
            "447:\tlearn: 37.8554667\ttest: 98.7905584\tbest: 98.4545961 (436)\ttotal: 840ms\tremaining: 97.5ms\n",
            "448:\tlearn: 37.8184108\ttest: 98.7947213\tbest: 98.4545961 (436)\ttotal: 842ms\tremaining: 95.6ms\n",
            "449:\tlearn: 37.7529836\ttest: 98.8132010\tbest: 98.4545961 (436)\ttotal: 844ms\tremaining: 93.8ms\n",
            "450:\tlearn: 37.6922137\ttest: 98.8117956\tbest: 98.4545961 (436)\ttotal: 846ms\tremaining: 91.9ms\n",
            "451:\tlearn: 37.6787465\ttest: 98.7955369\tbest: 98.4545961 (436)\ttotal: 847ms\tremaining: 90ms\n",
            "452:\tlearn: 37.6492409\ttest: 98.8314449\tbest: 98.4545961 (436)\ttotal: 849ms\tremaining: 88.1ms\n",
            "453:\tlearn: 37.6137043\ttest: 98.8240717\tbest: 98.4545961 (436)\ttotal: 851ms\tremaining: 86.2ms\n",
            "454:\tlearn: 37.5916076\ttest: 98.8679015\tbest: 98.4545961 (436)\ttotal: 852ms\tremaining: 84.3ms\n",
            "455:\tlearn: 37.5482116\ttest: 98.8897897\tbest: 98.4545961 (436)\ttotal: 854ms\tremaining: 82.4ms\n",
            "456:\tlearn: 37.4589301\ttest: 98.8902299\tbest: 98.4545961 (436)\ttotal: 855ms\tremaining: 80.5ms\n",
            "457:\tlearn: 37.4107027\ttest: 98.9143824\tbest: 98.4545961 (436)\ttotal: 857ms\tremaining: 78.6ms\n",
            "458:\tlearn: 37.4042851\ttest: 98.9167147\tbest: 98.4545961 (436)\ttotal: 859ms\tremaining: 76.7ms\n",
            "459:\tlearn: 37.3917447\ttest: 98.9001254\tbest: 98.4545961 (436)\ttotal: 862ms\tremaining: 74.9ms\n",
            "460:\tlearn: 37.3175825\ttest: 98.7282465\tbest: 98.4545961 (436)\ttotal: 863ms\tremaining: 73ms\n",
            "461:\tlearn: 37.2275642\ttest: 98.8141828\tbest: 98.4545961 (436)\ttotal: 865ms\tremaining: 71.2ms\n",
            "462:\tlearn: 37.1992340\ttest: 98.8108722\tbest: 98.4545961 (436)\ttotal: 867ms\tremaining: 69.3ms\n",
            "463:\tlearn: 37.1701210\ttest: 98.8301485\tbest: 98.4545961 (436)\ttotal: 868ms\tremaining: 67.4ms\n",
            "464:\tlearn: 37.1601149\ttest: 98.8332067\tbest: 98.4545961 (436)\ttotal: 870ms\tremaining: 65.5ms\n",
            "465:\tlearn: 37.1169427\ttest: 98.8828330\tbest: 98.4545961 (436)\ttotal: 872ms\tremaining: 63.6ms\n",
            "466:\tlearn: 37.0891308\ttest: 98.8805189\tbest: 98.4545961 (436)\ttotal: 874ms\tremaining: 61.7ms\n",
            "467:\tlearn: 36.9132110\ttest: 98.7657869\tbest: 98.4545961 (436)\ttotal: 875ms\tremaining: 59.8ms\n",
            "468:\tlearn: 36.8047025\ttest: 98.7145258\tbest: 98.4545961 (436)\ttotal: 877ms\tremaining: 58ms\n",
            "469:\tlearn: 36.7353985\ttest: 98.6616127\tbest: 98.4545961 (436)\ttotal: 879ms\tremaining: 56.1ms\n",
            "470:\tlearn: 36.7287473\ttest: 98.6567207\tbest: 98.4545961 (436)\ttotal: 880ms\tremaining: 54.2ms\n",
            "471:\tlearn: 36.6864572\ttest: 98.6578270\tbest: 98.4545961 (436)\ttotal: 882ms\tremaining: 52.3ms\n",
            "472:\tlearn: 36.6605308\ttest: 98.5983891\tbest: 98.4545961 (436)\ttotal: 884ms\tremaining: 50.4ms\n",
            "473:\tlearn: 36.6514818\ttest: 98.5991176\tbest: 98.4545961 (436)\ttotal: 885ms\tremaining: 48.6ms\n",
            "474:\tlearn: 36.6334817\ttest: 98.5512447\tbest: 98.4545961 (436)\ttotal: 887ms\tremaining: 46.7ms\n",
            "475:\tlearn: 36.5563760\ttest: 98.5569894\tbest: 98.4545961 (436)\ttotal: 889ms\tremaining: 44.8ms\n",
            "476:\tlearn: 36.5308177\ttest: 98.5586360\tbest: 98.4545961 (436)\ttotal: 890ms\tremaining: 42.9ms\n",
            "477:\tlearn: 36.5122503\ttest: 98.5535710\tbest: 98.4545961 (436)\ttotal: 892ms\tremaining: 41ms\n",
            "478:\tlearn: 36.4974932\ttest: 98.6010133\tbest: 98.4545961 (436)\ttotal: 894ms\tremaining: 39.2ms\n",
            "479:\tlearn: 36.4935698\ttest: 98.5976058\tbest: 98.4545961 (436)\ttotal: 895ms\tremaining: 37.3ms\n",
            "480:\tlearn: 36.4809250\ttest: 98.6082087\tbest: 98.4545961 (436)\ttotal: 897ms\tremaining: 35.4ms\n",
            "481:\tlearn: 36.4456987\ttest: 98.5838642\tbest: 98.4545961 (436)\ttotal: 899ms\tremaining: 33.6ms\n",
            "482:\tlearn: 36.2997160\ttest: 98.5971170\tbest: 98.4545961 (436)\ttotal: 901ms\tremaining: 31.7ms\n",
            "483:\tlearn: 36.2658583\ttest: 98.6082367\tbest: 98.4545961 (436)\ttotal: 902ms\tremaining: 29.8ms\n",
            "484:\tlearn: 36.2361558\ttest: 98.6054178\tbest: 98.4545961 (436)\ttotal: 904ms\tremaining: 28ms\n",
            "485:\tlearn: 36.2136143\ttest: 98.5791252\tbest: 98.4545961 (436)\ttotal: 906ms\tremaining: 26.1ms\n",
            "486:\tlearn: 36.1414876\ttest: 98.6084707\tbest: 98.4545961 (436)\ttotal: 908ms\tremaining: 24.2ms\n",
            "487:\tlearn: 36.0697093\ttest: 98.7237176\tbest: 98.4545961 (436)\ttotal: 909ms\tremaining: 22.4ms\n",
            "488:\tlearn: 35.9463955\ttest: 98.7817133\tbest: 98.4545961 (436)\ttotal: 911ms\tremaining: 20.5ms\n",
            "489:\tlearn: 35.8921087\ttest: 98.6952708\tbest: 98.4545961 (436)\ttotal: 913ms\tremaining: 18.6ms\n",
            "490:\tlearn: 35.7731366\ttest: 98.6924221\tbest: 98.4545961 (436)\ttotal: 915ms\tremaining: 16.8ms\n",
            "491:\tlearn: 35.7648438\ttest: 98.6838541\tbest: 98.4545961 (436)\ttotal: 916ms\tremaining: 14.9ms\n",
            "492:\tlearn: 35.7030796\ttest: 98.7114898\tbest: 98.4545961 (436)\ttotal: 918ms\tremaining: 13ms\n",
            "493:\tlearn: 35.6987224\ttest: 98.7122439\tbest: 98.4545961 (436)\ttotal: 920ms\tremaining: 11.2ms\n",
            "494:\tlearn: 35.6757145\ttest: 98.7484752\tbest: 98.4545961 (436)\ttotal: 921ms\tremaining: 9.3ms\n",
            "495:\tlearn: 35.6188464\ttest: 98.8213850\tbest: 98.4545961 (436)\ttotal: 923ms\tremaining: 7.44ms\n",
            "496:\tlearn: 35.6093132\ttest: 98.8233017\tbest: 98.4545961 (436)\ttotal: 925ms\tremaining: 5.58ms\n",
            "497:\tlearn: 35.5669800\ttest: 98.8367522\tbest: 98.4545961 (436)\ttotal: 926ms\tremaining: 3.72ms\n",
            "498:\tlearn: 35.5600337\ttest: 98.8400836\tbest: 98.4545961 (436)\ttotal: 928ms\tremaining: 1.86ms\n",
            "499:\tlearn: 35.5505982\ttest: 98.8381763\tbest: 98.4545961 (436)\ttotal: 930ms\tremaining: 0us\n",
            "\n",
            "bestTest = 98.45459612\n",
            "bestIteration = 436\n",
            "\n",
            "Shrink model to first 437 iterations.\n"
          ],
          "name": "stdout"
        },
        {
          "output_type": "execute_result",
          "data": {
            "text/plain": [
              "<catboost.core.CatBoostRegressor at 0x7f9e366c91d0>"
            ]
          },
          "metadata": {
            "tags": []
          },
          "execution_count": 394
        }
      ]
    },
    {
      "cell_type": "code",
      "metadata": {
        "colab": {
          "base_uri": "https://localhost:8080/",
          "height": 1000,
          "referenced_widgets": [
            "015ef4392754435294f9cea3aa8c97a0"
          ]
        },
        "id": "t8glo5ptt04J",
        "outputId": "0c46f25b-8209-4d41-c901-812004caf141"
      },
      "source": [
        "from catboost import Pool, cv\n",
        "\n",
        "parms = {\"loss_function\":'MAE',\n",
        "        \"n_estimators\":500, \n",
        "        \"learning_rate\":0.05, \n",
        "        \"random_state\":seed}\n",
        "\n",
        "cv(Pool(data=X_train, label=Y_train), parms, fold_count=5, plot=\"True\")"
      ],
      "execution_count": 395,
      "outputs": [
        {
          "output_type": "display_data",
          "data": {
            "application/vnd.jupyter.widget-view+json": {
              "model_id": "015ef4392754435294f9cea3aa8c97a0",
              "version_minor": 0,
              "version_major": 2
            },
            "text/plain": [
              "MetricVisualizer(layout=Layout(align_self='stretch', height='500px'))"
            ]
          },
          "metadata": {
            "tags": []
          }
        },
        {
          "output_type": "stream",
          "text": [
            "0:\tlearn: 538.2477237\ttest: 538.9040938\tbest: 538.9040938 (0)\n",
            "1:\tlearn: 512.5840213\ttest: 513.9127501\tbest: 513.9127501 (1)\n",
            "2:\tlearn: 488.4584710\ttest: 490.2530584\tbest: 490.2530584 (2)\n",
            "3:\tlearn: 465.7049334\ttest: 467.8974679\tbest: 467.8974679 (3)\n",
            "4:\tlearn: 444.1953883\ttest: 446.5706743\tbest: 446.5706743 (4)\n",
            "5:\tlearn: 425.0069263\ttest: 427.6997208\tbest: 427.6997208 (5)\n",
            "6:\tlearn: 406.8037955\ttest: 410.1857230\tbest: 410.1857230 (6)\n",
            "7:\tlearn: 389.6887934\ttest: 393.0792670\tbest: 393.0792670 (7)\n",
            "8:\tlearn: 373.2019160\ttest: 377.2888072\tbest: 377.2888072 (8)\n",
            "9:\tlearn: 357.3595980\ttest: 362.3273868\tbest: 362.3273868 (9)\n",
            "10:\tlearn: 342.8178314\ttest: 348.1032793\tbest: 348.1032793 (10)\n",
            "11:\tlearn: 329.1214769\ttest: 334.7958833\tbest: 334.7958833 (11)\n",
            "12:\tlearn: 316.1981559\ttest: 322.1117181\tbest: 322.1117181 (12)\n",
            "13:\tlearn: 304.8636173\ttest: 310.5781203\tbest: 310.5781203 (13)\n",
            "14:\tlearn: 293.2611052\ttest: 299.0716144\tbest: 299.0716144 (14)\n",
            "15:\tlearn: 282.3800000\ttest: 287.9927438\tbest: 287.9927438 (15)\n",
            "16:\tlearn: 271.5536156\ttest: 277.1666145\tbest: 277.1666145 (16)\n",
            "17:\tlearn: 261.8685879\ttest: 267.7649050\tbest: 267.7649050 (17)\n",
            "18:\tlearn: 251.8443632\ttest: 258.3285195\tbest: 258.3285195 (18)\n",
            "19:\tlearn: 242.7227024\ttest: 249.3866862\tbest: 249.3866862 (19)\n",
            "20:\tlearn: 234.8292359\ttest: 241.7996292\tbest: 241.7996292 (20)\n",
            "21:\tlearn: 227.0842702\ttest: 234.3430244\tbest: 234.3430244 (21)\n",
            "22:\tlearn: 219.5576641\ttest: 227.2708440\tbest: 227.2708440 (22)\n",
            "23:\tlearn: 212.4624153\ttest: 220.3665228\tbest: 220.3665228 (23)\n",
            "24:\tlearn: 206.4429266\ttest: 214.9055642\tbest: 214.9055642 (24)\n",
            "25:\tlearn: 200.4039297\ttest: 209.1716654\tbest: 209.1716654 (25)\n",
            "26:\tlearn: 194.9565631\ttest: 204.2466149\tbest: 204.2466149 (26)\n",
            "27:\tlearn: 189.5628465\ttest: 199.0196746\tbest: 199.0196746 (27)\n",
            "28:\tlearn: 184.3886382\ttest: 193.7014518\tbest: 193.7014518 (28)\n",
            "29:\tlearn: 179.8145929\ttest: 189.6209167\tbest: 189.6209167 (29)\n",
            "30:\tlearn: 175.3885776\ttest: 185.7863353\tbest: 185.7863353 (30)\n",
            "31:\tlearn: 171.0110892\ttest: 182.0239733\tbest: 182.0239733 (31)\n",
            "32:\tlearn: 166.4601618\ttest: 177.8836518\tbest: 177.8836518 (32)\n",
            "33:\tlearn: 162.7027791\ttest: 174.8241010\tbest: 174.8241010 (33)\n",
            "34:\tlearn: 159.0708106\ttest: 171.4565423\tbest: 171.4565423 (34)\n",
            "35:\tlearn: 156.0077900\ttest: 168.3872904\tbest: 168.3872904 (35)\n",
            "36:\tlearn: 152.3905543\ttest: 165.5684804\tbest: 165.5684804 (36)\n",
            "37:\tlearn: 148.9444461\ttest: 162.7841379\tbest: 162.7841379 (37)\n",
            "38:\tlearn: 146.1084022\ttest: 160.5861572\tbest: 160.5861572 (38)\n",
            "39:\tlearn: 143.2857110\ttest: 158.1411720\tbest: 158.1411720 (39)\n",
            "40:\tlearn: 141.1320809\ttest: 156.1996946\tbest: 156.1996946 (40)\n",
            "41:\tlearn: 138.6052752\ttest: 153.6303703\tbest: 153.6303703 (41)\n",
            "42:\tlearn: 136.2867378\ttest: 152.0230593\tbest: 152.0230593 (42)\n",
            "43:\tlearn: 134.1775176\ttest: 150.3661358\tbest: 150.3661358 (43)\n",
            "44:\tlearn: 132.5467806\ttest: 149.0802927\tbest: 149.0802927 (44)\n",
            "45:\tlearn: 130.7903847\ttest: 147.7651553\tbest: 147.7651553 (45)\n",
            "46:\tlearn: 128.9860315\ttest: 146.3983590\tbest: 146.3983590 (46)\n",
            "47:\tlearn: 127.3007224\ttest: 145.2237582\tbest: 145.2237582 (47)\n",
            "48:\tlearn: 125.5600672\ttest: 143.6924635\tbest: 143.6924635 (48)\n",
            "49:\tlearn: 124.0286127\ttest: 142.5980366\tbest: 142.5980366 (49)\n",
            "50:\tlearn: 122.5166717\ttest: 141.6192723\tbest: 141.6192723 (50)\n",
            "51:\tlearn: 121.0722401\ttest: 140.5936534\tbest: 140.5936534 (51)\n",
            "52:\tlearn: 119.6874964\ttest: 139.4856575\tbest: 139.4856575 (52)\n",
            "53:\tlearn: 118.3525762\ttest: 138.4102052\tbest: 138.4102052 (53)\n",
            "54:\tlearn: 117.0812389\ttest: 137.6163418\tbest: 137.6163418 (54)\n",
            "55:\tlearn: 115.8211713\ttest: 136.7442101\tbest: 136.7442101 (55)\n",
            "56:\tlearn: 114.5629503\ttest: 135.8604905\tbest: 135.8604905 (56)\n",
            "57:\tlearn: 113.5134557\ttest: 135.1636307\tbest: 135.1636307 (57)\n",
            "58:\tlearn: 112.6779232\ttest: 134.4745916\tbest: 134.4745916 (58)\n",
            "59:\tlearn: 111.8465332\ttest: 134.0284715\tbest: 134.0284715 (59)\n",
            "60:\tlearn: 110.9841573\ttest: 133.3859494\tbest: 133.3859494 (60)\n",
            "61:\tlearn: 110.1186217\ttest: 132.7054445\tbest: 132.7054445 (61)\n",
            "62:\tlearn: 109.0854986\ttest: 132.1084487\tbest: 132.1084487 (62)\n",
            "63:\tlearn: 108.2720261\ttest: 131.6846343\tbest: 131.6846343 (63)\n",
            "64:\tlearn: 107.2878041\ttest: 130.8467636\tbest: 130.8467636 (64)\n",
            "65:\tlearn: 106.5768678\ttest: 130.3480097\tbest: 130.3480097 (65)\n",
            "66:\tlearn: 105.6137225\ttest: 129.8437369\tbest: 129.8437369 (66)\n",
            "67:\tlearn: 104.8674447\ttest: 129.4180491\tbest: 129.4180491 (67)\n",
            "68:\tlearn: 104.1946812\ttest: 129.2525734\tbest: 129.2525734 (68)\n",
            "69:\tlearn: 103.4884399\ttest: 129.0002987\tbest: 129.0002987 (69)\n",
            "70:\tlearn: 102.8279374\ttest: 128.7119264\tbest: 128.7119264 (70)\n",
            "71:\tlearn: 102.2562266\ttest: 128.3808323\tbest: 128.3808323 (71)\n",
            "72:\tlearn: 101.7177579\ttest: 128.0405233\tbest: 128.0405233 (72)\n",
            "73:\tlearn: 101.1215167\ttest: 127.5949892\tbest: 127.5949892 (73)\n",
            "74:\tlearn: 100.4205307\ttest: 127.1027332\tbest: 127.1027332 (74)\n",
            "75:\tlearn: 99.7944856\ttest: 126.7595842\tbest: 126.7595842 (75)\n",
            "76:\tlearn: 99.1715034\ttest: 126.4271603\tbest: 126.4271603 (76)\n",
            "77:\tlearn: 98.4357865\ttest: 125.9887350\tbest: 125.9887350 (77)\n",
            "78:\tlearn: 98.0089987\ttest: 125.6760497\tbest: 125.6760497 (78)\n",
            "79:\tlearn: 97.5638926\ttest: 125.3914944\tbest: 125.3914944 (79)\n",
            "80:\tlearn: 97.0168425\ttest: 125.2069328\tbest: 125.2069328 (80)\n",
            "81:\tlearn: 96.3748440\ttest: 125.1297245\tbest: 125.1297245 (81)\n",
            "82:\tlearn: 95.7655739\ttest: 124.8195286\tbest: 124.8195286 (82)\n",
            "83:\tlearn: 95.2722898\ttest: 124.5514647\tbest: 124.5514647 (83)\n",
            "84:\tlearn: 94.5510709\ttest: 124.2668505\tbest: 124.2668505 (84)\n",
            "85:\tlearn: 94.0128931\ttest: 124.1046011\tbest: 124.1046011 (85)\n",
            "86:\tlearn: 93.2427753\ttest: 123.9999002\tbest: 123.9999002 (86)\n",
            "87:\tlearn: 92.9531644\ttest: 123.8017594\tbest: 123.8017594 (87)\n",
            "88:\tlearn: 92.4269023\ttest: 123.7136005\tbest: 123.7136005 (88)\n",
            "89:\tlearn: 91.9587836\ttest: 123.4668032\tbest: 123.4668032 (89)\n",
            "90:\tlearn: 91.3749427\ttest: 123.1064317\tbest: 123.1064317 (90)\n",
            "91:\tlearn: 90.9276999\ttest: 122.9183960\tbest: 122.9183960 (91)\n",
            "92:\tlearn: 90.5548734\ttest: 122.8960887\tbest: 122.8960887 (92)\n",
            "93:\tlearn: 90.1691215\ttest: 122.7929996\tbest: 122.7929996 (93)\n",
            "94:\tlearn: 89.7391711\ttest: 122.7064721\tbest: 122.7064721 (94)\n",
            "95:\tlearn: 89.2488572\ttest: 122.4596254\tbest: 122.4596254 (95)\n",
            "96:\tlearn: 88.7244450\ttest: 122.3549997\tbest: 122.3549997 (96)\n",
            "97:\tlearn: 88.3943069\ttest: 122.0839774\tbest: 122.0839774 (97)\n",
            "98:\tlearn: 87.9453584\ttest: 121.8836534\tbest: 121.8836534 (98)\n",
            "99:\tlearn: 87.5261066\ttest: 121.8187759\tbest: 121.8187759 (99)\n",
            "100:\tlearn: 87.1139904\ttest: 121.3985564\tbest: 121.3985564 (100)\n",
            "101:\tlearn: 86.7254139\ttest: 121.3061417\tbest: 121.3061417 (101)\n",
            "102:\tlearn: 86.4253193\ttest: 121.1632759\tbest: 121.1632759 (102)\n",
            "103:\tlearn: 85.9582373\ttest: 120.9310276\tbest: 120.9310276 (103)\n",
            "104:\tlearn: 85.5475239\ttest: 120.6869872\tbest: 120.6869872 (104)\n",
            "105:\tlearn: 85.0627671\ttest: 120.6276787\tbest: 120.6276787 (105)\n",
            "106:\tlearn: 84.8091222\ttest: 120.6050070\tbest: 120.6050070 (106)\n",
            "107:\tlearn: 84.5194574\ttest: 120.6312961\tbest: 120.6050070 (106)\n",
            "108:\tlearn: 84.1160559\ttest: 120.8437039\tbest: 120.6050070 (106)\n",
            "109:\tlearn: 83.7363569\ttest: 120.9403585\tbest: 120.6050070 (106)\n",
            "110:\tlearn: 83.3148132\ttest: 120.8423535\tbest: 120.6050070 (106)\n",
            "111:\tlearn: 83.0237985\ttest: 120.7266602\tbest: 120.6050070 (106)\n",
            "112:\tlearn: 82.7480761\ttest: 120.7200379\tbest: 120.6050070 (106)\n",
            "113:\tlearn: 82.3236451\ttest: 120.6178989\tbest: 120.6050070 (106)\n",
            "114:\tlearn: 82.0077628\ttest: 120.4790791\tbest: 120.4790791 (114)\n",
            "115:\tlearn: 81.5988713\ttest: 120.3799766\tbest: 120.3799766 (115)\n",
            "116:\tlearn: 81.1803940\ttest: 120.3531506\tbest: 120.3531506 (116)\n",
            "117:\tlearn: 80.9119778\ttest: 120.3030972\tbest: 120.3030972 (117)\n",
            "118:\tlearn: 80.6159146\ttest: 120.2339455\tbest: 120.2339455 (118)\n",
            "119:\tlearn: 80.3877183\ttest: 120.1256602\tbest: 120.1256602 (119)\n",
            "120:\tlearn: 80.0645850\ttest: 119.8403492\tbest: 119.8403492 (120)\n",
            "121:\tlearn: 79.8145262\ttest: 119.7280074\tbest: 119.7280074 (121)\n",
            "122:\tlearn: 79.3537036\ttest: 119.5363621\tbest: 119.5363621 (122)\n",
            "123:\tlearn: 79.0055502\ttest: 119.3871566\tbest: 119.3871566 (123)\n",
            "124:\tlearn: 78.7459636\ttest: 119.3577852\tbest: 119.3577852 (124)\n",
            "125:\tlearn: 78.4235227\ttest: 119.2056981\tbest: 119.2056981 (125)\n",
            "126:\tlearn: 78.1702866\ttest: 119.2242607\tbest: 119.2056981 (125)\n",
            "127:\tlearn: 77.8722570\ttest: 119.2523055\tbest: 119.2056981 (125)\n",
            "128:\tlearn: 77.5605522\ttest: 119.0356647\tbest: 119.0356647 (128)\n",
            "129:\tlearn: 77.3360455\ttest: 118.9685471\tbest: 118.9685471 (129)\n",
            "130:\tlearn: 77.0461931\ttest: 118.8852489\tbest: 118.8852489 (130)\n",
            "131:\tlearn: 76.7718895\ttest: 118.8102267\tbest: 118.8102267 (131)\n",
            "132:\tlearn: 76.5870256\ttest: 118.8022472\tbest: 118.8022472 (132)\n",
            "133:\tlearn: 76.2259553\ttest: 119.1305126\tbest: 118.8022472 (132)\n",
            "134:\tlearn: 75.8692856\ttest: 119.1417191\tbest: 118.8022472 (132)\n",
            "135:\tlearn: 75.4814134\ttest: 119.1801073\tbest: 118.8022472 (132)\n",
            "136:\tlearn: 75.2612883\ttest: 119.1361590\tbest: 118.8022472 (132)\n",
            "137:\tlearn: 74.8552634\ttest: 119.0353811\tbest: 118.8022472 (132)\n",
            "138:\tlearn: 74.6225949\ttest: 119.1038577\tbest: 118.8022472 (132)\n",
            "139:\tlearn: 74.3876722\ttest: 119.0671523\tbest: 118.8022472 (132)\n",
            "140:\tlearn: 74.0729038\ttest: 119.0605608\tbest: 118.8022472 (132)\n",
            "141:\tlearn: 73.8285823\ttest: 118.9658725\tbest: 118.8022472 (132)\n",
            "142:\tlearn: 73.5934752\ttest: 118.8576249\tbest: 118.8022472 (132)\n",
            "143:\tlearn: 73.3426359\ttest: 118.8924983\tbest: 118.8022472 (132)\n",
            "144:\tlearn: 73.0964065\ttest: 118.9349902\tbest: 118.8022472 (132)\n",
            "145:\tlearn: 72.8829370\ttest: 118.8645407\tbest: 118.8022472 (132)\n",
            "146:\tlearn: 72.6900790\ttest: 118.7868781\tbest: 118.7868781 (146)\n",
            "147:\tlearn: 72.5382470\ttest: 118.8252863\tbest: 118.7868781 (146)\n",
            "148:\tlearn: 72.3053515\ttest: 118.8018679\tbest: 118.7868781 (146)\n",
            "149:\tlearn: 72.0995659\ttest: 118.6089380\tbest: 118.6089380 (149)\n",
            "150:\tlearn: 71.7205301\ttest: 118.4811436\tbest: 118.4811436 (150)\n",
            "151:\tlearn: 71.4245635\ttest: 118.3958917\tbest: 118.3958917 (151)\n",
            "152:\tlearn: 71.1736817\ttest: 118.4819653\tbest: 118.3958917 (151)\n",
            "153:\tlearn: 70.8095740\ttest: 118.3945709\tbest: 118.3945709 (153)\n",
            "154:\tlearn: 70.6841783\ttest: 118.4254640\tbest: 118.3945709 (153)\n",
            "155:\tlearn: 70.4799390\ttest: 118.4242909\tbest: 118.3945709 (153)\n",
            "156:\tlearn: 70.2872292\ttest: 118.3962269\tbest: 118.3945709 (153)\n",
            "157:\tlearn: 70.0151350\ttest: 118.2904722\tbest: 118.2904722 (157)\n",
            "158:\tlearn: 69.7721557\ttest: 118.1973893\tbest: 118.1973893 (158)\n",
            "159:\tlearn: 69.5696518\ttest: 118.3823581\tbest: 118.1973893 (158)\n",
            "160:\tlearn: 69.3102426\ttest: 118.2967005\tbest: 118.1973893 (158)\n",
            "161:\tlearn: 69.0954997\ttest: 118.3395619\tbest: 118.1973893 (158)\n",
            "162:\tlearn: 68.7771214\ttest: 118.2379424\tbest: 118.1973893 (158)\n",
            "163:\tlearn: 68.4888393\ttest: 118.1071968\tbest: 118.1071968 (163)\n",
            "164:\tlearn: 68.2509329\ttest: 118.2057644\tbest: 118.1071968 (163)\n",
            "165:\tlearn: 67.9622346\ttest: 118.1899786\tbest: 118.1071968 (163)\n",
            "166:\tlearn: 67.7614889\ttest: 118.1202724\tbest: 118.1071968 (163)\n",
            "167:\tlearn: 67.4419923\ttest: 117.9590316\tbest: 117.9590316 (167)\ttotal: 1.78s\tremaining: 3.52s\n",
            "168:\tlearn: 67.1784532\ttest: 117.9761315\tbest: 117.9590316 (167)\n",
            "169:\tlearn: 66.9951584\ttest: 117.9155709\tbest: 117.9155709 (169)\n",
            "170:\tlearn: 66.7284002\ttest: 117.9775682\tbest: 117.9155709 (169)\n",
            "171:\tlearn: 66.4936216\ttest: 117.9445351\tbest: 117.9155709 (169)\n",
            "172:\tlearn: 66.2759451\ttest: 118.0160349\tbest: 117.9155709 (169)\n",
            "173:\tlearn: 66.0628138\ttest: 117.9402269\tbest: 117.9155709 (169)\n",
            "174:\tlearn: 65.8581788\ttest: 117.9588487\tbest: 117.9155709 (169)\n",
            "175:\tlearn: 65.6458094\ttest: 117.7961497\tbest: 117.7961497 (175)\n",
            "176:\tlearn: 65.4288132\ttest: 117.6313358\tbest: 117.6313358 (176)\n",
            "177:\tlearn: 65.2060965\ttest: 117.6766900\tbest: 117.6313358 (176)\n",
            "178:\tlearn: 65.0678001\ttest: 117.6962788\tbest: 117.6313358 (176)\n",
            "179:\tlearn: 64.8917001\ttest: 117.7139128\tbest: 117.6313358 (176)\n",
            "180:\tlearn: 64.6911845\ttest: 117.8018818\tbest: 117.6313358 (176)\n",
            "181:\tlearn: 64.4772480\ttest: 117.7246967\tbest: 117.6313358 (176)\n",
            "182:\tlearn: 64.1910995\ttest: 117.6742747\tbest: 117.6313358 (176)\n",
            "183:\tlearn: 63.9994027\ttest: 117.6642898\tbest: 117.6313358 (176)\n",
            "184:\tlearn: 63.7672104\ttest: 117.7013179\tbest: 117.6313358 (176)\n",
            "185:\tlearn: 63.6104120\ttest: 117.6351272\tbest: 117.6313358 (176)\n",
            "186:\tlearn: 63.3660541\ttest: 117.5848659\tbest: 117.5848659 (186)\n",
            "187:\tlearn: 63.1875996\ttest: 117.4563049\tbest: 117.4563049 (187)\n",
            "188:\tlearn: 63.0026229\ttest: 117.4108573\tbest: 117.4108573 (188)\n",
            "189:\tlearn: 62.8362454\ttest: 117.4140334\tbest: 117.4108573 (188)\n",
            "190:\tlearn: 62.6689129\ttest: 117.3672009\tbest: 117.3672009 (190)\n",
            "191:\tlearn: 62.4650565\ttest: 117.3036677\tbest: 117.3036677 (191)\n",
            "192:\tlearn: 62.3072089\ttest: 117.3406112\tbest: 117.3036677 (191)\n",
            "193:\tlearn: 62.2053467\ttest: 117.3408973\tbest: 117.3036677 (191)\n",
            "194:\tlearn: 62.0109543\ttest: 117.4069689\tbest: 117.3036677 (191)\n",
            "195:\tlearn: 61.7883831\ttest: 117.3689101\tbest: 117.3036677 (191)\n",
            "196:\tlearn: 61.5691459\ttest: 117.2930723\tbest: 117.2930723 (196)\n",
            "197:\tlearn: 61.3854531\ttest: 117.2685553\tbest: 117.2685553 (197)\n",
            "198:\tlearn: 61.2322144\ttest: 117.2369544\tbest: 117.2369544 (198)\n",
            "199:\tlearn: 61.0691554\ttest: 117.1863574\tbest: 117.1863574 (199)\n",
            "200:\tlearn: 60.9137218\ttest: 117.2255163\tbest: 117.1863574 (199)\n",
            "201:\tlearn: 60.7121490\ttest: 117.0585744\tbest: 117.0585744 (201)\n",
            "202:\tlearn: 60.5756870\ttest: 117.0010092\tbest: 117.0010092 (202)\n",
            "203:\tlearn: 60.3896889\ttest: 117.0671353\tbest: 117.0010092 (202)\n",
            "204:\tlearn: 60.2856747\ttest: 116.9958119\tbest: 116.9958119 (204)\n",
            "205:\tlearn: 60.1281112\ttest: 117.0101477\tbest: 116.9958119 (204)\n",
            "206:\tlearn: 59.9233186\ttest: 117.0590142\tbest: 116.9958119 (204)\n",
            "207:\tlearn: 59.7949597\ttest: 117.0458087\tbest: 116.9958119 (204)\n",
            "208:\tlearn: 59.6131974\ttest: 116.9371857\tbest: 116.9371857 (208)\n",
            "209:\tlearn: 59.4809992\ttest: 116.9080607\tbest: 116.9080607 (209)\n",
            "210:\tlearn: 59.3465419\ttest: 116.9202385\tbest: 116.9080607 (209)\n",
            "211:\tlearn: 59.1458914\ttest: 116.8836320\tbest: 116.8836320 (211)\n",
            "212:\tlearn: 59.0060534\ttest: 116.9768542\tbest: 116.8836320 (211)\n",
            "213:\tlearn: 58.8886792\ttest: 116.9526977\tbest: 116.8836320 (211)\n",
            "214:\tlearn: 58.8208590\ttest: 117.0089981\tbest: 116.8836320 (211)\n",
            "215:\tlearn: 58.6969832\ttest: 116.9533591\tbest: 116.8836320 (211)\n",
            "216:\tlearn: 58.4688570\ttest: 117.0501159\tbest: 116.8836320 (211)\n",
            "217:\tlearn: 58.3094136\ttest: 117.0225525\tbest: 116.8836320 (211)\n",
            "218:\tlearn: 58.1177190\ttest: 116.9858459\tbest: 116.8836320 (211)\n",
            "219:\tlearn: 58.0566140\ttest: 116.9891074\tbest: 116.8836320 (211)\n",
            "220:\tlearn: 57.8249684\ttest: 117.0686027\tbest: 116.8836320 (211)\n",
            "221:\tlearn: 57.6828691\ttest: 117.0564385\tbest: 116.8836320 (211)\n",
            "222:\tlearn: 57.5101013\ttest: 117.0211276\tbest: 116.8836320 (211)\n",
            "223:\tlearn: 57.3041104\ttest: 116.9635193\tbest: 116.8836320 (211)\n",
            "224:\tlearn: 57.1706531\ttest: 116.9418708\tbest: 116.8836320 (211)\n",
            "225:\tlearn: 57.0781521\ttest: 116.9634393\tbest: 116.8836320 (211)\n",
            "226:\tlearn: 56.9292765\ttest: 117.0332658\tbest: 116.8836320 (211)\n",
            "227:\tlearn: 56.8148357\ttest: 117.0365893\tbest: 116.8836320 (211)\n",
            "228:\tlearn: 56.6677193\ttest: 117.0382378\tbest: 116.8836320 (211)\n",
            "229:\tlearn: 56.5356160\ttest: 117.0442391\tbest: 116.8836320 (211)\n",
            "230:\tlearn: 56.3291354\ttest: 117.0494877\tbest: 116.8836320 (211)\n",
            "231:\tlearn: 56.1690360\ttest: 116.9966577\tbest: 116.8836320 (211)\n",
            "232:\tlearn: 56.0420075\ttest: 116.9737645\tbest: 116.8836320 (211)\n",
            "233:\tlearn: 55.8863245\ttest: 116.9990596\tbest: 116.8836320 (211)\n",
            "234:\tlearn: 55.7217097\ttest: 117.0006168\tbest: 116.8836320 (211)\n",
            "235:\tlearn: 55.5723849\ttest: 117.0182660\tbest: 116.8836320 (211)\n",
            "236:\tlearn: 55.4325055\ttest: 117.0460374\tbest: 116.8836320 (211)\n",
            "237:\tlearn: 55.3126654\ttest: 117.0995403\tbest: 116.8836320 (211)\n",
            "238:\tlearn: 55.1667823\ttest: 117.0391342\tbest: 116.8836320 (211)\n",
            "239:\tlearn: 55.0391158\ttest: 117.0611571\tbest: 116.8836320 (211)\n",
            "240:\tlearn: 54.8763804\ttest: 116.9775509\tbest: 116.8836320 (211)\n",
            "241:\tlearn: 54.7468063\ttest: 117.0283044\tbest: 116.8836320 (211)\n",
            "242:\tlearn: 54.5668838\ttest: 117.0299897\tbest: 116.8836320 (211)\n",
            "243:\tlearn: 54.4588132\ttest: 117.0506118\tbest: 116.8836320 (211)\n",
            "244:\tlearn: 54.3446757\ttest: 117.0102869\tbest: 116.8836320 (211)\n",
            "245:\tlearn: 54.1523556\ttest: 116.9647457\tbest: 116.8836320 (211)\n",
            "246:\tlearn: 54.0530105\ttest: 116.9509974\tbest: 116.8836320 (211)\n",
            "247:\tlearn: 53.9970287\ttest: 116.9694388\tbest: 116.8836320 (211)\n",
            "248:\tlearn: 53.9195674\ttest: 116.9496537\tbest: 116.8836320 (211)\n",
            "249:\tlearn: 53.8133852\ttest: 116.9440643\tbest: 116.8836320 (211)\n",
            "250:\tlearn: 53.7139915\ttest: 116.9852778\tbest: 116.8836320 (211)\n",
            "251:\tlearn: 53.5583563\ttest: 117.0315138\tbest: 116.8836320 (211)\n",
            "252:\tlearn: 53.4293596\ttest: 117.0073142\tbest: 116.8836320 (211)\n",
            "253:\tlearn: 53.3240796\ttest: 116.9488824\tbest: 116.8836320 (211)\n",
            "254:\tlearn: 53.2545371\ttest: 116.9790483\tbest: 116.8836320 (211)\n",
            "255:\tlearn: 53.1062873\ttest: 116.9449330\tbest: 116.8836320 (211)\n",
            "256:\tlearn: 53.0148747\ttest: 116.8833491\tbest: 116.8833491 (256)\n",
            "257:\tlearn: 52.8607992\ttest: 116.9627789\tbest: 116.8833491 (256)\n",
            "258:\tlearn: 52.7447773\ttest: 116.9970304\tbest: 116.8833491 (256)\n",
            "259:\tlearn: 52.6418254\ttest: 117.0983165\tbest: 116.8833491 (256)\n",
            "260:\tlearn: 52.5401808\ttest: 117.0461422\tbest: 116.8833491 (256)\n",
            "261:\tlearn: 52.4455977\ttest: 117.0285944\tbest: 116.8833491 (256)\n",
            "262:\tlearn: 52.3488169\ttest: 117.0282333\tbest: 116.8833491 (256)\n",
            "263:\tlearn: 52.2469625\ttest: 116.8975112\tbest: 116.8833491 (256)\n",
            "264:\tlearn: 52.1205774\ttest: 116.9035548\tbest: 116.8833491 (256)\n",
            "265:\tlearn: 51.9689420\ttest: 116.9815735\tbest: 116.8833491 (256)\n",
            "266:\tlearn: 51.9040443\ttest: 116.9675931\tbest: 116.8833491 (256)\n",
            "267:\tlearn: 51.7857826\ttest: 116.9413002\tbest: 116.8833491 (256)\n",
            "268:\tlearn: 51.6807744\ttest: 116.9955570\tbest: 116.8833491 (256)\n",
            "269:\tlearn: 51.5968609\ttest: 116.9773999\tbest: 116.8833491 (256)\n",
            "270:\tlearn: 51.5186776\ttest: 116.9918817\tbest: 116.8833491 (256)\n",
            "271:\tlearn: 51.4116765\ttest: 116.9636067\tbest: 116.8833491 (256)\n",
            "272:\tlearn: 51.3202625\ttest: 116.8970250\tbest: 116.8833491 (256)\n",
            "273:\tlearn: 51.2547664\ttest: 116.8580702\tbest: 116.8580702 (273)\n",
            "274:\tlearn: 51.1721459\ttest: 116.9412577\tbest: 116.8580702 (273)\n",
            "275:\tlearn: 51.0795661\ttest: 117.0154438\tbest: 116.8580702 (273)\n",
            "276:\tlearn: 51.0317845\ttest: 117.0010027\tbest: 116.8580702 (273)\n",
            "277:\tlearn: 50.9133012\ttest: 116.9574724\tbest: 116.8580702 (273)\n",
            "278:\tlearn: 50.7507324\ttest: 117.0011315\tbest: 116.8580702 (273)\n",
            "279:\tlearn: 50.6673100\ttest: 116.9760145\tbest: 116.8580702 (273)\n",
            "280:\tlearn: 50.5893643\ttest: 116.9842826\tbest: 116.8580702 (273)\n",
            "281:\tlearn: 50.4921691\ttest: 116.9772013\tbest: 116.8580702 (273)\n",
            "282:\tlearn: 50.4028135\ttest: 116.9183639\tbest: 116.8580702 (273)\n",
            "283:\tlearn: 50.3022964\ttest: 116.9455659\tbest: 116.8580702 (273)\n",
            "284:\tlearn: 50.2272091\ttest: 116.9412613\tbest: 116.8580702 (273)\n",
            "285:\tlearn: 50.1206021\ttest: 116.8998029\tbest: 116.8580702 (273)\n",
            "286:\tlearn: 50.0053054\ttest: 116.9918350\tbest: 116.8580702 (273)\n",
            "287:\tlearn: 49.9335212\ttest: 117.0226943\tbest: 116.8580702 (273)\n",
            "288:\tlearn: 49.8399007\ttest: 116.9917480\tbest: 116.8580702 (273)\n",
            "289:\tlearn: 49.7001125\ttest: 116.9934991\tbest: 116.8580702 (273)\n",
            "290:\tlearn: 49.6360858\ttest: 116.9947536\tbest: 116.8580702 (273)\n",
            "291:\tlearn: 49.5219666\ttest: 116.9590946\tbest: 116.8580702 (273)\n",
            "292:\tlearn: 49.4550661\ttest: 116.9332132\tbest: 116.8580702 (273)\n",
            "293:\tlearn: 49.3763818\ttest: 116.9402194\tbest: 116.8580702 (273)\n",
            "294:\tlearn: 49.3341550\ttest: 116.9367595\tbest: 116.8580702 (273)\n",
            "295:\tlearn: 49.2472744\ttest: 116.9040250\tbest: 116.8580702 (273)\n",
            "296:\tlearn: 49.1671466\ttest: 116.8614892\tbest: 116.8580702 (273)\n",
            "297:\tlearn: 49.0690093\ttest: 116.8603836\tbest: 116.8580702 (273)\n",
            "298:\tlearn: 48.9661951\ttest: 116.9167507\tbest: 116.8580702 (273)\n",
            "299:\tlearn: 48.8780561\ttest: 116.9340399\tbest: 116.8580702 (273)\n",
            "300:\tlearn: 48.7586302\ttest: 116.8990660\tbest: 116.8580702 (273)\n",
            "301:\tlearn: 48.6302884\ttest: 116.9018149\tbest: 116.8580702 (273)\n",
            "302:\tlearn: 48.5013767\ttest: 116.8307122\tbest: 116.8307122 (302)\n",
            "303:\tlearn: 48.4373209\ttest: 116.8479004\tbest: 116.8307122 (302)\n",
            "304:\tlearn: 48.2662315\ttest: 116.8493017\tbest: 116.8307122 (302)\n",
            "305:\tlearn: 48.1761133\ttest: 116.8187840\tbest: 116.8187840 (305)\n",
            "306:\tlearn: 48.1024504\ttest: 116.8507263\tbest: 116.8187840 (305)\n",
            "307:\tlearn: 48.0303503\ttest: 116.8163204\tbest: 116.8163204 (307)\n",
            "308:\tlearn: 47.9145629\ttest: 116.8243652\tbest: 116.8163204 (307)\n",
            "309:\tlearn: 47.8538411\ttest: 116.8310618\tbest: 116.8163204 (307)\n",
            "310:\tlearn: 47.7076080\ttest: 116.8493707\tbest: 116.8163204 (307)\n",
            "311:\tlearn: 47.6572592\ttest: 116.8289751\tbest: 116.8163204 (307)\n",
            "312:\tlearn: 47.5937709\ttest: 116.8553665\tbest: 116.8163204 (307)\n",
            "313:\tlearn: 47.5089854\ttest: 116.8515779\tbest: 116.8163204 (307)\n",
            "314:\tlearn: 47.3838795\ttest: 116.9254394\tbest: 116.8163204 (307)\n",
            "315:\tlearn: 47.3151100\ttest: 116.8995568\tbest: 116.8163204 (307)\n",
            "316:\tlearn: 47.2297437\ttest: 116.9166926\tbest: 116.8163204 (307)\n",
            "317:\tlearn: 47.1613388\ttest: 116.8964331\tbest: 116.8163204 (307)\n",
            "318:\tlearn: 47.0577643\ttest: 116.9246232\tbest: 116.8163204 (307)\n",
            "319:\tlearn: 46.9820400\ttest: 116.9141631\tbest: 116.8163204 (307)\n",
            "320:\tlearn: 46.8896085\ttest: 116.9567884\tbest: 116.8163204 (307)\n",
            "321:\tlearn: 46.8060301\ttest: 116.9448711\tbest: 116.8163204 (307)\n",
            "322:\tlearn: 46.6759901\ttest: 116.8822625\tbest: 116.8163204 (307)\n",
            "323:\tlearn: 46.5574629\ttest: 116.9404915\tbest: 116.8163204 (307)\n",
            "324:\tlearn: 46.3883289\ttest: 116.9557567\tbest: 116.8163204 (307)\n",
            "325:\tlearn: 46.2307070\ttest: 116.9643650\tbest: 116.8163204 (307)\n",
            "326:\tlearn: 46.1605086\ttest: 116.9820442\tbest: 116.8163204 (307)\n",
            "327:\tlearn: 46.0705587\ttest: 116.9848978\tbest: 116.8163204 (307)\n",
            "328:\tlearn: 46.0152257\ttest: 117.0302993\tbest: 116.8163204 (307)\n",
            "329:\tlearn: 45.9413496\ttest: 116.9976421\tbest: 116.8163204 (307)\n",
            "330:\tlearn: 45.8413847\ttest: 116.9913296\tbest: 116.8163204 (307)\n",
            "331:\tlearn: 45.7310695\ttest: 117.0451037\tbest: 116.8163204 (307)\n",
            "332:\tlearn: 45.6108556\ttest: 117.0455262\tbest: 116.8163204 (307)\n",
            "333:\tlearn: 45.5171811\ttest: 117.0290806\tbest: 116.8163204 (307)\n",
            "334:\tlearn: 45.4512591\ttest: 117.0424586\tbest: 116.8163204 (307)\n",
            "335:\tlearn: 45.3742315\ttest: 117.0555630\tbest: 116.8163204 (307)\n",
            "336:\tlearn: 45.2993338\ttest: 117.0791201\tbest: 116.8163204 (307)\n",
            "337:\tlearn: 45.2034095\ttest: 117.1027260\tbest: 116.8163204 (307)\n",
            "338:\tlearn: 45.1045890\ttest: 117.0457047\tbest: 116.8163204 (307)\n",
            "339:\tlearn: 45.0409606\ttest: 117.0361569\tbest: 116.8163204 (307)\n",
            "340:\tlearn: 44.9535103\ttest: 117.0007404\tbest: 116.8163204 (307)\n",
            "341:\tlearn: 44.8815075\ttest: 117.0063269\tbest: 116.8163204 (307)\n",
            "342:\tlearn: 44.8204626\ttest: 116.9738222\tbest: 116.8163204 (307)\n",
            "343:\tlearn: 44.7486504\ttest: 116.9616905\tbest: 116.8163204 (307)\n",
            "344:\tlearn: 44.6608187\ttest: 116.9738953\tbest: 116.8163204 (307)\n",
            "345:\tlearn: 44.5904280\ttest: 116.9684338\tbest: 116.8163204 (307)\n",
            "346:\tlearn: 44.5435884\ttest: 116.9766426\tbest: 116.8163204 (307)\n",
            "347:\tlearn: 44.4790743\ttest: 116.9999099\tbest: 116.8163204 (307)\n",
            "348:\tlearn: 44.4426244\ttest: 116.9962845\tbest: 116.8163204 (307)\n",
            "349:\tlearn: 44.3401625\ttest: 116.9775779\tbest: 116.8163204 (307)\n",
            "350:\tlearn: 44.2399071\ttest: 116.9607811\tbest: 116.8163204 (307)\n",
            "351:\tlearn: 44.1787817\ttest: 116.9579638\tbest: 116.8163204 (307)\n",
            "352:\tlearn: 44.0988060\ttest: 116.9461228\tbest: 116.8163204 (307)\n",
            "353:\tlearn: 44.0195523\ttest: 116.9634896\tbest: 116.8163204 (307)\n",
            "354:\tlearn: 43.9552430\ttest: 116.9509224\tbest: 116.8163204 (307)\n",
            "355:\tlearn: 43.8254198\ttest: 117.0881056\tbest: 116.8163204 (307)\n",
            "356:\tlearn: 43.7561817\ttest: 117.0773535\tbest: 116.8163204 (307)\n",
            "357:\tlearn: 43.7033595\ttest: 117.0583703\tbest: 116.8163204 (307)\n",
            "358:\tlearn: 43.6625543\ttest: 117.0619623\tbest: 116.8163204 (307)\n",
            "359:\tlearn: 43.5604370\ttest: 117.0492297\tbest: 116.8163204 (307)\n",
            "360:\tlearn: 43.5052034\ttest: 117.0791102\tbest: 116.8163204 (307)\n",
            "361:\tlearn: 43.4231184\ttest: 117.0692864\tbest: 116.8163204 (307)\n",
            "362:\tlearn: 43.3453723\ttest: 117.0782070\tbest: 116.8163204 (307)\n",
            "363:\tlearn: 43.2614217\ttest: 117.1261421\tbest: 116.8163204 (307)\n",
            "364:\tlearn: 43.2112637\ttest: 117.1108560\tbest: 116.8163204 (307)\n",
            "365:\tlearn: 43.1134384\ttest: 117.1008912\tbest: 116.8163204 (307)\n",
            "366:\tlearn: 43.0352565\ttest: 117.1841411\tbest: 116.8163204 (307)\n",
            "367:\tlearn: 42.9668340\ttest: 117.1645837\tbest: 116.8163204 (307)\n",
            "368:\tlearn: 42.9238171\ttest: 117.1353570\tbest: 116.8163204 (307)\n",
            "369:\tlearn: 42.8545306\ttest: 117.0958773\tbest: 116.8163204 (307)\n",
            "370:\tlearn: 42.7600539\ttest: 117.1444025\tbest: 116.8163204 (307)\n",
            "371:\tlearn: 42.6957197\ttest: 117.1765696\tbest: 116.8163204 (307)\n",
            "372:\tlearn: 42.6187147\ttest: 117.1981253\tbest: 116.8163204 (307)\n",
            "373:\tlearn: 42.5721045\ttest: 117.2163750\tbest: 116.8163204 (307)\n",
            "374:\tlearn: 42.5511946\ttest: 117.2145300\tbest: 116.8163204 (307)\n",
            "375:\tlearn: 42.4829848\ttest: 117.1901931\tbest: 116.8163204 (307)\n",
            "376:\tlearn: 42.3929265\ttest: 117.2584129\tbest: 116.8163204 (307)\n",
            "377:\tlearn: 42.3233705\ttest: 117.2813409\tbest: 116.8163204 (307)\n",
            "378:\tlearn: 42.2631276\ttest: 117.3153092\tbest: 116.8163204 (307)\n",
            "379:\tlearn: 42.2094558\ttest: 117.3705856\tbest: 116.8163204 (307)\n",
            "380:\tlearn: 42.1539890\ttest: 117.3694481\tbest: 116.8163204 (307)\n",
            "381:\tlearn: 42.1103453\ttest: 117.3902369\tbest: 116.8163204 (307)\n",
            "382:\tlearn: 42.0355423\ttest: 117.3755034\tbest: 116.8163204 (307)\n",
            "383:\tlearn: 41.9490870\ttest: 117.4261912\tbest: 116.8163204 (307)\n",
            "384:\tlearn: 41.8591049\ttest: 117.4340123\tbest: 116.8163204 (307)\n",
            "385:\tlearn: 41.8049043\ttest: 117.4518155\tbest: 116.8163204 (307)\n",
            "386:\tlearn: 41.7478485\ttest: 117.5371004\tbest: 116.8163204 (307)\n",
            "387:\tlearn: 41.6613379\ttest: 117.5362388\tbest: 116.8163204 (307)\n",
            "388:\tlearn: 41.6312551\ttest: 117.5338268\tbest: 116.8163204 (307)\n",
            "389:\tlearn: 41.5627996\ttest: 117.5579803\tbest: 116.8163204 (307)\n",
            "390:\tlearn: 41.5110105\ttest: 117.5270232\tbest: 116.8163204 (307)\n",
            "391:\tlearn: 41.4660977\ttest: 117.5382771\tbest: 116.8163204 (307)\n",
            "392:\tlearn: 41.4329617\ttest: 117.6242365\tbest: 116.8163204 (307)\n",
            "393:\tlearn: 41.3830468\ttest: 117.6411311\tbest: 116.8163204 (307)\n",
            "394:\tlearn: 41.3351912\ttest: 117.6344548\tbest: 116.8163204 (307)\n",
            "395:\tlearn: 41.2705373\ttest: 117.6500349\tbest: 116.8163204 (307)\n",
            "396:\tlearn: 41.2139228\ttest: 117.5963941\tbest: 116.8163204 (307)\n",
            "397:\tlearn: 41.1263294\ttest: 117.6553103\tbest: 116.8163204 (307)\n",
            "398:\tlearn: 41.0954586\ttest: 117.6487191\tbest: 116.8163204 (307)\n",
            "399:\tlearn: 41.0732257\ttest: 117.6692142\tbest: 116.8163204 (307)\n",
            "400:\tlearn: 41.0188842\ttest: 117.6536279\tbest: 116.8163204 (307)\n",
            "401:\tlearn: 40.9717574\ttest: 117.5947907\tbest: 116.8163204 (307)\n",
            "402:\tlearn: 40.9258199\ttest: 117.6227069\tbest: 116.8163204 (307)\n",
            "403:\tlearn: 40.8798974\ttest: 117.6197275\tbest: 116.8163204 (307)\n",
            "404:\tlearn: 40.8418211\ttest: 117.6180985\tbest: 116.8163204 (307)\n",
            "405:\tlearn: 40.8181716\ttest: 117.6115514\tbest: 116.8163204 (307)\n",
            "406:\tlearn: 40.7941760\ttest: 117.5879742\tbest: 116.8163204 (307)\n",
            "407:\tlearn: 40.7533554\ttest: 117.6088785\tbest: 116.8163204 (307)\n",
            "408:\tlearn: 40.6845135\ttest: 117.5822249\tbest: 116.8163204 (307)\n",
            "409:\tlearn: 40.6405107\ttest: 117.5543233\tbest: 116.8163204 (307)\n",
            "410:\tlearn: 40.5642372\ttest: 117.5191269\tbest: 116.8163204 (307)\n",
            "411:\tlearn: 40.4990138\ttest: 117.4725535\tbest: 116.8163204 (307)\n",
            "412:\tlearn: 40.4513156\ttest: 117.4874664\tbest: 116.8163204 (307)\n",
            "413:\tlearn: 40.3412727\ttest: 117.5291110\tbest: 116.8163204 (307)\n",
            "414:\tlearn: 40.2888193\ttest: 117.5296266\tbest: 116.8163204 (307)\n",
            "415:\tlearn: 40.2091426\ttest: 117.4748271\tbest: 116.8163204 (307)\n",
            "416:\tlearn: 40.1686021\ttest: 117.4856977\tbest: 116.8163204 (307)\n",
            "417:\tlearn: 40.1018767\ttest: 117.5030059\tbest: 116.8163204 (307)\n",
            "418:\tlearn: 40.0038193\ttest: 117.4901205\tbest: 116.8163204 (307)\n",
            "419:\tlearn: 39.9149690\ttest: 117.5684097\tbest: 116.8163204 (307)\n",
            "420:\tlearn: 39.8818231\ttest: 117.5397077\tbest: 116.8163204 (307)\n",
            "421:\tlearn: 39.8128094\ttest: 117.5689180\tbest: 116.8163204 (307)\n",
            "422:\tlearn: 39.7387633\ttest: 117.5823397\tbest: 116.8163204 (307)\n",
            "423:\tlearn: 39.6807488\ttest: 117.6112137\tbest: 116.8163204 (307)\n",
            "424:\tlearn: 39.5751279\ttest: 117.6654000\tbest: 116.8163204 (307)\n",
            "425:\tlearn: 39.5052211\ttest: 117.6580359\tbest: 116.8163204 (307)\n",
            "426:\tlearn: 39.4638661\ttest: 117.6567459\tbest: 116.8163204 (307)\n",
            "427:\tlearn: 39.4130929\ttest: 117.6554143\tbest: 116.8163204 (307)\n",
            "428:\tlearn: 39.3692572\ttest: 117.6682278\tbest: 116.8163204 (307)\n",
            "429:\tlearn: 39.2859384\ttest: 117.6429434\tbest: 116.8163204 (307)\n",
            "430:\tlearn: 39.2526903\ttest: 117.6498916\tbest: 116.8163204 (307)\n",
            "431:\tlearn: 39.1832109\ttest: 117.6796480\tbest: 116.8163204 (307)\ttotal: 4.4s\tremaining: 693ms\n",
            "432:\tlearn: 39.1375316\ttest: 117.6878977\tbest: 116.8163204 (307)\n",
            "433:\tlearn: 39.0850139\ttest: 117.7118354\tbest: 116.8163204 (307)\n",
            "434:\tlearn: 39.0451720\ttest: 117.7063139\tbest: 116.8163204 (307)\n",
            "435:\tlearn: 38.9782239\ttest: 117.7306347\tbest: 116.8163204 (307)\n",
            "436:\tlearn: 38.9136293\ttest: 117.7679394\tbest: 116.8163204 (307)\n",
            "437:\tlearn: 38.8489281\ttest: 117.7853970\tbest: 116.8163204 (307)\n",
            "438:\tlearn: 38.8040863\ttest: 117.7972255\tbest: 116.8163204 (307)\n",
            "439:\tlearn: 38.7331983\ttest: 117.8014840\tbest: 116.8163204 (307)\n",
            "440:\tlearn: 38.6860930\ttest: 117.8364748\tbest: 116.8163204 (307)\n",
            "441:\tlearn: 38.6500014\ttest: 117.8054428\tbest: 116.8163204 (307)\n",
            "442:\tlearn: 38.5783270\ttest: 117.8886310\tbest: 116.8163204 (307)\n",
            "443:\tlearn: 38.5236114\ttest: 117.8758279\tbest: 116.8163204 (307)\n",
            "444:\tlearn: 38.4801875\ttest: 117.8838481\tbest: 116.8163204 (307)\n",
            "445:\tlearn: 38.4238832\ttest: 117.8691033\tbest: 116.8163204 (307)\n",
            "446:\tlearn: 38.3831291\ttest: 117.9014524\tbest: 116.8163204 (307)\n",
            "447:\tlearn: 38.3448828\ttest: 117.9312929\tbest: 116.8163204 (307)\n",
            "448:\tlearn: 38.2873699\ttest: 117.9323711\tbest: 116.8163204 (307)\n",
            "449:\tlearn: 38.2489631\ttest: 117.9712427\tbest: 116.8163204 (307)\n",
            "450:\tlearn: 38.1795718\ttest: 118.0444929\tbest: 116.8163204 (307)\n",
            "451:\tlearn: 38.1331151\ttest: 118.0853286\tbest: 116.8163204 (307)\n",
            "452:\tlearn: 38.0802021\ttest: 118.0882434\tbest: 116.8163204 (307)\n",
            "453:\tlearn: 38.0069969\ttest: 118.0256798\tbest: 116.8163204 (307)\n",
            "454:\tlearn: 37.9703093\ttest: 118.0083725\tbest: 116.8163204 (307)\n",
            "455:\tlearn: 37.9144159\ttest: 118.0283326\tbest: 116.8163204 (307)\n",
            "456:\tlearn: 37.8355815\ttest: 118.0237424\tbest: 116.8163204 (307)\n",
            "457:\tlearn: 37.7691406\ttest: 118.0435448\tbest: 116.8163204 (307)\n",
            "458:\tlearn: 37.7085424\ttest: 118.0853681\tbest: 116.8163204 (307)\n",
            "459:\tlearn: 37.6765718\ttest: 118.0748486\tbest: 116.8163204 (307)\n",
            "460:\tlearn: 37.5943405\ttest: 118.0339089\tbest: 116.8163204 (307)\n",
            "461:\tlearn: 37.5498482\ttest: 117.9809414\tbest: 116.8163204 (307)\n",
            "462:\tlearn: 37.5120889\ttest: 117.9547844\tbest: 116.8163204 (307)\n",
            "463:\tlearn: 37.4483497\ttest: 117.9512772\tbest: 116.8163204 (307)\n",
            "464:\tlearn: 37.3225086\ttest: 118.0182730\tbest: 116.8163204 (307)\n",
            "465:\tlearn: 37.2872381\ttest: 118.0151312\tbest: 116.8163204 (307)\n",
            "466:\tlearn: 37.2461960\ttest: 118.0232950\tbest: 116.8163204 (307)\n",
            "467:\tlearn: 37.1886690\ttest: 118.0349908\tbest: 116.8163204 (307)\n",
            "468:\tlearn: 37.1217059\ttest: 118.0541373\tbest: 116.8163204 (307)\n",
            "469:\tlearn: 37.0697458\ttest: 118.0953495\tbest: 116.8163204 (307)\n",
            "470:\tlearn: 37.0019667\ttest: 118.0592692\tbest: 116.8163204 (307)\n",
            "471:\tlearn: 36.9350839\ttest: 118.0449929\tbest: 116.8163204 (307)\n",
            "472:\tlearn: 36.8871025\ttest: 118.0449830\tbest: 116.8163204 (307)\n",
            "473:\tlearn: 36.8093254\ttest: 118.0867244\tbest: 116.8163204 (307)\n",
            "474:\tlearn: 36.7588007\ttest: 118.0566223\tbest: 116.8163204 (307)\n",
            "475:\tlearn: 36.7216443\ttest: 118.0406894\tbest: 116.8163204 (307)\n",
            "476:\tlearn: 36.6641855\ttest: 118.0631484\tbest: 116.8163204 (307)\n",
            "477:\tlearn: 36.6037233\ttest: 118.0831118\tbest: 116.8163204 (307)\n",
            "478:\tlearn: 36.5467180\ttest: 118.0745236\tbest: 116.8163204 (307)\n",
            "479:\tlearn: 36.5045947\ttest: 118.0742573\tbest: 116.8163204 (307)\n",
            "480:\tlearn: 36.4449687\ttest: 118.0694637\tbest: 116.8163204 (307)\n",
            "481:\tlearn: 36.3866034\ttest: 117.9461693\tbest: 116.8163204 (307)\n",
            "482:\tlearn: 36.3186203\ttest: 117.8973571\tbest: 116.8163204 (307)\n",
            "483:\tlearn: 36.2860249\ttest: 117.8953483\tbest: 116.8163204 (307)\n",
            "484:\tlearn: 36.2392354\ttest: 117.9009423\tbest: 116.8163204 (307)\n",
            "485:\tlearn: 36.1896237\ttest: 117.9366448\tbest: 116.8163204 (307)\n",
            "486:\tlearn: 36.1428791\ttest: 117.9388852\tbest: 116.8163204 (307)\n",
            "487:\tlearn: 36.0863798\ttest: 117.9251145\tbest: 116.8163204 (307)\n",
            "488:\tlearn: 36.0431278\ttest: 117.8796208\tbest: 116.8163204 (307)\n",
            "489:\tlearn: 35.9995536\ttest: 117.9243301\tbest: 116.8163204 (307)\n",
            "490:\tlearn: 35.9666617\ttest: 117.9475156\tbest: 116.8163204 (307)\n",
            "491:\tlearn: 35.8934202\ttest: 117.9452639\tbest: 116.8163204 (307)\n",
            "492:\tlearn: 35.8244304\ttest: 117.9803860\tbest: 116.8163204 (307)\n",
            "493:\tlearn: 35.7915396\ttest: 117.9934281\tbest: 116.8163204 (307)\n",
            "494:\tlearn: 35.7337554\ttest: 117.9165401\tbest: 116.8163204 (307)\n",
            "495:\tlearn: 35.7017167\ttest: 117.9195442\tbest: 116.8163204 (307)\n",
            "496:\tlearn: 35.6678480\ttest: 117.9272810\tbest: 116.8163204 (307)\n",
            "497:\tlearn: 35.6373709\ttest: 117.9300767\tbest: 116.8163204 (307)\n",
            "498:\tlearn: 35.5922049\ttest: 117.9549380\tbest: 116.8163204 (307)\n",
            "499:\tlearn: 35.5460909\ttest: 118.0060046\tbest: 116.8163204 (307)\ttotal: 5.53s\tremaining: 0us\n"
          ],
          "name": "stdout"
        },
        {
          "output_type": "execute_result",
          "data": {
            "text/html": [
              "<div>\n",
              "<style scoped>\n",
              "    .dataframe tbody tr th:only-of-type {\n",
              "        vertical-align: middle;\n",
              "    }\n",
              "\n",
              "    .dataframe tbody tr th {\n",
              "        vertical-align: top;\n",
              "    }\n",
              "\n",
              "    .dataframe thead th {\n",
              "        text-align: right;\n",
              "    }\n",
              "</style>\n",
              "<table border=\"1\" class=\"dataframe\">\n",
              "  <thead>\n",
              "    <tr style=\"text-align: right;\">\n",
              "      <th></th>\n",
              "      <th>iterations</th>\n",
              "      <th>test-MAE-mean</th>\n",
              "      <th>test-MAE-std</th>\n",
              "      <th>train-MAE-mean</th>\n",
              "      <th>train-MAE-std</th>\n",
              "    </tr>\n",
              "  </thead>\n",
              "  <tbody>\n",
              "    <tr>\n",
              "      <th>0</th>\n",
              "      <td>0</td>\n",
              "      <td>538.904094</td>\n",
              "      <td>25.469387</td>\n",
              "      <td>538.247724</td>\n",
              "      <td>6.324284</td>\n",
              "    </tr>\n",
              "    <tr>\n",
              "      <th>1</th>\n",
              "      <td>1</td>\n",
              "      <td>513.912750</td>\n",
              "      <td>24.861552</td>\n",
              "      <td>512.584021</td>\n",
              "      <td>6.217169</td>\n",
              "    </tr>\n",
              "    <tr>\n",
              "      <th>2</th>\n",
              "      <td>2</td>\n",
              "      <td>490.253058</td>\n",
              "      <td>24.604427</td>\n",
              "      <td>488.458471</td>\n",
              "      <td>5.780226</td>\n",
              "    </tr>\n",
              "    <tr>\n",
              "      <th>3</th>\n",
              "      <td>3</td>\n",
              "      <td>467.897468</td>\n",
              "      <td>24.196099</td>\n",
              "      <td>465.704933</td>\n",
              "      <td>5.538488</td>\n",
              "    </tr>\n",
              "    <tr>\n",
              "      <th>4</th>\n",
              "      <td>4</td>\n",
              "      <td>446.570674</td>\n",
              "      <td>23.328879</td>\n",
              "      <td>444.195388</td>\n",
              "      <td>5.382775</td>\n",
              "    </tr>\n",
              "    <tr>\n",
              "      <th>...</th>\n",
              "      <td>...</td>\n",
              "      <td>...</td>\n",
              "      <td>...</td>\n",
              "      <td>...</td>\n",
              "      <td>...</td>\n",
              "    </tr>\n",
              "    <tr>\n",
              "      <th>495</th>\n",
              "      <td>495</td>\n",
              "      <td>117.919544</td>\n",
              "      <td>11.612103</td>\n",
              "      <td>35.701717</td>\n",
              "      <td>2.625584</td>\n",
              "    </tr>\n",
              "    <tr>\n",
              "      <th>496</th>\n",
              "      <td>496</td>\n",
              "      <td>117.927281</td>\n",
              "      <td>11.624996</td>\n",
              "      <td>35.667848</td>\n",
              "      <td>2.625057</td>\n",
              "    </tr>\n",
              "    <tr>\n",
              "      <th>497</th>\n",
              "      <td>497</td>\n",
              "      <td>117.930077</td>\n",
              "      <td>11.627770</td>\n",
              "      <td>35.637371</td>\n",
              "      <td>2.631409</td>\n",
              "    </tr>\n",
              "    <tr>\n",
              "      <th>498</th>\n",
              "      <td>498</td>\n",
              "      <td>117.954938</td>\n",
              "      <td>11.625930</td>\n",
              "      <td>35.592205</td>\n",
              "      <td>2.638566</td>\n",
              "    </tr>\n",
              "    <tr>\n",
              "      <th>499</th>\n",
              "      <td>499</td>\n",
              "      <td>118.006005</td>\n",
              "      <td>11.548034</td>\n",
              "      <td>35.546091</td>\n",
              "      <td>2.606926</td>\n",
              "    </tr>\n",
              "  </tbody>\n",
              "</table>\n",
              "<p>500 rows × 5 columns</p>\n",
              "</div>"
            ],
            "text/plain": [
              "     iterations  test-MAE-mean  test-MAE-std  train-MAE-mean  train-MAE-std\n",
              "0             0     538.904094     25.469387      538.247724       6.324284\n",
              "1             1     513.912750     24.861552      512.584021       6.217169\n",
              "2             2     490.253058     24.604427      488.458471       5.780226\n",
              "3             3     467.897468     24.196099      465.704933       5.538488\n",
              "4             4     446.570674     23.328879      444.195388       5.382775\n",
              "..          ...            ...           ...             ...            ...\n",
              "495         495     117.919544     11.612103       35.701717       2.625584\n",
              "496         496     117.927281     11.624996       35.667848       2.625057\n",
              "497         497     117.930077     11.627770       35.637371       2.631409\n",
              "498         498     117.954938     11.625930       35.592205       2.638566\n",
              "499         499     118.006005     11.548034       35.546091       2.606926\n",
              "\n",
              "[500 rows x 5 columns]"
            ]
          },
          "metadata": {
            "tags": []
          },
          "execution_count": 395
        }
      ]
    },
    {
      "cell_type": "code",
      "metadata": {
        "colab": {
          "base_uri": "https://localhost:8080/"
        },
        "id": "cXV-2zPQkjES",
        "outputId": "4f10f08d-28f4-4a8e-daf5-84d22d9324ca"
      },
      "source": [
        "from sklearn.metrics import mean_absolute_error\n",
        "score = mean_absolute_error(y_valid, cat.predict(x_valid))\n",
        "score"
      ],
      "execution_count": 396,
      "outputs": [
        {
          "output_type": "execute_result",
          "data": {
            "text/plain": [
              "98.45459712302912"
            ]
          },
          "metadata": {
            "tags": []
          },
          "execution_count": 396
        }
      ]
    },
    {
      "cell_type": "code",
      "metadata": {
        "id": "YgZ34Vw_PTN_"
      },
      "source": [
        "pred = cat.predict(x_test)"
      ],
      "execution_count": 397,
      "outputs": []
    },
    {
      "cell_type": "code",
      "metadata": {
        "id": "HaP4oquV2lQn"
      },
      "source": [
        "submission['num'] = pred"
      ],
      "execution_count": 398,
      "outputs": []
    },
    {
      "cell_type": "code",
      "metadata": {
        "id": "wJLezFT32n9Z"
      },
      "source": [
        "# submission.to_csv(result_path + result_file, index=False)"
      ],
      "execution_count": 399,
      "outputs": []
    }
  ]
}